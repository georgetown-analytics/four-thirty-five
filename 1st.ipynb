{
 "cells": [
  {
   "cell_type": "markdown",
   "metadata": {},
   "source": [
    "# Machine Learning"
   ]
  },
  {
   "cell_type": "markdown",
   "metadata": {},
   "source": [
    "# Notebook set-up"
   ]
  },
  {
   "cell_type": "code",
   "execution_count": 1,
   "metadata": {
    "collapsed": true
   },
   "outputs": [],
   "source": [
    "import os \n",
    "import numpy as np \n",
    "import pandas as pd \n",
    "import seaborn as sns \n",
    "import matplotlib.pyplot as plt \n",
    "import io\n",
    "\n",
    "sns.set_style('whitegrid')\n",
    "sns.set_context('notebook')"
   ]
  },
  {
   "cell_type": "markdown",
   "metadata": {},
   "source": [
    "# Data loading"
   ]
  },
  {
   "cell_type": "code",
   "execution_count": 2,
   "metadata": {
    "collapsed": true
   },
   "outputs": [],
   "source": [
    "# Load the data into a dataframe \n",
    "df = pd.read_csv('general.csv')"
   ]
  },
  {
   "cell_type": "code",
   "execution_count": 3,
   "metadata": {},
   "outputs": [
    {
     "data": {
      "text/html": [
       "<div>\n",
       "<table border=\"1\" class=\"dataframe\">\n",
       "  <thead>\n",
       "    <tr style=\"text-align: right;\">\n",
       "      <th></th>\n",
       "      <th>cand_id</th>\n",
       "      <th>cycle</th>\n",
       "      <th>c1</th>\n",
       "      <th>c2</th>\n",
       "      <th>c3</th>\n",
       "      <th>c4</th>\n",
       "      <th>c5</th>\n",
       "      <th>c6</th>\n",
       "      <th>c7</th>\n",
       "      <th>c8</th>\n",
       "      <th>...</th>\n",
       "      <th>incumbent</th>\n",
       "      <th>party</th>\n",
       "      <th>primary_votes</th>\n",
       "      <th>runoff_votes</th>\n",
       "      <th>general_votes</th>\n",
       "      <th>ge_runoff_election_votes</th>\n",
       "      <th>winner</th>\n",
       "      <th>total_votes</th>\n",
       "      <th>totalspend</th>\n",
       "      <th>costvote</th>\n",
       "    </tr>\n",
       "  </thead>\n",
       "  <tbody>\n",
       "    <tr>\n",
       "      <th>0</th>\n",
       "      <td>H0AK00089</td>\n",
       "      <td>2010</td>\n",
       "      <td>550.00</td>\n",
       "      <td>0.00</td>\n",
       "      <td>0.00</td>\n",
       "      <td>0.00</td>\n",
       "      <td>0.0</td>\n",
       "      <td>785.00</td>\n",
       "      <td>0.00</td>\n",
       "      <td>0.0</td>\n",
       "      <td>...</td>\n",
       "      <td>0</td>\n",
       "      <td>D</td>\n",
       "      <td>38673.0</td>\n",
       "      <td>0.0</td>\n",
       "      <td>77606.0</td>\n",
       "      <td>0.0</td>\n",
       "      <td>0</td>\n",
       "      <td>116279.0</td>\n",
       "      <td>220001.06</td>\n",
       "      <td>1.892010</td>\n",
       "    </tr>\n",
       "    <tr>\n",
       "      <th>1</th>\n",
       "      <td>H0AL02087</td>\n",
       "      <td>2012</td>\n",
       "      <td>11727.82</td>\n",
       "      <td>0.00</td>\n",
       "      <td>16964.09</td>\n",
       "      <td>0.00</td>\n",
       "      <td>0.0</td>\n",
       "      <td>0.00</td>\n",
       "      <td>0.00</td>\n",
       "      <td>0.0</td>\n",
       "      <td>...</td>\n",
       "      <td>1</td>\n",
       "      <td>R</td>\n",
       "      <td>0.0</td>\n",
       "      <td>0.0</td>\n",
       "      <td>180591.0</td>\n",
       "      <td>0.0</td>\n",
       "      <td>1</td>\n",
       "      <td>180591.0</td>\n",
       "      <td>694953.98</td>\n",
       "      <td>3.848220</td>\n",
       "    </tr>\n",
       "    <tr>\n",
       "      <th>2</th>\n",
       "      <td>H0AL02087</td>\n",
       "      <td>2014</td>\n",
       "      <td>12132.25</td>\n",
       "      <td>0.00</td>\n",
       "      <td>16866.78</td>\n",
       "      <td>0.00</td>\n",
       "      <td>0.0</td>\n",
       "      <td>0.00</td>\n",
       "      <td>0.00</td>\n",
       "      <td>0.0</td>\n",
       "      <td>...</td>\n",
       "      <td>1</td>\n",
       "      <td>R</td>\n",
       "      <td>0.0</td>\n",
       "      <td>0.0</td>\n",
       "      <td>113103.0</td>\n",
       "      <td>0.0</td>\n",
       "      <td>1</td>\n",
       "      <td>113103.0</td>\n",
       "      <td>570473.48</td>\n",
       "      <td>5.043840</td>\n",
       "    </tr>\n",
       "    <tr>\n",
       "      <th>3</th>\n",
       "      <td>H0AL03184</td>\n",
       "      <td>2010</td>\n",
       "      <td>14.95</td>\n",
       "      <td>1441.91</td>\n",
       "      <td>0.00</td>\n",
       "      <td>5000.00</td>\n",
       "      <td>0.0</td>\n",
       "      <td>2293.50</td>\n",
       "      <td>0.00</td>\n",
       "      <td>0.0</td>\n",
       "      <td>...</td>\n",
       "      <td>0</td>\n",
       "      <td>D</td>\n",
       "      <td>0.0</td>\n",
       "      <td>0.0</td>\n",
       "      <td>80204.0</td>\n",
       "      <td>0.0</td>\n",
       "      <td>0</td>\n",
       "      <td>80204.0</td>\n",
       "      <td>8750.36</td>\n",
       "      <td>0.109101</td>\n",
       "    </tr>\n",
       "    <tr>\n",
       "      <th>4</th>\n",
       "      <td>H0AL05163</td>\n",
       "      <td>2010</td>\n",
       "      <td>54616.04</td>\n",
       "      <td>2343.79</td>\n",
       "      <td>71452.12</td>\n",
       "      <td>547321.04</td>\n",
       "      <td>27000.0</td>\n",
       "      <td>66857.04</td>\n",
       "      <td>9362.66</td>\n",
       "      <td>249.0</td>\n",
       "      <td>...</td>\n",
       "      <td>0</td>\n",
       "      <td>R</td>\n",
       "      <td>35746.0</td>\n",
       "      <td>0.0</td>\n",
       "      <td>131109.0</td>\n",
       "      <td>0.0</td>\n",
       "      <td>1</td>\n",
       "      <td>166855.0</td>\n",
       "      <td>780579.65</td>\n",
       "      <td>4.678192</td>\n",
       "    </tr>\n",
       "  </tbody>\n",
       "</table>\n",
       "<p>5 rows × 27 columns</p>\n",
       "</div>"
      ],
      "text/plain": [
       "     cand_id  cycle        c1       c2        c3         c4       c5  \\\n",
       "0  H0AK00089   2010    550.00     0.00      0.00       0.00      0.0   \n",
       "1  H0AL02087   2012  11727.82     0.00  16964.09       0.00      0.0   \n",
       "2  H0AL02087   2014  12132.25     0.00  16866.78       0.00      0.0   \n",
       "3  H0AL03184   2010     14.95  1441.91      0.00    5000.00      0.0   \n",
       "4  H0AL05163   2010  54616.04  2343.79  71452.12  547321.04  27000.0   \n",
       "\n",
       "         c6       c7     c8    ...     incumbent  party  primary_votes  \\\n",
       "0    785.00     0.00    0.0    ...             0      D        38673.0   \n",
       "1      0.00     0.00    0.0    ...             1      R            0.0   \n",
       "2      0.00     0.00    0.0    ...             1      R            0.0   \n",
       "3   2293.50     0.00    0.0    ...             0      D            0.0   \n",
       "4  66857.04  9362.66  249.0    ...             0      R        35746.0   \n",
       "\n",
       "   runoff_votes  general_votes ge_runoff_election_votes winner total_votes  \\\n",
       "0           0.0        77606.0                      0.0      0    116279.0   \n",
       "1           0.0       180591.0                      0.0      1    180591.0   \n",
       "2           0.0       113103.0                      0.0      1    113103.0   \n",
       "3           0.0        80204.0                      0.0      0     80204.0   \n",
       "4           0.0       131109.0                      0.0      1    166855.0   \n",
       "\n",
       "  totalspend  costvote  \n",
       "0  220001.06  1.892010  \n",
       "1  694953.98  3.848220  \n",
       "2  570473.48  5.043840  \n",
       "3    8750.36  0.109101  \n",
       "4  780579.65  4.678192  \n",
       "\n",
       "[5 rows x 27 columns]"
      ]
     },
     "execution_count": 3,
     "metadata": {},
     "output_type": "execute_result"
    }
   ],
   "source": [
    "df.head()"
   ]
  },
  {
   "cell_type": "code",
   "execution_count": 59,
   "metadata": {},
   "outputs": [
    {
     "data": {
      "text/html": [
       "<div>\n",
       "<table border=\"1\" class=\"dataframe\">\n",
       "  <thead>\n",
       "    <tr style=\"text-align: right;\">\n",
       "      <th></th>\n",
       "      <th>cycle</th>\n",
       "      <th>c1</th>\n",
       "      <th>c2</th>\n",
       "      <th>c3</th>\n",
       "      <th>c4</th>\n",
       "      <th>c5</th>\n",
       "      <th>c6</th>\n",
       "      <th>c7</th>\n",
       "      <th>c8</th>\n",
       "      <th>c9</th>\n",
       "      <th>...</th>\n",
       "      <th>c11</th>\n",
       "      <th>c12</th>\n",
       "      <th>c13</th>\n",
       "      <th>primary_votes</th>\n",
       "      <th>runoff_votes</th>\n",
       "      <th>general_votes</th>\n",
       "      <th>ge_runoff_election_votes</th>\n",
       "      <th>total_votes</th>\n",
       "      <th>totalspend</th>\n",
       "      <th>costvote</th>\n",
       "    </tr>\n",
       "  </thead>\n",
       "  <tbody>\n",
       "    <tr>\n",
       "      <th>count</th>\n",
       "      <td>8213.000000</td>\n",
       "      <td>8.213000e+03</td>\n",
       "      <td>8213.000000</td>\n",
       "      <td>8.213000e+03</td>\n",
       "      <td>8.213000e+03</td>\n",
       "      <td>8213.000000</td>\n",
       "      <td>8.213000e+03</td>\n",
       "      <td>8.213000e+03</td>\n",
       "      <td>8213.000000</td>\n",
       "      <td>8213.000000</td>\n",
       "      <td>...</td>\n",
       "      <td>8213.000000</td>\n",
       "      <td>8213.000000</td>\n",
       "      <td>8.213000e+03</td>\n",
       "      <td>8.213000e+03</td>\n",
       "      <td>8213.000000</td>\n",
       "      <td>8.213000e+03</td>\n",
       "      <td>8.213000e+03</td>\n",
       "      <td>8.213000e+03</td>\n",
       "      <td>8.213000e+03</td>\n",
       "      <td>8213.000000</td>\n",
       "    </tr>\n",
       "    <tr>\n",
       "      <th>mean</th>\n",
       "      <td>2008.950444</td>\n",
       "      <td>1.135745e+05</td>\n",
       "      <td>4061.222854</td>\n",
       "      <td>3.459565e+04</td>\n",
       "      <td>1.051760e+05</td>\n",
       "      <td>5801.780386</td>\n",
       "      <td>9.377898e+03</td>\n",
       "      <td>3.864802e+03</td>\n",
       "      <td>179.584555</td>\n",
       "      <td>41.562651</td>\n",
       "      <td>...</td>\n",
       "      <td>1143.413799</td>\n",
       "      <td>426.940119</td>\n",
       "      <td>5.740178e+05</td>\n",
       "      <td>2.512320e+04</td>\n",
       "      <td>412.211616</td>\n",
       "      <td>1.229814e+05</td>\n",
       "      <td>3.714814e+02</td>\n",
       "      <td>1.488883e+05</td>\n",
       "      <td>8.521735e+05</td>\n",
       "      <td>12.816361</td>\n",
       "    </tr>\n",
       "    <tr>\n",
       "      <th>std</th>\n",
       "      <td>3.347703</td>\n",
       "      <td>5.393104e+05</td>\n",
       "      <td>16729.377074</td>\n",
       "      <td>1.621167e+05</td>\n",
       "      <td>6.404058e+05</td>\n",
       "      <td>23956.670138</td>\n",
       "      <td>5.808186e+04</td>\n",
       "      <td>2.584147e+04</td>\n",
       "      <td>6404.753425</td>\n",
       "      <td>862.691798</td>\n",
       "      <td>...</td>\n",
       "      <td>10712.754826</td>\n",
       "      <td>4125.721165</td>\n",
       "      <td>1.821689e+06</td>\n",
       "      <td>8.325324e+04</td>\n",
       "      <td>8613.271191</td>\n",
       "      <td>3.243593e+05</td>\n",
       "      <td>1.713239e+04</td>\n",
       "      <td>3.976238e+05</td>\n",
       "      <td>2.149711e+06</td>\n",
       "      <td>54.032865</td>\n",
       "    </tr>\n",
       "    <tr>\n",
       "      <th>min</th>\n",
       "      <td>2004.000000</td>\n",
       "      <td>-2.900000e-01</td>\n",
       "      <td>-390.000000</td>\n",
       "      <td>-1.900000e-01</td>\n",
       "      <td>-7.500000e+02</td>\n",
       "      <td>0.000000</td>\n",
       "      <td>0.000000e+00</td>\n",
       "      <td>0.000000e+00</td>\n",
       "      <td>0.000000</td>\n",
       "      <td>0.000000</td>\n",
       "      <td>...</td>\n",
       "      <td>0.000000</td>\n",
       "      <td>0.000000</td>\n",
       "      <td>-4.920380e+04</td>\n",
       "      <td>0.000000e+00</td>\n",
       "      <td>0.000000</td>\n",
       "      <td>2.000000e+00</td>\n",
       "      <td>0.000000e+00</td>\n",
       "      <td>7.000000e+00</td>\n",
       "      <td>0.000000e+00</td>\n",
       "      <td>0.000000</td>\n",
       "    </tr>\n",
       "    <tr>\n",
       "      <th>25%</th>\n",
       "      <td>2006.000000</td>\n",
       "      <td>0.000000e+00</td>\n",
       "      <td>0.000000</td>\n",
       "      <td>0.000000e+00</td>\n",
       "      <td>0.000000e+00</td>\n",
       "      <td>0.000000</td>\n",
       "      <td>0.000000e+00</td>\n",
       "      <td>0.000000e+00</td>\n",
       "      <td>0.000000</td>\n",
       "      <td>0.000000</td>\n",
       "      <td>...</td>\n",
       "      <td>0.000000</td>\n",
       "      <td>0.000000</td>\n",
       "      <td>0.000000e+00</td>\n",
       "      <td>0.000000e+00</td>\n",
       "      <td>0.000000</td>\n",
       "      <td>9.344000e+03</td>\n",
       "      <td>0.000000e+00</td>\n",
       "      <td>9.528000e+03</td>\n",
       "      <td>0.000000e+00</td>\n",
       "      <td>0.000000</td>\n",
       "    </tr>\n",
       "    <tr>\n",
       "      <th>50%</th>\n",
       "      <td>2010.000000</td>\n",
       "      <td>0.000000e+00</td>\n",
       "      <td>0.000000</td>\n",
       "      <td>0.000000e+00</td>\n",
       "      <td>0.000000e+00</td>\n",
       "      <td>0.000000</td>\n",
       "      <td>0.000000e+00</td>\n",
       "      <td>0.000000e+00</td>\n",
       "      <td>0.000000</td>\n",
       "      <td>0.000000</td>\n",
       "      <td>...</td>\n",
       "      <td>0.000000</td>\n",
       "      <td>0.000000</td>\n",
       "      <td>9.600590e+03</td>\n",
       "      <td>4.928000e+03</td>\n",
       "      <td>0.000000</td>\n",
       "      <td>7.899600e+04</td>\n",
       "      <td>0.000000e+00</td>\n",
       "      <td>9.256500e+04</td>\n",
       "      <td>1.874277e+05</td>\n",
       "      <td>1.791971</td>\n",
       "    </tr>\n",
       "    <tr>\n",
       "      <th>75%</th>\n",
       "      <td>2012.000000</td>\n",
       "      <td>3.401606e+04</td>\n",
       "      <td>477.000000</td>\n",
       "      <td>6.238620e+03</td>\n",
       "      <td>5.401690e+03</td>\n",
       "      <td>0.000000</td>\n",
       "      <td>5.600000e+02</td>\n",
       "      <td>1.123000e+02</td>\n",
       "      <td>0.000000</td>\n",
       "      <td>0.000000</td>\n",
       "      <td>...</td>\n",
       "      <td>0.000000</td>\n",
       "      <td>0.000000</td>\n",
       "      <td>4.678489e+05</td>\n",
       "      <td>2.965800e+04</td>\n",
       "      <td>0.000000</td>\n",
       "      <td>1.372530e+05</td>\n",
       "      <td>0.000000e+00</td>\n",
       "      <td>1.680910e+05</td>\n",
       "      <td>9.455734e+05</td>\n",
       "      <td>6.660852</td>\n",
       "    </tr>\n",
       "    <tr>\n",
       "      <th>max</th>\n",
       "      <td>2014.000000</td>\n",
       "      <td>2.545184e+07</td>\n",
       "      <td>527439.630000</td>\n",
       "      <td>8.283133e+06</td>\n",
       "      <td>2.546524e+07</td>\n",
       "      <td>777330.090000</td>\n",
       "      <td>2.290329e+06</td>\n",
       "      <td>1.000230e+06</td>\n",
       "      <td>500000.000000</td>\n",
       "      <td>43129.070000</td>\n",
       "      <td>...</td>\n",
       "      <td>407000.000000</td>\n",
       "      <td>117400.000000</td>\n",
       "      <td>3.563831e+07</td>\n",
       "      <td>2.566298e+06</td>\n",
       "      <td>631812.000000</td>\n",
       "      <td>7.864624e+06</td>\n",
       "      <td>1.228033e+06</td>\n",
       "      <td>1.025745e+07</td>\n",
       "      <td>4.955574e+07</td>\n",
       "      <td>903.637692</td>\n",
       "    </tr>\n",
       "  </tbody>\n",
       "</table>\n",
       "<p>8 rows × 21 columns</p>\n",
       "</div>"
      ],
      "text/plain": [
       "             cycle            c1             c2            c3            c4  \\\n",
       "count  8213.000000  8.213000e+03    8213.000000  8.213000e+03  8.213000e+03   \n",
       "mean   2008.950444  1.135745e+05    4061.222854  3.459565e+04  1.051760e+05   \n",
       "std       3.347703  5.393104e+05   16729.377074  1.621167e+05  6.404058e+05   \n",
       "min    2004.000000 -2.900000e-01    -390.000000 -1.900000e-01 -7.500000e+02   \n",
       "25%    2006.000000  0.000000e+00       0.000000  0.000000e+00  0.000000e+00   \n",
       "50%    2010.000000  0.000000e+00       0.000000  0.000000e+00  0.000000e+00   \n",
       "75%    2012.000000  3.401606e+04     477.000000  6.238620e+03  5.401690e+03   \n",
       "max    2014.000000  2.545184e+07  527439.630000  8.283133e+06  2.546524e+07   \n",
       "\n",
       "                  c5            c6            c7             c8            c9  \\\n",
       "count    8213.000000  8.213000e+03  8.213000e+03    8213.000000   8213.000000   \n",
       "mean     5801.780386  9.377898e+03  3.864802e+03     179.584555     41.562651   \n",
       "std     23956.670138  5.808186e+04  2.584147e+04    6404.753425    862.691798   \n",
       "min         0.000000  0.000000e+00  0.000000e+00       0.000000      0.000000   \n",
       "25%         0.000000  0.000000e+00  0.000000e+00       0.000000      0.000000   \n",
       "50%         0.000000  0.000000e+00  0.000000e+00       0.000000      0.000000   \n",
       "75%         0.000000  5.600000e+02  1.123000e+02       0.000000      0.000000   \n",
       "max    777330.090000  2.290329e+06  1.000230e+06  500000.000000  43129.070000   \n",
       "\n",
       "          ...                 c11            c12           c13  primary_votes  \\\n",
       "count     ...         8213.000000    8213.000000  8.213000e+03   8.213000e+03   \n",
       "mean      ...         1143.413799     426.940119  5.740178e+05   2.512320e+04   \n",
       "std       ...        10712.754826    4125.721165  1.821689e+06   8.325324e+04   \n",
       "min       ...            0.000000       0.000000 -4.920380e+04   0.000000e+00   \n",
       "25%       ...            0.000000       0.000000  0.000000e+00   0.000000e+00   \n",
       "50%       ...            0.000000       0.000000  9.600590e+03   4.928000e+03   \n",
       "75%       ...            0.000000       0.000000  4.678489e+05   2.965800e+04   \n",
       "max       ...       407000.000000  117400.000000  3.563831e+07   2.566298e+06   \n",
       "\n",
       "        runoff_votes  general_votes  ge_runoff_election_votes   total_votes  \\\n",
       "count    8213.000000   8.213000e+03              8.213000e+03  8.213000e+03   \n",
       "mean      412.211616   1.229814e+05              3.714814e+02  1.488883e+05   \n",
       "std      8613.271191   3.243593e+05              1.713239e+04  3.976238e+05   \n",
       "min         0.000000   2.000000e+00              0.000000e+00  7.000000e+00   \n",
       "25%         0.000000   9.344000e+03              0.000000e+00  9.528000e+03   \n",
       "50%         0.000000   7.899600e+04              0.000000e+00  9.256500e+04   \n",
       "75%         0.000000   1.372530e+05              0.000000e+00  1.680910e+05   \n",
       "max    631812.000000   7.864624e+06              1.228033e+06  1.025745e+07   \n",
       "\n",
       "         totalspend     costvote  \n",
       "count  8.213000e+03  8213.000000  \n",
       "mean   8.521735e+05    12.816361  \n",
       "std    2.149711e+06    54.032865  \n",
       "min    0.000000e+00     0.000000  \n",
       "25%    0.000000e+00     0.000000  \n",
       "50%    1.874277e+05     1.791971  \n",
       "75%    9.455734e+05     6.660852  \n",
       "max    4.955574e+07   903.637692  \n",
       "\n",
       "[8 rows x 21 columns]"
      ]
     },
     "execution_count": 59,
     "metadata": {},
     "output_type": "execute_result"
    }
   ],
   "source": [
    "df.describe()"
   ]
  },
  {
   "cell_type": "code",
   "execution_count": 30,
   "metadata": {},
   "outputs": [
    {
     "data": {
      "text/plain": [
       "cand_id                     8213\n",
       "cycle                       8213\n",
       "c1                          8213\n",
       "c2                          8213\n",
       "c3                          8213\n",
       "c4                          8213\n",
       "c5                          8213\n",
       "c6                          8213\n",
       "c7                          8213\n",
       "c8                          8213\n",
       "c9                          8213\n",
       "c10                         8213\n",
       "c11                         8213\n",
       "c12                         8213\n",
       "c13                         8213\n",
       "state_abbreviation          8213\n",
       "district                    8186\n",
       "incumbent                   8213\n",
       "party                       8213\n",
       "primary_votes               8213\n",
       "runoff_votes                8213\n",
       "general_votes               8213\n",
       "ge_runoff_election_votes    8213\n",
       "winner                      8213\n",
       "total_votes                 8213\n",
       "totalspend                  8213\n",
       "costvote                    8213\n",
       "dtype: int64"
      ]
     },
     "execution_count": 30,
     "metadata": {},
     "output_type": "execute_result"
    }
   ],
   "source": [
    "df.count()"
   ]
  },
  {
   "cell_type": "code",
   "execution_count": 97,
   "metadata": {},
   "outputs": [
    {
     "data": {
      "text/html": [
       "<div>\n",
       "<table border=\"1\" class=\"dataframe\">\n",
       "  <thead>\n",
       "    <tr style=\"text-align: right;\">\n",
       "      <th></th>\n",
       "      <th>cand_id</th>\n",
       "      <th>c1</th>\n",
       "      <th>c2</th>\n",
       "      <th>c3</th>\n",
       "      <th>c4</th>\n",
       "      <th>c5</th>\n",
       "      <th>c6</th>\n",
       "      <th>c7</th>\n",
       "      <th>c8</th>\n",
       "      <th>c9</th>\n",
       "      <th>...</th>\n",
       "      <th>incumbent</th>\n",
       "      <th>party</th>\n",
       "      <th>primary_votes</th>\n",
       "      <th>runoff_votes</th>\n",
       "      <th>general_votes</th>\n",
       "      <th>ge_runoff_election_votes</th>\n",
       "      <th>winner</th>\n",
       "      <th>total_votes</th>\n",
       "      <th>totalspend</th>\n",
       "      <th>costvote</th>\n",
       "    </tr>\n",
       "    <tr>\n",
       "      <th>cycle</th>\n",
       "      <th></th>\n",
       "      <th></th>\n",
       "      <th></th>\n",
       "      <th></th>\n",
       "      <th></th>\n",
       "      <th></th>\n",
       "      <th></th>\n",
       "      <th></th>\n",
       "      <th></th>\n",
       "      <th></th>\n",
       "      <th></th>\n",
       "      <th></th>\n",
       "      <th></th>\n",
       "      <th></th>\n",
       "      <th></th>\n",
       "      <th></th>\n",
       "      <th></th>\n",
       "      <th></th>\n",
       "      <th></th>\n",
       "      <th></th>\n",
       "      <th></th>\n",
       "    </tr>\n",
       "  </thead>\n",
       "  <tbody>\n",
       "    <tr>\n",
       "      <th>2004</th>\n",
       "      <td>1376</td>\n",
       "      <td>1376</td>\n",
       "      <td>1376</td>\n",
       "      <td>1376</td>\n",
       "      <td>1376</td>\n",
       "      <td>1376</td>\n",
       "      <td>1376</td>\n",
       "      <td>1376</td>\n",
       "      <td>1376</td>\n",
       "      <td>1376</td>\n",
       "      <td>...</td>\n",
       "      <td>1376</td>\n",
       "      <td>1376</td>\n",
       "      <td>1376</td>\n",
       "      <td>1376</td>\n",
       "      <td>1376</td>\n",
       "      <td>1376</td>\n",
       "      <td>1376</td>\n",
       "      <td>1376</td>\n",
       "      <td>1376</td>\n",
       "      <td>1376</td>\n",
       "    </tr>\n",
       "    <tr>\n",
       "      <th>2006</th>\n",
       "      <td>1337</td>\n",
       "      <td>1337</td>\n",
       "      <td>1337</td>\n",
       "      <td>1337</td>\n",
       "      <td>1337</td>\n",
       "      <td>1337</td>\n",
       "      <td>1337</td>\n",
       "      <td>1337</td>\n",
       "      <td>1337</td>\n",
       "      <td>1337</td>\n",
       "      <td>...</td>\n",
       "      <td>1337</td>\n",
       "      <td>1337</td>\n",
       "      <td>1337</td>\n",
       "      <td>1337</td>\n",
       "      <td>1337</td>\n",
       "      <td>1337</td>\n",
       "      <td>1337</td>\n",
       "      <td>1337</td>\n",
       "      <td>1337</td>\n",
       "      <td>1337</td>\n",
       "    </tr>\n",
       "    <tr>\n",
       "      <th>2008</th>\n",
       "      <td>1324</td>\n",
       "      <td>1324</td>\n",
       "      <td>1324</td>\n",
       "      <td>1324</td>\n",
       "      <td>1324</td>\n",
       "      <td>1324</td>\n",
       "      <td>1324</td>\n",
       "      <td>1324</td>\n",
       "      <td>1324</td>\n",
       "      <td>1324</td>\n",
       "      <td>...</td>\n",
       "      <td>1324</td>\n",
       "      <td>1324</td>\n",
       "      <td>1324</td>\n",
       "      <td>1324</td>\n",
       "      <td>1324</td>\n",
       "      <td>1324</td>\n",
       "      <td>1324</td>\n",
       "      <td>1324</td>\n",
       "      <td>1324</td>\n",
       "      <td>1324</td>\n",
       "    </tr>\n",
       "    <tr>\n",
       "      <th>2010</th>\n",
       "      <td>1559</td>\n",
       "      <td>1559</td>\n",
       "      <td>1559</td>\n",
       "      <td>1559</td>\n",
       "      <td>1559</td>\n",
       "      <td>1559</td>\n",
       "      <td>1559</td>\n",
       "      <td>1559</td>\n",
       "      <td>1559</td>\n",
       "      <td>1559</td>\n",
       "      <td>...</td>\n",
       "      <td>1559</td>\n",
       "      <td>1559</td>\n",
       "      <td>1559</td>\n",
       "      <td>1559</td>\n",
       "      <td>1559</td>\n",
       "      <td>1559</td>\n",
       "      <td>1559</td>\n",
       "      <td>1559</td>\n",
       "      <td>1559</td>\n",
       "      <td>1559</td>\n",
       "    </tr>\n",
       "    <tr>\n",
       "      <th>2012</th>\n",
       "      <td>1418</td>\n",
       "      <td>1418</td>\n",
       "      <td>1418</td>\n",
       "      <td>1418</td>\n",
       "      <td>1418</td>\n",
       "      <td>1418</td>\n",
       "      <td>1418</td>\n",
       "      <td>1418</td>\n",
       "      <td>1418</td>\n",
       "      <td>1418</td>\n",
       "      <td>...</td>\n",
       "      <td>1418</td>\n",
       "      <td>1418</td>\n",
       "      <td>1418</td>\n",
       "      <td>1418</td>\n",
       "      <td>1418</td>\n",
       "      <td>1418</td>\n",
       "      <td>1418</td>\n",
       "      <td>1418</td>\n",
       "      <td>1418</td>\n",
       "      <td>1418</td>\n",
       "    </tr>\n",
       "    <tr>\n",
       "      <th>2014</th>\n",
       "      <td>1199</td>\n",
       "      <td>1199</td>\n",
       "      <td>1199</td>\n",
       "      <td>1199</td>\n",
       "      <td>1199</td>\n",
       "      <td>1199</td>\n",
       "      <td>1199</td>\n",
       "      <td>1199</td>\n",
       "      <td>1199</td>\n",
       "      <td>1199</td>\n",
       "      <td>...</td>\n",
       "      <td>1199</td>\n",
       "      <td>1199</td>\n",
       "      <td>1199</td>\n",
       "      <td>1199</td>\n",
       "      <td>1199</td>\n",
       "      <td>1199</td>\n",
       "      <td>1199</td>\n",
       "      <td>1199</td>\n",
       "      <td>1199</td>\n",
       "      <td>1199</td>\n",
       "    </tr>\n",
       "  </tbody>\n",
       "</table>\n",
       "<p>6 rows × 26 columns</p>\n",
       "</div>"
      ],
      "text/plain": [
       "       cand_id    c1    c2    c3    c4    c5    c6    c7    c8    c9  \\\n",
       "cycle                                                                  \n",
       "2004      1376  1376  1376  1376  1376  1376  1376  1376  1376  1376   \n",
       "2006      1337  1337  1337  1337  1337  1337  1337  1337  1337  1337   \n",
       "2008      1324  1324  1324  1324  1324  1324  1324  1324  1324  1324   \n",
       "2010      1559  1559  1559  1559  1559  1559  1559  1559  1559  1559   \n",
       "2012      1418  1418  1418  1418  1418  1418  1418  1418  1418  1418   \n",
       "2014      1199  1199  1199  1199  1199  1199  1199  1199  1199  1199   \n",
       "\n",
       "         ...     incumbent  party  primary_votes  runoff_votes  general_votes  \\\n",
       "cycle    ...                                                                    \n",
       "2004     ...          1376   1376           1376          1376           1376   \n",
       "2006     ...          1337   1337           1337          1337           1337   \n",
       "2008     ...          1324   1324           1324          1324           1324   \n",
       "2010     ...          1559   1559           1559          1559           1559   \n",
       "2012     ...          1418   1418           1418          1418           1418   \n",
       "2014     ...          1199   1199           1199          1199           1199   \n",
       "\n",
       "       ge_runoff_election_votes  winner  total_votes  totalspend  costvote  \n",
       "cycle                                                                       \n",
       "2004                       1376    1376         1376        1376      1376  \n",
       "2006                       1337    1337         1337        1337      1337  \n",
       "2008                       1324    1324         1324        1324      1324  \n",
       "2010                       1559    1559         1559        1559      1559  \n",
       "2012                       1418    1418         1418        1418      1418  \n",
       "2014                       1199    1199         1199        1199      1199  \n",
       "\n",
       "[6 rows x 26 columns]"
      ]
     },
     "execution_count": 97,
     "metadata": {},
     "output_type": "execute_result"
    }
   ],
   "source": [
    "df.groupby('cycle').count()"
   ]
  },
  {
   "cell_type": "code",
   "execution_count": 75,
   "metadata": {
    "collapsed": true
   },
   "outputs": [],
   "source": [
    "winner= df[df['winner'].isin(['1'])]"
   ]
  },
  {
   "cell_type": "code",
   "execution_count": 100,
   "metadata": {
    "collapsed": true
   },
   "outputs": [],
   "source": [
    "loser= df[df['winner'].isin(['0'])]"
   ]
  },
  {
   "cell_type": "code",
   "execution_count": 7,
   "metadata": {},
   "outputs": [
    {
     "name": "stdout",
     "output_type": "stream",
     "text": [
      "[[  0.   0.   5. ...,   0.   0.   0.]\n",
      " [  0.   0.   0. ...,  10.   0.   0.]\n",
      " [  0.   0.   0. ...,  16.   9.   0.]\n",
      " ..., \n",
      " [  0.   0.   1. ...,   6.   0.   0.]\n",
      " [  0.   0.   2. ...,  12.   0.   0.]\n",
      " [  0.   0.  10. ...,  12.   1.   0.]] [0 1 2 ..., 8 9 8]\n"
     ]
    }
   ],
   "source": [
    "#load_digits(?)\n",
    "from sklearn.datasets import load_digits \n",
    "digits = load_digits()\n",
    "X = digits.data # X.shape == (n_samples, n_features) \n",
    "y = digits.target\n",
    "print (X, y)"
   ]
  },
  {
   "cell_type": "code",
   "execution_count": 10,
   "metadata": {},
   "outputs": [
    {
     "name": "stdout",
     "output_type": "stream",
     "text": [
      "<function fit at 0x11042fae8>\n"
     ]
    }
   ],
   "source": [
    "#fit/estimator\n",
    "def fit(self, X, y=None):\n",
    "        \"\"\"Fits estimator to data. \"\"\"\n",
    "        # set state of ``self``\n",
    "        return self\n",
    "print (fit)"
   ]
  },
  {
   "cell_type": "code",
   "execution_count": 17,
   "metadata": {},
   "outputs": [],
   "source": [
    "#predict\n",
    "def predict(self, X):\n",
    "        \"\"\"Predict response of ``X``. \"\"\"\n",
    "        # compute predictions ``pred``\n",
    "        return pred"
   ]
  },
  {
   "cell_type": "code",
   "execution_count": 44,
   "metadata": {},
   "outputs": [],
   "source": [
    "#run fit, predict(?)\n",
    "X=8213\n",
    "y=26\n"
   ]
  },
  {
   "cell_type": "code",
   "execution_count": 47,
   "metadata": {},
   "outputs": [],
   "source": [
    "#from sklearn import svm\n",
    "#estimator = svm.SVC(gamma=0.001)\n",
    "#estimator.fit(X, y)\n",
    "#estimator.predict(x)"
   ]
  },
  {
   "cell_type": "code",
   "execution_count": 116,
   "metadata": {},
   "outputs": [
    {
     "name": "stdout",
     "output_type": "stream",
     "text": [
      "(8213, 13)\n",
      "(8213,)\n"
     ]
    }
   ],
   "source": [
    "from sklearn.model_selection import train_test_split as tts \n",
    "\n",
    "X = df[[\n",
    "    'c1', 'c2', 'c3', 'c4', 'c5', 'c6', 'c7', 'c8', 'c9', 'c10', 'c11', 'c12', 'c13'\n",
    "]]\n",
    "y = df['costvote']\n",
    "\n",
    "print(X.shape)\n",
    "print(y.shape)"
   ]
  },
  {
   "cell_type": "code",
   "execution_count": 117,
   "metadata": {
    "collapsed": true
   },
   "outputs": [],
   "source": [
    "X_train, X_test, y_train, y_test = tts(X, y, test_size=0.2)"
   ]
  },
  {
   "cell_type": "code",
   "execution_count": 118,
   "metadata": {},
   "outputs": [
    {
     "data": {
      "text/plain": [
       "array([ 0.5,  0.5])"
      ]
     },
     "execution_count": 118,
     "metadata": {},
     "output_type": "execute_result"
    }
   ],
   "source": [
    "from sklearn import linear_model\n",
    "reg = linear_model.LinearRegression()\n",
    "reg.fit ([[0, 0], [1, 1], [2, 2]], [0, 1, 2])\n",
    "\n",
    "reg.coef_"
   ]
  },
  {
   "cell_type": "code",
   "execution_count": 119,
   "metadata": {},
   "outputs": [
    {
     "data": {
      "text/plain": [
       "0.13636363636363641"
      ]
     },
     "execution_count": 119,
     "metadata": {},
     "output_type": "execute_result"
    }
   ],
   "source": [
    "# Ordinary least squares\n",
    "from sklearn import linear_model\n",
    "reg = linear_model.Ridge (alpha = .5)\n",
    "reg.fit ([[0, 0], [0, 0], [1, 1]], [0, .1, 1]) \n",
    "\n",
    "\n",
    "reg.coef_\n",
    "\n",
    "reg.intercept_ "
   ]
  },
  {
   "cell_type": "code",
   "execution_count": 120,
   "metadata": {},
   "outputs": [
    {
     "data": {
      "text/plain": [
       "0.10000000000000001"
      ]
     },
     "execution_count": 120,
     "metadata": {},
     "output_type": "execute_result"
    }
   ],
   "source": [
    "# Ridge regression\n",
    "from sklearn import linear_model\n",
    "reg = linear_model.RidgeCV(alphas=[0.1, 1.0, 10.0])\n",
    "reg.fit([[0, 0], [0, 0], [1, 1]], [0, .1, 1])       \n",
    "\n",
    "\n",
    "reg.alpha_  "
   ]
  },
  {
   "cell_type": "code",
   "execution_count": 121,
   "metadata": {},
   "outputs": [
    {
     "data": {
      "text/plain": [
       "array([ 0.8])"
      ]
     },
     "execution_count": 121,
     "metadata": {},
     "output_type": "execute_result"
    }
   ],
   "source": [
    "# lasso\n",
    "from sklearn import linear_model\n",
    "reg = linear_model.Lasso(alpha = 0.1)\n",
    "reg.fit([[0, 0], [1, 1]], [0, 1])\n",
    "\n",
    "\n",
    "\n",
    "reg.predict([[1, 1]])"
   ]
  },
  {
   "cell_type": "code",
   "execution_count": 122,
   "metadata": {},
   "outputs": [
    {
     "data": {
      "text/plain": [
       "array([ 0.71715729,  0.        ])"
      ]
     },
     "execution_count": 122,
     "metadata": {},
     "output_type": "execute_result"
    }
   ],
   "source": [
    "# LARS lasso\n",
    "from sklearn import linear_model\n",
    "reg = linear_model.LassoLars(alpha=.1)\n",
    "reg.fit([[0, 0], [1, 1]], [0, 1])  \n",
    "\n",
    "\n",
    "\n",
    "reg.coef_  "
   ]
  },
  {
   "cell_type": "code",
   "execution_count": 123,
   "metadata": {},
   "outputs": [
    {
     "data": {
      "text/plain": [
       "BayesianRidge(alpha_1=1e-06, alpha_2=1e-06, compute_score=False, copy_X=True,\n",
       "       fit_intercept=True, lambda_1=1e-06, lambda_2=1e-06, n_iter=300,\n",
       "       normalize=False, tol=0.001, verbose=False)"
      ]
     },
     "execution_count": 123,
     "metadata": {},
     "output_type": "execute_result"
    }
   ],
   "source": [
    "# Baysian Ridge Regression\n",
    "from sklearn import linear_model\n",
    "X = [[0., 0.], [1., 1.], [2., 2.], [3., 3.]]\n",
    "Y = [0., 1., 2., 3.]\n",
    "reg = linear_model.BayesianRidge()\n",
    "reg.fit(X, Y)"
   ]
  },
  {
   "cell_type": "code",
   "execution_count": 124,
   "metadata": {},
   "outputs": [
    {
     "data": {
      "text/plain": [
       "array([ 0.50000013])"
      ]
     },
     "execution_count": 124,
     "metadata": {},
     "output_type": "execute_result"
    }
   ],
   "source": [
    "# Predict new values\n",
    "reg.predict ([[1, 0.]])"
   ]
  },
  {
   "cell_type": "code",
   "execution_count": 125,
   "metadata": {},
   "outputs": [
    {
     "data": {
      "text/plain": [
       "array([ 0.49999993,  0.49999993])"
      ]
     },
     "execution_count": 125,
     "metadata": {},
     "output_type": "execute_result"
    }
   ],
   "source": [
    "# weights of the model\n",
    "reg.coef_"
   ]
  },
  {
   "cell_type": "code",
   "execution_count": 126,
   "metadata": {},
   "outputs": [
    {
     "data": {
      "text/plain": [
       "SVC(C=1.0, cache_size=200, class_weight=None, coef0=0.0,\n",
       "  decision_function_shape=None, degree=3, gamma='auto', kernel='rbf',\n",
       "  max_iter=-1, probability=False, random_state=None, shrinking=True,\n",
       "  tol=0.001, verbose=False)"
      ]
     },
     "execution_count": 126,
     "metadata": {},
     "output_type": "execute_result"
    }
   ],
   "source": [
    "# Support vector machine\n",
    "from sklearn import svm\n",
    "X = [[0, 0], [1, 1]]\n",
    "y = [0, 1]\n",
    "clf = svm.SVC()\n",
    "clf.fit(X, y)  "
   ]
  },
  {
   "cell_type": "code",
   "execution_count": 127,
   "metadata": {},
   "outputs": [
    {
     "data": {
      "text/plain": [
       "array([1])"
      ]
     },
     "execution_count": 127,
     "metadata": {},
     "output_type": "execute_result"
    }
   ],
   "source": [
    "# SVM predictions\n",
    "clf.predict([[2., 2.]])"
   ]
  },
  {
   "cell_type": "code",
   "execution_count": 128,
   "metadata": {},
   "outputs": [
    {
     "data": {
      "text/plain": [
       "SGDClassifier(alpha=0.0001, average=False, class_weight=None, epsilon=0.1,\n",
       "       eta0=0.0, fit_intercept=True, l1_ratio=0.15,\n",
       "       learning_rate='optimal', loss='hinge', n_iter=5, n_jobs=1,\n",
       "       penalty='l2', power_t=0.5, random_state=None, shuffle=True,\n",
       "       verbose=0, warm_start=False)"
      ]
     },
     "execution_count": 128,
     "metadata": {},
     "output_type": "execute_result"
    }
   ],
   "source": [
    "# Stochastic Gradient Descent\n",
    "from sklearn.linear_model import SGDClassifier\n",
    "X = [[0., 0.], [1., 1.]]\n",
    "y = [0, 1]\n",
    "clf = SGDClassifier(loss=\"hinge\", penalty=\"l2\")\n",
    "clf.fit(X, y)"
   ]
  },
  {
   "cell_type": "code",
   "execution_count": 129,
   "metadata": {},
   "outputs": [
    {
     "data": {
      "text/plain": [
       "array([1])"
      ]
     },
     "execution_count": 129,
     "metadata": {},
     "output_type": "execute_result"
    }
   ],
   "source": [
    "# Predict new values\n",
    "clf.predict([[2., 2.]])"
   ]
  },
  {
   "cell_type": "code",
   "execution_count": null,
   "metadata": {
    "collapsed": true
   },
   "outputs": [],
   "source": []
  },
  {
   "cell_type": "code",
   "execution_count": null,
   "metadata": {
    "collapsed": true
   },
   "outputs": [],
   "source": []
  }
 ],
 "metadata": {
  "kernelspec": {
   "display_name": "Python [default]",
   "language": "python",
   "name": "python3"
  },
  "language_info": {
   "codemirror_mode": {
    "name": "ipython",
    "version": 3
   },
   "file_extension": ".py",
   "mimetype": "text/x-python",
   "name": "python",
   "nbconvert_exporter": "python",
   "pygments_lexer": "ipython3",
   "version": "3.5.2"
  }
 },
 "nbformat": 4,
 "nbformat_minor": 2
}
