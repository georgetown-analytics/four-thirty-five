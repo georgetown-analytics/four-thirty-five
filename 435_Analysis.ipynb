{
 "cells": [
  {
   "cell_type": "markdown",
   "metadata": {},
   "source": [
    "# Data Analysis"
   ]
  },
  {
   "cell_type": "markdown",
   "metadata": {},
   "source": [
    "# Notebook set-up"
   ]
  },
  {
   "cell_type": "code",
   "execution_count": 233,
   "metadata": {
    "collapsed": false
   },
   "outputs": [],
   "source": [
    "import os \n",
    "import numpy as np \n",
    "import pandas as pd \n",
    "import seaborn as sns \n",
    "import matplotlib.pyplot as plt\n",
    "from matplotlib import rcParams\n",
    "import seaborn as sb\n",
    "import io\n",
    "import statistics as stat\n",
    "import statsmodels.api as sm\n",
    "from statsmodels.api import OLS\n",
    "import random\n",
    "import statsmodels.formula.api as smf\n",
    "import scipy as sp\n",
    "import scipy.stats\n",
    "from sklearn import linear_model\n",
    "from sklearn.cross_validation import train_test_split\n",
    "from pandas.tools.plotting import scatter_matrix, radviz\n",
    "from sklearn.metrics import mean_squared_error as mse\n",
    "from sklearn.metrics import r2_score\n",
    "\n",
    "sns.set_style('whitegrid')\n",
    "sns.set_context('notebook')"
   ]
  },
  {
   "cell_type": "markdown",
   "metadata": {},
   "source": [
    "# Data loading"
   ]
  },
  {
   "cell_type": "code",
   "execution_count": 234,
   "metadata": {
    "collapsed": false
   },
   "outputs": [],
   "source": [
    "# Load the data into a dataframe \n",
    "#can_master = pd.read_csv('can-1996-2016.csv')\n",
    "#cmte_master =pd.read_csv('cm-1996-2014.csv') \n",
    "#opex=pd.read_csv('opex-2004-2014.csv')\n",
    "#oth=pd.read_csv('oth-1996-2014.csv')\n",
    "#exp=pd.read_csv('expresults_rev.csv')\n",
    "#election_spend=pd.read_csv('catall.csv')\n",
    "#results = pd.read_csv('candr.csv')\n",
    "#catsort= pd.read_csv('catsort_rev.csv')\n",
    "cost_vote = pd.read_csv('combined_all.csv')"
   ]
  },
  {
   "cell_type": "code",
   "execution_count": 235,
   "metadata": {
    "collapsed": false
   },
   "outputs": [
    {
     "name": "stdout",
     "output_type": "stream",
     "text": [
      "Empty DataFrame\n",
      "Columns: [cand_id, cycle, c1, c2, c3, c4, c5, c6, c7, c8, c9, c10, c11, c12, c13, state_abbreviation, district, incumbent, party, primary_votes, runoff_votes, general_votes, ge_runoff_election_votes, ge_winner_indicator, total_votes, totalspend]\n",
      "Index: []\n",
      "\n",
      "[0 rows x 26 columns]\n",
      "Empty DataFrame\n",
      "Columns: [cand_id, cycle, c1, c2, c3, c4, c5, c6, c7, c8, c9, c10, c11, c12, c13, state_abbreviation, district, incumbent, party, primary_votes, runoff_votes, general_votes, ge_runoff_election_votes, ge_winner_indicator, total_votes, totalspend]\n",
      "Index: []\n",
      "\n",
      "[0 rows x 26 columns]\n",
      "Empty DataFrame\n",
      "Columns: [cand_id, cycle, c1, c2, c3, c4, c5, c6, c7, c8, c9, c10, c11, c12, c13, state_abbreviation, district, incumbent, party, primary_votes, runoff_votes, general_votes, ge_runoff_election_votes, ge_winner_indicator, total_votes, totalspend]\n",
      "Index: []\n",
      "\n",
      "[0 rows x 26 columns]\n"
     ]
    }
   ],
   "source": [
    "cost_vote['total_votes']=cost_vote['total_votes'].fillna(0)\n",
    "cost_vote['totalspend']=cost_vote['totalspend'].fillna(0)\n",
    "cost_vote['incumbent']=cost_vote['incumbent'].fillna(0)\n",
    "cost_vote['party']=cost_vote['party'].fillna('None')\n",
    "cost_vote = cost_vote.drop(['costpervote'], axis=1)\n",
    "cost_vote['totalspend']=pd.to_numeric(cost_vote['totalspend'],errors='coerce')\n",
    "print(cost_vote[pd.to_numeric(cost_vote['totalspend'], errors = 'coerce').isnull()])\n",
    "cost_vote['total_votes']=pd.to_numeric(cost_vote['total_votes'],errors='coerce')\n",
    "print(cost_vote[pd.to_numeric(cost_vote['total_votes'], errors = 'coerce').isnull()])\n",
    "cost_vote['cycle']=pd.to_numeric(cost_vote['cycle'],errors='coerce')\n",
    "print(cost_vote[pd.to_numeric(cost_vote['cycle'], errors = 'coerce').isnull()])\n",
    "cost_vote = cost_vote[cost_vote.total_votes != 0]\n",
    "cost_vote.loc[cost_vote['totalspend'] == 0]\n",
    "cost_vote = cost_vote.rename(columns = {'ge_winner_indicator':'winner'})\n",
    "cost_vote['costvote'] = cost_vote['totalspend']/cost_vote['total_votes']"
   ]
  },
  {
   "cell_type": "code",
   "execution_count": 236,
   "metadata": {
    "collapsed": false
   },
   "outputs": [],
   "source": [
    "cost_vote['cycle'] = cost_vote['cycle'].astype(int).astype('str')"
   ]
  },
  {
   "cell_type": "code",
   "execution_count": 237,
   "metadata": {
    "collapsed": false
   },
   "outputs": [],
   "source": [
    "cost_vote['party'] = cost_vote['party'].astype('str')\n",
    "cost_vote = cost_vote.replace(\"DEM\",\"D\")\n",
    "cost_vote = cost_vote.replace(\"DEM \",\"D\")\n",
    "cost_vote = cost_vote.replace(\"REP\",\"R\")\n",
    "cost_vote = cost_vote.replace(\"REP \",\"R\")\n",
    "R = cost_vote[cost_vote['party'] == \"R\"]\n",
    "D = cost_vote[cost_vote['party'] == \"D\"]"
   ]
  },
  {
   "cell_type": "code",
   "execution_count": 238,
   "metadata": {
    "collapsed": true
   },
   "outputs": [],
   "source": [
    "testframes = [R, D]\n",
    "\n",
    "Gen = pd.concat(testframes)"
   ]
  },
  {
   "cell_type": "code",
   "execution_count": 241,
   "metadata": {
    "collapsed": true
   },
   "outputs": [],
   "source": [
    "Gen = Gen.replace(\"W (Runoff)\",\"0\")\n",
    "Gen = Gen.replace(\"WW\",\"0\")\n",
    "Gen = Gen.replace(\"Dd\",\"0\")"
   ]
  },
  {
   "cell_type": "code",
   "execution_count": 243,
   "metadata": {
    "collapsed": true
   },
   "outputs": [],
   "source": [
    "Gen['race'] = Gen['cand_id'].astype(str).str[0]"
   ]
  },
  {
   "cell_type": "code",
   "execution_count": 244,
   "metadata": {
    "collapsed": true
   },
   "outputs": [],
   "source": [
    "Gen = Gen[Gen['race'] == \"H\"]"
   ]
  },
  {
   "cell_type": "code",
   "execution_count": 245,
   "metadata": {
    "collapsed": false
   },
   "outputs": [
    {
     "data": {
      "text/html": [
       "<div>\n",
       "<table border=\"1\" class=\"dataframe\">\n",
       "  <thead>\n",
       "    <tr style=\"text-align: right;\">\n",
       "      <th></th>\n",
       "      <th>cand_id</th>\n",
       "      <th>cycle</th>\n",
       "      <th>c1</th>\n",
       "      <th>c2</th>\n",
       "      <th>c3</th>\n",
       "      <th>c4</th>\n",
       "      <th>c5</th>\n",
       "      <th>c6</th>\n",
       "      <th>c7</th>\n",
       "      <th>c8</th>\n",
       "      <th>...</th>\n",
       "      <th>party</th>\n",
       "      <th>primary_votes</th>\n",
       "      <th>runoff_votes</th>\n",
       "      <th>general_votes</th>\n",
       "      <th>ge_runoff_election_votes</th>\n",
       "      <th>winner</th>\n",
       "      <th>total_votes</th>\n",
       "      <th>totalspend</th>\n",
       "      <th>costvote</th>\n",
       "      <th>race</th>\n",
       "    </tr>\n",
       "  </thead>\n",
       "  <tbody>\n",
       "    <tr>\n",
       "      <th>1</th>\n",
       "      <td>H0AK01038</td>\n",
       "      <td>2010</td>\n",
       "      <td>1569.23</td>\n",
       "      <td>88.93</td>\n",
       "      <td>0.00</td>\n",
       "      <td>0.00</td>\n",
       "      <td>0.0</td>\n",
       "      <td>0.00</td>\n",
       "      <td>0.00</td>\n",
       "      <td>0.0</td>\n",
       "      <td>...</td>\n",
       "      <td>R</td>\n",
       "      <td>24709.0</td>\n",
       "      <td>0.0</td>\n",
       "      <td>0.0</td>\n",
       "      <td>0.0</td>\n",
       "      <td>0</td>\n",
       "      <td>24709.0</td>\n",
       "      <td>169777.74</td>\n",
       "      <td>6.871089</td>\n",
       "      <td>H</td>\n",
       "    </tr>\n",
       "    <tr>\n",
       "      <th>3</th>\n",
       "      <td>H0AL01030</td>\n",
       "      <td>2010</td>\n",
       "      <td>7054.34</td>\n",
       "      <td>5233.32</td>\n",
       "      <td>668.95</td>\n",
       "      <td>27082.28</td>\n",
       "      <td>1175.0</td>\n",
       "      <td>1295.21</td>\n",
       "      <td>583.75</td>\n",
       "      <td>0.0</td>\n",
       "      <td>...</td>\n",
       "      <td>R</td>\n",
       "      <td>18725.0</td>\n",
       "      <td>0.0</td>\n",
       "      <td>0.0</td>\n",
       "      <td>0.0</td>\n",
       "      <td>0</td>\n",
       "      <td>18725.0</td>\n",
       "      <td>44377.00</td>\n",
       "      <td>2.369933</td>\n",
       "      <td>H</td>\n",
       "    </tr>\n",
       "    <tr>\n",
       "      <th>4</th>\n",
       "      <td>H0AL01030</td>\n",
       "      <td>2012</td>\n",
       "      <td>3480.00</td>\n",
       "      <td>27.72</td>\n",
       "      <td>381.09</td>\n",
       "      <td>7257.71</td>\n",
       "      <td>0.0</td>\n",
       "      <td>0.00</td>\n",
       "      <td>56.58</td>\n",
       "      <td>0.0</td>\n",
       "      <td>...</td>\n",
       "      <td>R</td>\n",
       "      <td>3854.0</td>\n",
       "      <td>0.0</td>\n",
       "      <td>0.0</td>\n",
       "      <td>0.0</td>\n",
       "      <td>0</td>\n",
       "      <td>3854.0</td>\n",
       "      <td>11203.10</td>\n",
       "      <td>2.906876</td>\n",
       "      <td>H</td>\n",
       "    </tr>\n",
       "    <tr>\n",
       "      <th>5</th>\n",
       "      <td>H0AL02087</td>\n",
       "      <td>2012</td>\n",
       "      <td>11727.82</td>\n",
       "      <td>0.00</td>\n",
       "      <td>16964.09</td>\n",
       "      <td>0.00</td>\n",
       "      <td>0.0</td>\n",
       "      <td>0.00</td>\n",
       "      <td>0.00</td>\n",
       "      <td>0.0</td>\n",
       "      <td>...</td>\n",
       "      <td>R</td>\n",
       "      <td>0.0</td>\n",
       "      <td>0.0</td>\n",
       "      <td>180591.0</td>\n",
       "      <td>0.0</td>\n",
       "      <td>1</td>\n",
       "      <td>180591.0</td>\n",
       "      <td>694953.98</td>\n",
       "      <td>3.848220</td>\n",
       "      <td>H</td>\n",
       "    </tr>\n",
       "    <tr>\n",
       "      <th>6</th>\n",
       "      <td>H0AL02087</td>\n",
       "      <td>2014</td>\n",
       "      <td>12132.25</td>\n",
       "      <td>0.00</td>\n",
       "      <td>16866.78</td>\n",
       "      <td>0.00</td>\n",
       "      <td>0.0</td>\n",
       "      <td>0.00</td>\n",
       "      <td>0.00</td>\n",
       "      <td>0.0</td>\n",
       "      <td>...</td>\n",
       "      <td>R</td>\n",
       "      <td>0.0</td>\n",
       "      <td>0.0</td>\n",
       "      <td>113103.0</td>\n",
       "      <td>0.0</td>\n",
       "      <td>1</td>\n",
       "      <td>113103.0</td>\n",
       "      <td>570473.48</td>\n",
       "      <td>5.043840</td>\n",
       "      <td>H</td>\n",
       "    </tr>\n",
       "  </tbody>\n",
       "</table>\n",
       "<p>5 rows × 28 columns</p>\n",
       "</div>"
      ],
      "text/plain": [
       "     cand_id cycle        c1       c2        c3        c4      c5       c6  \\\n",
       "1  H0AK01038  2010   1569.23    88.93      0.00      0.00     0.0     0.00   \n",
       "3  H0AL01030  2010   7054.34  5233.32    668.95  27082.28  1175.0  1295.21   \n",
       "4  H0AL01030  2012   3480.00    27.72    381.09   7257.71     0.0     0.00   \n",
       "5  H0AL02087  2012  11727.82     0.00  16964.09      0.00     0.0     0.00   \n",
       "6  H0AL02087  2014  12132.25     0.00  16866.78      0.00     0.0     0.00   \n",
       "\n",
       "       c7   c8  ...   party  primary_votes  runoff_votes  general_votes  \\\n",
       "1    0.00  0.0  ...       R        24709.0           0.0            0.0   \n",
       "3  583.75  0.0  ...       R        18725.0           0.0            0.0   \n",
       "4   56.58  0.0  ...       R         3854.0           0.0            0.0   \n",
       "5    0.00  0.0  ...       R            0.0           0.0       180591.0   \n",
       "6    0.00  0.0  ...       R            0.0           0.0       113103.0   \n",
       "\n",
       "   ge_runoff_election_votes winner total_votes totalspend  costvote  race  \n",
       "1                       0.0      0     24709.0  169777.74  6.871089     H  \n",
       "3                       0.0      0     18725.0   44377.00  2.369933     H  \n",
       "4                       0.0      0      3854.0   11203.10  2.906876     H  \n",
       "5                       0.0      1    180591.0  694953.98  3.848220     H  \n",
       "6                       0.0      1    113103.0  570473.48  5.043840     H  \n",
       "\n",
       "[5 rows x 28 columns]"
      ]
     },
     "execution_count": 245,
     "metadata": {},
     "output_type": "execute_result"
    }
   ],
   "source": [
    "Gen.head()"
   ]
  },
  {
   "cell_type": "markdown",
   "metadata": {},
   "source": [
    "## Scores for Democrats (blue font unintentional) "
   ]
  },
  {
   "cell_type": "code",
   "execution_count": 248,
   "metadata": {
    "collapsed": true
   },
   "outputs": [],
   "source": [
    "Winner = Gen[Gen['winner'].isin(['1'])]"
   ]
  },
  {
   "cell_type": "code",
   "execution_count": 249,
   "metadata": {
    "collapsed": true
   },
   "outputs": [],
   "source": [
    "Loser = Gen[Gen['winner'].isin(['0'])]"
   ]
  },
  {
   "cell_type": "code",
   "execution_count": 250,
   "metadata": {
    "collapsed": false
   },
   "outputs": [],
   "source": [
    "Dem = Gen[Gen['party'].isin(['D'])]"
   ]
  },
  {
   "cell_type": "code",
   "execution_count": 252,
   "metadata": {
    "collapsed": false
   },
   "outputs": [],
   "source": [
    "DemW = Dem[Dem['winner'].isin(['1'])] #table of Democrats who won\n"
   ]
  },
  {
   "cell_type": "code",
   "execution_count": 253,
   "metadata": {
    "collapsed": false
   },
   "outputs": [],
   "source": [
    "DemWInc = DemW[DemW['incumbent'].isin(['1'])] #table of Democrat Incumbent who won"
   ]
  },
  {
   "cell_type": "code",
   "execution_count": 193,
   "metadata": {
    "collapsed": false
   },
   "outputs": [
    {
     "data": {
      "text/html": [
       "<div>\n",
       "<table border=\"1\" class=\"dataframe\">\n",
       "  <thead>\n",
       "    <tr style=\"text-align: right;\">\n",
       "      <th></th>\n",
       "      <th>count</th>\n",
       "      <th>mean</th>\n",
       "      <th>std</th>\n",
       "      <th>min</th>\n",
       "      <th>25%</th>\n",
       "      <th>50%</th>\n",
       "      <th>75%</th>\n",
       "      <th>max</th>\n",
       "    </tr>\n",
       "  </thead>\n",
       "  <tbody>\n",
       "    <tr>\n",
       "      <th>c1</th>\n",
       "      <td>165.0</td>\n",
       "      <td>1.815879e+05</td>\n",
       "      <td>2.921361e+05</td>\n",
       "      <td>0.0</td>\n",
       "      <td>0.000000e+00</td>\n",
       "      <td>3.063620e+04</td>\n",
       "      <td>2.836497e+05</td>\n",
       "      <td>1.897445e+06</td>\n",
       "    </tr>\n",
       "    <tr>\n",
       "      <th>c2</th>\n",
       "      <td>165.0</td>\n",
       "      <td>5.538201e+03</td>\n",
       "      <td>9.794140e+03</td>\n",
       "      <td>0.0</td>\n",
       "      <td>0.000000e+00</td>\n",
       "      <td>0.000000e+00</td>\n",
       "      <td>6.972830e+03</td>\n",
       "      <td>5.004063e+04</td>\n",
       "    </tr>\n",
       "    <tr>\n",
       "      <th>c3</th>\n",
       "      <td>165.0</td>\n",
       "      <td>3.662263e+04</td>\n",
       "      <td>7.297284e+04</td>\n",
       "      <td>0.0</td>\n",
       "      <td>0.000000e+00</td>\n",
       "      <td>3.874500e+03</td>\n",
       "      <td>4.629797e+04</td>\n",
       "      <td>5.949072e+05</td>\n",
       "    </tr>\n",
       "    <tr>\n",
       "      <th>c4</th>\n",
       "      <td>165.0</td>\n",
       "      <td>2.888834e+05</td>\n",
       "      <td>5.598700e+05</td>\n",
       "      <td>0.0</td>\n",
       "      <td>0.000000e+00</td>\n",
       "      <td>0.000000e+00</td>\n",
       "      <td>2.690044e+05</td>\n",
       "      <td>2.826205e+06</td>\n",
       "    </tr>\n",
       "    <tr>\n",
       "      <th>c5</th>\n",
       "      <td>165.0</td>\n",
       "      <td>2.640633e+04</td>\n",
       "      <td>6.238465e+04</td>\n",
       "      <td>0.0</td>\n",
       "      <td>0.000000e+00</td>\n",
       "      <td>0.000000e+00</td>\n",
       "      <td>3.821250e+04</td>\n",
       "      <td>6.570344e+05</td>\n",
       "    </tr>\n",
       "    <tr>\n",
       "      <th>c6</th>\n",
       "      <td>165.0</td>\n",
       "      <td>5.654358e+04</td>\n",
       "      <td>1.990169e+05</td>\n",
       "      <td>0.0</td>\n",
       "      <td>0.000000e+00</td>\n",
       "      <td>0.000000e+00</td>\n",
       "      <td>4.218268e+04</td>\n",
       "      <td>2.290329e+06</td>\n",
       "    </tr>\n",
       "    <tr>\n",
       "      <th>c7</th>\n",
       "      <td>165.0</td>\n",
       "      <td>5.287069e+03</td>\n",
       "      <td>1.068085e+04</td>\n",
       "      <td>0.0</td>\n",
       "      <td>0.000000e+00</td>\n",
       "      <td>0.000000e+00</td>\n",
       "      <td>5.691860e+03</td>\n",
       "      <td>6.407480e+04</td>\n",
       "    </tr>\n",
       "    <tr>\n",
       "      <th>c8</th>\n",
       "      <td>165.0</td>\n",
       "      <td>6.134182e+02</td>\n",
       "      <td>7.862755e+03</td>\n",
       "      <td>0.0</td>\n",
       "      <td>0.000000e+00</td>\n",
       "      <td>0.000000e+00</td>\n",
       "      <td>0.000000e+00</td>\n",
       "      <td>1.010000e+05</td>\n",
       "    </tr>\n",
       "    <tr>\n",
       "      <th>c9</th>\n",
       "      <td>165.0</td>\n",
       "      <td>1.716952e+02</td>\n",
       "      <td>1.779977e+03</td>\n",
       "      <td>0.0</td>\n",
       "      <td>0.000000e+00</td>\n",
       "      <td>0.000000e+00</td>\n",
       "      <td>0.000000e+00</td>\n",
       "      <td>2.218561e+04</td>\n",
       "    </tr>\n",
       "    <tr>\n",
       "      <th>c10</th>\n",
       "      <td>165.0</td>\n",
       "      <td>1.774302e+02</td>\n",
       "      <td>7.976431e+02</td>\n",
       "      <td>0.0</td>\n",
       "      <td>0.000000e+00</td>\n",
       "      <td>0.000000e+00</td>\n",
       "      <td>0.000000e+00</td>\n",
       "      <td>8.313270e+03</td>\n",
       "    </tr>\n",
       "    <tr>\n",
       "      <th>c11</th>\n",
       "      <td>165.0</td>\n",
       "      <td>1.883124e+03</td>\n",
       "      <td>1.083950e+04</td>\n",
       "      <td>0.0</td>\n",
       "      <td>0.000000e+00</td>\n",
       "      <td>0.000000e+00</td>\n",
       "      <td>0.000000e+00</td>\n",
       "      <td>1.050000e+05</td>\n",
       "    </tr>\n",
       "    <tr>\n",
       "      <th>c12</th>\n",
       "      <td>165.0</td>\n",
       "      <td>2.899845e+02</td>\n",
       "      <td>1.141251e+03</td>\n",
       "      <td>0.0</td>\n",
       "      <td>0.000000e+00</td>\n",
       "      <td>0.000000e+00</td>\n",
       "      <td>0.000000e+00</td>\n",
       "      <td>1.025000e+04</td>\n",
       "    </tr>\n",
       "    <tr>\n",
       "      <th>c13</th>\n",
       "      <td>165.0</td>\n",
       "      <td>1.196552e+06</td>\n",
       "      <td>1.249782e+06</td>\n",
       "      <td>0.0</td>\n",
       "      <td>6.306837e+04</td>\n",
       "      <td>1.019428e+06</td>\n",
       "      <td>1.970232e+06</td>\n",
       "      <td>7.054622e+06</td>\n",
       "    </tr>\n",
       "    <tr>\n",
       "      <th>primary_votes</th>\n",
       "      <td>165.0</td>\n",
       "      <td>2.445190e+04</td>\n",
       "      <td>1.906060e+04</td>\n",
       "      <td>0.0</td>\n",
       "      <td>1.392700e+04</td>\n",
       "      <td>2.085200e+04</td>\n",
       "      <td>3.325500e+04</td>\n",
       "      <td>8.643600e+04</td>\n",
       "    </tr>\n",
       "    <tr>\n",
       "      <th>runoff_votes</th>\n",
       "      <td>165.0</td>\n",
       "      <td>8.282000e+02</td>\n",
       "      <td>4.737804e+03</td>\n",
       "      <td>0.0</td>\n",
       "      <td>0.000000e+00</td>\n",
       "      <td>0.000000e+00</td>\n",
       "      <td>0.000000e+00</td>\n",
       "      <td>4.128100e+04</td>\n",
       "    </tr>\n",
       "    <tr>\n",
       "      <th>general_votes</th>\n",
       "      <td>165.0</td>\n",
       "      <td>1.338076e+05</td>\n",
       "      <td>4.477392e+04</td>\n",
       "      <td>0.0</td>\n",
       "      <td>1.063610e+05</td>\n",
       "      <td>1.319900e+05</td>\n",
       "      <td>1.630360e+05</td>\n",
       "      <td>2.654220e+05</td>\n",
       "    </tr>\n",
       "    <tr>\n",
       "      <th>ge_runoff_election_votes</th>\n",
       "      <td>165.0</td>\n",
       "      <td>3.491576e+02</td>\n",
       "      <td>4.485010e+03</td>\n",
       "      <td>0.0</td>\n",
       "      <td>0.000000e+00</td>\n",
       "      <td>0.000000e+00</td>\n",
       "      <td>0.000000e+00</td>\n",
       "      <td>5.761100e+04</td>\n",
       "    </tr>\n",
       "    <tr>\n",
       "      <th>total_votes</th>\n",
       "      <td>165.0</td>\n",
       "      <td>1.594368e+05</td>\n",
       "      <td>5.424334e+04</td>\n",
       "      <td>5083.0</td>\n",
       "      <td>1.234670e+05</td>\n",
       "      <td>1.571850e+05</td>\n",
       "      <td>1.907040e+05</td>\n",
       "      <td>3.367120e+05</td>\n",
       "    </tr>\n",
       "    <tr>\n",
       "      <th>totalspend</th>\n",
       "      <td>165.0</td>\n",
       "      <td>1.799943e+06</td>\n",
       "      <td>1.143665e+06</td>\n",
       "      <td>0.0</td>\n",
       "      <td>1.019428e+06</td>\n",
       "      <td>1.661778e+06</td>\n",
       "      <td>2.349506e+06</td>\n",
       "      <td>7.054622e+06</td>\n",
       "    </tr>\n",
       "    <tr>\n",
       "      <th>costvote</th>\n",
       "      <td>165.0</td>\n",
       "      <td>1.208739e+01</td>\n",
       "      <td>8.125648e+00</td>\n",
       "      <td>0.0</td>\n",
       "      <td>6.474354e+00</td>\n",
       "      <td>1.027556e+01</td>\n",
       "      <td>1.624768e+01</td>\n",
       "      <td>4.179232e+01</td>\n",
       "    </tr>\n",
       "  </tbody>\n",
       "</table>\n",
       "</div>"
      ],
      "text/plain": [
       "                          count          mean           std     min  \\\n",
       "c1                        165.0  1.815879e+05  2.921361e+05     0.0   \n",
       "c2                        165.0  5.538201e+03  9.794140e+03     0.0   \n",
       "c3                        165.0  3.662263e+04  7.297284e+04     0.0   \n",
       "c4                        165.0  2.888834e+05  5.598700e+05     0.0   \n",
       "c5                        165.0  2.640633e+04  6.238465e+04     0.0   \n",
       "c6                        165.0  5.654358e+04  1.990169e+05     0.0   \n",
       "c7                        165.0  5.287069e+03  1.068085e+04     0.0   \n",
       "c8                        165.0  6.134182e+02  7.862755e+03     0.0   \n",
       "c9                        165.0  1.716952e+02  1.779977e+03     0.0   \n",
       "c10                       165.0  1.774302e+02  7.976431e+02     0.0   \n",
       "c11                       165.0  1.883124e+03  1.083950e+04     0.0   \n",
       "c12                       165.0  2.899845e+02  1.141251e+03     0.0   \n",
       "c13                       165.0  1.196552e+06  1.249782e+06     0.0   \n",
       "primary_votes             165.0  2.445190e+04  1.906060e+04     0.0   \n",
       "runoff_votes              165.0  8.282000e+02  4.737804e+03     0.0   \n",
       "general_votes             165.0  1.338076e+05  4.477392e+04     0.0   \n",
       "ge_runoff_election_votes  165.0  3.491576e+02  4.485010e+03     0.0   \n",
       "total_votes               165.0  1.594368e+05  5.424334e+04  5083.0   \n",
       "totalspend                165.0  1.799943e+06  1.143665e+06     0.0   \n",
       "costvote                  165.0  1.208739e+01  8.125648e+00     0.0   \n",
       "\n",
       "                                   25%           50%           75%  \\\n",
       "c1                        0.000000e+00  3.063620e+04  2.836497e+05   \n",
       "c2                        0.000000e+00  0.000000e+00  6.972830e+03   \n",
       "c3                        0.000000e+00  3.874500e+03  4.629797e+04   \n",
       "c4                        0.000000e+00  0.000000e+00  2.690044e+05   \n",
       "c5                        0.000000e+00  0.000000e+00  3.821250e+04   \n",
       "c6                        0.000000e+00  0.000000e+00  4.218268e+04   \n",
       "c7                        0.000000e+00  0.000000e+00  5.691860e+03   \n",
       "c8                        0.000000e+00  0.000000e+00  0.000000e+00   \n",
       "c9                        0.000000e+00  0.000000e+00  0.000000e+00   \n",
       "c10                       0.000000e+00  0.000000e+00  0.000000e+00   \n",
       "c11                       0.000000e+00  0.000000e+00  0.000000e+00   \n",
       "c12                       0.000000e+00  0.000000e+00  0.000000e+00   \n",
       "c13                       6.306837e+04  1.019428e+06  1.970232e+06   \n",
       "primary_votes             1.392700e+04  2.085200e+04  3.325500e+04   \n",
       "runoff_votes              0.000000e+00  0.000000e+00  0.000000e+00   \n",
       "general_votes             1.063610e+05  1.319900e+05  1.630360e+05   \n",
       "ge_runoff_election_votes  0.000000e+00  0.000000e+00  0.000000e+00   \n",
       "total_votes               1.234670e+05  1.571850e+05  1.907040e+05   \n",
       "totalspend                1.019428e+06  1.661778e+06  2.349506e+06   \n",
       "costvote                  6.474354e+00  1.027556e+01  1.624768e+01   \n",
       "\n",
       "                                   max  \n",
       "c1                        1.897445e+06  \n",
       "c2                        5.004063e+04  \n",
       "c3                        5.949072e+05  \n",
       "c4                        2.826205e+06  \n",
       "c5                        6.570344e+05  \n",
       "c6                        2.290329e+06  \n",
       "c7                        6.407480e+04  \n",
       "c8                        1.010000e+05  \n",
       "c9                        2.218561e+04  \n",
       "c10                       8.313270e+03  \n",
       "c11                       1.050000e+05  \n",
       "c12                       1.025000e+04  \n",
       "c13                       7.054622e+06  \n",
       "primary_votes             8.643600e+04  \n",
       "runoff_votes              4.128100e+04  \n",
       "general_votes             2.654220e+05  \n",
       "ge_runoff_election_votes  5.761100e+04  \n",
       "total_votes               3.367120e+05  \n",
       "totalspend                7.054622e+06  \n",
       "costvote                  4.179232e+01  "
      ]
     },
     "execution_count": 193,
     "metadata": {},
     "output_type": "execute_result"
    }
   ],
   "source": [
    "DemWC = DemW[DemW['incumbent'].isin(['0'])] #table of Democrat challengers who won\n",
    "DemWC.describe().transpose()"
   ]
  },
  {
   "cell_type": "code",
   "execution_count": 254,
   "metadata": {
    "collapsed": false
   },
   "outputs": [],
   "source": [
    "DemL = Dem[Dem['winner'].isin(['0'])] #table of Democrats who lost"
   ]
  },
  {
   "cell_type": "code",
   "execution_count": 255,
   "metadata": {
    "collapsed": false
   },
   "outputs": [],
   "source": [
    "DemLInc = DemL[DemL['incumbent'].isin(['1'])] #table of Democrat Incumbent who lost"
   ]
  },
  {
   "cell_type": "code",
   "execution_count": 256,
   "metadata": {
    "collapsed": false
   },
   "outputs": [],
   "source": [
    "DemLC = DemL[DemL['incumbent'].isin(['0'])] #table of Democrat Incumbent who lost"
   ]
  },
  {
   "cell_type": "code",
   "execution_count": 257,
   "metadata": {
    "collapsed": true
   },
   "outputs": [],
   "source": [
    "Rep = Gen[Gen['party'].isin(['R'])]"
   ]
  },
  {
   "cell_type": "code",
   "execution_count": 258,
   "metadata": {
    "collapsed": false
   },
   "outputs": [],
   "source": [
    "RepW = Rep[Rep['winner'].isin(['1'])]"
   ]
  },
  {
   "cell_type": "code",
   "execution_count": 259,
   "metadata": {
    "collapsed": false
   },
   "outputs": [],
   "source": [
    "RepWInc = RepW[RepW['incumbent'].isin(['1'])]"
   ]
  },
  {
   "cell_type": "code",
   "execution_count": 260,
   "metadata": {
    "collapsed": false
   },
   "outputs": [],
   "source": [
    "RepWC = Rep[Rep['incumbent'].isin(['0'])]"
   ]
  },
  {
   "cell_type": "code",
   "execution_count": 261,
   "metadata": {
    "collapsed": false
   },
   "outputs": [],
   "source": [
    "RepL = Rep[Rep['winner'].isin(['0'])]"
   ]
  },
  {
   "cell_type": "code",
   "execution_count": 262,
   "metadata": {
    "collapsed": false
   },
   "outputs": [],
   "source": [
    "RepLInc = RepL[RepL['incumbent'].isin(['1'])]"
   ]
  },
  {
   "cell_type": "code",
   "execution_count": 263,
   "metadata": {
    "collapsed": false
   },
   "outputs": [],
   "source": [
    "RepLC = RepL[RepL['incumbent'].isin(['0'])]"
   ]
  },
  {
   "cell_type": "code",
   "execution_count": 264,
   "metadata": {
    "collapsed": false
   },
   "outputs": [
    {
     "data": {
      "text/plain": [
       "215183428.0"
      ]
     },
     "execution_count": 264,
     "metadata": {},
     "output_type": "execute_result"
    }
   ],
   "source": [
    "DemW['total_votes'].sum()"
   ]
  },
  {
   "cell_type": "code",
   "execution_count": 265,
   "metadata": {
    "collapsed": false
   },
   "outputs": [
    {
     "data": {
      "text/html": [
       "<table class=\"simpletable\">\n",
       "<caption>OLS Regression Results</caption>\n",
       "<tr>\n",
       "  <th>Dep. Variable:</th>       <td>total_votes</td>   <th>  R-squared:         </th> <td>   0.004</td> \n",
       "</tr>\n",
       "<tr>\n",
       "  <th>Model:</th>                   <td>OLS</td>       <th>  Adj. R-squared:    </th> <td>   0.003</td> \n",
       "</tr>\n",
       "<tr>\n",
       "  <th>Method:</th>             <td>Least Squares</td>  <th>  F-statistic:       </th> <td>   9.109</td> \n",
       "</tr>\n",
       "<tr>\n",
       "  <th>Date:</th>             <td>Fri, 08 Sep 2017</td> <th>  Prob (F-statistic):</th>  <td>0.00257</td> \n",
       "</tr>\n",
       "<tr>\n",
       "  <th>Time:</th>                 <td>22:31:01</td>     <th>  Log-Likelihood:    </th> <td> -30768.</td> \n",
       "</tr>\n",
       "<tr>\n",
       "  <th>No. Observations:</th>      <td>  2469</td>      <th>  AIC:               </th> <td>6.154e+04</td>\n",
       "</tr>\n",
       "<tr>\n",
       "  <th>Df Residuals:</th>          <td>  2467</td>      <th>  BIC:               </th> <td>6.155e+04</td>\n",
       "</tr>\n",
       "<tr>\n",
       "  <th>Df Model:</th>              <td>     1</td>      <th>                     </th>     <td> </td>    \n",
       "</tr>\n",
       "<tr>\n",
       "  <th>Covariance Type:</th>      <td>nonrobust</td>    <th>                     </th>     <td> </td>    \n",
       "</tr>\n",
       "</table>\n",
       "<table class=\"simpletable\">\n",
       "<tr>\n",
       "       <td></td>         <th>coef</th>     <th>std err</th>      <th>t</th>      <th>P>|t|</th> <th>[95.0% Conf. Int.]</th> \n",
       "</tr>\n",
       "<tr>\n",
       "  <th>Intercept</th>  <td> 1.885e+05</td> <td> 1861.919</td> <td>  101.222</td> <td> 0.000</td> <td> 1.85e+05  1.92e+05</td>\n",
       "</tr>\n",
       "<tr>\n",
       "  <th>totalspend</th> <td>   -0.0037</td> <td>    0.001</td> <td>   -3.018</td> <td> 0.003</td> <td>   -0.006    -0.001</td>\n",
       "</tr>\n",
       "</table>\n",
       "<table class=\"simpletable\">\n",
       "<tr>\n",
       "  <th>Omnibus:</th>       <td>17.352</td> <th>  Durbin-Watson:     </th> <td>   1.474</td>\n",
       "</tr>\n",
       "<tr>\n",
       "  <th>Prob(Omnibus):</th> <td> 0.000</td> <th>  Jarque-Bera (JB):  </th> <td>  20.243</td>\n",
       "</tr>\n",
       "<tr>\n",
       "  <th>Skew:</th>          <td> 0.136</td> <th>  Prob(JB):          </th> <td>4.02e-05</td>\n",
       "</tr>\n",
       "<tr>\n",
       "  <th>Kurtosis:</th>      <td> 3.351</td> <th>  Cond. No.          </th> <td>2.27e+06</td>\n",
       "</tr>\n",
       "</table>"
      ],
      "text/plain": [
       "<class 'statsmodels.iolib.summary.Summary'>\n",
       "\"\"\"\n",
       "                            OLS Regression Results                            \n",
       "==============================================================================\n",
       "Dep. Variable:            total_votes   R-squared:                       0.004\n",
       "Model:                            OLS   Adj. R-squared:                  0.003\n",
       "Method:                 Least Squares   F-statistic:                     9.109\n",
       "Date:                Fri, 08 Sep 2017   Prob (F-statistic):            0.00257\n",
       "Time:                        22:31:01   Log-Likelihood:                -30768.\n",
       "No. Observations:                2469   AIC:                         6.154e+04\n",
       "Df Residuals:                    2467   BIC:                         6.155e+04\n",
       "Df Model:                           1                                         \n",
       "Covariance Type:            nonrobust                                         \n",
       "==============================================================================\n",
       "                 coef    std err          t      P>|t|      [95.0% Conf. Int.]\n",
       "------------------------------------------------------------------------------\n",
       "Intercept   1.885e+05   1861.919    101.222      0.000      1.85e+05  1.92e+05\n",
       "totalspend    -0.0037      0.001     -3.018      0.003        -0.006    -0.001\n",
       "==============================================================================\n",
       "Omnibus:                       17.352   Durbin-Watson:                   1.474\n",
       "Prob(Omnibus):                  0.000   Jarque-Bera (JB):               20.243\n",
       "Skew:                           0.136   Prob(JB):                     4.02e-05\n",
       "Kurtosis:                       3.351   Cond. No.                     2.27e+06\n",
       "==============================================================================\n",
       "\n",
       "Warnings:\n",
       "[1] Standard Errors assume that the covariance matrix of the errors is correctly specified.\n",
       "[2] The condition number is large, 2.27e+06. This might indicate that there are\n",
       "strong multicollinearity or other numerical problems.\n",
       "\"\"\""
      ]
     },
     "execution_count": 265,
     "metadata": {},
     "output_type": "execute_result"
    }
   ],
   "source": [
    "formula = 'total_votes ~ totalspend'\n",
    "model = smf.ols(formula, data=Winner)\n",
    "results = model.fit()\n",
    "results.summary()"
   ]
  },
  {
   "cell_type": "code",
   "execution_count": 266,
   "metadata": {
    "collapsed": false
   },
   "outputs": [
    {
     "data": {
      "text/html": [
       "<table class=\"simpletable\">\n",
       "<caption>OLS Regression Results</caption>\n",
       "<tr>\n",
       "  <th>Dep. Variable:</th>       <td>total_votes</td>   <th>  R-squared:         </th> <td>   0.190</td> \n",
       "</tr>\n",
       "<tr>\n",
       "  <th>Model:</th>                   <td>OLS</td>       <th>  Adj. R-squared:    </th> <td>   0.190</td> \n",
       "</tr>\n",
       "<tr>\n",
       "  <th>Method:</th>             <td>Least Squares</td>  <th>  F-statistic:       </th> <td>   1445.</td> \n",
       "</tr>\n",
       "<tr>\n",
       "  <th>Date:</th>             <td>Fri, 08 Sep 2017</td> <th>  Prob (F-statistic):</th> <td>2.23e-284</td>\n",
       "</tr>\n",
       "<tr>\n",
       "  <th>Time:</th>                 <td>22:31:03</td>     <th>  Log-Likelihood:    </th> <td> -75201.</td> \n",
       "</tr>\n",
       "<tr>\n",
       "  <th>No. Observations:</th>      <td>  6176</td>      <th>  AIC:               </th> <td>1.504e+05</td>\n",
       "</tr>\n",
       "<tr>\n",
       "  <th>Df Residuals:</th>          <td>  6174</td>      <th>  BIC:               </th> <td>1.504e+05</td>\n",
       "</tr>\n",
       "<tr>\n",
       "  <th>Df Model:</th>              <td>     1</td>      <th>                     </th>     <td> </td>    \n",
       "</tr>\n",
       "<tr>\n",
       "  <th>Covariance Type:</th>      <td>nonrobust</td>    <th>                     </th>     <td> </td>    \n",
       "</tr>\n",
       "</table>\n",
       "<table class=\"simpletable\">\n",
       "<tr>\n",
       "       <td></td>         <th>coef</th>     <th>std err</th>      <th>t</th>      <th>P>|t|</th> <th>[95.0% Conf. Int.]</th> \n",
       "</tr>\n",
       "<tr>\n",
       "  <th>Intercept</th>  <td> 3.365e+04</td> <td>  648.139</td> <td>   51.924</td> <td> 0.000</td> <td> 3.24e+04  3.49e+04</td>\n",
       "</tr>\n",
       "<tr>\n",
       "  <th>totalspend</th> <td>    0.0329</td> <td>    0.001</td> <td>   38.019</td> <td> 0.000</td> <td>    0.031     0.035</td>\n",
       "</tr>\n",
       "</table>\n",
       "<table class=\"simpletable\">\n",
       "<tr>\n",
       "  <th>Omnibus:</th>       <td>931.588</td> <th>  Durbin-Watson:     </th> <td>   1.616</td>\n",
       "</tr>\n",
       "<tr>\n",
       "  <th>Prob(Omnibus):</th> <td> 0.000</td>  <th>  Jarque-Bera (JB):  </th> <td>1630.083</td>\n",
       "</tr>\n",
       "<tr>\n",
       "  <th>Skew:</th>          <td> 0.982</td>  <th>  Prob(JB):          </th> <td>    0.00</td>\n",
       "</tr>\n",
       "<tr>\n",
       "  <th>Kurtosis:</th>      <td> 4.573</td>  <th>  Cond. No.          </th> <td>8.13e+05</td>\n",
       "</tr>\n",
       "</table>"
      ],
      "text/plain": [
       "<class 'statsmodels.iolib.summary.Summary'>\n",
       "\"\"\"\n",
       "                            OLS Regression Results                            \n",
       "==============================================================================\n",
       "Dep. Variable:            total_votes   R-squared:                       0.190\n",
       "Model:                            OLS   Adj. R-squared:                  0.190\n",
       "Method:                 Least Squares   F-statistic:                     1445.\n",
       "Date:                Fri, 08 Sep 2017   Prob (F-statistic):          2.23e-284\n",
       "Time:                        22:31:03   Log-Likelihood:                -75201.\n",
       "No. Observations:                6176   AIC:                         1.504e+05\n",
       "Df Residuals:                    6174   BIC:                         1.504e+05\n",
       "Df Model:                           1                                         \n",
       "Covariance Type:            nonrobust                                         \n",
       "==============================================================================\n",
       "                 coef    std err          t      P>|t|      [95.0% Conf. Int.]\n",
       "------------------------------------------------------------------------------\n",
       "Intercept   3.365e+04    648.139     51.924      0.000      3.24e+04  3.49e+04\n",
       "totalspend     0.0329      0.001     38.019      0.000         0.031     0.035\n",
       "==============================================================================\n",
       "Omnibus:                      931.588   Durbin-Watson:                   1.616\n",
       "Prob(Omnibus):                  0.000   Jarque-Bera (JB):             1630.083\n",
       "Skew:                           0.982   Prob(JB):                         0.00\n",
       "Kurtosis:                       4.573   Cond. No.                     8.13e+05\n",
       "==============================================================================\n",
       "\n",
       "Warnings:\n",
       "[1] Standard Errors assume that the covariance matrix of the errors is correctly specified.\n",
       "[2] The condition number is large, 8.13e+05. This might indicate that there are\n",
       "strong multicollinearity or other numerical problems.\n",
       "\"\"\""
      ]
     },
     "execution_count": 266,
     "metadata": {},
     "output_type": "execute_result"
    }
   ],
   "source": [
    "formula = 'total_votes ~ totalspend'\n",
    "model = smf.ols(formula, data=Loser)\n",
    "results = model.fit()\n",
    "results.summary()"
   ]
  },
  {
   "cell_type": "code",
   "execution_count": 267,
   "metadata": {
    "collapsed": false
   },
   "outputs": [
    {
     "data": {
      "text/html": [
       "<table class=\"simpletable\">\n",
       "<caption>OLS Regression Results</caption>\n",
       "<tr>\n",
       "  <th>Dep. Variable:</th>       <td>total_votes</td>   <th>  R-squared:         </th> <td>   0.011</td> \n",
       "</tr>\n",
       "<tr>\n",
       "  <th>Model:</th>                   <td>OLS</td>       <th>  Adj. R-squared:    </th> <td>   0.000</td> \n",
       "</tr>\n",
       "<tr>\n",
       "  <th>Method:</th>             <td>Least Squares</td>  <th>  F-statistic:       </th> <td>   1.006</td> \n",
       "</tr>\n",
       "<tr>\n",
       "  <th>Date:</th>             <td>Fri, 08 Sep 2017</td> <th>  Prob (F-statistic):</th>  <td> 0.443</td>  \n",
       "</tr>\n",
       "<tr>\n",
       "  <th>Time:</th>                 <td>22:31:06</td>     <th>  Log-Likelihood:    </th> <td> -15029.</td> \n",
       "</tr>\n",
       "<tr>\n",
       "  <th>No. Observations:</th>      <td>  1195</td>      <th>  AIC:               </th> <td>3.009e+04</td>\n",
       "</tr>\n",
       "<tr>\n",
       "  <th>Df Residuals:</th>          <td>  1181</td>      <th>  BIC:               </th> <td>3.016e+04</td>\n",
       "</tr>\n",
       "<tr>\n",
       "  <th>Df Model:</th>              <td>    13</td>      <th>                     </th>     <td> </td>    \n",
       "</tr>\n",
       "<tr>\n",
       "  <th>Covariance Type:</th>      <td>nonrobust</td>    <th>                     </th>     <td> </td>    \n",
       "</tr>\n",
       "</table>\n",
       "<table class=\"simpletable\">\n",
       "<tr>\n",
       "      <td></td>         <th>coef</th>     <th>std err</th>      <th>t</th>      <th>P>|t|</th> <th>[95.0% Conf. Int.]</th> \n",
       "</tr>\n",
       "<tr>\n",
       "  <th>Intercept</th> <td> 1.869e+05</td> <td> 3354.502</td> <td>   55.715</td> <td> 0.000</td> <td>  1.8e+05  1.93e+05</td>\n",
       "</tr>\n",
       "<tr>\n",
       "  <th>c1</th>        <td>   -0.0053</td> <td>    0.014</td> <td>   -0.376</td> <td> 0.707</td> <td>   -0.033     0.022</td>\n",
       "</tr>\n",
       "<tr>\n",
       "  <th>c2</th>        <td>   -0.0437</td> <td>    0.160</td> <td>   -0.273</td> <td> 0.785</td> <td>   -0.357     0.270</td>\n",
       "</tr>\n",
       "<tr>\n",
       "  <th>c3</th>        <td>   -0.0240</td> <td>    0.031</td> <td>   -0.782</td> <td> 0.435</td> <td>   -0.084     0.036</td>\n",
       "</tr>\n",
       "<tr>\n",
       "  <th>c4</th>        <td>   -0.0109</td> <td>    0.010</td> <td>   -1.095</td> <td> 0.274</td> <td>   -0.030     0.009</td>\n",
       "</tr>\n",
       "<tr>\n",
       "  <th>c5</th>        <td>    0.0215</td> <td>    0.099</td> <td>    0.218</td> <td> 0.828</td> <td>   -0.172     0.215</td>\n",
       "</tr>\n",
       "<tr>\n",
       "  <th>c6</th>        <td>   -0.0268</td> <td>    0.027</td> <td>   -0.997</td> <td> 0.319</td> <td>   -0.080     0.026</td>\n",
       "</tr>\n",
       "<tr>\n",
       "  <th>c7</th>        <td>   -0.0341</td> <td>    0.067</td> <td>   -0.511</td> <td> 0.610</td> <td>   -0.165     0.097</td>\n",
       "</tr>\n",
       "<tr>\n",
       "  <th>c8</th>        <td>    0.1679</td> <td>    0.337</td> <td>    0.498</td> <td> 0.619</td> <td>   -0.494     0.830</td>\n",
       "</tr>\n",
       "<tr>\n",
       "  <th>c9</th>        <td>   -1.8272</td> <td>    1.249</td> <td>   -1.463</td> <td> 0.144</td> <td>   -4.278     0.624</td>\n",
       "</tr>\n",
       "<tr>\n",
       "  <th>c10</th>       <td>   -1.1632</td> <td>    4.650</td> <td>   -0.250</td> <td> 0.803</td> <td>  -10.287     7.960</td>\n",
       "</tr>\n",
       "<tr>\n",
       "  <th>c11</th>       <td>    0.1030</td> <td>    0.155</td> <td>    0.664</td> <td> 0.507</td> <td>   -0.202     0.408</td>\n",
       "</tr>\n",
       "<tr>\n",
       "  <th>c12</th>       <td>   -0.0771</td> <td>    0.360</td> <td>   -0.214</td> <td> 0.830</td> <td>   -0.783     0.629</td>\n",
       "</tr>\n",
       "<tr>\n",
       "  <th>c13</th>       <td>   -0.0046</td> <td>    0.003</td> <td>   -1.813</td> <td> 0.070</td> <td>   -0.009     0.000</td>\n",
       "</tr>\n",
       "</table>\n",
       "<table class=\"simpletable\">\n",
       "<tr>\n",
       "  <th>Omnibus:</th>       <td> 8.201</td> <th>  Durbin-Watson:     </th> <td>   1.403</td>\n",
       "</tr>\n",
       "<tr>\n",
       "  <th>Prob(Omnibus):</th> <td> 0.017</td> <th>  Jarque-Bera (JB):  </th> <td>   8.165</td>\n",
       "</tr>\n",
       "<tr>\n",
       "  <th>Skew:</th>          <td> 0.200</td> <th>  Prob(JB):          </th> <td>  0.0169</td>\n",
       "</tr>\n",
       "<tr>\n",
       "  <th>Kurtosis:</th>      <td> 3.061</td> <th>  Cond. No.          </th> <td>1.92e+06</td>\n",
       "</tr>\n",
       "</table>"
      ],
      "text/plain": [
       "<class 'statsmodels.iolib.summary.Summary'>\n",
       "\"\"\"\n",
       "                            OLS Regression Results                            \n",
       "==============================================================================\n",
       "Dep. Variable:            total_votes   R-squared:                       0.011\n",
       "Model:                            OLS   Adj. R-squared:                  0.000\n",
       "Method:                 Least Squares   F-statistic:                     1.006\n",
       "Date:                Fri, 08 Sep 2017   Prob (F-statistic):              0.443\n",
       "Time:                        22:31:06   Log-Likelihood:                -15029.\n",
       "No. Observations:                1195   AIC:                         3.009e+04\n",
       "Df Residuals:                    1181   BIC:                         3.016e+04\n",
       "Df Model:                          13                                         \n",
       "Covariance Type:            nonrobust                                         \n",
       "==============================================================================\n",
       "                 coef    std err          t      P>|t|      [95.0% Conf. Int.]\n",
       "------------------------------------------------------------------------------\n",
       "Intercept   1.869e+05   3354.502     55.715      0.000       1.8e+05  1.93e+05\n",
       "c1            -0.0053      0.014     -0.376      0.707        -0.033     0.022\n",
       "c2            -0.0437      0.160     -0.273      0.785        -0.357     0.270\n",
       "c3            -0.0240      0.031     -0.782      0.435        -0.084     0.036\n",
       "c4            -0.0109      0.010     -1.095      0.274        -0.030     0.009\n",
       "c5             0.0215      0.099      0.218      0.828        -0.172     0.215\n",
       "c6            -0.0268      0.027     -0.997      0.319        -0.080     0.026\n",
       "c7            -0.0341      0.067     -0.511      0.610        -0.165     0.097\n",
       "c8             0.1679      0.337      0.498      0.619        -0.494     0.830\n",
       "c9            -1.8272      1.249     -1.463      0.144        -4.278     0.624\n",
       "c10           -1.1632      4.650     -0.250      0.803       -10.287     7.960\n",
       "c11            0.1030      0.155      0.664      0.507        -0.202     0.408\n",
       "c12           -0.0771      0.360     -0.214      0.830        -0.783     0.629\n",
       "c13           -0.0046      0.003     -1.813      0.070        -0.009     0.000\n",
       "==============================================================================\n",
       "Omnibus:                        8.201   Durbin-Watson:                   1.403\n",
       "Prob(Omnibus):                  0.017   Jarque-Bera (JB):                8.165\n",
       "Skew:                           0.200   Prob(JB):                       0.0169\n",
       "Kurtosis:                       3.061   Cond. No.                     1.92e+06\n",
       "==============================================================================\n",
       "\n",
       "Warnings:\n",
       "[1] Standard Errors assume that the covariance matrix of the errors is correctly specified.\n",
       "[2] The condition number is large, 1.92e+06. This might indicate that there are\n",
       "strong multicollinearity or other numerical problems.\n",
       "\"\"\""
      ]
     },
     "execution_count": 267,
     "metadata": {},
     "output_type": "execute_result"
    }
   ],
   "source": [
    "formula = 'total_votes ~ c1+c2+c3+c4+c5+c6+c7+c8+c9+c10+c11+c12+c13'\n",
    "model = smf.ols(formula, data=DemW)\n",
    "results = model.fit()\n",
    "results.summary()"
   ]
  },
  {
   "cell_type": "code",
   "execution_count": 269,
   "metadata": {
    "collapsed": false
   },
   "outputs": [
    {
     "data": {
      "text/html": [
       "<table class=\"simpletable\">\n",
       "<caption>OLS Regression Results</caption>\n",
       "<tr>\n",
       "  <th>Dep. Variable:</th>       <td>total_votes</td>   <th>  R-squared:         </th> <td>   0.209</td> \n",
       "</tr>\n",
       "<tr>\n",
       "  <th>Model:</th>                   <td>OLS</td>       <th>  Adj. R-squared:    </th> <td>   0.208</td> \n",
       "</tr>\n",
       "<tr>\n",
       "  <th>Method:</th>             <td>Least Squares</td>  <th>  F-statistic:       </th> <td>   148.3</td> \n",
       "</tr>\n",
       "<tr>\n",
       "  <th>Date:</th>             <td>Fri, 08 Sep 2017</td> <th>  Prob (F-statistic):</th> <td>4.55e-304</td>\n",
       "</tr>\n",
       "<tr>\n",
       "  <th>Time:</th>                 <td>22:31:20</td>     <th>  Log-Likelihood:    </th> <td> -75126.</td> \n",
       "</tr>\n",
       "<tr>\n",
       "  <th>No. Observations:</th>      <td>  6176</td>      <th>  AIC:               </th> <td>1.503e+05</td>\n",
       "</tr>\n",
       "<tr>\n",
       "  <th>Df Residuals:</th>          <td>  6164</td>      <th>  BIC:               </th> <td>1.504e+05</td>\n",
       "</tr>\n",
       "<tr>\n",
       "  <th>Df Model:</th>              <td>    11</td>      <th>                     </th>     <td> </td>    \n",
       "</tr>\n",
       "<tr>\n",
       "  <th>Covariance Type:</th>      <td>nonrobust</td>    <th>                     </th>     <td> </td>    \n",
       "</tr>\n",
       "</table>\n",
       "<table class=\"simpletable\">\n",
       "<tr>\n",
       "      <td></td>         <th>coef</th>     <th>std err</th>      <th>t</th>      <th>P>|t|</th> <th>[95.0% Conf. Int.]</th> \n",
       "</tr>\n",
       "<tr>\n",
       "  <th>Intercept</th> <td> 3.263e+04</td> <td>  649.464</td> <td>   50.237</td> <td> 0.000</td> <td> 3.14e+04  3.39e+04</td>\n",
       "</tr>\n",
       "<tr>\n",
       "  <th>c1</th>        <td>    0.0367</td> <td>    0.004</td> <td>    9.290</td> <td> 0.000</td> <td>    0.029     0.044</td>\n",
       "</tr>\n",
       "<tr>\n",
       "  <th>c2</th>        <td>    0.6490</td> <td>    0.100</td> <td>    6.476</td> <td> 0.000</td> <td>    0.453     0.845</td>\n",
       "</tr>\n",
       "<tr>\n",
       "  <th>c3</th>        <td>   -0.0017</td> <td>    0.005</td> <td>   -0.312</td> <td> 0.755</td> <td>   -0.012     0.009</td>\n",
       "</tr>\n",
       "<tr>\n",
       "  <th>c4</th>        <td>    0.0049</td> <td>    0.004</td> <td>    1.180</td> <td> 0.238</td> <td>   -0.003     0.013</td>\n",
       "</tr>\n",
       "<tr>\n",
       "  <th>c5</th>        <td>    0.3914</td> <td>    0.069</td> <td>    5.692</td> <td> 0.000</td> <td>    0.257     0.526</td>\n",
       "</tr>\n",
       "<tr>\n",
       "  <th>c6</th>        <td>    0.0273</td> <td>    0.016</td> <td>    1.674</td> <td> 0.094</td> <td>   -0.005     0.059</td>\n",
       "</tr>\n",
       "<tr>\n",
       "  <th>c7</th>        <td>    0.0985</td> <td>    0.077</td> <td>    1.272</td> <td> 0.204</td> <td>   -0.053     0.250</td>\n",
       "</tr>\n",
       "<tr>\n",
       "  <th>c8</th>        <td>   -0.7950</td> <td>    1.459</td> <td>   -0.545</td> <td> 0.586</td> <td>   -3.654     2.064</td>\n",
       "</tr>\n",
       "<tr>\n",
       "  <th>c9</th>        <td>   -0.5926</td> <td>    0.765</td> <td>   -0.775</td> <td> 0.438</td> <td>   -2.092     0.907</td>\n",
       "</tr>\n",
       "<tr>\n",
       "  <th>c12</th>       <td>    0.0599</td> <td>    0.346</td> <td>    0.173</td> <td> 0.862</td> <td>   -0.618     0.738</td>\n",
       "</tr>\n",
       "<tr>\n",
       "  <th>c13</th>       <td>    0.0372</td> <td>    0.001</td> <td>   31.697</td> <td> 0.000</td> <td>    0.035     0.039</td>\n",
       "</tr>\n",
       "</table>\n",
       "<table class=\"simpletable\">\n",
       "<tr>\n",
       "  <th>Omnibus:</th>       <td>907.204</td> <th>  Durbin-Watson:     </th> <td>   1.624</td> \n",
       "</tr>\n",
       "<tr>\n",
       "  <th>Prob(Omnibus):</th> <td> 0.000</td>  <th>  Jarque-Bera (JB):  </th> <td>1413.943</td> \n",
       "</tr>\n",
       "<tr>\n",
       "  <th>Skew:</th>          <td> 1.031</td>  <th>  Prob(JB):          </th> <td>9.25e-308</td>\n",
       "</tr>\n",
       "<tr>\n",
       "  <th>Kurtosis:</th>      <td> 4.117</td>  <th>  Cond. No.          </th> <td>5.80e+05</td> \n",
       "</tr>\n",
       "</table>"
      ],
      "text/plain": [
       "<class 'statsmodels.iolib.summary.Summary'>\n",
       "\"\"\"\n",
       "                            OLS Regression Results                            \n",
       "==============================================================================\n",
       "Dep. Variable:            total_votes   R-squared:                       0.209\n",
       "Model:                            OLS   Adj. R-squared:                  0.208\n",
       "Method:                 Least Squares   F-statistic:                     148.3\n",
       "Date:                Fri, 08 Sep 2017   Prob (F-statistic):          4.55e-304\n",
       "Time:                        22:31:20   Log-Likelihood:                -75126.\n",
       "No. Observations:                6176   AIC:                         1.503e+05\n",
       "Df Residuals:                    6164   BIC:                         1.504e+05\n",
       "Df Model:                          11                                         \n",
       "Covariance Type:            nonrobust                                         \n",
       "==============================================================================\n",
       "                 coef    std err          t      P>|t|      [95.0% Conf. Int.]\n",
       "------------------------------------------------------------------------------\n",
       "Intercept   3.263e+04    649.464     50.237      0.000      3.14e+04  3.39e+04\n",
       "c1             0.0367      0.004      9.290      0.000         0.029     0.044\n",
       "c2             0.6490      0.100      6.476      0.000         0.453     0.845\n",
       "c3            -0.0017      0.005     -0.312      0.755        -0.012     0.009\n",
       "c4             0.0049      0.004      1.180      0.238        -0.003     0.013\n",
       "c5             0.3914      0.069      5.692      0.000         0.257     0.526\n",
       "c6             0.0273      0.016      1.674      0.094        -0.005     0.059\n",
       "c7             0.0985      0.077      1.272      0.204        -0.053     0.250\n",
       "c8            -0.7950      1.459     -0.545      0.586        -3.654     2.064\n",
       "c9            -0.5926      0.765     -0.775      0.438        -2.092     0.907\n",
       "c12            0.0599      0.346      0.173      0.862        -0.618     0.738\n",
       "c13            0.0372      0.001     31.697      0.000         0.035     0.039\n",
       "==============================================================================\n",
       "Omnibus:                      907.204   Durbin-Watson:                   1.624\n",
       "Prob(Omnibus):                  0.000   Jarque-Bera (JB):             1413.943\n",
       "Skew:                           1.031   Prob(JB):                    9.25e-308\n",
       "Kurtosis:                       4.117   Cond. No.                     5.80e+05\n",
       "==============================================================================\n",
       "\n",
       "Warnings:\n",
       "[1] Standard Errors assume that the covariance matrix of the errors is correctly specified.\n",
       "[2] The condition number is large, 5.8e+05. This might indicate that there are\n",
       "strong multicollinearity or other numerical problems.\n",
       "\"\"\""
      ]
     },
     "execution_count": 269,
     "metadata": {},
     "output_type": "execute_result"
    }
   ],
   "source": [
    "formula = 'total_votes ~ c1+c2+c3+c4+c5+c6+c7+c8+c9+c12+c13'\n",
    "model = smf.ols(formula, data=Loser)\n",
    "results = model.fit()\n",
    "results.summary()"
   ]
  },
  {
   "cell_type": "markdown",
   "metadata": {},
   "source": [
    "Simple Regression for Winners and Losers"
   ]
  },
  {
   "cell_type": "code",
   "execution_count": 270,
   "metadata": {
    "collapsed": false
   },
   "outputs": [
    {
     "name": "stdout",
     "output_type": "stream",
     "text": [
      "                            OLS Regression Results                            \n",
      "==============================================================================\n",
      "Dep. Variable:            total_votes   R-squared:                       0.004\n",
      "Model:                            OLS   Adj. R-squared:                  0.003\n",
      "Method:                 Least Squares   F-statistic:                     9.109\n",
      "Date:                Fri, 08 Sep 2017   Prob (F-statistic):            0.00257\n",
      "Time:                        22:31:26   Log-Likelihood:                -30768.\n",
      "No. Observations:                2469   AIC:                         6.154e+04\n",
      "Df Residuals:                    2467   BIC:                         6.155e+04\n",
      "Df Model:                           1                                         \n",
      "Covariance Type:            nonrobust                                         \n",
      "==============================================================================\n",
      "                 coef    std err          t      P>|t|      [95.0% Conf. Int.]\n",
      "------------------------------------------------------------------------------\n",
      "const       1.885e+05   1861.919    101.222      0.000      1.85e+05  1.92e+05\n",
      "x1            -0.0037      0.001     -3.018      0.003        -0.006    -0.001\n",
      "==============================================================================\n",
      "Omnibus:                       17.352   Durbin-Watson:                   1.474\n",
      "Prob(Omnibus):                  0.000   Jarque-Bera (JB):               20.243\n",
      "Skew:                           0.136   Prob(JB):                     4.02e-05\n",
      "Kurtosis:                       3.351   Cond. No.                     2.27e+06\n",
      "==============================================================================\n",
      "\n",
      "Warnings:\n",
      "[1] Standard Errors assume that the covariance matrix of the errors is correctly specified.\n",
      "[2] The condition number is large, 2.27e+06. This might indicate that there are\n",
      "strong multicollinearity or other numerical problems.\n"
     ]
    }
   ],
   "source": [
    "Total_VoteW = Winner['total_votes']\n",
    "Total_SpendW = Winner['totalspend']\n",
    "\n",
    "def reg_m(Total_VoteW,Total_SpendW):\n",
    "    Total_SpendW=np.array(Total_SpendW).T\n",
    "    Total_SpendW=sm.add_constant(Total_SpendW)\n",
    "    model=sm.OLS(endog=Total_VoteW,exog=Total_SpendW)\n",
    "    results=model.fit()\n",
    "    return results\n",
    "\n",
    "print (reg_m(Total_VoteW,Total_SpendW).summary())"
   ]
  },
  {
   "cell_type": "code",
   "execution_count": 272,
   "metadata": {
    "collapsed": false
   },
   "outputs": [
    {
     "name": "stdout",
     "output_type": "stream",
     "text": [
      "                            OLS Regression Results                            \n",
      "==============================================================================\n",
      "Dep. Variable:            total_votes   R-squared:                       0.190\n",
      "Model:                            OLS   Adj. R-squared:                  0.190\n",
      "Method:                 Least Squares   F-statistic:                     1445.\n",
      "Date:                Fri, 08 Sep 2017   Prob (F-statistic):          2.23e-284\n",
      "Time:                        22:31:33   Log-Likelihood:                -75201.\n",
      "No. Observations:                6176   AIC:                         1.504e+05\n",
      "Df Residuals:                    6174   BIC:                         1.504e+05\n",
      "Df Model:                           1                                         \n",
      "Covariance Type:            nonrobust                                         \n",
      "==============================================================================\n",
      "                 coef    std err          t      P>|t|      [95.0% Conf. Int.]\n",
      "------------------------------------------------------------------------------\n",
      "const       3.365e+04    648.139     51.924      0.000      3.24e+04  3.49e+04\n",
      "x1             0.0329      0.001     38.019      0.000         0.031     0.035\n",
      "==============================================================================\n",
      "Omnibus:                      931.588   Durbin-Watson:                   1.616\n",
      "Prob(Omnibus):                  0.000   Jarque-Bera (JB):             1630.083\n",
      "Skew:                           0.982   Prob(JB):                         0.00\n",
      "Kurtosis:                       4.573   Cond. No.                     8.13e+05\n",
      "==============================================================================\n",
      "\n",
      "Warnings:\n",
      "[1] Standard Errors assume that the covariance matrix of the errors is correctly specified.\n",
      "[2] The condition number is large, 8.13e+05. This might indicate that there are\n",
      "strong multicollinearity or other numerical problems.\n"
     ]
    }
   ],
   "source": [
    "Total_VoteL = Loser['total_votes']\n",
    "Total_SpendL = Loser['totalspend']\n",
    "\n",
    "def reg_m(Total_VoteL,Total_SpendL):\n",
    "    Total_SpendL=np.array(Total_SpendL).T\n",
    "    Total_SpendL=sm.add_constant(Total_SpendL)\n",
    "    model=sm.OLS(endog=Total_VoteL,exog=Total_SpendL)\n",
    "    results=model.fit()\n",
    "    return results\n",
    "\n",
    "print (reg_m(Total_VoteL,Total_SpendL).summary())"
   ]
  },
  {
   "cell_type": "markdown",
   "metadata": {},
   "source": [
    "Simple Regression for Democrats and Republicans who won the General Election"
   ]
  },
  {
   "cell_type": "code",
   "execution_count": 273,
   "metadata": {
    "collapsed": false
   },
   "outputs": [
    {
     "name": "stdout",
     "output_type": "stream",
     "text": [
      "                            OLS Regression Results                            \n",
      "==============================================================================\n",
      "Dep. Variable:            total_votes   R-squared:                       0.005\n",
      "Model:                            OLS   Adj. R-squared:                  0.004\n",
      "Method:                 Least Squares   F-statistic:                     6.282\n",
      "Date:                Fri, 08 Sep 2017   Prob (F-statistic):             0.0123\n",
      "Time:                        22:31:38   Log-Likelihood:                -15033.\n",
      "No. Observations:                1195   AIC:                         3.007e+04\n",
      "Df Residuals:                    1193   BIC:                         3.008e+04\n",
      "Df Model:                           1                                         \n",
      "Covariance Type:            nonrobust                                         \n",
      "==============================================================================\n",
      "                 coef    std err          t      P>|t|      [95.0% Conf. Int.]\n",
      "------------------------------------------------------------------------------\n",
      "const       1.861e+05   3138.012     59.291      0.000       1.8e+05  1.92e+05\n",
      "x1            -0.0057      0.002     -2.506      0.012        -0.010    -0.001\n",
      "==============================================================================\n",
      "Omnibus:                        8.561   Durbin-Watson:                   1.383\n",
      "Prob(Omnibus):                  0.014   Jarque-Bera (JB):                8.532\n",
      "Skew:                           0.205   Prob(JB):                       0.0140\n",
      "Kurtosis:                       3.063   Cond. No.                     2.12e+06\n",
      "==============================================================================\n",
      "\n",
      "Warnings:\n",
      "[1] Standard Errors assume that the covariance matrix of the errors is correctly specified.\n",
      "[2] The condition number is large, 2.12e+06. This might indicate that there are\n",
      "strong multicollinearity or other numerical problems.\n"
     ]
    }
   ],
   "source": [
    "Total_VoteDW = DemW['total_votes']\n",
    "Total_SpendDW = DemW['totalspend']\n",
    "\n",
    "def reg_m(Total_VoteDW,Total_SpendDW):\n",
    "    Total_SpendDW=np.array(Total_SpendDW).T\n",
    "    Total_SpendDW=sm.add_constant(Total_SpendDW)\n",
    "    model=sm.OLS(endog=Total_VoteDW,exog=Total_SpendDW)\n",
    "    results=model.fit()\n",
    "    return results\n",
    "\n",
    "print (reg_m(Total_VoteDW,Total_SpendDW).summary())"
   ]
  },
  {
   "cell_type": "code",
   "execution_count": 274,
   "metadata": {
    "collapsed": false
   },
   "outputs": [
    {
     "name": "stdout",
     "output_type": "stream",
     "text": [
      "                            OLS Regression Results                            \n",
      "==============================================================================\n",
      "Dep. Variable:            total_votes   R-squared:                       0.006\n",
      "Model:                            OLS   Adj. R-squared:                  0.005\n",
      "Method:                 Least Squares   F-statistic:                     6.120\n",
      "Date:                Fri, 08 Sep 2017   Prob (F-statistic):             0.0135\n",
      "Time:                        22:31:48   Log-Likelihood:                -12982.\n",
      "No. Observations:                1030   AIC:                         2.597e+04\n",
      "Df Residuals:                    1028   BIC:                         2.598e+04\n",
      "Df Model:                           1                                         \n",
      "Covariance Type:            nonrobust                                         \n",
      "==============================================================================\n",
      "                 coef    std err          t      P>|t|      [95.0% Conf. Int.]\n",
      "------------------------------------------------------------------------------\n",
      "const         1.9e+05   3485.805     54.498      0.000      1.83e+05  1.97e+05\n",
      "x1            -0.0071      0.003     -2.474      0.014        -0.013    -0.001\n",
      "==============================================================================\n",
      "Omnibus:                        4.805   Durbin-Watson:                   1.306\n",
      "Prob(Omnibus):                  0.091   Jarque-Bera (JB):                4.841\n",
      "Skew:                           0.167   Prob(JB):                       0.0889\n",
      "Kurtosis:                       2.962   Cond. No.                     1.88e+06\n",
      "==============================================================================\n",
      "\n",
      "Warnings:\n",
      "[1] Standard Errors assume that the covariance matrix of the errors is correctly specified.\n",
      "[2] The condition number is large, 1.88e+06. This might indicate that there are\n",
      "strong multicollinearity or other numerical problems.\n"
     ]
    }
   ],
   "source": [
    "Total_VoteDWInc = DemWInc['total_votes']\n",
    "Total_SpendDWInc = DemWInc['totalspend']\n",
    "\n",
    "def reg_m(Total_VoteDWInc,Total_SpendDWInc):\n",
    "    Total_SpendDWInc=np.array(Total_SpendDWInc).T\n",
    "    Total_SpendDWInc=sm.add_constant(Total_SpendDWInc)\n",
    "    model=sm.OLS(endog=Total_VoteDWInc,exog=Total_SpendDWInc)\n",
    "    results=model.fit()\n",
    "    return results\n",
    "\n",
    "print (reg_m(Total_VoteDWInc,Total_SpendDWInc).summary())"
   ]
  },
  {
   "cell_type": "code",
   "execution_count": 275,
   "metadata": {
    "collapsed": false
   },
   "outputs": [
    {
     "name": "stdout",
     "output_type": "stream",
     "text": [
      "                            OLS Regression Results                            \n",
      "==============================================================================\n",
      "Dep. Variable:            total_votes   R-squared:                       0.039\n",
      "Model:                            OLS   Adj. R-squared:                  0.033\n",
      "Method:                 Least Squares   F-statistic:                     6.609\n",
      "Date:                Fri, 08 Sep 2017   Prob (F-statistic):             0.0110\n",
      "Time:                        22:31:51   Log-Likelihood:                -2029.0\n",
      "No. Observations:                 165   AIC:                             4062.\n",
      "Df Residuals:                     163   BIC:                             4068.\n",
      "Df Model:                           1                                         \n",
      "Covariance Type:            nonrobust                                         \n",
      "==============================================================================\n",
      "                 coef    std err          t      P>|t|      [95.0% Conf. Int.]\n",
      "------------------------------------------------------------------------------\n",
      "const       1.426e+05   7759.672     18.375      0.000      1.27e+05  1.58e+05\n",
      "x1             0.0094      0.004      2.571      0.011         0.002     0.017\n",
      "==============================================================================\n",
      "Omnibus:                        7.048   Durbin-Watson:                   1.459\n",
      "Prob(Omnibus):                  0.029   Jarque-Bera (JB):                7.570\n",
      "Skew:                           0.352   Prob(JB):                       0.0227\n",
      "Kurtosis:                       3.778   Cond. No.                     3.98e+06\n",
      "==============================================================================\n",
      "\n",
      "Warnings:\n",
      "[1] Standard Errors assume that the covariance matrix of the errors is correctly specified.\n",
      "[2] The condition number is large, 3.98e+06. This might indicate that there are\n",
      "strong multicollinearity or other numerical problems.\n"
     ]
    }
   ],
   "source": [
    "Total_VoteDWC = DemWC['total_votes']\n",
    "Total_SpendDWC = DemWC['totalspend']\n",
    "\n",
    "def reg_m(Total_VoteDWC,Total_SpendDWC):\n",
    "    Total_SpendDWC=np.array(Total_SpendDWC).T\n",
    "    Total_SpendDWC=sm.add_constant(Total_SpendDWC)\n",
    "    model=sm.OLS(endog=Total_VoteDWC,exog=Total_SpendDWC)\n",
    "    results=model.fit()\n",
    "    return results\n",
    "\n",
    "print (reg_m(Total_VoteDWC,Total_SpendDWC).summary())"
   ]
  },
  {
   "cell_type": "code",
   "execution_count": 276,
   "metadata": {
    "collapsed": true
   },
   "outputs": [],
   "source": [
    "Gen.to_csv('General.csv', index=False)"
   ]
  },
  {
   "cell_type": "code",
   "execution_count": 277,
   "metadata": {
    "collapsed": false
   },
   "outputs": [
    {
     "name": "stdout",
     "output_type": "stream",
     "text": [
      "                            OLS Regression Results                            \n",
      "==============================================================================\n",
      "Dep. Variable:            total_votes   R-squared:                       0.004\n",
      "Model:                            OLS   Adj. R-squared:                  0.003\n",
      "Method:                 Least Squares   F-statistic:                     5.456\n",
      "Date:                Fri, 08 Sep 2017   Prob (F-statistic):             0.0197\n",
      "Time:                        22:31:53   Log-Likelihood:                -15685.\n",
      "No. Observations:                1274   AIC:                         3.137e+04\n",
      "Df Residuals:                    1272   BIC:                         3.138e+04\n",
      "Df Model:                           1                                         \n",
      "Covariance Type:            nonrobust                                         \n",
      "==============================================================================\n",
      "                 coef    std err          t      P>|t|      [95.0% Conf. Int.]\n",
      "------------------------------------------------------------------------------\n",
      "const        1.92e+05   2188.976     87.724      0.000      1.88e+05  1.96e+05\n",
      "x1            -0.0030      0.001     -2.336      0.020        -0.006    -0.000\n",
      "==============================================================================\n",
      "Omnibus:                       10.873   Durbin-Watson:                   1.640\n",
      "Prob(Omnibus):                  0.004   Jarque-Bera (JB):               13.785\n",
      "Skew:                           0.112   Prob(JB):                      0.00102\n",
      "Kurtosis:                       3.458   Cond. No.                     2.44e+06\n",
      "==============================================================================\n",
      "\n",
      "Warnings:\n",
      "[1] Standard Errors assume that the covariance matrix of the errors is correctly specified.\n",
      "[2] The condition number is large, 2.44e+06. This might indicate that there are\n",
      "strong multicollinearity or other numerical problems.\n"
     ]
    }
   ],
   "source": [
    "Total_VoteRW = RepW['total_votes']\n",
    "Total_SpendRW = RepW['totalspend']\n",
    "\n",
    "def reg_m(Total_VoteRW,Total_SpendRW):\n",
    "    Total_SpendRW=np.array(Total_SpendRW).T\n",
    "    Total_SpendRW=sm.add_constant(Total_SpendRW)\n",
    "    model=sm.OLS(endog=Total_VoteRW,exog=Total_SpendRW)\n",
    "    results=model.fit()\n",
    "    return results\n",
    "\n",
    "print (reg_m(Total_VoteRW,Total_SpendRW).summary())"
   ]
  },
  {
   "cell_type": "code",
   "execution_count": 278,
   "metadata": {
    "collapsed": false
   },
   "outputs": [
    {
     "name": "stdout",
     "output_type": "stream",
     "text": [
      "                            OLS Regression Results                            \n",
      "==============================================================================\n",
      "Dep. Variable:            total_votes   R-squared:                       0.003\n",
      "Model:                            OLS   Adj. R-squared:                  0.002\n",
      "Method:                 Least Squares   F-statistic:                     3.473\n",
      "Date:                Fri, 08 Sep 2017   Prob (F-statistic):             0.0627\n",
      "Time:                        22:31:58   Log-Likelihood:                -12983.\n",
      "No. Observations:                1057   AIC:                         2.597e+04\n",
      "Df Residuals:                    1055   BIC:                         2.598e+04\n",
      "Df Model:                           1                                         \n",
      "Covariance Type:            nonrobust                                         \n",
      "==============================================================================\n",
      "                 coef    std err          t      P>|t|      [95.0% Conf. Int.]\n",
      "------------------------------------------------------------------------------\n",
      "const       1.966e+05   2258.408     87.058      0.000      1.92e+05  2.01e+05\n",
      "x1            -0.0026      0.001     -1.864      0.063        -0.005     0.000\n",
      "==============================================================================\n",
      "Omnibus:                        8.660   Durbin-Watson:                   1.636\n",
      "Prob(Omnibus):                  0.013   Jarque-Bera (JB):                8.710\n",
      "Skew:                           0.195   Prob(JB):                       0.0128\n",
      "Kurtosis:                       3.212   Cond. No.                     2.30e+06\n",
      "==============================================================================\n",
      "\n",
      "Warnings:\n",
      "[1] Standard Errors assume that the covariance matrix of the errors is correctly specified.\n",
      "[2] The condition number is large, 2.3e+06. This might indicate that there are\n",
      "strong multicollinearity or other numerical problems.\n"
     ]
    }
   ],
   "source": [
    "Total_VoteRWInc = RepWInc['total_votes']\n",
    "Total_SpendRWInc = RepWInc['totalspend']\n",
    "\n",
    "def reg_m(Total_VoteRWInc,Total_SpendRWInc):\n",
    "    Total_SpendRWInc=np.array(Total_SpendRWInc).T\n",
    "    Total_SpendRWInc=sm.add_constant(Total_SpendRWInc)\n",
    "    model=sm.OLS(endog=Total_VoteRWInc,exog=Total_SpendRWInc)\n",
    "    results=model.fit()\n",
    "    return results\n",
    "\n",
    "print (reg_m(Total_VoteRWInc,Total_SpendRWInc).summary())"
   ]
  },
  {
   "cell_type": "code",
   "execution_count": 279,
   "metadata": {
    "collapsed": false
   },
   "outputs": [
    {
     "name": "stdout",
     "output_type": "stream",
     "text": [
      "                            OLS Regression Results                            \n",
      "==============================================================================\n",
      "Dep. Variable:            total_votes   R-squared:                       0.297\n",
      "Model:                            OLS   Adj. R-squared:                  0.297\n",
      "Method:                 Least Squares   F-statistic:                     1456.\n",
      "Date:                Fri, 08 Sep 2017   Prob (F-statistic):          5.24e-266\n",
      "Time:                        22:31:58   Log-Likelihood:                -41914.\n",
      "No. Observations:                3450   AIC:                         8.383e+04\n",
      "Df Residuals:                    3448   BIC:                         8.384e+04\n",
      "Df Model:                           1                                         \n",
      "Covariance Type:            nonrobust                                         \n",
      "==============================================================================\n",
      "                 coef    std err          t      P>|t|      [95.0% Conf. Int.]\n",
      "------------------------------------------------------------------------------\n",
      "const       2.756e+04    857.845     32.133      0.000      2.59e+04  2.92e+04\n",
      "x1             0.0460      0.001     38.152      0.000         0.044     0.048\n",
      "==============================================================================\n",
      "Omnibus:                      652.293   Durbin-Watson:                   1.728\n",
      "Prob(Omnibus):                  0.000   Jarque-Bera (JB):             1777.751\n",
      "Skew:                           1.005   Prob(JB):                         0.00\n",
      "Kurtosis:                       5.886   Cond. No.                     7.85e+05\n",
      "==============================================================================\n",
      "\n",
      "Warnings:\n",
      "[1] Standard Errors assume that the covariance matrix of the errors is correctly specified.\n",
      "[2] The condition number is large, 7.85e+05. This might indicate that there are\n",
      "strong multicollinearity or other numerical problems.\n"
     ]
    }
   ],
   "source": [
    "Total_VoteRWC = RepWC['total_votes']\n",
    "Total_SpendRWC = RepWC['totalspend']\n",
    "\n",
    "def reg_m(Total_VoteRWC,Total_SpendRWC):\n",
    "    Total_SpendRWC=np.array(Total_SpendRWC).T\n",
    "    Total_SpendRWC=sm.add_constant(Total_SpendRWC)\n",
    "    model=sm.OLS(endog=Total_VoteRWC,exog=Total_SpendRWC)\n",
    "    results=model.fit()\n",
    "    return results\n",
    "\n",
    "print (reg_m(Total_VoteRWC,Total_SpendRWC).summary())"
   ]
  },
  {
   "cell_type": "code",
   "execution_count": 280,
   "metadata": {
    "collapsed": false
   },
   "outputs": [
    {
     "name": "stdout",
     "output_type": "stream",
     "text": [
      "                            OLS Regression Results                            \n",
      "==============================================================================\n",
      "Dep. Variable:            total_votes   R-squared:                       0.181\n",
      "Model:                            OLS   Adj. R-squared:                  0.181\n",
      "Method:                 Least Squares   F-statistic:                     625.5\n",
      "Date:                Fri, 08 Sep 2017   Prob (F-statistic):          6.59e-125\n",
      "Time:                        22:32:01   Log-Likelihood:                -34736.\n",
      "No. Observations:                2834   AIC:                         6.948e+04\n",
      "Df Residuals:                    2832   BIC:                         6.949e+04\n",
      "Df Model:                           1                                         \n",
      "Covariance Type:            nonrobust                                         \n",
      "==============================================================================\n",
      "                 coef    std err          t      P>|t|      [95.0% Conf. Int.]\n",
      "------------------------------------------------------------------------------\n",
      "const       4.074e+04   1048.633     38.848      0.000      3.87e+04  4.28e+04\n",
      "x1             0.0355      0.001     25.010      0.000         0.033     0.038\n",
      "==============================================================================\n",
      "Omnibus:                      255.089   Durbin-Watson:                   1.666\n",
      "Prob(Omnibus):                  0.000   Jarque-Bera (JB):              328.833\n",
      "Skew:                           0.834   Prob(JB):                     3.93e-72\n",
      "Kurtosis:                       3.036   Cond. No.                     8.10e+05\n",
      "==============================================================================\n",
      "\n",
      "Warnings:\n",
      "[1] Standard Errors assume that the covariance matrix of the errors is correctly specified.\n",
      "[2] The condition number is large, 8.1e+05. This might indicate that there are\n",
      "strong multicollinearity or other numerical problems.\n"
     ]
    }
   ],
   "source": [
    "Total_VoteDL = DemL['total_votes']\n",
    "Total_SpendDL = DemL['totalspend']\n",
    "\n",
    "def reg_m(Total_VoteDL,Total_SpendDL):\n",
    "    Total_SpendDL=np.array(Total_SpendDL).T\n",
    "    Total_SpendDL=sm.add_constant(Total_SpendDL)\n",
    "    model=sm.OLS(endog=Total_VoteDL,exog=Total_SpendDL)\n",
    "    results=model.fit()\n",
    "    return results\n",
    "\n",
    "print (reg_m(Total_VoteDL,Total_SpendDL).summary())"
   ]
  },
  {
   "cell_type": "code",
   "execution_count": 281,
   "metadata": {
    "collapsed": false
   },
   "outputs": [
    {
     "name": "stdout",
     "output_type": "stream",
     "text": [
      "                            OLS Regression Results                            \n",
      "==============================================================================\n",
      "Dep. Variable:            total_votes   R-squared:                       0.586\n",
      "Model:                            OLS   Adj. R-squared:                  0.583\n",
      "Method:                 Least Squares   F-statistic:                     205.5\n",
      "Date:                Fri, 08 Sep 2017   Prob (F-statistic):           1.39e-29\n",
      "Time:                        22:32:02   Log-Likelihood:                -1859.5\n",
      "No. Observations:                 146   AIC:                             3721.\n",
      "Df Residuals:                     145   BIC:                             3724.\n",
      "Df Model:                           1                                         \n",
      "Covariance Type:            nonrobust                                         \n",
      "==============================================================================\n",
      "                 coef    std err          t      P>|t|      [95.0% Conf. Int.]\n",
      "------------------------------------------------------------------------------\n",
      "x1             0.0447      0.003     14.336      0.000         0.039     0.051\n",
      "==============================================================================\n",
      "Omnibus:                        0.790   Durbin-Watson:                   1.728\n",
      "Prob(Omnibus):                  0.674   Jarque-Bera (JB):                0.415\n",
      "Skew:                          -0.008   Prob(JB):                        0.812\n",
      "Kurtosis:                       3.261   Cond. No.                         1.00\n",
      "==============================================================================\n",
      "\n",
      "Warnings:\n",
      "[1] Standard Errors assume that the covariance matrix of the errors is correctly specified.\n"
     ]
    }
   ],
   "source": [
    "Total_VoteDLInc = DemLInc['total_votes']\n",
    "Total_SpendDLInc = DemLInc['totalspend']\n",
    "\n",
    "def reg_m(Total_VoteDLInc,Total_SpendDLInc):\n",
    "    Total_SpendDLInc=np.array(Total_SpendDLInc).T\n",
    "    Total_SpendDLINc=sm.add_constant(Total_SpendDLInc)\n",
    "    model=sm.OLS(endog=Total_VoteDLInc,exog=Total_SpendDLInc)\n",
    "    results=model.fit()\n",
    "    return results\n",
    "\n",
    "print (reg_m(Total_VoteDLInc,Total_SpendDLInc).summary())"
   ]
  },
  {
   "cell_type": "code",
   "execution_count": 282,
   "metadata": {
    "collapsed": false
   },
   "outputs": [
    {
     "name": "stdout",
     "output_type": "stream",
     "text": [
      "                            OLS Regression Results                            \n",
      "==============================================================================\n",
      "Dep. Variable:            total_votes   R-squared:                       0.160\n",
      "Model:                            OLS   Adj. R-squared:                  0.160\n",
      "Method:                 Least Squares   F-statistic:                     512.9\n",
      "Date:                Fri, 08 Sep 2017   Prob (F-statistic):          4.66e-104\n",
      "Time:                        22:32:03   Log-Likelihood:                -32874.\n",
      "No. Observations:                2687   AIC:                         6.575e+04\n",
      "Df Residuals:                    2685   BIC:                         6.576e+04\n",
      "Df Model:                           1                                         \n",
      "Covariance Type:            nonrobust                                         \n",
      "==============================================================================\n",
      "                 coef    std err          t      P>|t|      [95.0% Conf. Int.]\n",
      "------------------------------------------------------------------------------\n",
      "const       3.859e+04   1044.634     36.942      0.000      3.65e+04  4.06e+04\n",
      "x1             0.0422      0.002     22.646      0.000         0.039     0.046\n",
      "==============================================================================\n",
      "Omnibus:                      241.087   Durbin-Watson:                   1.672\n",
      "Prob(Omnibus):                  0.000   Jarque-Bera (JB):              309.450\n",
      "Skew:                           0.829   Prob(JB):                     6.37e-68\n",
      "Kurtosis:                       3.129   Cond. No.                     6.10e+05\n",
      "==============================================================================\n",
      "\n",
      "Warnings:\n",
      "[1] Standard Errors assume that the covariance matrix of the errors is correctly specified.\n",
      "[2] The condition number is large, 6.1e+05. This might indicate that there are\n",
      "strong multicollinearity or other numerical problems.\n"
     ]
    }
   ],
   "source": [
    "Total_VoteDLC = DemLC['total_votes']\n",
    "Total_SpendDLC = DemLC['totalspend']\n",
    "\n",
    "def reg_m(Total_VoteDLC,Total_SpendDLC):\n",
    "    Total_SpendDLC=np.array(Total_SpendDLC).T\n",
    "    Total_SpendDLC=sm.add_constant(Total_SpendDLC)\n",
    "    model=sm.OLS(endog=Total_VoteDLC,exog=Total_SpendDLC)\n",
    "    results=model.fit()\n",
    "    return results\n",
    "\n",
    "print (reg_m(Total_VoteDLC,Total_SpendDLC).summary())"
   ]
  },
  {
   "cell_type": "code",
   "execution_count": 283,
   "metadata": {
    "collapsed": false
   },
   "outputs": [
    {
     "name": "stdout",
     "output_type": "stream",
     "text": [
      "                            OLS Regression Results                            \n",
      "==============================================================================\n",
      "Dep. Variable:            total_votes   R-squared:                       0.207\n",
      "Model:                            OLS   Adj. R-squared:                  0.207\n",
      "Method:                 Least Squares   F-statistic:                     871.5\n",
      "Date:                Fri, 08 Sep 2017   Prob (F-statistic):          2.10e-170\n",
      "Time:                        22:32:04   Log-Likelihood:                -40332.\n",
      "No. Observations:                3342   AIC:                         8.067e+04\n",
      "Df Residuals:                    3340   BIC:                         8.068e+04\n",
      "Df Model:                           1                                         \n",
      "Covariance Type:            nonrobust                                         \n",
      "==============================================================================\n",
      "                 coef    std err          t      P>|t|      [95.0% Conf. Int.]\n",
      "------------------------------------------------------------------------------\n",
      "const       2.763e+04    784.247     35.229      0.000      2.61e+04  2.92e+04\n",
      "x1             0.0305      0.001     29.522      0.000         0.028     0.033\n",
      "==============================================================================\n",
      "Omnibus:                      728.951   Durbin-Watson:                   1.646\n",
      "Prob(Omnibus):                  0.000   Jarque-Bera (JB):             2083.188\n",
      "Skew:                           1.134   Prob(JB):                         0.00\n",
      "Kurtosis:                       6.133   Cond. No.                     8.16e+05\n",
      "==============================================================================\n",
      "\n",
      "Warnings:\n",
      "[1] Standard Errors assume that the covariance matrix of the errors is correctly specified.\n",
      "[2] The condition number is large, 8.16e+05. This might indicate that there are\n",
      "strong multicollinearity or other numerical problems.\n"
     ]
    }
   ],
   "source": [
    "Total_VoteRL = RepL['total_votes']\n",
    "Total_SpendRL = RepL['totalspend']\n",
    "\n",
    "def reg_m(Total_VoteRL,Total_SpendRL):\n",
    "    Total_SpendRL=np.array(Total_SpendRL).T\n",
    "    Total_SpendRL=sm.add_constant(Total_SpendRL)\n",
    "    model=sm.OLS(endog=Total_VoteRL,exog=Total_SpendRL)\n",
    "    results=model.fit()\n",
    "    return results\n",
    "\n",
    "print (reg_m(Total_VoteRL,Total_SpendRL).summary())"
   ]
  },
  {
   "cell_type": "code",
   "execution_count": 284,
   "metadata": {
    "collapsed": false
   },
   "outputs": [
    {
     "name": "stdout",
     "output_type": "stream",
     "text": [
      "                            OLS Regression Results                            \n",
      "==============================================================================\n",
      "Dep. Variable:            total_votes   R-squared:                       0.025\n",
      "Model:                            OLS   Adj. R-squared:                  0.015\n",
      "Method:                 Least Squares   F-statistic:                     2.667\n",
      "Date:                Fri, 08 Sep 2017   Prob (F-statistic):              0.105\n",
      "Time:                        22:32:05   Log-Likelihood:                -1341.8\n",
      "No. Observations:                 108   AIC:                             2688.\n",
      "Df Residuals:                     106   BIC:                             2693.\n",
      "Df Model:                           1                                         \n",
      "Covariance Type:            nonrobust                                         \n",
      "==============================================================================\n",
      "                 coef    std err          t      P>|t|      [95.0% Conf. Int.]\n",
      "------------------------------------------------------------------------------\n",
      "const       1.129e+05   8581.655     13.154      0.000      9.59e+04   1.3e+05\n",
      "x1             0.0049      0.003      1.633      0.105        -0.001     0.011\n",
      "==============================================================================\n",
      "Omnibus:                        0.752   Durbin-Watson:                   1.695\n",
      "Prob(Omnibus):                  0.687   Jarque-Bera (JB):                0.804\n",
      "Skew:                           0.021   Prob(JB):                        0.669\n",
      "Kurtosis:                       2.579   Cond. No.                     4.23e+06\n",
      "==============================================================================\n",
      "\n",
      "Warnings:\n",
      "[1] Standard Errors assume that the covariance matrix of the errors is correctly specified.\n",
      "[2] The condition number is large, 4.23e+06. This might indicate that there are\n",
      "strong multicollinearity or other numerical problems.\n"
     ]
    }
   ],
   "source": [
    "Total_VoteRLInc = RepLInc['total_votes']\n",
    "Total_SpendRLInc = RepLInc['totalspend']\n",
    "\n",
    "def reg_m(Total_VoteRLInc,Total_SpendRLInc):\n",
    "    Total_SpendRLInc=np.array(Total_SpendRLInc).T\n",
    "    Total_SpendRLInc=sm.add_constant(Total_SpendRLInc)\n",
    "    model=sm.OLS(endog=Total_VoteRLInc,exog=Total_SpendRLInc)\n",
    "    results=model.fit()\n",
    "    return results\n",
    "\n",
    "print (reg_m(Total_VoteRLInc,Total_SpendRLInc).summary())"
   ]
  },
  {
   "cell_type": "code",
   "execution_count": 285,
   "metadata": {
    "collapsed": false
   },
   "outputs": [
    {
     "name": "stdout",
     "output_type": "stream",
     "text": [
      "                            OLS Regression Results                            \n",
      "==============================================================================\n",
      "Dep. Variable:            total_votes   R-squared:                       0.177\n",
      "Model:                            OLS   Adj. R-squared:                  0.177\n",
      "Method:                 Least Squares   F-statistic:                     694.1\n",
      "Date:                Fri, 08 Sep 2017   Prob (F-statistic):          9.77e-139\n",
      "Time:                        22:32:08   Log-Likelihood:                -38835.\n",
      "No. Observations:                3233   AIC:                         7.767e+04\n",
      "Df Residuals:                    3231   BIC:                         7.769e+04\n",
      "Df Model:                           1                                         \n",
      "Covariance Type:            nonrobust                                         \n",
      "==============================================================================\n",
      "                 coef    std err          t      P>|t|      [95.0% Conf. Int.]\n",
      "------------------------------------------------------------------------------\n",
      "const       2.543e+04    760.659     33.430      0.000      2.39e+04  2.69e+04\n",
      "x1             0.0360      0.001     26.346      0.000         0.033     0.039\n",
      "==============================================================================\n",
      "Omnibus:                      663.622   Durbin-Watson:                   1.616\n",
      "Prob(Omnibus):                  0.000   Jarque-Bera (JB):             1273.042\n",
      "Skew:                           1.244   Prob(JB):                    3.65e-277\n",
      "Kurtosis:                       4.806   Cond. No.                     6.04e+05\n",
      "==============================================================================\n",
      "\n",
      "Warnings:\n",
      "[1] Standard Errors assume that the covariance matrix of the errors is correctly specified.\n",
      "[2] The condition number is large, 6.04e+05. This might indicate that there are\n",
      "strong multicollinearity or other numerical problems.\n"
     ]
    }
   ],
   "source": [
    "Total_VoteRLC = RepLC['total_votes']\n",
    "Total_SpendRLC = RepLC['totalspend']\n",
    "\n",
    "def reg_m(Total_VoteRLC,Total_SpendRLC):\n",
    "    Total_SpendRLC=np.array(Total_SpendRLC).T\n",
    "    Total_SpendRLC=sm.add_constant(Total_SpendRLC)\n",
    "    model=sm.OLS(endog=Total_VoteRLC,exog=Total_SpendRLC)\n",
    "    results=model.fit()\n",
    "    return results\n",
    "\n",
    "print (reg_m(Total_VoteRLC,Total_SpendRLC).summary())"
   ]
  },
  {
   "cell_type": "markdown",
   "metadata": {},
   "source": [
    "Multi-linear regressions"
   ]
  },
  {
   "cell_type": "code",
   "execution_count": 286,
   "metadata": {
    "collapsed": false
   },
   "outputs": [
    {
     "name": "stdout",
     "output_type": "stream",
     "text": [
      "                            OLS Regression Results                            \n",
      "==============================================================================\n",
      "Dep. Variable:            total_votes   R-squared:                       0.011\n",
      "Model:                            OLS   Adj. R-squared:                  0.006\n",
      "Method:                 Least Squares   F-statistic:                     2.059\n",
      "Date:                Fri, 08 Sep 2017   Prob (F-statistic):             0.0138\n",
      "Time:                        22:32:09   Log-Likelihood:                -30760.\n",
      "No. Observations:                2469   AIC:                         6.155e+04\n",
      "Df Residuals:                    2455   BIC:                         6.163e+04\n",
      "Df Model:                          13                                         \n",
      "Covariance Type:            nonrobust                                         \n",
      "==============================================================================\n",
      "                 coef    std err          t      P>|t|      [95.0% Conf. Int.]\n",
      "------------------------------------------------------------------------------\n",
      "const       1.885e+05   1913.003     98.534      0.000      1.85e+05  1.92e+05\n",
      "x1            -0.0057      0.003     -1.720      0.086        -0.012     0.001\n",
      "x2             0.0218      0.069      0.315      0.753        -0.114     0.158\n",
      "x3             0.0228      0.010      2.304      0.021         0.003     0.042\n",
      "x4            -0.0171      0.006     -3.094      0.002        -0.028    -0.006\n",
      "x5             0.0638      0.067      0.947      0.344        -0.068     0.196\n",
      "x6            -0.0433      0.021     -2.032      0.042        -0.085    -0.002\n",
      "x7            -0.0423      0.048     -0.881      0.378        -0.136     0.052\n",
      "x8            -0.0532      0.113     -0.471      0.638        -0.275     0.168\n",
      "x9            -0.7831      0.823     -0.952      0.341        -2.397     0.831\n",
      "x10            0.1752      0.351      0.499      0.618        -0.514     0.864\n",
      "x11            0.0083      0.087      0.096      0.924        -0.162     0.178\n",
      "x12           -0.0989      0.217     -0.455      0.649        -0.525     0.328\n",
      "x13           -0.0032      0.001     -2.336      0.020        -0.006    -0.001\n",
      "==============================================================================\n",
      "Omnibus:                       17.325   Durbin-Watson:                   1.495\n",
      "Prob(Omnibus):                  0.000   Jarque-Bera (JB):               20.320\n",
      "Skew:                           0.134   Prob(JB):                     3.87e-05\n",
      "Kurtosis:                       3.355   Cond. No.                     1.85e+06\n",
      "==============================================================================\n",
      "\n",
      "Warnings:\n",
      "[1] Standard Errors assume that the covariance matrix of the errors is correctly specified.\n",
      "[2] The condition number is large, 1.85e+06. This might indicate that there are\n",
      "strong multicollinearity or other numerical problems.\n"
     ]
    }
   ],
   "source": [
    "Total_VoteW = Winner['total_votes']\n",
    "Total_SpendW = [Winner['c1'],Winner['c2'],Winner['c3'],Winner['c4'],Winner['c5'],Winner['c6'],Winner['c7'],Winner['c8'],Winner['c9'],Winner['c10'],Winner['c11'],Winner['c12'],Winner['c13']]\n",
    "\n",
    "def reg_m(Total_VoteW,Total_SpendW):\n",
    "    Total_SpendW=np.array(Total_SpendW).T\n",
    "    Total_SpendW=sm.add_constant(Total_SpendW)\n",
    "    model=sm.OLS(endog=Total_VoteW,exog=Total_SpendW)\n",
    "    results=model.fit()\n",
    "    return results\n",
    "\n",
    "print (reg_m(Total_VoteW,Total_SpendW).summary())"
   ]
  },
  {
   "cell_type": "code",
   "execution_count": 288,
   "metadata": {
    "collapsed": false
   },
   "outputs": [
    {
     "name": "stdout",
     "output_type": "stream",
     "text": [
      "                            OLS Regression Results                            \n",
      "==============================================================================\n",
      "Dep. Variable:            total_votes   R-squared:                       0.213\n",
      "Model:                            OLS   Adj. R-squared:                  0.211\n",
      "Method:                 Least Squares   F-statistic:                     127.9\n",
      "Date:                Fri, 08 Sep 2017   Prob (F-statistic):          2.33e-307\n",
      "Time:                        22:32:26   Log-Likelihood:                -75113.\n",
      "No. Observations:                6176   AIC:                         1.503e+05\n",
      "Df Residuals:                    6162   BIC:                         1.503e+05\n",
      "Df Model:                          13                                         \n",
      "Covariance Type:            nonrobust                                         \n",
      "==============================================================================\n",
      "                 coef    std err          t      P>|t|      [95.0% Conf. Int.]\n",
      "------------------------------------------------------------------------------\n",
      "const       3.254e+04    648.583     50.169      0.000      3.13e+04  3.38e+04\n",
      "x1             0.0357      0.004      9.028      0.000         0.028     0.043\n",
      "x2             0.6546      0.100      6.544      0.000         0.459     0.851\n",
      "x3            -0.0016      0.005     -0.300      0.764        -0.012     0.009\n",
      "x4             0.0049      0.004      1.180      0.238        -0.003     0.013\n",
      "x5             0.3868      0.069      5.633      0.000         0.252     0.521\n",
      "x6             0.0274      0.016      1.682      0.093        -0.005     0.059\n",
      "x7             0.0725      0.077      0.936      0.349        -0.079     0.224\n",
      "x8            -0.7076      1.456     -0.486      0.627        -3.562     2.147\n",
      "x9            -0.5527      0.764     -0.724      0.469        -2.049     0.944\n",
      "x10           -0.3965      0.322     -1.233      0.218        -1.027     0.234\n",
      "x11            1.0920      0.223      4.894      0.000         0.655     1.529\n",
      "x12           -0.0918      0.351     -0.262      0.794        -0.780     0.596\n",
      "x13            0.0372      0.001     31.775      0.000         0.035     0.040\n",
      "==============================================================================\n",
      "Omnibus:                      915.011   Durbin-Watson:                   1.628\n",
      "Prob(Omnibus):                  0.000   Jarque-Bera (JB):             1428.962\n",
      "Skew:                           1.038   Prob(JB):                    5.07e-311\n",
      "Kurtosis:                       4.117   Cond. No.                     5.81e+05\n",
      "==============================================================================\n",
      "\n",
      "Warnings:\n",
      "[1] Standard Errors assume that the covariance matrix of the errors is correctly specified.\n",
      "[2] The condition number is large, 5.81e+05. This might indicate that there are\n",
      "strong multicollinearity or other numerical problems.\n"
     ]
    }
   ],
   "source": [
    "Total_VoteL = Loser['total_votes']\n",
    "Total_SpendL = [Loser['c1'],Loser['c2'],Loser['c3'],Loser['c4'],Loser['c5'],Loser['c6'],Loser['c7'],Loser['c8'],Loser['c9'],Loser['c10'],Loser['c11'],Loser['c12'],Loser['c13']]\n",
    "\n",
    "def reg_m(Total_VoteL,Total_SpendL):\n",
    "    Total_SpendL=np.array(Total_SpendL).T\n",
    "    Total_SpendL=sm.add_constant(Total_SpendL)\n",
    "    model=sm.OLS(endog=Total_VoteL,exog=Total_SpendL)\n",
    "    results=model.fit()\n",
    "    return results\n",
    "\n",
    "print (reg_m(Total_VoteL,Total_SpendL).summary())"
   ]
  },
  {
   "cell_type": "code",
   "execution_count": 289,
   "metadata": {
    "collapsed": false
   },
   "outputs": [
    {
     "name": "stdout",
     "output_type": "stream",
     "text": [
      "                            OLS Regression Results                            \n",
      "==============================================================================\n",
      "Dep. Variable:            total_votes   R-squared:                       0.223\n",
      "Model:                            OLS   Adj. R-squared:                  0.220\n",
      "Method:                 Least Squares   F-statistic:                     88.54\n",
      "Date:                Fri, 08 Sep 2017   Prob (F-statistic):          2.30e-208\n",
      "Time:                        22:32:29   Log-Likelihood:                -50919.\n",
      "No. Observations:                4029   AIC:                         1.019e+05\n",
      "Df Residuals:                    4015   BIC:                         1.020e+05\n",
      "Df Model:                          13                                         \n",
      "Covariance Type:            nonrobust                                         \n",
      "==============================================================================\n",
      "                 coef    std err          t      P>|t|      [95.0% Conf. Int.]\n",
      "------------------------------------------------------------------------------\n",
      "const       6.329e+04   1419.468     44.585      0.000      6.05e+04  6.61e+04\n",
      "x1             0.0522      0.010      5.097      0.000         0.032     0.072\n",
      "x2             0.7564      0.150      5.049      0.000         0.463     1.050\n",
      "x3             0.2089      0.026      8.148      0.000         0.159     0.259\n",
      "x4            -0.0142      0.007     -2.026      0.043        -0.028    -0.000\n",
      "x5             0.1500      0.084      1.789      0.074        -0.014     0.314\n",
      "x6             0.0059      0.022      0.264      0.792        -0.038     0.050\n",
      "x7            -0.0001      0.066     -0.002      0.999        -0.130     0.130\n",
      "x8             0.3086      0.354      0.871      0.384        -0.386     1.003\n",
      "x9            -0.1022      1.102     -0.093      0.926        -2.262     2.058\n",
      "x10           -0.7473      0.516     -1.449      0.147        -1.758     0.264\n",
      "x11            0.6277      0.156      4.036      0.000         0.323     0.933\n",
      "x12            0.2693      0.320      0.842      0.400        -0.358     0.897\n",
      "x13            0.0473      0.002     28.688      0.000         0.044     0.051\n",
      "==============================================================================\n",
      "Omnibus:                      501.792   Durbin-Watson:                   1.247\n",
      "Prob(Omnibus):                  0.000   Jarque-Bera (JB):              722.559\n",
      "Skew:                           0.939   Prob(JB):                    1.25e-157\n",
      "Kurtosis:                       3.882   Cond. No.                     9.68e+05\n",
      "==============================================================================\n",
      "\n",
      "Warnings:\n",
      "[1] Standard Errors assume that the covariance matrix of the errors is correctly specified.\n",
      "[2] The condition number is large, 9.68e+05. This might indicate that there are\n",
      "strong multicollinearity or other numerical problems.\n"
     ]
    }
   ],
   "source": [
    "Total_VoteD = Dem['total_votes']\n",
    "Total_SpendD = [Dem['c1'],Dem['c2'],Dem['c3'],Dem['c4'],Dem['c5'],Dem['c6'],Dem['c7'],Dem['c8'],Dem['c9'],Dem['c10'],Dem['c11'],Dem['c12'],Dem['c13']]\n",
    "\n",
    "def reg_m(Total_VoteD,Total_SpendD):\n",
    "    Total_SpendD=np.array(Total_SpendD).T\n",
    "    Total_SpendD=sm.add_constant(Total_SpendD)\n",
    "    model=sm.OLS(endog=Total_VoteD,exog=Total_SpendD)\n",
    "    results=model.fit()\n",
    "    return results\n",
    "\n",
    "print (reg_m(Total_VoteD,Total_SpendD).summary())"
   ]
  },
  {
   "cell_type": "code",
   "execution_count": 290,
   "metadata": {
    "collapsed": false
   },
   "outputs": [
    {
     "name": "stdout",
     "output_type": "stream",
     "text": [
      "                            OLS Regression Results                            \n",
      "==============================================================================\n",
      "Dep. Variable:            total_votes   R-squared:                       0.267\n",
      "Model:                            OLS   Adj. R-squared:                  0.265\n",
      "Method:                 Least Squares   F-statistic:                     129.2\n",
      "Date:                Fri, 08 Sep 2017   Prob (F-statistic):          1.12e-298\n",
      "Time:                        22:32:31   Log-Likelihood:                -58170.\n",
      "No. Observations:                4616   AIC:                         1.164e+05\n",
      "Df Residuals:                    4602   BIC:                         1.165e+05\n",
      "Df Model:                          13                                         \n",
      "Covariance Type:            nonrobust                                         \n",
      "==============================================================================\n",
      "                 coef    std err          t      P>|t|      [95.0% Conf. Int.]\n",
      "------------------------------------------------------------------------------\n",
      "const       5.289e+04   1237.806     42.731      0.000      5.05e+04  5.53e+04\n",
      "x1             0.0436      0.003     13.104      0.000         0.037     0.050\n",
      "x2             0.7268      0.080      9.066      0.000         0.570     0.884\n",
      "x3             0.0089      0.007      1.254      0.210        -0.005     0.023\n",
      "x4            -0.0021      0.006     -0.356      0.722        -0.014     0.009\n",
      "x5             0.5051      0.098      5.147      0.000         0.313     0.697\n",
      "x6            -0.0078      0.031     -0.248      0.804        -0.069     0.054\n",
      "x7             0.2725      0.081      3.359      0.001         0.113     0.432\n",
      "x8            -0.0021      0.143     -0.014      0.989        -0.282     0.278\n",
      "x9             1.7265      1.039      1.661      0.097        -0.311     3.764\n",
      "x10           -0.0487      0.405     -0.120      0.904        -0.842     0.745\n",
      "x11            0.6689      0.124      5.383      0.000         0.425     0.912\n",
      "x12            1.1800      0.348      3.392      0.001         0.498     1.862\n",
      "x13            0.0462      0.001     31.160      0.000         0.043     0.049\n",
      "==============================================================================\n",
      "Omnibus:                      504.212   Durbin-Watson:                   1.244\n",
      "Prob(Omnibus):                  0.000   Jarque-Bera (JB):             1152.172\n",
      "Skew:                           0.658   Prob(JB):                    6.44e-251\n",
      "Kurtosis:                       5.064   Cond. No.                     9.03e+05\n",
      "==============================================================================\n",
      "\n",
      "Warnings:\n",
      "[1] Standard Errors assume that the covariance matrix of the errors is correctly specified.\n",
      "[2] The condition number is large, 9.03e+05. This might indicate that there are\n",
      "strong multicollinearity or other numerical problems.\n"
     ]
    }
   ],
   "source": [
    "Total_VoteR = Rep['total_votes']\n",
    "Total_SpendR = [Rep['c1'],Rep['c2'],Rep['c3'],Rep['c4'],Rep['c5'],Rep['c6'],Rep['c7'],Rep['c8'],Rep['c9'],Rep['c10'],Rep['c11'],Rep['c12'],Rep['c13']]\n",
    "\n",
    "def reg_m(Total_VoteR,Total_SpendR):\n",
    "    Total_SpendR=np.array(Total_SpendR).T\n",
    "    Total_SpendR=sm.add_constant(Total_SpendR)\n",
    "    model=sm.OLS(endog=Total_VoteR,exog=Total_SpendR)\n",
    "    results=model.fit()\n",
    "    return results\n",
    "\n",
    "print (reg_m(Total_VoteR,Total_SpendR).summary())"
   ]
  },
  {
   "cell_type": "code",
   "execution_count": 294,
   "metadata": {
    "collapsed": false
   },
   "outputs": [
    {
     "name": "stdout",
     "output_type": "stream",
     "text": [
      "                            OLS Regression Results                            \n",
      "==============================================================================\n",
      "Dep. Variable:            total_votes   R-squared:                       0.011\n",
      "Model:                            OLS   Adj. R-squared:                  0.000\n",
      "Method:                 Least Squares   F-statistic:                     1.006\n",
      "Date:                Fri, 08 Sep 2017   Prob (F-statistic):              0.443\n",
      "Time:                        22:34:32   Log-Likelihood:                -15029.\n",
      "No. Observations:                1195   AIC:                         3.009e+04\n",
      "Df Residuals:                    1181   BIC:                         3.016e+04\n",
      "Df Model:                          13                                         \n",
      "Covariance Type:            nonrobust                                         \n",
      "==============================================================================\n",
      "                 coef    std err          t      P>|t|      [95.0% Conf. Int.]\n",
      "------------------------------------------------------------------------------\n",
      "const       1.869e+05   3354.502     55.715      0.000       1.8e+05  1.93e+05\n",
      "x1            -0.0053      0.014     -0.376      0.707        -0.033     0.022\n",
      "x2            -0.0437      0.160     -0.273      0.785        -0.357     0.270\n",
      "x3            -0.0240      0.031     -0.782      0.435        -0.084     0.036\n",
      "x4            -0.0109      0.010     -1.095      0.274        -0.030     0.009\n",
      "x5             0.0215      0.099      0.218      0.828        -0.172     0.215\n",
      "x6            -0.0268      0.027     -0.997      0.319        -0.080     0.026\n",
      "x7            -0.0341      0.067     -0.511      0.610        -0.165     0.097\n",
      "x8             0.1679      0.337      0.498      0.619        -0.494     0.830\n",
      "x9            -1.8272      1.249     -1.463      0.144        -4.278     0.624\n",
      "x10           -1.1632      4.650     -0.250      0.803       -10.287     7.960\n",
      "x11            0.1030      0.155      0.664      0.507        -0.202     0.408\n",
      "x12           -0.0771      0.360     -0.214      0.830        -0.783     0.629\n",
      "x13           -0.0046      0.003     -1.813      0.070        -0.009     0.000\n",
      "==============================================================================\n",
      "Omnibus:                        8.201   Durbin-Watson:                   1.403\n",
      "Prob(Omnibus):                  0.017   Jarque-Bera (JB):                8.165\n",
      "Skew:                           0.200   Prob(JB):                       0.0169\n",
      "Kurtosis:                       3.061   Cond. No.                     1.92e+06\n",
      "==============================================================================\n",
      "\n",
      "Warnings:\n",
      "[1] Standard Errors assume that the covariance matrix of the errors is correctly specified.\n",
      "[2] The condition number is large, 1.92e+06. This might indicate that there are\n",
      "strong multicollinearity or other numerical problems.\n"
     ]
    }
   ],
   "source": [
    "Total_VoteDW = DemW['total_votes']\n",
    "Total_SpendDW = [DemW['c1'],DemW['c2'],DemW['c3'],DemW['c4'],DemW['c5'],DemW['c6'],DemW['c7'],DemW['c8'],DemW['c9'],DemW['c10'],DemW['c11'],DemW['c12'],DemW['c13']]\n",
    "\n",
    "def reg_m(Total_VoteDW,Total_SpendDW):\n",
    "    Total_SpendDW=np.array(Total_SpendDW).T\n",
    "    Total_SpendDW=sm.add_constant(Total_SpendDW)\n",
    "    model=sm.OLS(endog=Total_VoteDW,exog=Total_SpendDW)\n",
    "    results=model.fit()\n",
    "    return results\n",
    "\n",
    "print (reg_m(Total_VoteDW,Total_SpendDW).summary())"
   ]
  },
  {
   "cell_type": "code",
   "execution_count": 292,
   "metadata": {
    "collapsed": false
   },
   "outputs": [
    {
     "name": "stdout",
     "output_type": "stream",
     "text": [
      "                            OLS Regression Results                            \n",
      "==============================================================================\n",
      "Dep. Variable:            total_votes   R-squared:                       0.021\n",
      "Model:                            OLS   Adj. R-squared:                  0.011\n",
      "Method:                 Least Squares   F-statistic:                     2.059\n",
      "Date:                Fri, 08 Sep 2017   Prob (F-statistic):             0.0141\n",
      "Time:                        22:33:12   Log-Likelihood:                -15674.\n",
      "No. Observations:                1274   AIC:                         3.138e+04\n",
      "Df Residuals:                    1260   BIC:                         3.145e+04\n",
      "Df Model:                          13                                         \n",
      "Covariance Type:            nonrobust                                         \n",
      "==============================================================================\n",
      "                 coef    std err          t      P>|t|      [95.0% Conf. Int.]\n",
      "------------------------------------------------------------------------------\n",
      "const       1.926e+05   2278.159     84.539      0.000      1.88e+05  1.97e+05\n",
      "x1            -0.0076      0.003     -2.497      0.013        -0.014    -0.002\n",
      "x2             0.0477      0.069      0.691      0.490        -0.088     0.183\n",
      "x3             0.0267      0.010      2.724      0.007         0.007     0.046\n",
      "x4            -0.0221      0.006     -3.417      0.001        -0.035    -0.009\n",
      "x5             0.1205      0.096      1.253      0.211        -0.068     0.309\n",
      "x6            -0.0846      0.046     -1.839      0.066        -0.175     0.006\n",
      "x7            -0.0024      0.078     -0.031      0.975        -0.155     0.150\n",
      "x8            -0.0693      0.107     -0.649      0.517        -0.279     0.140\n",
      "x9             0.6501      1.076      0.604      0.546        -1.461     2.761\n",
      "x10            0.1374      0.305      0.450      0.652        -0.461     0.736\n",
      "x11           -0.0537      0.097     -0.551      0.582        -0.245     0.137\n",
      "x12           -0.0960      0.263     -0.365      0.715        -0.611     0.419\n",
      "x13           -0.0031      0.002     -2.006      0.045        -0.006 -6.75e-05\n",
      "==============================================================================\n",
      "Omnibus:                       11.803   Durbin-Watson:                   1.679\n",
      "Prob(Omnibus):                  0.003   Jarque-Bera (JB):               15.249\n",
      "Skew:                           0.116   Prob(JB):                     0.000488\n",
      "Kurtosis:                       3.483   Cond. No.                     1.90e+06\n",
      "==============================================================================\n",
      "\n",
      "Warnings:\n",
      "[1] Standard Errors assume that the covariance matrix of the errors is correctly specified.\n",
      "[2] The condition number is large, 1.9e+06. This might indicate that there are\n",
      "strong multicollinearity or other numerical problems.\n"
     ]
    }
   ],
   "source": [
    "Total_VoteRW = RepW['total_votes']\n",
    "Total_SpendRW = [RepW['c1'],RepW['c2'],RepW['c3'],RepW['c4'],RepW['c5'],RepW['c6'],RepW['c7'],RepW['c8'],RepW['c9'],RepW['c10'],RepW['c11'],RepW['c12'],RepW['c13']]\n",
    "\n",
    "def reg_m(Total_VoteRW,Total_SpendRW):\n",
    "    Total_SpendRW=np.array(Total_SpendRW).T\n",
    "    Total_SpendRW=sm.add_constant(Total_SpendRW)\n",
    "    model=sm.OLS(endog=Total_VoteRW,exog=Total_SpendRW)\n",
    "    results=model.fit()\n",
    "    return results\n",
    "\n",
    "print (reg_m(Total_VoteRW,Total_SpendRW).summary())"
   ]
  },
  {
   "cell_type": "code",
   "execution_count": 296,
   "metadata": {
    "collapsed": false
   },
   "outputs": [
    {
     "name": "stdout",
     "output_type": "stream",
     "text": [
      "                            OLS Regression Results                            \n",
      "==============================================================================\n",
      "Dep. Variable:            total_votes   R-squared:                       0.013\n",
      "Model:                            OLS   Adj. R-squared:                  0.001\n",
      "Method:                 Least Squares   F-statistic:                     1.064\n",
      "Date:                Fri, 08 Sep 2017   Prob (F-statistic):              0.387\n",
      "Time:                        22:35:53   Log-Likelihood:                -12978.\n",
      "No. Observations:                1030   AIC:                         2.598e+04\n",
      "Df Residuals:                    1016   BIC:                         2.605e+04\n",
      "Df Model:                          13                                         \n",
      "Covariance Type:            nonrobust                                         \n",
      "==============================================================================\n",
      "                 coef    std err          t      P>|t|      [95.0% Conf. Int.]\n",
      "------------------------------------------------------------------------------\n",
      "const       1.916e+05   3703.850     51.718      0.000      1.84e+05  1.99e+05\n",
      "x1             0.0020      0.016      0.120      0.905        -0.030     0.034\n",
      "x2            -0.0489      0.175     -0.280      0.780        -0.392     0.294\n",
      "x3            -0.0499      0.033     -1.492      0.136        -0.116     0.016\n",
      "x4            -0.0175      0.014     -1.262      0.207        -0.045     0.010\n",
      "x5             0.2873      0.171      1.681      0.093        -0.048     0.623\n",
      "x6            -0.0935      0.075     -1.253      0.210        -0.240     0.053\n",
      "x7            -0.0570      0.072     -0.788      0.431        -0.199     0.085\n",
      "x8             0.1282      0.394      0.326      0.745        -0.644     0.901\n",
      "x9            -1.4870      1.405     -1.058      0.290        -4.244     1.270\n",
      "x10           -0.5344      6.313     -0.085      0.933       -12.923    11.854\n",
      "x11            0.0033      0.167      0.020      0.984        -0.324     0.330\n",
      "x12           -0.1277      0.372     -0.343      0.732        -0.858     0.603\n",
      "x13           -0.0073      0.003     -2.350      0.019        -0.013    -0.001\n",
      "==============================================================================\n",
      "Omnibus:                        4.760   Durbin-Watson:                   1.323\n",
      "Prob(Omnibus):                  0.093   Jarque-Bera (JB):                4.788\n",
      "Skew:                           0.166   Prob(JB):                       0.0913\n",
      "Kurtosis:                       2.969   Cond. No.                     1.72e+06\n",
      "==============================================================================\n",
      "\n",
      "Warnings:\n",
      "[1] Standard Errors assume that the covariance matrix of the errors is correctly specified.\n",
      "[2] The condition number is large, 1.72e+06. This might indicate that there are\n",
      "strong multicollinearity or other numerical problems.\n"
     ]
    }
   ],
   "source": [
    "#Democrat incumbents who won in the general election\n",
    "Total_VoteDWInc = DemWInc['total_votes']\n",
    "Total_SpendDWInc = [DemWInc['c1'],DemWInc['c2'],DemWInc['c3'],DemWInc['c4'],DemWInc['c5'],DemWInc['c6'],DemWInc['c7'],DemWInc['c8'],DemWInc['c9'],DemWInc['c10'],DemWInc['c11'],DemWInc['c12'],DemWInc['c13']]\n",
    "\n",
    "def reg_m(Total_VoteDWInc,Total_SpendDWInc):\n",
    "    Total_SpendDWInc=np.array(Total_SpendDWInc).T\n",
    "    Total_SpendDWInc=sm.add_constant(Total_SpendDWInc)\n",
    "    model=sm.OLS(endog=Total_VoteDWInc,exog=Total_SpendDWInc)\n",
    "    results=model.fit()\n",
    "    return results\n",
    "\n",
    "print (reg_m(Total_VoteDWInc,Total_SpendDWInc).summary())"
   ]
  },
  {
   "cell_type": "code",
   "execution_count": 297,
   "metadata": {
    "collapsed": false
   },
   "outputs": [
    {
     "name": "stdout",
     "output_type": "stream",
     "text": [
      "                            OLS Regression Results                            \n",
      "==============================================================================\n",
      "Dep. Variable:            total_votes   R-squared:                       0.013\n",
      "Model:                            OLS   Adj. R-squared:                  0.001\n",
      "Method:                 Least Squares   F-statistic:                     1.066\n",
      "Date:                Fri, 08 Sep 2017   Prob (F-statistic):              0.385\n",
      "Time:                        22:35:54   Log-Likelihood:                -12978.\n",
      "No. Observations:                1057   AIC:                         2.598e+04\n",
      "Df Residuals:                    1043   BIC:                         2.605e+04\n",
      "Df Model:                          13                                         \n",
      "Covariance Type:            nonrobust                                         \n",
      "==============================================================================\n",
      "                 coef    std err          t      P>|t|      [95.0% Conf. Int.]\n",
      "------------------------------------------------------------------------------\n",
      "const       1.974e+05   2374.261     83.136      0.000      1.93e+05  2.02e+05\n",
      "x1            -0.0056      0.003     -1.656      0.098        -0.012     0.001\n",
      "x2            -0.0027      0.090     -0.030      0.976        -0.179     0.174\n",
      "x3             0.0204      0.011      1.864      0.063        -0.001     0.042\n",
      "x4            -0.0084      0.008     -1.037      0.300        -0.024     0.007\n",
      "x5             0.0543      0.107      0.505      0.614        -0.157     0.265\n",
      "x6            -0.0790      0.051     -1.553      0.121        -0.179     0.021\n",
      "x7            -0.0240      0.080     -0.299      0.765        -0.181     0.133\n",
      "x8            -0.0631      0.105     -0.603      0.546        -0.268     0.142\n",
      "x9             0.7161      1.089      0.658      0.511        -1.421     2.853\n",
      "x10            0.0963      0.312      0.309      0.758        -0.516     0.709\n",
      "x11           -0.1108      0.097     -1.143      0.253        -0.301     0.079\n",
      "x12           -0.1467      0.257     -0.571      0.568        -0.651     0.357\n",
      "x13           -0.0036      0.002     -2.177      0.030        -0.007    -0.000\n",
      "==============================================================================\n",
      "Omnibus:                        9.750   Durbin-Watson:                   1.659\n",
      "Prob(Omnibus):                  0.008   Jarque-Bera (JB):                9.998\n",
      "Skew:                           0.200   Prob(JB):                      0.00674\n",
      "Kurtosis:                       3.258   Cond. No.                     1.81e+06\n",
      "==============================================================================\n",
      "\n",
      "Warnings:\n",
      "[1] Standard Errors assume that the covariance matrix of the errors is correctly specified.\n",
      "[2] The condition number is large, 1.81e+06. This might indicate that there are\n",
      "strong multicollinearity or other numerical problems.\n"
     ]
    }
   ],
   "source": [
    "#Republican Incumbents who won in the general election\n",
    "Total_VoteRWInc = RepWInc['total_votes']\n",
    "Total_SpendRWInc = [RepWInc['c1'],RepWInc['c2'],RepWInc['c3'],RepWInc['c4'],RepWInc['c5'],RepWInc['c6'],RepWInc['c7'],RepWInc['c8'],RepWInc['c9'],RepWInc['c10'],RepWInc['c11'],RepWInc['c12'],RepWInc['c13']]\n",
    "\n",
    "def reg_m(Total_VoteRWInc,Total_SpendRWInc):\n",
    "    Total_SpendRWInc=np.array(Total_SpendRWInc).T\n",
    "    Total_SpendRWInc=sm.add_constant(Total_SpendRWInc)\n",
    "    model=sm.OLS(endog=Total_VoteRWInc,exog=Total_SpendRWInc)\n",
    "    results=model.fit()\n",
    "    return results\n",
    "\n",
    "print (reg_m(Total_VoteRWInc,Total_SpendRWInc).summary())"
   ]
  },
  {
   "cell_type": "code",
   "execution_count": 298,
   "metadata": {
    "collapsed": false
   },
   "outputs": [
    {
     "name": "stdout",
     "output_type": "stream",
     "text": [
      "                            OLS Regression Results                            \n",
      "==============================================================================\n",
      "Dep. Variable:            total_votes   R-squared:                       0.127\n",
      "Model:                            OLS   Adj. R-squared:                  0.052\n",
      "Method:                 Least Squares   F-statistic:                     1.696\n",
      "Date:                Fri, 08 Sep 2017   Prob (F-statistic):             0.0669\n",
      "Time:                        22:35:56   Log-Likelihood:                -2021.1\n",
      "No. Observations:                 165   AIC:                             4070.\n",
      "Df Residuals:                     151   BIC:                             4114.\n",
      "Df Model:                          13                                         \n",
      "Covariance Type:            nonrobust                                         \n",
      "==============================================================================\n",
      "                 coef    std err          t      P>|t|      [95.0% Conf. Int.]\n",
      "------------------------------------------------------------------------------\n",
      "const       1.441e+05   8431.803     17.091      0.000      1.27e+05  1.61e+05\n",
      "x1            -0.0229      0.025     -0.907      0.366        -0.073     0.027\n",
      "x2             0.2714      0.597      0.455      0.650        -0.908     1.451\n",
      "x3             0.0362      0.082      0.439      0.661        -0.127     0.199\n",
      "x4             0.0086      0.013      0.651      0.516        -0.017     0.035\n",
      "x5            -0.0870      0.105     -0.826      0.410        -0.295     0.121\n",
      "x6             0.0225      0.023      0.988      0.325        -0.023     0.068\n",
      "x7            -0.4073      0.538     -0.757      0.450        -1.470     0.656\n",
      "x8             0.4113      0.565      0.728      0.468        -0.705     1.527\n",
      "x9            -2.3445      2.336     -1.004      0.317        -6.959     2.270\n",
      "x10           -1.6969      6.222     -0.273      0.785       -13.990    10.596\n",
      "x11            0.9826      0.412      2.384      0.018         0.168     1.797\n",
      "x12            7.4812      4.321      1.731      0.085        -1.056    16.018\n",
      "x13            0.0115      0.004      2.906      0.004         0.004     0.019\n",
      "==============================================================================\n",
      "Omnibus:                        9.826   Durbin-Watson:                   1.653\n",
      "Prob(Omnibus):                  0.007   Jarque-Bera (JB):               13.015\n",
      "Skew:                           0.376   Prob(JB):                      0.00149\n",
      "Kurtosis:                       4.152   Cond. No.                     3.54e+06\n",
      "==============================================================================\n",
      "\n",
      "Warnings:\n",
      "[1] Standard Errors assume that the covariance matrix of the errors is correctly specified.\n",
      "[2] The condition number is large, 3.54e+06. This might indicate that there are\n",
      "strong multicollinearity or other numerical problems.\n"
     ]
    }
   ],
   "source": [
    "#Democrat challengers who won in the general election\n",
    "Total_VoteDWC = DemWC['total_votes']\n",
    "Total_SpendDWC = [DemWC['c1'],DemWC['c2'],DemWC['c3'],DemWC['c4'],DemWC['c5'],DemWC['c6'],DemWC['c7'],DemWC['c8'],DemWC['c9'],DemWC['c10'],DemWC['c11'],DemWC['c12'],DemWC['c13']]\n",
    "\n",
    "def reg_m(Total_VoteDWC,Total_SpendDWC):\n",
    "    Total_SpendDWC=np.array(Total_SpendDWC).T\n",
    "    Total_SpendDWC=sm.add_constant(Total_SpendDWC)\n",
    "    model=sm.OLS(endog=Total_VoteDWC,exog=Total_SpendDWC)\n",
    "    results=model.fit()\n",
    "    return results\n",
    "\n",
    "print (reg_m(Total_VoteDWC,Total_SpendDWC).summary())"
   ]
  },
  {
   "cell_type": "code",
   "execution_count": 299,
   "metadata": {
    "collapsed": false
   },
   "outputs": [
    {
     "name": "stdout",
     "output_type": "stream",
     "text": [
      "                            OLS Regression Results                            \n",
      "==============================================================================\n",
      "Dep. Variable:            total_votes   R-squared:                       0.328\n",
      "Model:                            OLS   Adj. R-squared:                  0.325\n",
      "Method:                 Least Squares   F-statistic:                     128.8\n",
      "Date:                Fri, 08 Sep 2017   Prob (F-statistic):          3.08e-284\n",
      "Time:                        22:35:58   Log-Likelihood:                -41837.\n",
      "No. Observations:                3450   AIC:                         8.370e+04\n",
      "Df Residuals:                    3436   BIC:                         8.379e+04\n",
      "Df Model:                          13                                         \n",
      "Covariance Type:            nonrobust                                         \n",
      "==============================================================================\n",
      "                 coef    std err          t      P>|t|      [95.0% Conf. Int.]\n",
      "------------------------------------------------------------------------------\n",
      "const       2.662e+04    849.845     31.325      0.000       2.5e+04  2.83e+04\n",
      "x1             0.0561      0.004     13.455      0.000         0.048     0.064\n",
      "x2             1.0890      0.133      8.214      0.000         0.829     1.349\n",
      "x3             0.0042      0.007      0.613      0.540        -0.009     0.018\n",
      "x4             0.0162      0.006      2.885      0.004         0.005     0.027\n",
      "x5             0.3704      0.101      3.654      0.000         0.172     0.569\n",
      "x6            -0.0379      0.024     -1.561      0.119        -0.086     0.010\n",
      "x7             0.2422      0.093      2.605      0.009         0.060     0.425\n",
      "x8            -3.1719      1.705     -1.861      0.063        -6.515     0.171\n",
      "x9             0.1278      0.903      0.142      0.887        -1.643     1.898\n",
      "x10           -5.1038      1.219     -4.186      0.000        -7.494    -2.713\n",
      "x11            1.4339      0.418      3.433      0.001         0.615     2.253\n",
      "x12           -2.8704      1.877     -1.530      0.126        -6.550     0.809\n",
      "x13            0.0483      0.002     29.826      0.000         0.045     0.051\n",
      "==============================================================================\n",
      "Omnibus:                      665.554   Durbin-Watson:                   1.713\n",
      "Prob(Omnibus):                  0.000   Jarque-Bera (JB):             1848.928\n",
      "Skew:                           1.017   Prob(JB):                         0.00\n",
      "Kurtosis:                       5.953   Cond. No.                     5.49e+05\n",
      "==============================================================================\n",
      "\n",
      "Warnings:\n",
      "[1] Standard Errors assume that the covariance matrix of the errors is correctly specified.\n",
      "[2] The condition number is large, 5.49e+05. This might indicate that there are\n",
      "strong multicollinearity or other numerical problems.\n"
     ]
    }
   ],
   "source": [
    "#Republican challengers who won in the general election\n",
    "Total_VoteRWC = RepWC['total_votes']\n",
    "Total_SpendRWC = [RepWC['c1'],RepWC['c2'],RepWC['c3'],RepWC['c4'],RepWC['c5'],RepWC['c6'],RepWC['c7'],RepWC['c8'],RepWC['c9'],RepWC['c10'],RepWC['c11'],RepWC['c12'],RepWC['c13']]\n",
    "\n",
    "def reg_m(Total_VoteRWC,Total_SpendRWC):\n",
    "    Total_SpendRWC=np.array(Total_SpendRWC).T\n",
    "    Total_SpendRWC=sm.add_constant(Total_SpendRWC)\n",
    "    model=sm.OLS(endog=Total_VoteRWC,exog=Total_SpendRWC)\n",
    "    results=model.fit()\n",
    "    return results\n",
    "\n",
    "print (reg_m(Total_VoteRWC,Total_SpendRWC).summary())"
   ]
  },
  {
   "cell_type": "markdown",
   "metadata": {},
   "source": [
    "Confidence Interval for General Votes"
   ]
  },
  {
   "cell_type": "code",
   "execution_count": 300,
   "metadata": {
    "collapsed": false
   },
   "outputs": [
    {
     "name": "stdout",
     "output_type": "stream",
     "text": [
      "(83482.144823597453, 81701.697395669762, 85262.592251525144)\n"
     ]
    }
   ],
   "source": [
    "Total_Vote = Gen['total_votes']\n",
    "\n",
    "def mean_confidence_interval(Total_Vote, confidence=0.95):\n",
    "    a = 1.0*np.array(Total_Vote)\n",
    "    n = len(a)\n",
    "    m, se = np.mean(a), scipy.stats.sem(a)\n",
    "    h = se * sp.stats.t._ppf((1+confidence)/2., n-1)\n",
    "    return m, m-h, m+h\n",
    "\n",
    "print (mean_confidence_interval(Total_Vote, confidence=0.95))"
   ]
  },
  {
   "cell_type": "code",
   "execution_count": 301,
   "metadata": {
    "collapsed": false
   },
   "outputs": [
    {
     "name": "stdout",
     "output_type": "stream",
     "text": [
      "(10.446166968143295, 9.5668091478130375, 11.325524788473553)\n"
     ]
    }
   ],
   "source": [
    "costvote = Gen['costvote']\n",
    "\n",
    "def mean_confidence_interval(costvote, confidence=0.95):\n",
    "    a = 1.0*np.array(costvote)\n",
    "    n = len(a)\n",
    "    m, se = np.mean(a), scipy.stats.sem(a)\n",
    "    h = se * sp.stats.t._ppf((1+confidence)/2., n-1)\n",
    "    return m, m-h, m+h\n",
    "\n",
    "print (mean_confidence_interval(costvote, confidence=0.95))"
   ]
  },
  {
   "cell_type": "markdown",
   "metadata": {},
   "source": [
    "Confidence Interval for General Election Winners and Losers"
   ]
  },
  {
   "cell_type": "code",
   "execution_count": 302,
   "metadata": {
    "collapsed": false
   },
   "outputs": [
    {
     "name": "stdout",
     "output_type": "stream",
     "text": [
      "(184325.822600243, 181854.20740898463, 186797.43779150138)\n"
     ]
    }
   ],
   "source": [
    "Total_VoteW = Winner['total_votes']\n",
    "\n",
    "def mean_confidence_interval(Total_VoteW, confidence=0.95):\n",
    "    a = 1.0*np.array(Total_VoteW)\n",
    "    n = len(a)\n",
    "    m, se = np.mean(a), scipy.stats.sem(a)\n",
    "    h = se * sp.stats.t._ppf((1+confidence)/2., n-1)\n",
    "    return m, m-h, m+h\n",
    "\n",
    "print (mean_confidence_interval(Total_VoteW, confidence=0.95))"
   ]
  },
  {
   "cell_type": "code",
   "execution_count": 303,
   "metadata": {
    "collapsed": false
   },
   "outputs": [
    {
     "name": "stdout",
     "output_type": "stream",
     "text": [
      "(7.1708926788598646, 6.8766993574201578, 7.4650860002995714)\n"
     ]
    }
   ],
   "source": [
    "costvoteW = Winner['costvote']\n",
    "\n",
    "def mean_confidence_interval(costvoteW, confidence=0.95):\n",
    "    a = 1.0*np.array(costvoteW)\n",
    "    n = len(a)\n",
    "    m, se = np.mean(a), scipy.stats.sem(a)\n",
    "    h = se * sp.stats.t._ppf((1+confidence)/2., n-1)\n",
    "    return m, m-h, m+h\n",
    "\n",
    "print (mean_confidence_interval(costvoteW, confidence=0.95))"
   ]
  },
  {
   "cell_type": "code",
   "execution_count": 304,
   "metadata": {
    "collapsed": false
   },
   "outputs": [
    {
     "name": "stdout",
     "output_type": "stream",
     "text": [
      "(43167.533354922278, 41865.586564483965, 44469.480145360591)\n"
     ]
    }
   ],
   "source": [
    "Total_VoteL = Loser['total_votes']\n",
    "\n",
    "def mean_confidence_interval(Total_VoteL, confidence=0.95):\n",
    "    a = 1.0*np.array(Total_VoteL)\n",
    "    n = len(a)\n",
    "    m, se = np.mean(a), scipy.stats.sem(a)\n",
    "    h = se * sp.stats.t._ppf((1+confidence)/2., n-1)\n",
    "    return m, m-h, m+h\n",
    "\n",
    "print (mean_confidence_interval(Total_VoteL, confidence=0.95))"
   ]
  },
  {
   "cell_type": "code",
   "execution_count": 305,
   "metadata": {
    "collapsed": false
   },
   "outputs": [
    {
     "name": "stdout",
     "output_type": "stream",
     "text": [
      "(11.755534231783319, 10.531687065390454, 12.979381398176184)\n"
     ]
    }
   ],
   "source": [
    "costvoteL = Loser['costvote']\n",
    "\n",
    "def mean_confidence_interval(costvoteL, confidence=0.95):\n",
    "    a = 1.0*np.array(costvoteL)\n",
    "    n = len(a)\n",
    "    m, se = np.mean(a), scipy.stats.sem(a)\n",
    "    h = se * sp.stats.t._ppf((1+confidence)/2., n-1)\n",
    "    return m, m-h, m+h\n",
    "\n",
    "print (mean_confidence_interval(costvoteL, confidence=0.95))"
   ]
  },
  {
   "cell_type": "markdown",
   "metadata": {},
   "source": [
    "Confidence Interval for Democrats and Republicans in General Election"
   ]
  },
  {
   "cell_type": "code",
   "execution_count": 306,
   "metadata": {
    "collapsed": false
   },
   "outputs": [
    {
     "name": "stdout",
     "output_type": "stream",
     "text": [
      "(89618.017374038216, 87005.91963017665, 92230.115117899782)\n"
     ]
    }
   ],
   "source": [
    "Total_VoteD = Dem['total_votes']\n",
    "\n",
    "def mean_confidence_interval(Total_VoteD, confidence=0.95):\n",
    "    a = 1.0*np.array(Total_VoteD)\n",
    "    n = len(a)\n",
    "    m, se = np.mean(a), scipy.stats.sem(a)\n",
    "    h = se * sp.stats.t._ppf((1+confidence)/2., n-1)\n",
    "    return m, m-h, m+h\n",
    "\n",
    "print (mean_confidence_interval(Total_VoteD, confidence=0.95))"
   ]
  },
  {
   "cell_type": "code",
   "execution_count": 307,
   "metadata": {
    "collapsed": false
   },
   "outputs": [
    {
     "name": "stdout",
     "output_type": "stream",
     "text": [
      "(10.400559945134189, 8.7541908923424359, 12.046928997925942)\n"
     ]
    }
   ],
   "source": [
    "costvoteD = Dem['costvote']\n",
    "\n",
    "def mean_confidence_interval(costvoteD, confidence=0.95):\n",
    "    a = 1.0*np.array(costvoteD)\n",
    "    n = len(a)\n",
    "    m, se = np.mean(a), scipy.stats.sem(a)\n",
    "    h = se * sp.stats.t._ppf((1+confidence)/2., n-1)\n",
    "    return m, m-h, m+h\n",
    "\n",
    "print (mean_confidence_interval(costvoteD, confidence=0.95))"
   ]
  },
  {
   "cell_type": "code",
   "execution_count": 308,
   "metadata": {
    "collapsed": false
   },
   "outputs": [
    {
     "name": "stdout",
     "output_type": "stream",
     "text": [
      "(78126.548960138651, 75702.945864644091, 80550.152055633211)\n"
     ]
    }
   ],
   "source": [
    "Total_VoteR = Rep['total_votes']\n",
    "\n",
    "def mean_confidence_interval(Total_VoteR, confidence=0.95):\n",
    "    a = 1.0*np.array(Total_VoteR)\n",
    "    n = len(a)\n",
    "    m, se = np.mean(a), scipy.stats.sem(a)\n",
    "    h = se * sp.stats.t._ppf((1+confidence)/2., n-1)\n",
    "    return m, m-h, m+h\n",
    "\n",
    "print (mean_confidence_interval(Total_VoteR, confidence=0.95))"
   ]
  },
  {
   "cell_type": "code",
   "execution_count": 309,
   "metadata": {
    "collapsed": false
   },
   "outputs": [
    {
     "name": "stdout",
     "output_type": "stream",
     "text": [
      "(10.485974311233349, 9.6807289234839828, 11.291219698982715)\n"
     ]
    }
   ],
   "source": [
    "costvoteR = Rep['costvote']\n",
    "\n",
    "def mean_confidence_interval(costvoteR, confidence=0.95):\n",
    "    a = 1.0*np.array(costvoteR)\n",
    "    n = len(a)\n",
    "    m, se = np.mean(a), scipy.stats.sem(a)\n",
    "    h = se * sp.stats.t._ppf((1+confidence)/2., n-1)\n",
    "    return m, m-h, m+h\n",
    "\n",
    "print (mean_confidence_interval(costvoteR, confidence=0.95))"
   ]
  },
  {
   "cell_type": "markdown",
   "metadata": {},
   "source": [
    "Confidence Intervals for Democrats and Republicans who who in General Election "
   ]
  },
  {
   "cell_type": "code",
   "execution_count": 310,
   "metadata": {
    "collapsed": false
   },
   "outputs": [
    {
     "name": "stdout",
     "output_type": "stream",
     "text": [
      "(180069.81422594143, 176066.61213110897, 184073.0163207739)\n"
     ]
    }
   ],
   "source": [
    "Total_VoteDW = DemW['total_votes']\n",
    "\n",
    "def mean_confidence_interval(Total_VoteDW, confidence=0.95):\n",
    "    a = 1.0*np.array(Total_VoteDW)\n",
    "    n = len(a)\n",
    "    m, se = np.mean(a), scipy.stats.sem(a)\n",
    "    h = se * sp.stats.t._ppf((1+confidence)/2., n-1)\n",
    "    return m, m-h, m+h\n",
    "\n",
    "print (mean_confidence_interval(Total_VoteDW, confidence=0.95))"
   ]
  },
  {
   "cell_type": "code",
   "execution_count": 311,
   "metadata": {
    "collapsed": false
   },
   "outputs": [
    {
     "name": "stdout",
     "output_type": "stream",
     "text": [
      "(7.0124364088370026, 6.6069732320661476, 7.4178995856078576)\n"
     ]
    }
   ],
   "source": [
    "costvoteDW = DemW['costvote']\n",
    "\n",
    "def mean_confidence_interval(costvoteDW, confidence=0.95):\n",
    "    a = 1.0*np.array(costvoteDW)\n",
    "    n = len(a)\n",
    "    m, se = np.mean(a), scipy.stats.sem(a)\n",
    "    h = se * sp.stats.t._ppf((1+confidence)/2., n-1)\n",
    "    return m, m-h, m+h\n",
    "\n",
    "print (mean_confidence_interval(costvoteDW, confidence=0.95))"
   ]
  },
  {
   "cell_type": "code",
   "execution_count": 312,
   "metadata": {
    "collapsed": false
   },
   "outputs": [
    {
     "name": "stdout",
     "output_type": "stream",
     "text": [
      "(188317.91836734695, 185355.34312548547, 191280.49360920844)\n"
     ]
    }
   ],
   "source": [
    "Total_VoteRW = RepW['total_votes']\n",
    "\n",
    "def mean_confidence_interval(Total_VoteRW, confidence=0.95):\n",
    "    a = 1.0*np.array(Total_VoteRW)\n",
    "    n = len(a)\n",
    "    m, se = np.mean(a), scipy.stats.sem(a)\n",
    "    h = se * sp.stats.t._ppf((1+confidence)/2., n-1)\n",
    "    return m, m-h, m+h\n",
    "\n",
    "print (mean_confidence_interval(Total_VoteRW, confidence=0.95))"
   ]
  },
  {
   "cell_type": "code",
   "execution_count": 313,
   "metadata": {
    "collapsed": false
   },
   "outputs": [
    {
     "name": "stdout",
     "output_type": "stream",
     "text": [
      "(7.3195231676175734, 6.8943980744068414, 7.7446482608283054)\n"
     ]
    }
   ],
   "source": [
    "costvoteRW = RepW['costvote']\n",
    "\n",
    "def mean_confidence_interval(costvoteRW, confidence=0.95):\n",
    "    a = 1.0*np.array(costvoteRW)\n",
    "    n = len(a)\n",
    "    m, se = np.mean(a), scipy.stats.sem(a)\n",
    "    h = se * sp.stats.t._ppf((1+confidence)/2., n-1)\n",
    "    return m, m-h, m+h\n",
    "\n",
    "print (mean_confidence_interval(costvoteRW, confidence=0.95))"
   ]
  },
  {
   "cell_type": "markdown",
   "metadata": {},
   "source": [
    "Confidence Interval of Democrats and Republican Incumbents who won the General Election"
   ]
  },
  {
   "cell_type": "code",
   "execution_count": 314,
   "metadata": {
    "collapsed": false
   },
   "outputs": [
    {
     "name": "stdout",
     "output_type": "stream",
     "text": [
      "(183375.10097087378, 178955.59196773914, 187794.60997400843)\n"
     ]
    }
   ],
   "source": [
    "Total_VoteDWInc = DemWInc['total_votes']\n",
    "\n",
    "def mean_confidence_interval(Total_VoteDWInc, confidence=0.95):\n",
    "    a = 1.0*np.array(Total_VoteDWInc)\n",
    "    n = len(a)\n",
    "    m, se = np.mean(a), scipy.stats.sem(a)\n",
    "    h = se * sp.stats.t._ppf((1+confidence)/2., n-1)\n",
    "    return m, m-h, m+h\n",
    "\n",
    "print (mean_confidence_interval(Total_VoteDWInc, confidence=0.95))"
   ]
  },
  {
   "cell_type": "code",
   "execution_count": 315,
   "metadata": {
    "collapsed": false
   },
   "outputs": [
    {
     "name": "stdout",
     "output_type": "stream",
     "text": [
      "(6.1994589242722391, 5.7943148208196664, 6.6046030277248118)\n"
     ]
    }
   ],
   "source": [
    "costvoteDWInc = DemWInc['costvote']\n",
    "\n",
    "def mean_confidence_interval(costvoteDWInc, confidence=0.95):\n",
    "    a = 1.0*np.array(costvoteDWInc)\n",
    "    n = len(a)\n",
    "    m, se = np.mean(a), scipy.stats.sem(a)\n",
    "    h = se * sp.stats.t._ppf((1+confidence)/2., n-1)\n",
    "    return m, m-h, m+h\n",
    "\n",
    "print (mean_confidence_interval(costvoteDWInc, confidence=0.95))"
   ]
  },
  {
   "cell_type": "code",
   "execution_count": 316,
   "metadata": {
    "collapsed": false
   },
   "outputs": [
    {
     "name": "stdout",
     "output_type": "stream",
     "text": [
      "(193660.6830652791, 190498.86345901378, 196822.50267154441)\n"
     ]
    }
   ],
   "source": [
    "Total_VoteRWInc = RepWInc['total_votes']\n",
    "\n",
    "def mean_confidence_interval(Total_VoteRWInc, confidence=0.95):\n",
    "    a = 1.0*np.array(Total_VoteRWInc)\n",
    "    n = len(a)\n",
    "    m, se = np.mean(a), scipy.stats.sem(a)\n",
    "    h = se * sp.stats.t._ppf((1+confidence)/2., n-1)\n",
    "    return m, m-h, m+h\n",
    "\n",
    "print (mean_confidence_interval(Total_VoteRWInc, confidence=0.95))"
   ]
  },
  {
   "cell_type": "code",
   "execution_count": 317,
   "metadata": {
    "collapsed": false
   },
   "outputs": [
    {
     "name": "stdout",
     "output_type": "stream",
     "text": [
      "(6.6228137177639201, 6.1849022513500271, 7.0607251841778131)\n"
     ]
    }
   ],
   "source": [
    "costvoteRWInc = RepWInc['costvote']\n",
    "\n",
    "def mean_confidence_interval(costvoteRWInc, confidence=0.95):\n",
    "    a = 1.0*np.array(costvoteRWInc)\n",
    "    n = len(a)\n",
    "    m, se = np.mean(a), scipy.stats.sem(a)\n",
    "    h = se * sp.stats.t._ppf((1+confidence)/2., n-1)\n",
    "    return m, m-h, m+h\n",
    "\n",
    "print (mean_confidence_interval(costvoteRWInc, confidence=0.95))"
   ]
  },
  {
   "cell_type": "markdown",
   "metadata": {},
   "source": [
    "Confidence Intervals for Democrats and Republicans challengers who won the General Election"
   ]
  },
  {
   "cell_type": "code",
   "execution_count": 318,
   "metadata": {
    "collapsed": false
   },
   "outputs": [
    {
     "name": "stdout",
     "output_type": "stream",
     "text": [
      "(159436.81212121213, 151098.67221591758, 167774.95202650668)\n"
     ]
    }
   ],
   "source": [
    "Total_VoteDWC = DemWC['total_votes']\n",
    "\n",
    "def mean_confidence_interval(Total_VoteDWC, confidence=0.95):\n",
    "    a = 1.0*np.array(Total_VoteDWC)\n",
    "    n = len(a)\n",
    "    m, se = np.mean(a), scipy.stats.sem(a)\n",
    "    h = se * sp.stats.t._ppf((1+confidence)/2., n-1)\n",
    "    return m, m-h, m+h\n",
    "\n",
    "print (mean_confidence_interval(Total_VoteDWC, confidence=0.95))"
   ]
  },
  {
   "cell_type": "code",
   "execution_count": 319,
   "metadata": {
    "collapsed": false
   },
   "outputs": [
    {
     "name": "stdout",
     "output_type": "stream",
     "text": [
      "(12.087386767029166, 10.838334032095045, 13.336439501963287)\n"
     ]
    }
   ],
   "source": [
    "costvoteDWC = DemWC['costvote']\n",
    "\n",
    "def mean_confidence_interval(costvoteDWC, confidence=0.95):\n",
    "    a = 1.0*np.array(costvoteDWC)\n",
    "    n = len(a)\n",
    "    m, se = np.mean(a), scipy.stats.sem(a)\n",
    "    h = se * sp.stats.t._ppf((1+confidence)/2., n-1)\n",
    "    return m, m-h, m+h\n",
    "\n",
    "print (mean_confidence_interval(costvoteDWC, confidence=0.95))"
   ]
  },
  {
   "cell_type": "code",
   "execution_count": 320,
   "metadata": {
    "collapsed": false
   },
   "outputs": [
    {
     "name": "stdout",
     "output_type": "stream",
     "text": [
      "(41312.284057971017, 39492.302493211282, 43132.265622730753)\n"
     ]
    }
   ],
   "source": [
    "Total_VoteRWC = RepWC['total_votes']\n",
    "\n",
    "def mean_confidence_interval(Total_VoteRWC, confidence=0.95):\n",
    "    a = 1.0*np.array(Total_VoteRWC)\n",
    "    n = len(a)\n",
    "    m, se = np.mean(a), scipy.stats.sem(a)\n",
    "    h = se * sp.stats.t._ppf((1+confidence)/2., n-1)\n",
    "    return m, m-h, m+h\n",
    "\n",
    "print (mean_confidence_interval(Total_VoteRWC, confidence=0.95))"
   ]
  },
  {
   "cell_type": "code",
   "execution_count": 321,
   "metadata": {
    "collapsed": false
   },
   "outputs": [
    {
     "name": "stdout",
     "output_type": "stream",
     "text": [
      "(11.224644169122037, 10.181625991662983, 12.267662346581091)\n"
     ]
    }
   ],
   "source": [
    "costvoteRWC = RepWC['costvote']\n",
    "\n",
    "def mean_confidence_interval(costvoteRWC, confidence=0.95):\n",
    "    a = 1.0*np.array(costvoteRWC)\n",
    "    n = len(a)\n",
    "    m, se = np.mean(a), scipy.stats.sem(a)\n",
    "    h = se * sp.stats.t._ppf((1+confidence)/2., n-1)\n",
    "    return m, m-h, m+h\n",
    "\n",
    "print (mean_confidence_interval(costvoteRWC, confidence=0.95))"
   ]
  },
  {
   "cell_type": "markdown",
   "metadata": {},
   "source": [
    "# Scikit Learn Regression"
   ]
  },
  {
   "cell_type": "code",
   "execution_count": 326,
   "metadata": {
    "collapsed": false
   },
   "outputs": [
    {
     "data": {
      "text/html": [
       "<div>\n",
       "<table border=\"1\" class=\"dataframe\">\n",
       "  <thead>\n",
       "    <tr style=\"text-align: right;\">\n",
       "      <th></th>\n",
       "      <th>c1</th>\n",
       "      <th>c2</th>\n",
       "      <th>c3</th>\n",
       "      <th>c4</th>\n",
       "      <th>c5</th>\n",
       "      <th>c6</th>\n",
       "      <th>c7</th>\n",
       "      <th>c8</th>\n",
       "      <th>c9</th>\n",
       "      <th>c10</th>\n",
       "      <th>c11</th>\n",
       "      <th>c12</th>\n",
       "      <th>c13</th>\n",
       "    </tr>\n",
       "  </thead>\n",
       "  <tbody>\n",
       "    <tr>\n",
       "      <th>5</th>\n",
       "      <td>11727.82</td>\n",
       "      <td>0.00</td>\n",
       "      <td>16964.09</td>\n",
       "      <td>0.00</td>\n",
       "      <td>0.0</td>\n",
       "      <td>0.00</td>\n",
       "      <td>0.00</td>\n",
       "      <td>0.0</td>\n",
       "      <td>0.0</td>\n",
       "      <td>0.0</td>\n",
       "      <td>0.0</td>\n",
       "      <td>0.0</td>\n",
       "      <td>666262.07</td>\n",
       "    </tr>\n",
       "    <tr>\n",
       "      <th>6</th>\n",
       "      <td>12132.25</td>\n",
       "      <td>0.00</td>\n",
       "      <td>16866.78</td>\n",
       "      <td>0.00</td>\n",
       "      <td>0.0</td>\n",
       "      <td>0.00</td>\n",
       "      <td>0.00</td>\n",
       "      <td>0.0</td>\n",
       "      <td>0.0</td>\n",
       "      <td>0.0</td>\n",
       "      <td>0.0</td>\n",
       "      <td>0.0</td>\n",
       "      <td>541474.45</td>\n",
       "    </tr>\n",
       "    <tr>\n",
       "      <th>14</th>\n",
       "      <td>54616.04</td>\n",
       "      <td>2343.79</td>\n",
       "      <td>71452.12</td>\n",
       "      <td>547321.04</td>\n",
       "      <td>27000.0</td>\n",
       "      <td>66857.04</td>\n",
       "      <td>9362.66</td>\n",
       "      <td>249.0</td>\n",
       "      <td>0.0</td>\n",
       "      <td>0.0</td>\n",
       "      <td>0.0</td>\n",
       "      <td>0.0</td>\n",
       "      <td>1626.96</td>\n",
       "    </tr>\n",
       "    <tr>\n",
       "      <th>15</th>\n",
       "      <td>54178.00</td>\n",
       "      <td>8154.95</td>\n",
       "      <td>121673.90</td>\n",
       "      <td>165131.27</td>\n",
       "      <td>17000.0</td>\n",
       "      <td>16138.18</td>\n",
       "      <td>9083.92</td>\n",
       "      <td>0.0</td>\n",
       "      <td>0.0</td>\n",
       "      <td>0.0</td>\n",
       "      <td>0.0</td>\n",
       "      <td>0.0</td>\n",
       "      <td>2321.95</td>\n",
       "    </tr>\n",
       "    <tr>\n",
       "      <th>16</th>\n",
       "      <td>15420.65</td>\n",
       "      <td>8540.32</td>\n",
       "      <td>91996.02</td>\n",
       "      <td>81481.66</td>\n",
       "      <td>15000.0</td>\n",
       "      <td>11833.66</td>\n",
       "      <td>2350.00</td>\n",
       "      <td>0.0</td>\n",
       "      <td>0.0</td>\n",
       "      <td>0.0</td>\n",
       "      <td>0.0</td>\n",
       "      <td>0.0</td>\n",
       "      <td>215.00</td>\n",
       "    </tr>\n",
       "  </tbody>\n",
       "</table>\n",
       "</div>"
      ],
      "text/plain": [
       "          c1       c2         c3         c4       c5        c6       c7  \\\n",
       "5   11727.82     0.00   16964.09       0.00      0.0      0.00     0.00   \n",
       "6   12132.25     0.00   16866.78       0.00      0.0      0.00     0.00   \n",
       "14  54616.04  2343.79   71452.12  547321.04  27000.0  66857.04  9362.66   \n",
       "15  54178.00  8154.95  121673.90  165131.27  17000.0  16138.18  9083.92   \n",
       "16  15420.65  8540.32   91996.02   81481.66  15000.0  11833.66  2350.00   \n",
       "\n",
       "       c8   c9  c10  c11  c12        c13  \n",
       "5     0.0  0.0  0.0  0.0  0.0  666262.07  \n",
       "6     0.0  0.0  0.0  0.0  0.0  541474.45  \n",
       "14  249.0  0.0  0.0  0.0  0.0    1626.96  \n",
       "15    0.0  0.0  0.0  0.0  0.0    2321.95  \n",
       "16    0.0  0.0  0.0  0.0  0.0     215.00  "
      ]
     },
     "execution_count": 326,
     "metadata": {},
     "output_type": "execute_result"
    }
   ],
   "source": [
    "feature_cols = ['c1', 'c2','c3', 'c4','c5','c6','c7','c8','c9','c10','c11','c12','c13']\n",
    "\n",
    "# use a list to select a subset of the original DataFrame\n",
    "X = RepW[feature_cols]\n",
    "\n",
    "# print the first five rows\n",
    "X.head()"
   ]
  },
  {
   "cell_type": "code",
   "execution_count": 327,
   "metadata": {
    "collapsed": false
   },
   "outputs": [
    {
     "name": "stdout",
     "output_type": "stream",
     "text": [
      "<class 'pandas.core.frame.DataFrame'>\n",
      "(1274, 13)\n"
     ]
    }
   ],
   "source": [
    "print (type(X))\n",
    "print (X.shape)"
   ]
  },
  {
   "cell_type": "code",
   "execution_count": 328,
   "metadata": {
    "collapsed": false
   },
   "outputs": [
    {
     "data": {
      "text/plain": [
       "5     180591.0\n",
       "6     113103.0\n",
       "14    166855.0\n",
       "15    254348.0\n",
       "16    164455.0\n",
       "Name: total_votes, dtype: float64"
      ]
     },
     "execution_count": 328,
     "metadata": {},
     "output_type": "execute_result"
    }
   ],
   "source": [
    "y = RepW['total_votes']\n",
    "y.head(5)"
   ]
  },
  {
   "cell_type": "code",
   "execution_count": 329,
   "metadata": {
    "collapsed": false
   },
   "outputs": [
    {
     "name": "stdout",
     "output_type": "stream",
     "text": [
      "<class 'pandas.core.series.Series'>\n",
      "(1274,)\n"
     ]
    }
   ],
   "source": [
    "print (type(y))\n",
    "print (y.shape)"
   ]
  },
  {
   "cell_type": "code",
   "execution_count": 330,
   "metadata": {
    "collapsed": false
   },
   "outputs": [
    {
     "data": {
      "text/plain": [
       "((1274, 13), (1274,))"
      ]
     },
     "execution_count": 330,
     "metadata": {},
     "output_type": "execute_result"
    }
   ],
   "source": [
    "X.shape, y.shape"
   ]
  },
  {
   "cell_type": "code",
   "execution_count": null,
   "metadata": {
    "collapsed": false
   },
   "outputs": [],
   "source": [
    "from sklearn.cross_validation import train_test_splitt\n",
    "X_train, X_test, y_train, y_test = train_test_split(X, y, test_size=0.4, random_state = 0)"
   ]
  },
  {
   "cell_type": "code",
   "execution_count": null,
   "metadata": {
    "collapsed": false
   },
   "outputs": [],
   "source": [
    "X_train.shape, y_train.shape"
   ]
  },
  {
   "cell_type": "code",
   "execution_count": null,
   "metadata": {
    "collapsed": false
   },
   "outputs": [],
   "source": [
    "X_test.shape, y_test.shape"
   ]
  },
  {
   "cell_type": "code",
   "execution_count": null,
   "metadata": {
    "collapsed": false
   },
   "outputs": [],
   "source": [
    "from sklearn.linear_model import LinearRegression\n",
    "\n",
    "# Fit regression to diabetes dataset\n",
    "model = LinearRegression()\n",
    "model.fit(X, y)\n",
    "\n",
    "expected  = y\n",
    "predicted = model.predict(X)\n",
    "\n",
    "# Evaluate fit of the model\n",
    "print(\"Mean Squared Error: %0.3f\" % mse(expected, predicted))\n",
    "print(\"Coefficient of Determination: %0.3f\" % r2_score(expected, predicted))"
   ]
  },
  {
   "cell_type": "code",
   "execution_count": null,
   "metadata": {
    "collapsed": false
   },
   "outputs": [],
   "source": [
    "# we import the model first\n",
    "\n",
    "from sklearn.linear_model import LinearRegression\n",
    "\n",
    "# im=ntantiate the model\n",
    "linreg = LinearRegression()\n",
    "\n",
    "# fit the model to the training data(Learn the coefficient)\n",
    "linreg.fit(X, y)"
   ]
  },
  {
   "cell_type": "code",
   "execution_count": null,
   "metadata": {
    "collapsed": false
   },
   "outputs": [],
   "source": [
    "#Linear Regression\n",
    "print('the Y intercept is :', linreg.intercept_)\n",
    "print ('the coefficients  are :', linreg.coef_)"
   ]
  },
  {
   "cell_type": "code",
   "execution_count": null,
   "metadata": {
    "collapsed": false
   },
   "outputs": [],
   "source": [
    "for idx, feature_cols in enumerate(X_train.columns):\n",
    "    print(\"The coefficient for {} is {}\".format(feature_cols, linreg.coef_[idx]))"
   ]
  },
  {
   "cell_type": "code",
   "execution_count": null,
   "metadata": {
    "collapsed": false
   },
   "outputs": [],
   "source": [
    "for idx, feature_cols in enumerate(X_train.columns):\n",
    "    print('the Y intercept is :', linreg.intercept_)"
   ]
  },
  {
   "cell_type": "code",
   "execution_count": null,
   "metadata": {
    "collapsed": false
   },
   "outputs": [],
   "source": [
    "RepW['party'].unique()"
   ]
  },
  {
   "cell_type": "code",
   "execution_count": null,
   "metadata": {
    "collapsed": false
   },
   "outputs": [],
   "source": [
    "expected  = X\n",
    "predicted = y\n",
    "\n",
    "\n",
    "# Evaluate fit of the model\n",
    "linreg.score(X, y)"
   ]
  },
  {
   "cell_type": "code",
   "execution_count": null,
   "metadata": {
    "collapsed": false
   },
   "outputs": [],
   "source": [
    "from sklearn.linear_model import Perceptron\n",
    "\n",
    "model = Perceptron()\n",
    "model.fit(X, y)\n",
    "\n",
    "expected  = y\n",
    "predicted = model.predict(X)\n",
    "\n",
    "# Evaluate fit of the model\n",
    "print(\"Mean Squared Error: %0.3f\" % mse(expected, predicted))\n",
    "print(\"Coefficient of Determination: %0.3f\" % r2_score(expected, predicted))"
   ]
  },
  {
   "cell_type": "code",
   "execution_count": null,
   "metadata": {
    "collapsed": false
   },
   "outputs": [],
   "source": [
    "from sklearn.neighbors import KNeighborsRegressor\n",
    "\n",
    "model = KNeighborsRegressor()\n",
    "model.fit(X, y)\n",
    "\n",
    "expected  = y\n",
    "predicted = model.predict(X)\n",
    "\n",
    "# Evaluate fit of the model\n",
    "print(\"Mean Squared Error: %0.3f\" % mse(expected, predicted))\n",
    "print(\"Coefficient of Determination: %0.3f\" % r2_score(expected, predicted))"
   ]
  },
  {
   "cell_type": "code",
   "execution_count": null,
   "metadata": {
    "collapsed": false
   },
   "outputs": [],
   "source": [
    "from sklearn.tree import DecisionTreeRegressor\n",
    "\n",
    "model = DecisionTreeRegressor()\n",
    "model.fit(X, y)\n",
    "\n",
    "expected  = y\n",
    "predicted = model.predict(X)\n",
    "\n",
    "# Evaluate fit of the model\n",
    "print(\"Mean Squared Error: %0.3f\" % mse(expected, predicted))\n",
    "print(\"Coefficient of Determination: %0.3f\" % r2_score(expected, predicted))"
   ]
  },
  {
   "cell_type": "code",
   "execution_count": null,
   "metadata": {
    "collapsed": false
   },
   "outputs": [],
   "source": [
    "print(y_test.shape)"
   ]
  },
  {
   "cell_type": "code",
   "execution_count": null,
   "metadata": {
    "collapsed": false
   },
   "outputs": [],
   "source": [
    "linreg.score(X, y)"
   ]
  },
  {
   "cell_type": "code",
   "execution_count": null,
   "metadata": {
    "collapsed": true
   },
   "outputs": [],
   "source": []
  },
  {
   "cell_type": "code",
   "execution_count": null,
   "metadata": {
    "collapsed": false
   },
   "outputs": [],
   "source": [
    "X1 = Winner['totalspend']\n",
    "print (type(X1))\n",
    "print (X1.shape)"
   ]
  },
  {
   "cell_type": "code",
   "execution_count": null,
   "metadata": {
    "collapsed": false
   },
   "outputs": [],
   "source": [
    "Y1 = Winner['total_votes']\n",
    "\n",
    "## we could have done also Y= data_Frame.car_price\n",
    "\n",
    "# print the first 5 rows\n",
    "Y1.head(5)"
   ]
  },
  {
   "cell_type": "code",
   "execution_count": null,
   "metadata": {
    "collapsed": false
   },
   "outputs": [],
   "source": [
    "print (type(Y))\n",
    "print (Y.shape)"
   ]
  },
  {
   "cell_type": "code",
   "execution_count": null,
   "metadata": {
    "collapsed": true
   },
   "outputs": [],
   "source": [
    "from sklearn.cross_validation import train_test_split\n",
    "X_train, y_train, X_test, y_test = train_test_split(X1, Y1,random_state = 1)"
   ]
  },
  {
   "cell_type": "code",
   "execution_count": null,
   "metadata": {
    "collapsed": false
   },
   "outputs": [],
   "source": [
    "sns.factorplot(\"winner\", col=\"party\", col_wrap=3, \n",
    "                   data=Winner[Winner.party.notnull()], kind=\"count\", size=4, aspect=.8)\n",
    "plt.show()"
   ]
  },
  {
   "cell_type": "code",
   "execution_count": null,
   "metadata": {
    "collapsed": false
   },
   "outputs": [],
   "source": [
    "sns.pairplot(data=Gen[['c1','c2','c3','c4','c5','c6','c7','c8','c9','c10','c11','c12','c13']])\n",
    "plt.show()"
   ]
  },
  {
   "cell_type": "code",
   "execution_count": null,
   "metadata": {
    "collapsed": false
   },
   "outputs": [],
   "source": [
    "X.head()"
   ]
  },
  {
   "cell_type": "code",
   "execution_count": null,
   "metadata": {
    "collapsed": true
   },
   "outputs": [],
   "source": [
    "from sklearn.base import BaseEstimator, TransformerMixin\n",
    "from sklearn.preprocessing import LabelEncoder, OneHotEncoder\n",
    "\n",
    "\n",
    "class EncodeCategorical(BaseEstimator, TransformerMixin):\n",
    "    \"\"\"\n",
    "    Encodes a specified list of columns or all columns if None. \n",
    "    \"\"\"\n",
    "    \n",
    "    def __init__(self, columns=None):\n",
    "        self.columns  = [col for col in columns] \n",
    "        self.encoders = None\n",
    "    \n",
    "    def fit(self, data, target=None):\n",
    "        \"\"\"\n",
    "        Expects a data frame with named columns to encode. \n",
    "        \"\"\"\n",
    "        # Encode all columns if columns is None\n",
    "        if self.columns is None:\n",
    "            self.columns = data.columns \n",
    "        \n",
    "        # Fit a label encoder for each column in the data frame\n",
    "        self.encoders = {\n",
    "            column: LabelEncoder().fit(data[column])\n",
    "            for column in self.columns \n",
    "        }\n",
    "        return self\n",
    "\n",
    "    def transform(self, data):\n",
    "        \"\"\"\n",
    "        Uses the encoders to transform a data frame. \n",
    "        \"\"\"\n",
    "        output = data.copy()\n",
    "        for column, encoder in self.encoders.items():\n",
    "            output[column] = encoder.transform(data[column])\n",
    "        \n",
    "        return output"
   ]
  },
  {
   "cell_type": "code",
   "execution_count": null,
   "metadata": {
    "collapsed": true
   },
   "outputs": [],
   "source": [
    "from sklearn.metrics import f1_score\n",
    "from sklearn.pipeline import Pipeline\n",
    "\n",
    "\n",
    "def model_selection(X, y, estimator):\n",
    "    \"\"\"\n",
    "    Test various estimators.\n",
    "    \"\"\" \n",
    "    y = LabelEncoder().fit_transform(y.values.ravel())\n",
    "    model = Pipeline([\n",
    "         ('label_encoding', EncodeCategorical(X.keys())), \n",
    "         ('one_hot_encoder', OneHotEncoder()), \n",
    "         ('estimator', estimator)\n",
    "    ])\n",
    "\n",
    "    # Instantiate the classification model and visualizer\n",
    "    model.fit(X, y)  \n",
    "    \n",
    "    expected  = y\n",
    "    predicted = model.predict(X)\n",
    "    \n",
    "    # Compute and return the F1 score (the harmonic mean of precision and recall)\n",
    "    return (f1_score(expected, predicted))"
   ]
  },
  {
   "cell_type": "code",
   "execution_count": null,
   "metadata": {
    "collapsed": true
   },
   "outputs": [],
   "source": [
    "from sklearn.svm import LinearSVC, NuSVC, SVC\n",
    "from sklearn.neighbors import KNeighborsClassifier\n",
    "from sklearn.linear_model import LogisticRegressionCV, LogisticRegression, SGDClassifier\n",
    "from sklearn.ensemble import BaggingClassifier, ExtraTreesClassifier, RandomForestClassifier"
   ]
  },
  {
   "cell_type": "code",
   "execution_count": null,
   "metadata": {
    "collapsed": false
   },
   "outputs": [],
   "source": [
    "model_selection(X, y, LinearSVC())"
   ]
  },
  {
   "cell_type": "code",
   "execution_count": null,
   "metadata": {
    "collapsed": false
   },
   "outputs": [],
   "source": [
    "sns.lmplot(x='totalspend', y='total_votes', data=Winner)\n",
    "sns.lmplot(x='totalspend', y='total_votes', data=RepW)\n",
    "sns.lmplot(x='totalspend', y='total_votes', data=DemW)\n",
    "plt.show()"
   ]
  },
  {
   "cell_type": "code",
   "execution_count": null,
   "metadata": {
    "collapsed": false
   },
   "outputs": [],
   "source": [
    "sns.lmplot(x='totalspend', y='total_votes', data=Loser)\n",
    "sns.lmplot(x='totalspend', y='total_votes', data=DemW)\n",
    "sns.lmplot(x='totalspend', y='total_votes', data=DemL)\n",
    "plt.show()"
   ]
  },
  {
   "cell_type": "code",
   "execution_count": null,
   "metadata": {
    "collapsed": false
   },
   "outputs": [],
   "source": [
    "Winner.info()"
   ]
  },
  {
   "cell_type": "code",
   "execution_count": null,
   "metadata": {
    "collapsed": false
   },
   "outputs": [],
   "source": [
    "sns.violinplot(x='party', y='costvote', data=DemW, split=True, scale='count')\n",
    "sns.plt.show()"
   ]
  },
  {
   "cell_type": "code",
   "execution_count": null,
   "metadata": {
    "collapsed": false
   },
   "outputs": [],
   "source": [
    "sns.violinplot(x='party', y='costvote', data=RepW, split=True, scale='count')\n",
    "plt.show()"
   ]
  },
  {
   "cell_type": "code",
   "execution_count": null,
   "metadata": {
    "collapsed": false
   },
   "outputs": [],
   "source": [
    "sns.violinplot(x='winner', y='costvote', data=Gen, split=True, scale='count')\n",
    "sns.plt.show()"
   ]
  },
  {
   "cell_type": "code",
   "execution_count": null,
   "metadata": {
    "collapsed": true
   },
   "outputs": [],
   "source": [
    "sns.pairplot(RepW[['c1','c2','c3','c5','c6','c7','c8','c9','c10','c11','c12','c13','totalspend','costvote']], hue='winner', dropna=True)\n",
    "plt.show()"
   ]
  },
  {
   "cell_type": "code",
   "execution_count": null,
   "metadata": {
    "collapsed": false
   },
   "outputs": [],
   "source": [
    "Winner['party'].unique()"
   ]
  },
  {
   "cell_type": "code",
   "execution_count": null,
   "metadata": {
    "collapsed": true
   },
   "outputs": [],
   "source": [
    "Gen.loc[(df['party'] == some_value) & df['other_column'].isin(some_values)]"
   ]
  }
 ],
 "metadata": {
  "kernelspec": {
   "display_name": "Python 3",
   "language": "python",
   "name": "python3"
  },
  "language_info": {
   "codemirror_mode": {
    "name": "ipython",
    "version": 3
   },
   "file_extension": ".py",
   "mimetype": "text/x-python",
   "name": "python",
   "nbconvert_exporter": "python",
   "pygments_lexer": "ipython3",
   "version": "3.6.0"
  }
 },
 "nbformat": 4,
 "nbformat_minor": 2
}
