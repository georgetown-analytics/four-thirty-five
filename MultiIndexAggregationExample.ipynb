{
 "cells": [
  {
   "cell_type": "code",
   "execution_count": 1,
   "metadata": {
    "collapsed": true
   },
   "outputs": [],
   "source": [
    "import pandas as pd"
   ]
  },
  {
   "cell_type": "code",
   "execution_count": 2,
   "metadata": {},
   "outputs": [],
   "source": [
    "df = pd.DataFrame([\n",
    "                [\"star\", 2017, 10],\n",
    "                 [\"star\", 2017, 20],\n",
    "                 [\"circle\", 2017, 10],\n",
    "                 [\"circle\", 2016, 20]\n",
    "                    ],\n",
    "                 columns=[\"name\",\"year\",\"spending\"]\n",
    "                 )"
   ]
  },
  {
   "cell_type": "code",
   "execution_count": 3,
   "metadata": {},
   "outputs": [
    {
     "name": "stdout",
     "output_type": "stream",
     "text": [
      "     name  year  spending\n",
      "0    star  2017        10\n",
      "1    star  2017        20\n",
      "2  circle  2017        10\n",
      "3  circle  2016        20\n"
     ]
    }
   ],
   "source": [
    "print(df)"
   ]
  },
  {
   "cell_type": "code",
   "execution_count": 4,
   "metadata": {
    "collapsed": true
   },
   "outputs": [],
   "source": [
    "# set a multiindex\n",
    "# inplace=True means it will change this reference (df) instead of return a copy\n",
    "df.set_index(['name','year'], inplace=True)"
   ]
  },
  {
   "cell_type": "code",
   "execution_count": 5,
   "metadata": {},
   "outputs": [
    {
     "name": "stdout",
     "output_type": "stream",
     "text": [
      "             spending\n",
      "name   year          \n",
      "star   2017        10\n",
      "       2017        20\n",
      "circle 2017        10\n",
      "       2016        20\n"
     ]
    }
   ],
   "source": [
    "print(df)"
   ]
  },
  {
   "cell_type": "code",
   "execution_count": 9,
   "metadata": {},
   "outputs": [
    {
     "name": "stderr",
     "output_type": "stream",
     "text": [
      "/Users/adammorris/anaconda/lib/python3.5/site-packages/ipykernel/__main__.py:4: PerformanceWarning: indexing past lexsort depth may impact performance.\n"
     ]
    },
    {
     "data": {
      "text/html": [
       "<div>\n",
       "<table border=\"1\" class=\"dataframe\">\n",
       "  <thead>\n",
       "    <tr style=\"text-align: right;\">\n",
       "      <th></th>\n",
       "      <th></th>\n",
       "      <th>spending</th>\n",
       "    </tr>\n",
       "    <tr>\n",
       "      <th>name</th>\n",
       "      <th>year</th>\n",
       "      <th></th>\n",
       "    </tr>\n",
       "  </thead>\n",
       "  <tbody>\n",
       "    <tr>\n",
       "      <th>circle</th>\n",
       "      <th>2017</th>\n",
       "      <td>10</td>\n",
       "    </tr>\n",
       "  </tbody>\n",
       "</table>\n",
       "</div>"
      ],
      "text/plain": [
       "             spending\n",
       "name   year          \n",
       "circle 2017        10"
      ]
     },
     "execution_count": 9,
     "metadata": {},
     "output_type": "execute_result"
    }
   ],
   "source": [
    "# notice this changes the index from integer-looking things to these strings that used to be in the dataframe\n",
    "# now you can use .loc on terms in this index instead of row numbers\n",
    "# see https://pandas.pydata.org/pandas-docs/stable/advanced.html#advanced-indexing-with-hierarchical-index for more info\n",
    "df.loc[\"circle\", 2017]\n",
    "# notice this is no longer like df.loc[0]!!"
   ]
  },
  {
   "cell_type": "code",
   "execution_count": 10,
   "metadata": {},
   "outputs": [
    {
     "name": "stdout",
     "output_type": "stream",
     "text": [
      "             spending\n",
      "name   year          \n",
      "circle 2016        20\n",
      "       2017        10\n",
      "star   2017        30\n"
     ]
    }
   ],
   "source": [
    "# can now use sum with the level attribute to set which levels of the multiindex to sum across\n",
    "agg_df = df.sum(level=['name','year'])\n",
    "print(agg_df)"
   ]
  },
  {
   "cell_type": "code",
   "execution_count": 25,
   "metadata": {},
   "outputs": [
    {
     "data": {
      "text/plain": [
       "spending    20\n",
       "Name: (circle, 2016), dtype: int64"
      ]
     },
     "execution_count": 25,
     "metadata": {},
     "output_type": "execute_result"
    }
   ],
   "source": [
    "# and now this aggregate one has the same multiindex as the original one, \n",
    "# so you can select specific data with .loc the same way\n",
    "agg_df.loc['circle',2016]"
   ]
  }
 ],
 "metadata": {
  "kernelspec": {
   "display_name": "Python [default]",
   "language": "python",
   "name": "python3"
  },
  "language_info": {
   "codemirror_mode": {
    "name": "ipython",
    "version": 3
   },
   "file_extension": ".py",
   "mimetype": "text/x-python",
   "name": "python",
   "nbconvert_exporter": "python",
   "pygments_lexer": "ipython3",
   "version": "3.5.2"
  }
 },
 "nbformat": 4,
 "nbformat_minor": 2
}
