{
 "cells": [
  {
   "cell_type": "markdown",
   "metadata": {},
   "source": [
    "# Data Classification"
   ]
  },
  {
   "cell_type": "markdown",
   "metadata": {},
   "source": [
    "# Notebook set-up"
   ]
  },
  {
   "cell_type": "code",
   "execution_count": 2,
   "metadata": {
    "collapsed": true
   },
   "outputs": [],
   "source": [
    "import os \n",
    "import numpy as np \n",
    "import pandas as pd \n",
    "import seaborn as sns \n",
    "import matplotlib.pyplot as plt \n",
    "import io\n",
    "\n",
    "sns.set_style('whitegrid')\n",
    "sns.set_context('notebook')"
   ]
  },
  {
   "cell_type": "markdown",
   "metadata": {},
   "source": [
    "# Data loading"
   ]
  },
  {
   "cell_type": "code",
   "execution_count": 4,
   "metadata": {
    "collapsed": true
   },
   "outputs": [],
   "source": [
    "FIXTURES = os.path.abspath(os.path.join(os.path.dirname(\".\"), \"..\", \"..\", \"data\"))\n",
    "WHEAT = os.path.join(FIXTURES, \"???\", \"???.csv\")"
   ]
  },
  {
   "cell_type": "code",
   "execution_count": 5,
   "metadata": {},
   "outputs": [
    {
     "name": "stderr",
     "output_type": "stream",
     "text": [
      "/Users/adammorris/anaconda/lib/python3.5/site-packages/IPython/core/interactiveshell.py:2717: DtypeWarning: Columns (7,27) have mixed types. Specify dtype option on import or set low_memory=False.\n",
      "  interactivity=interactivity, compiler=compiler, result=result)\n"
     ]
    }
   ],
   "source": [
    "# Load the data into a dataframe \n",
    "#can_master = pd.read_csv('can-1996-2016.csv')\n",
    "#cmte_master =pd.read_csv('cm-1996-2014.csv') \n",
    "#opex=pd.read_csv('opex-2004-2014.csv')\n",
    "#oth=pd.read_csv('oth-1996-2014.csv')\n",
    "#exp=pd.read_csv('expresults.csv')\n",
    "election_spend=pd.read_csv('catall.csv')"
   ]
  },
  {
   "cell_type": "code",
   "execution_count": 7,
   "metadata": {},
   "outputs": [
    {
     "data": {
      "text/html": [
       "<div>\n",
       "<table border=\"1\" class=\"dataframe\">\n",
       "  <thead>\n",
       "    <tr style=\"text-align: right;\">\n",
       "      <th></th>\n",
       "      <th>cand_name</th>\n",
       "      <th>cand_pty_affiliation</th>\n",
       "      <th>cand_office_st</th>\n",
       "      <th>cand_office</th>\n",
       "      <th>cand_office_district</th>\n",
       "      <th>cand_ici</th>\n",
       "      <th>id</th>\n",
       "      <th>cand_id</th>\n",
       "      <th>cycle</th>\n",
       "      <th>c1</th>\n",
       "      <th>...</th>\n",
       "      <th>c11</th>\n",
       "      <th>c12</th>\n",
       "      <th>c13</th>\n",
       "      <th>total</th>\n",
       "      <th>primary_votes</th>\n",
       "      <th>runoff_votes</th>\n",
       "      <th>general_votes</th>\n",
       "      <th>ge_runoff_election_votes</th>\n",
       "      <th>ge_winner_indicator</th>\n",
       "      <th>total_votes</th>\n",
       "    </tr>\n",
       "  </thead>\n",
       "  <tbody>\n",
       "    <tr>\n",
       "      <th>0</th>\n",
       "      <td>WEXLER, ROBERT</td>\n",
       "      <td>DEM</td>\n",
       "      <td>FL</td>\n",
       "      <td>H</td>\n",
       "      <td>19.0</td>\n",
       "      <td>C</td>\n",
       "      <td>44930</td>\n",
       "      <td>H6FL19038</td>\n",
       "      <td>2006.0</td>\n",
       "      <td>281886.64</td>\n",
       "      <td>...</td>\n",
       "      <td>NaN</td>\n",
       "      <td>NaN</td>\n",
       "      <td>NaN</td>\n",
       "      <td>NaN</td>\n",
       "      <td>0.0</td>\n",
       "      <td>NaN</td>\n",
       "      <td>202465.0</td>\n",
       "      <td>NaN</td>\n",
       "      <td>W</td>\n",
       "      <td>202465.0</td>\n",
       "    </tr>\n",
       "    <tr>\n",
       "      <th>1</th>\n",
       "      <td>WEXLER, ROBERT</td>\n",
       "      <td>DEM</td>\n",
       "      <td>FL</td>\n",
       "      <td>H</td>\n",
       "      <td>19.0</td>\n",
       "      <td>C</td>\n",
       "      <td>39165</td>\n",
       "      <td>H6FL19038</td>\n",
       "      <td>2006.0</td>\n",
       "      <td>281886.64</td>\n",
       "      <td>...</td>\n",
       "      <td>NaN</td>\n",
       "      <td>NaN</td>\n",
       "      <td>NaN</td>\n",
       "      <td>NaN</td>\n",
       "      <td>0.0</td>\n",
       "      <td>NaN</td>\n",
       "      <td>202465.0</td>\n",
       "      <td>NaN</td>\n",
       "      <td>W</td>\n",
       "      <td>202465.0</td>\n",
       "    </tr>\n",
       "    <tr>\n",
       "      <th>2</th>\n",
       "      <td>WEXLER, ROBERT</td>\n",
       "      <td>DEM</td>\n",
       "      <td>FL</td>\n",
       "      <td>H</td>\n",
       "      <td>19.0</td>\n",
       "      <td>I</td>\n",
       "      <td>33393</td>\n",
       "      <td>H6FL19038</td>\n",
       "      <td>2006.0</td>\n",
       "      <td>281886.64</td>\n",
       "      <td>...</td>\n",
       "      <td>NaN</td>\n",
       "      <td>NaN</td>\n",
       "      <td>NaN</td>\n",
       "      <td>NaN</td>\n",
       "      <td>0.0</td>\n",
       "      <td>NaN</td>\n",
       "      <td>202465.0</td>\n",
       "      <td>NaN</td>\n",
       "      <td>W</td>\n",
       "      <td>202465.0</td>\n",
       "    </tr>\n",
       "    <tr>\n",
       "      <th>3</th>\n",
       "      <td>WEXLER, ROBERT</td>\n",
       "      <td>DEM</td>\n",
       "      <td>FL</td>\n",
       "      <td>H</td>\n",
       "      <td>19.0</td>\n",
       "      <td>I</td>\n",
       "      <td>27579</td>\n",
       "      <td>H6FL19038</td>\n",
       "      <td>2006.0</td>\n",
       "      <td>281886.64</td>\n",
       "      <td>...</td>\n",
       "      <td>NaN</td>\n",
       "      <td>NaN</td>\n",
       "      <td>NaN</td>\n",
       "      <td>NaN</td>\n",
       "      <td>0.0</td>\n",
       "      <td>NaN</td>\n",
       "      <td>202465.0</td>\n",
       "      <td>NaN</td>\n",
       "      <td>W</td>\n",
       "      <td>202465.0</td>\n",
       "    </tr>\n",
       "    <tr>\n",
       "      <th>4</th>\n",
       "      <td>WEXLER, ROBERT</td>\n",
       "      <td>DEM</td>\n",
       "      <td>FL</td>\n",
       "      <td>H</td>\n",
       "      <td>19.0</td>\n",
       "      <td>I</td>\n",
       "      <td>24536</td>\n",
       "      <td>H6FL19038</td>\n",
       "      <td>2006.0</td>\n",
       "      <td>281886.64</td>\n",
       "      <td>...</td>\n",
       "      <td>NaN</td>\n",
       "      <td>NaN</td>\n",
       "      <td>NaN</td>\n",
       "      <td>NaN</td>\n",
       "      <td>0.0</td>\n",
       "      <td>NaN</td>\n",
       "      <td>202465.0</td>\n",
       "      <td>NaN</td>\n",
       "      <td>W</td>\n",
       "      <td>202465.0</td>\n",
       "    </tr>\n",
       "  </tbody>\n",
       "</table>\n",
       "<p>5 rows × 29 columns</p>\n",
       "</div>"
      ],
      "text/plain": [
       "        cand_name cand_pty_affiliation cand_office_st cand_office  \\\n",
       "0  WEXLER, ROBERT                  DEM             FL           H   \n",
       "1  WEXLER, ROBERT                  DEM             FL           H   \n",
       "2  WEXLER, ROBERT                  DEM             FL           H   \n",
       "3  WEXLER, ROBERT                  DEM             FL           H   \n",
       "4  WEXLER, ROBERT                  DEM             FL           H   \n",
       "\n",
       "   cand_office_district cand_ici     id    cand_id   cycle         c1  \\\n",
       "0                  19.0        C  44930  H6FL19038  2006.0  281886.64   \n",
       "1                  19.0        C  39165  H6FL19038  2006.0  281886.64   \n",
       "2                  19.0        I  33393  H6FL19038  2006.0  281886.64   \n",
       "3                  19.0        I  27579  H6FL19038  2006.0  281886.64   \n",
       "4                  19.0        I  24536  H6FL19038  2006.0  281886.64   \n",
       "\n",
       "      ...       c11  c12  c13  total  primary_votes  runoff_votes  \\\n",
       "0     ...       NaN  NaN  NaN    NaN            0.0           NaN   \n",
       "1     ...       NaN  NaN  NaN    NaN            0.0           NaN   \n",
       "2     ...       NaN  NaN  NaN    NaN            0.0           NaN   \n",
       "3     ...       NaN  NaN  NaN    NaN            0.0           NaN   \n",
       "4     ...       NaN  NaN  NaN    NaN            0.0           NaN   \n",
       "\n",
       "   general_votes  ge_runoff_election_votes  ge_winner_indicator  total_votes  \n",
       "0       202465.0                       NaN                    W     202465.0  \n",
       "1       202465.0                       NaN                    W     202465.0  \n",
       "2       202465.0                       NaN                    W     202465.0  \n",
       "3       202465.0                       NaN                    W     202465.0  \n",
       "4       202465.0                       NaN                    W     202465.0  \n",
       "\n",
       "[5 rows x 29 columns]"
      ]
     },
     "execution_count": 7,
     "metadata": {},
     "output_type": "execute_result"
    }
   ],
   "source": [
    "election_spend.head()"
   ]
  },
  {
   "cell_type": "code",
   "execution_count": 11,
   "metadata": {},
   "outputs": [
    {
     "data": {
      "text/plain": [
       "primary_votes               1.615770e+10\n",
       "runoff_votes                1.704113e+08\n",
       "general_votes               6.866443e+10\n",
       "ge_runoff_election_votes    1.432270e+08\n",
       "total_votes                 8.513576e+10\n",
       "exp_sum                     1.101249e+11\n",
       "cycle                       8.790007e+08\n",
       "dtype: float64"
      ]
     },
     "execution_count": 11,
     "metadata": {},
     "output_type": "execute_result"
    }
   ],
   "source": []
  },
  {
   "cell_type": "code",
   "execution_count": null,
   "metadata": {
    "collapsed": true
   },
   "outputs": [],
   "source": []
  },
  {
   "cell_type": "code",
   "execution_count": 53,
   "metadata": {},
   "outputs": [
    {
     "ename": "NameError",
     "evalue": "name 'data' is not defined",
     "output_type": "error",
     "traceback": [
      "\u001b[0;31m---------------------------------------------------------------------------\u001b[0m",
      "\u001b[0;31mNameError\u001b[0m                                 Traceback (most recent call last)",
      "\u001b[0;32m<ipython-input-53-efa692752119>\u001b[0m in \u001b[0;36m<module>\u001b[0;34m()\u001b[0m\n\u001b[0;32m----> 1\u001b[0;31m \u001b[0mdata\u001b[0m\u001b[0;34m.\u001b[0m\u001b[0mdescribe\u001b[0m\u001b[0;34m(\u001b[0m\u001b[0;34m)\u001b[0m\u001b[0;34m\u001b[0m\u001b[0m\n\u001b[0m",
      "\u001b[0;31mNameError\u001b[0m: name 'data' is not defined"
     ]
    }
   ],
   "source": [
    "data.describe()"
   ]
  },
  {
   "cell_type": "code",
   "execution_count": null,
   "metadata": {
    "collapsed": true
   },
   "outputs": [],
   "source": [
    "data.groupby('label').count()"
   ]
  },
  {
   "cell_type": "code",
   "execution_count": null,
   "metadata": {
    "collapsed": true
   },
   "outputs": [],
   "source": [
    "from pandas.tools.plotting import parallel_coordinates\n",
    "parallel_coordinates(data, class_column='label')"
   ]
  },
  {
   "cell_type": "code",
   "execution_count": null,
   "metadata": {
    "collapsed": true
   },
   "outputs": [],
   "source": [
    "from sklearn.model_selection import train_test_split as tts \n",
    "\n",
    "X = data[[\n",
    "    '??', '??', '??', '??', '??', '??', '??'\n",
    "]]\n",
    "y = data['label']\n",
    "\n",
    "print(X.shape)\n",
    "print(y.shape)"
   ]
  },
  {
   "cell_type": "code",
   "execution_count": null,
   "metadata": {
    "collapsed": true
   },
   "outputs": [],
   "source": [
    "X_train, X_test, y_train, y_test = tts(X, y, test_size=0.2)"
   ]
  },
  {
   "cell_type": "code",
   "execution_count": null,
   "metadata": {
    "collapsed": true
   },
   "outputs": [],
   "source": []
  },
  {
   "cell_type": "code",
   "execution_count": null,
   "metadata": {
    "collapsed": true
   },
   "outputs": [],
   "source": []
  },
  {
   "cell_type": "code",
   "execution_count": null,
   "metadata": {
    "collapsed": true
   },
   "outputs": [],
   "source": []
  }
 ],
 "metadata": {
  "kernelspec": {
   "display_name": "Python [default]",
   "language": "python",
   "name": "python3"
  },
  "language_info": {
   "codemirror_mode": {
    "name": "ipython",
    "version": 3
   },
   "file_extension": ".py",
   "mimetype": "text/x-python",
   "name": "python",
   "nbconvert_exporter": "python",
   "pygments_lexer": "ipython3",
   "version": "3.5.2"
  }
 },
 "nbformat": 4,
 "nbformat_minor": 2
}
