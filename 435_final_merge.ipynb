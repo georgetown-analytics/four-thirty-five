{
 "cells": [
  {
   "cell_type": "code",
   "execution_count": 1,
   "metadata": {
    "collapsed": true
   },
   "outputs": [],
   "source": [
    "import os \n",
    "import numpy as np \n",
    "import pandas as pd \n",
    "import seaborn as sns \n",
    "import matplotlib.pyplot as plt \n",
    "import io\n",
    "\n",
    "sns.set_style('whitegrid')\n",
    "sns.set_context('notebook')"
   ]
  },
  {
   "cell_type": "code",
   "execution_count": 6,
   "metadata": {
    "collapsed": true
   },
   "outputs": [],
   "source": [
    "# Load the data into a dataframe \n",
    "#can_master = pd.read_csv('can-1996-2016.csv')\n",
    "#cmte_master =pd.read_csv('cm-1996-2014.csv') \n",
    "#opex=pd.read_csv('opex-2004-2014.csv')\n",
    "#oth=pd.read_csv('oth-1996-2014.csv')\n",
    "#exp=pd.read_csv('expresults_rev.csv')\n",
    "#election_spend=pd.read_csv('catall.csv')\n",
    "#results = pd.read_csv('candr.csv')\n",
    "#catsort= pd.read_csv('catsort_rev.csv')\n",
    "candcat=pd.read_csv('cand_cat.csv')\n",
    "election=pd.read_csv('election1.csv')\n",
    "combined=pd.read_csv('combined.csv')"
   ]
  },
  {
   "cell_type": "code",
   "execution_count": 3,
   "metadata": {
    "collapsed": true
   },
   "outputs": [],
   "source": [
    "combined=pd.merge(candcat, election, on=['cand_id','cycle'], how='outer')"
   ]
  },
  {
   "cell_type": "code",
   "execution_count": 4,
   "metadata": {},
   "outputs": [
    {
     "data": {
      "text/html": [
       "<div>\n",
       "<table border=\"1\" class=\"dataframe\">\n",
       "  <thead>\n",
       "    <tr style=\"text-align: right;\">\n",
       "      <th></th>\n",
       "      <th>cand_id</th>\n",
       "      <th>cycle</th>\n",
       "      <th>c1</th>\n",
       "      <th>c2</th>\n",
       "      <th>c3</th>\n",
       "      <th>c4</th>\n",
       "      <th>c5</th>\n",
       "      <th>c6</th>\n",
       "      <th>c7</th>\n",
       "      <th>c8</th>\n",
       "      <th>...</th>\n",
       "      <th>state_abbreviation</th>\n",
       "      <th>district</th>\n",
       "      <th>incumbent</th>\n",
       "      <th>party</th>\n",
       "      <th>primary_votes</th>\n",
       "      <th>runoff_votes</th>\n",
       "      <th>general_votes</th>\n",
       "      <th>ge_runoff_election_votes</th>\n",
       "      <th>ge_winner_indicator</th>\n",
       "      <th>total_votes</th>\n",
       "    </tr>\n",
       "  </thead>\n",
       "  <tbody>\n",
       "    <tr>\n",
       "      <th>0</th>\n",
       "      <td>H0AK00089</td>\n",
       "      <td>2010</td>\n",
       "      <td>550.00</td>\n",
       "      <td>NaN</td>\n",
       "      <td>NaN</td>\n",
       "      <td>NaN</td>\n",
       "      <td>NaN</td>\n",
       "      <td>785.00</td>\n",
       "      <td>NaN</td>\n",
       "      <td>NaN</td>\n",
       "      <td>...</td>\n",
       "      <td>AK</td>\n",
       "      <td>0</td>\n",
       "      <td>0</td>\n",
       "      <td>DEM</td>\n",
       "      <td>38673.0</td>\n",
       "      <td>0.0</td>\n",
       "      <td>77606.0</td>\n",
       "      <td>0.0</td>\n",
       "      <td>0</td>\n",
       "      <td>116279.0</td>\n",
       "    </tr>\n",
       "    <tr>\n",
       "      <th>1</th>\n",
       "      <td>H0AK01038</td>\n",
       "      <td>2010</td>\n",
       "      <td>1569.23</td>\n",
       "      <td>88.93</td>\n",
       "      <td>NaN</td>\n",
       "      <td>NaN</td>\n",
       "      <td>NaN</td>\n",
       "      <td>NaN</td>\n",
       "      <td>NaN</td>\n",
       "      <td>NaN</td>\n",
       "      <td>...</td>\n",
       "      <td>AK</td>\n",
       "      <td>0</td>\n",
       "      <td>0</td>\n",
       "      <td>REP</td>\n",
       "      <td>24709.0</td>\n",
       "      <td>0.0</td>\n",
       "      <td>0.0</td>\n",
       "      <td>0.0</td>\n",
       "      <td>0</td>\n",
       "      <td>24709.0</td>\n",
       "    </tr>\n",
       "    <tr>\n",
       "      <th>2</th>\n",
       "      <td>H0AL00016</td>\n",
       "      <td>2010</td>\n",
       "      <td>19831.34</td>\n",
       "      <td>909.80</td>\n",
       "      <td>81.19</td>\n",
       "      <td>465.00</td>\n",
       "      <td>NaN</td>\n",
       "      <td>3177.55</td>\n",
       "      <td>2192.99</td>\n",
       "      <td>NaN</td>\n",
       "      <td>...</td>\n",
       "      <td>AL</td>\n",
       "      <td>7</td>\n",
       "      <td>0</td>\n",
       "      <td>DEM</td>\n",
       "      <td>6672.0</td>\n",
       "      <td>0.0</td>\n",
       "      <td>0.0</td>\n",
       "      <td>0.0</td>\n",
       "      <td>0</td>\n",
       "      <td>6672.0</td>\n",
       "    </tr>\n",
       "    <tr>\n",
       "      <th>3</th>\n",
       "      <td>H0AL01030</td>\n",
       "      <td>2010</td>\n",
       "      <td>7054.34</td>\n",
       "      <td>5233.32</td>\n",
       "      <td>668.95</td>\n",
       "      <td>27082.28</td>\n",
       "      <td>1175.0</td>\n",
       "      <td>1295.21</td>\n",
       "      <td>583.75</td>\n",
       "      <td>NaN</td>\n",
       "      <td>...</td>\n",
       "      <td>AL</td>\n",
       "      <td>1</td>\n",
       "      <td>0</td>\n",
       "      <td>REP</td>\n",
       "      <td>18725.0</td>\n",
       "      <td>0.0</td>\n",
       "      <td>0.0</td>\n",
       "      <td>0.0</td>\n",
       "      <td>0</td>\n",
       "      <td>18725.0</td>\n",
       "    </tr>\n",
       "    <tr>\n",
       "      <th>4</th>\n",
       "      <td>H0AL01030</td>\n",
       "      <td>2012</td>\n",
       "      <td>3480.00</td>\n",
       "      <td>27.72</td>\n",
       "      <td>381.09</td>\n",
       "      <td>7257.71</td>\n",
       "      <td>NaN</td>\n",
       "      <td>NaN</td>\n",
       "      <td>56.58</td>\n",
       "      <td>NaN</td>\n",
       "      <td>...</td>\n",
       "      <td>AL</td>\n",
       "      <td>1</td>\n",
       "      <td>0</td>\n",
       "      <td>R</td>\n",
       "      <td>3854.0</td>\n",
       "      <td>0.0</td>\n",
       "      <td>0.0</td>\n",
       "      <td>0.0</td>\n",
       "      <td>0</td>\n",
       "      <td>3854.0</td>\n",
       "    </tr>\n",
       "  </tbody>\n",
       "</table>\n",
       "<p>5 rows × 25 columns</p>\n",
       "</div>"
      ],
      "text/plain": [
       "     cand_id  cycle        c1       c2      c3        c4      c5       c6  \\\n",
       "0  H0AK00089   2010    550.00      NaN     NaN       NaN     NaN   785.00   \n",
       "1  H0AK01038   2010   1569.23    88.93     NaN       NaN     NaN      NaN   \n",
       "2  H0AL00016   2010  19831.34   909.80   81.19    465.00     NaN  3177.55   \n",
       "3  H0AL01030   2010   7054.34  5233.32  668.95  27082.28  1175.0  1295.21   \n",
       "4  H0AL01030   2012   3480.00    27.72  381.09   7257.71     NaN      NaN   \n",
       "\n",
       "        c7  c8     ...       state_abbreviation  district  incumbent  party  \\\n",
       "0      NaN NaN     ...                       AK         0          0    DEM   \n",
       "1      NaN NaN     ...                       AK         0          0    REP   \n",
       "2  2192.99 NaN     ...                       AL         7          0    DEM   \n",
       "3   583.75 NaN     ...                       AL         1          0    REP   \n",
       "4    56.58 NaN     ...                       AL         1          0      R   \n",
       "\n",
       "   primary_votes runoff_votes general_votes ge_runoff_election_votes  \\\n",
       "0        38673.0          0.0       77606.0                      0.0   \n",
       "1        24709.0          0.0           0.0                      0.0   \n",
       "2         6672.0          0.0           0.0                      0.0   \n",
       "3        18725.0          0.0           0.0                      0.0   \n",
       "4         3854.0          0.0           0.0                      0.0   \n",
       "\n",
       "  ge_winner_indicator  total_votes  \n",
       "0                   0     116279.0  \n",
       "1                   0      24709.0  \n",
       "2                   0       6672.0  \n",
       "3                   0      18725.0  \n",
       "4                   0       3854.0  \n",
       "\n",
       "[5 rows x 25 columns]"
      ]
     },
     "execution_count": 4,
     "metadata": {},
     "output_type": "execute_result"
    }
   ],
   "source": [
    "combined.head()"
   ]
  },
  {
   "cell_type": "code",
   "execution_count": 5,
   "metadata": {
    "collapsed": true
   },
   "outputs": [],
   "source": [
    "combined.to_csv('combined.csv', index=False)"
   ]
  },
  {
   "cell_type": "code",
   "execution_count": 7,
   "metadata": {},
   "outputs": [
    {
     "data": {
      "text/html": [
       "<div>\n",
       "<table border=\"1\" class=\"dataframe\">\n",
       "  <thead>\n",
       "    <tr style=\"text-align: right;\">\n",
       "      <th></th>\n",
       "      <th>cand_id</th>\n",
       "      <th>cycle</th>\n",
       "      <th>c1</th>\n",
       "      <th>c2</th>\n",
       "      <th>c3</th>\n",
       "      <th>c4</th>\n",
       "      <th>c5</th>\n",
       "      <th>c6</th>\n",
       "      <th>c7</th>\n",
       "      <th>c8</th>\n",
       "      <th>...</th>\n",
       "      <th>state_abbreviation</th>\n",
       "      <th>district</th>\n",
       "      <th>incumbent</th>\n",
       "      <th>party</th>\n",
       "      <th>primary_votes</th>\n",
       "      <th>runoff_votes</th>\n",
       "      <th>general_votes</th>\n",
       "      <th>ge_runoff_election_votes</th>\n",
       "      <th>ge_winner_indicator</th>\n",
       "      <th>total_votes</th>\n",
       "    </tr>\n",
       "  </thead>\n",
       "  <tbody>\n",
       "    <tr>\n",
       "      <th>0</th>\n",
       "      <td>H0AK00089</td>\n",
       "      <td>2010</td>\n",
       "      <td>550.00</td>\n",
       "      <td>NaN</td>\n",
       "      <td>NaN</td>\n",
       "      <td>NaN</td>\n",
       "      <td>NaN</td>\n",
       "      <td>785.00</td>\n",
       "      <td>NaN</td>\n",
       "      <td>NaN</td>\n",
       "      <td>...</td>\n",
       "      <td>AK</td>\n",
       "      <td>0</td>\n",
       "      <td>0</td>\n",
       "      <td>DEM</td>\n",
       "      <td>38673.0</td>\n",
       "      <td>0.0</td>\n",
       "      <td>77606.0</td>\n",
       "      <td>0.0</td>\n",
       "      <td>0</td>\n",
       "      <td>116279.0</td>\n",
       "    </tr>\n",
       "    <tr>\n",
       "      <th>1</th>\n",
       "      <td>H0AK01038</td>\n",
       "      <td>2010</td>\n",
       "      <td>1569.23</td>\n",
       "      <td>88.93</td>\n",
       "      <td>NaN</td>\n",
       "      <td>NaN</td>\n",
       "      <td>NaN</td>\n",
       "      <td>NaN</td>\n",
       "      <td>NaN</td>\n",
       "      <td>NaN</td>\n",
       "      <td>...</td>\n",
       "      <td>AK</td>\n",
       "      <td>0</td>\n",
       "      <td>0</td>\n",
       "      <td>REP</td>\n",
       "      <td>24709.0</td>\n",
       "      <td>0.0</td>\n",
       "      <td>0.0</td>\n",
       "      <td>0.0</td>\n",
       "      <td>0</td>\n",
       "      <td>24709.0</td>\n",
       "    </tr>\n",
       "    <tr>\n",
       "      <th>2</th>\n",
       "      <td>H0AL00016</td>\n",
       "      <td>2010</td>\n",
       "      <td>19831.34</td>\n",
       "      <td>909.80</td>\n",
       "      <td>81.19</td>\n",
       "      <td>465.00</td>\n",
       "      <td>NaN</td>\n",
       "      <td>3177.55</td>\n",
       "      <td>2192.99</td>\n",
       "      <td>NaN</td>\n",
       "      <td>...</td>\n",
       "      <td>AL</td>\n",
       "      <td>7</td>\n",
       "      <td>0</td>\n",
       "      <td>DEM</td>\n",
       "      <td>6672.0</td>\n",
       "      <td>0.0</td>\n",
       "      <td>0.0</td>\n",
       "      <td>0.0</td>\n",
       "      <td>0</td>\n",
       "      <td>6672.0</td>\n",
       "    </tr>\n",
       "    <tr>\n",
       "      <th>3</th>\n",
       "      <td>H0AL01030</td>\n",
       "      <td>2010</td>\n",
       "      <td>7054.34</td>\n",
       "      <td>5233.32</td>\n",
       "      <td>668.95</td>\n",
       "      <td>27082.28</td>\n",
       "      <td>1175.0</td>\n",
       "      <td>1295.21</td>\n",
       "      <td>583.75</td>\n",
       "      <td>NaN</td>\n",
       "      <td>...</td>\n",
       "      <td>AL</td>\n",
       "      <td>1</td>\n",
       "      <td>0</td>\n",
       "      <td>REP</td>\n",
       "      <td>18725.0</td>\n",
       "      <td>0.0</td>\n",
       "      <td>0.0</td>\n",
       "      <td>0.0</td>\n",
       "      <td>0</td>\n",
       "      <td>18725.0</td>\n",
       "    </tr>\n",
       "    <tr>\n",
       "      <th>4</th>\n",
       "      <td>H0AL01030</td>\n",
       "      <td>2012</td>\n",
       "      <td>3480.00</td>\n",
       "      <td>27.72</td>\n",
       "      <td>381.09</td>\n",
       "      <td>7257.71</td>\n",
       "      <td>NaN</td>\n",
       "      <td>NaN</td>\n",
       "      <td>56.58</td>\n",
       "      <td>NaN</td>\n",
       "      <td>...</td>\n",
       "      <td>AL</td>\n",
       "      <td>1</td>\n",
       "      <td>0</td>\n",
       "      <td>R</td>\n",
       "      <td>3854.0</td>\n",
       "      <td>0.0</td>\n",
       "      <td>0.0</td>\n",
       "      <td>0.0</td>\n",
       "      <td>0</td>\n",
       "      <td>3854.0</td>\n",
       "    </tr>\n",
       "  </tbody>\n",
       "</table>\n",
       "<p>5 rows × 25 columns</p>\n",
       "</div>"
      ],
      "text/plain": [
       "     cand_id  cycle        c1       c2      c3        c4      c5       c6  \\\n",
       "0  H0AK00089   2010    550.00      NaN     NaN       NaN     NaN   785.00   \n",
       "1  H0AK01038   2010   1569.23    88.93     NaN       NaN     NaN      NaN   \n",
       "2  H0AL00016   2010  19831.34   909.80   81.19    465.00     NaN  3177.55   \n",
       "3  H0AL01030   2010   7054.34  5233.32  668.95  27082.28  1175.0  1295.21   \n",
       "4  H0AL01030   2012   3480.00    27.72  381.09   7257.71     NaN      NaN   \n",
       "\n",
       "        c7  c8     ...       state_abbreviation  district  incumbent  party  \\\n",
       "0      NaN NaN     ...                       AK         0          0    DEM   \n",
       "1      NaN NaN     ...                       AK         0          0    REP   \n",
       "2  2192.99 NaN     ...                       AL         7          0    DEM   \n",
       "3   583.75 NaN     ...                       AL         1          0    REP   \n",
       "4    56.58 NaN     ...                       AL         1          0      R   \n",
       "\n",
       "   primary_votes runoff_votes general_votes ge_runoff_election_votes  \\\n",
       "0        38673.0          0.0       77606.0                      0.0   \n",
       "1        24709.0          0.0           0.0                      0.0   \n",
       "2         6672.0          0.0           0.0                      0.0   \n",
       "3        18725.0          0.0           0.0                      0.0   \n",
       "4         3854.0          0.0           0.0                      0.0   \n",
       "\n",
       "  ge_winner_indicator  total_votes  \n",
       "0                   0     116279.0  \n",
       "1                   0      24709.0  \n",
       "2                   0       6672.0  \n",
       "3                   0      18725.0  \n",
       "4                   0       3854.0  \n",
       "\n",
       "[5 rows x 25 columns]"
      ]
     },
     "execution_count": 7,
     "metadata": {},
     "output_type": "execute_result"
    }
   ],
   "source": [
    "combined.head()"
   ]
  },
  {
   "cell_type": "code",
   "execution_count": 10,
   "metadata": {},
   "outputs": [
    {
     "ename": "AttributeError",
     "evalue": "'DataFrame' object has no attribute 'transform'",
     "output_type": "error",
     "traceback": [
      "\u001b[0;31m---------------------------------------------------------------------------\u001b[0m",
      "\u001b[0;31mAttributeError\u001b[0m                            Traceback (most recent call last)",
      "\u001b[0;32m<ipython-input-10-d8eff752804b>\u001b[0m in \u001b[0;36m<module>\u001b[0;34m()\u001b[0m\n\u001b[0;32m----> 1\u001b[0;31m \u001b[0mcombined\u001b[0m\u001b[0;34m.\u001b[0m\u001b[0mtransform\u001b[0m\u001b[0;34m(\u001b[0m\u001b[0mcsum\u001b[0m\u001b[0;34m=\u001b[0m \u001b[0mc1\u001b[0m\u001b[0;34m+\u001b[0m \u001b[0mc2\u001b[0m\u001b[0;34m+\u001b[0m \u001b[0mc3\u001b[0m \u001b[0;34m+\u001b[0m \u001b[0mc4\u001b[0m\u001b[0;34m+\u001b[0m \u001b[0mc5\u001b[0m \u001b[0;34m+\u001b[0m \u001b[0mc6\u001b[0m \u001b[0;34m+\u001b[0m \u001b[0mc7\u001b[0m\u001b[0;34m+\u001b[0m \u001b[0mc8\u001b[0m \u001b[0;34m+\u001b[0m \u001b[0mc9\u001b[0m \u001b[0;34m+\u001b[0m \u001b[0mc10\u001b[0m \u001b[0;34m+\u001b[0m \u001b[0mc11\u001b[0m \u001b[0;34m+\u001b[0m \u001b[0mc12\u001b[0m \u001b[0;34m+\u001b[0m \u001b[0mc13\u001b[0m\u001b[0;34m)\u001b[0m\u001b[0;34m\u001b[0m\u001b[0m\n\u001b[0m",
      "\u001b[0;32m/Users/adammorris/anaconda/lib/python3.5/site-packages/pandas/core/generic.py\u001b[0m in \u001b[0;36m__getattr__\u001b[0;34m(self, name)\u001b[0m\n\u001b[1;32m   2742\u001b[0m             \u001b[0;32mif\u001b[0m \u001b[0mname\u001b[0m \u001b[0;32min\u001b[0m \u001b[0mself\u001b[0m\u001b[0;34m.\u001b[0m\u001b[0m_info_axis\u001b[0m\u001b[0;34m:\u001b[0m\u001b[0;34m\u001b[0m\u001b[0m\n\u001b[1;32m   2743\u001b[0m                 \u001b[0;32mreturn\u001b[0m \u001b[0mself\u001b[0m\u001b[0;34m[\u001b[0m\u001b[0mname\u001b[0m\u001b[0;34m]\u001b[0m\u001b[0;34m\u001b[0m\u001b[0m\n\u001b[0;32m-> 2744\u001b[0;31m             \u001b[0;32mreturn\u001b[0m \u001b[0mobject\u001b[0m\u001b[0;34m.\u001b[0m\u001b[0m__getattribute__\u001b[0m\u001b[0;34m(\u001b[0m\u001b[0mself\u001b[0m\u001b[0;34m,\u001b[0m \u001b[0mname\u001b[0m\u001b[0;34m)\u001b[0m\u001b[0;34m\u001b[0m\u001b[0m\n\u001b[0m\u001b[1;32m   2745\u001b[0m \u001b[0;34m\u001b[0m\u001b[0m\n\u001b[1;32m   2746\u001b[0m     \u001b[0;32mdef\u001b[0m \u001b[0m__setattr__\u001b[0m\u001b[0;34m(\u001b[0m\u001b[0mself\u001b[0m\u001b[0;34m,\u001b[0m \u001b[0mname\u001b[0m\u001b[0;34m,\u001b[0m \u001b[0mvalue\u001b[0m\u001b[0;34m)\u001b[0m\u001b[0;34m:\u001b[0m\u001b[0;34m\u001b[0m\u001b[0m\n",
      "\u001b[0;31mAttributeError\u001b[0m: 'DataFrame' object has no attribute 'transform'"
     ]
    }
   ],
   "source": [
    "combined.transform(csum= c1+ c2+ c3 + c4+ c5 + c6 + c7+ c8 + c9 + c10 + c11 + c12 + c13)"
   ]
  },
  {
   "cell_type": "code",
   "execution_count": 11,
   "metadata": {
    "collapsed": true
   },
   "outputs": [],
   "source": [
    "d=combined"
   ]
  },
  {
   "cell_type": "code",
   "execution_count": 13,
   "metadata": {
    "collapsed": true
   },
   "outputs": [],
   "source": [
    "combined=d"
   ]
  },
  {
   "cell_type": "code",
   "execution_count": 16,
   "metadata": {
    "collapsed": true
   },
   "outputs": [],
   "source": [
    "combined['totalspend']=combined['totalspend'].fillna(0)"
   ]
  },
  {
   "cell_type": "code",
   "execution_count": 17,
   "metadata": {
    "collapsed": true
   },
   "outputs": [],
   "source": [
    "combined['c1']=combined['c1'].fillna(0)"
   ]
  },
  {
   "cell_type": "code",
   "execution_count": 18,
   "metadata": {
    "collapsed": true
   },
   "outputs": [],
   "source": [
    "combined['c2']=combined['c2'].fillna(0)"
   ]
  },
  {
   "cell_type": "code",
   "execution_count": 19,
   "metadata": {
    "collapsed": true
   },
   "outputs": [],
   "source": [
    "combined['c3']=combined['c3'].fillna(0)"
   ]
  },
  {
   "cell_type": "code",
   "execution_count": 20,
   "metadata": {
    "collapsed": true
   },
   "outputs": [],
   "source": [
    "combined['c4']=combined['c4'].fillna(0)"
   ]
  },
  {
   "cell_type": "code",
   "execution_count": 21,
   "metadata": {
    "collapsed": true
   },
   "outputs": [],
   "source": [
    "combined['c5']=combined['c5'].fillna(0)"
   ]
  },
  {
   "cell_type": "code",
   "execution_count": 22,
   "metadata": {
    "collapsed": true
   },
   "outputs": [],
   "source": [
    "combined['c6']=combined['c6'].fillna(0)"
   ]
  },
  {
   "cell_type": "code",
   "execution_count": 23,
   "metadata": {
    "collapsed": true
   },
   "outputs": [],
   "source": [
    "combined['c7']=combined['c7'].fillna(0)"
   ]
  },
  {
   "cell_type": "code",
   "execution_count": 24,
   "metadata": {
    "collapsed": true
   },
   "outputs": [],
   "source": [
    "combined['c8']=combined['c8'].fillna(0)"
   ]
  },
  {
   "cell_type": "code",
   "execution_count": 25,
   "metadata": {
    "collapsed": true
   },
   "outputs": [],
   "source": [
    "combined['c9']=combined['c9'].fillna(0)"
   ]
  },
  {
   "cell_type": "code",
   "execution_count": 26,
   "metadata": {
    "collapsed": true
   },
   "outputs": [],
   "source": [
    "combined['c10']=combined['c10'].fillna(0)"
   ]
  },
  {
   "cell_type": "code",
   "execution_count": 27,
   "metadata": {
    "collapsed": true
   },
   "outputs": [],
   "source": [
    "combined['c11']=combined['c11'].fillna(0)"
   ]
  },
  {
   "cell_type": "code",
   "execution_count": 28,
   "metadata": {
    "collapsed": true
   },
   "outputs": [],
   "source": [
    "combined['c12']=combined['c12'].fillna(0)"
   ]
  },
  {
   "cell_type": "code",
   "execution_count": 29,
   "metadata": {
    "collapsed": true
   },
   "outputs": [],
   "source": [
    "combined['c13']=combined['c13'].fillna(0)"
   ]
  },
  {
   "cell_type": "code",
   "execution_count": 30,
   "metadata": {},
   "outputs": [],
   "source": [
    "combined['totalspend']=combined['c1']+combined['c2']+combined['c3']+combined['c4']+combined['c5']+combined['c6']+combined['c7']+combined['c9']+combined['c10']+combined['c11']+combined['c12']+combined['c13']"
   ]
  },
  {
   "cell_type": "code",
   "execution_count": 32,
   "metadata": {
    "collapsed": true
   },
   "outputs": [],
   "source": [
    "combined['primary_votes']=combined['primary_votes'].fillna(0)"
   ]
  },
  {
   "cell_type": "code",
   "execution_count": 33,
   "metadata": {
    "collapsed": true
   },
   "outputs": [],
   "source": [
    "combined['runoff_votes']=combined['runoff_votes'].fillna(0)"
   ]
  },
  {
   "cell_type": "code",
   "execution_count": 34,
   "metadata": {
    "collapsed": true
   },
   "outputs": [],
   "source": [
    "combined['general_votes']=combined['general_votes'].fillna(0)"
   ]
  },
  {
   "cell_type": "code",
   "execution_count": 35,
   "metadata": {
    "collapsed": true
   },
   "outputs": [],
   "source": [
    "combined['ge_runoff_election_votes']=combined['ge_runoff_election_votes'].fillna(0)"
   ]
  },
  {
   "cell_type": "code",
   "execution_count": 38,
   "metadata": {},
   "outputs": [],
   "source": [
    "combined['costpervote']=combined['totalspend']/combined['total_votes']"
   ]
  },
  {
   "cell_type": "code",
   "execution_count": 39,
   "metadata": {},
   "outputs": [
    {
     "data": {
      "text/html": [
       "<div>\n",
       "<table border=\"1\" class=\"dataframe\">\n",
       "  <thead>\n",
       "    <tr style=\"text-align: right;\">\n",
       "      <th></th>\n",
       "      <th>cand_id</th>\n",
       "      <th>cycle</th>\n",
       "      <th>c1</th>\n",
       "      <th>c2</th>\n",
       "      <th>c3</th>\n",
       "      <th>c4</th>\n",
       "      <th>c5</th>\n",
       "      <th>c6</th>\n",
       "      <th>c7</th>\n",
       "      <th>c8</th>\n",
       "      <th>...</th>\n",
       "      <th>incumbent</th>\n",
       "      <th>party</th>\n",
       "      <th>primary_votes</th>\n",
       "      <th>runoff_votes</th>\n",
       "      <th>general_votes</th>\n",
       "      <th>ge_runoff_election_votes</th>\n",
       "      <th>ge_winner_indicator</th>\n",
       "      <th>total_votes</th>\n",
       "      <th>totalspend</th>\n",
       "      <th>costpervote</th>\n",
       "    </tr>\n",
       "  </thead>\n",
       "  <tbody>\n",
       "    <tr>\n",
       "      <th>0</th>\n",
       "      <td>H0AK00089</td>\n",
       "      <td>2010</td>\n",
       "      <td>550.00</td>\n",
       "      <td>0.00</td>\n",
       "      <td>0.00</td>\n",
       "      <td>0.00</td>\n",
       "      <td>0.0</td>\n",
       "      <td>785.00</td>\n",
       "      <td>0.00</td>\n",
       "      <td>0.0</td>\n",
       "      <td>...</td>\n",
       "      <td>0</td>\n",
       "      <td>DEM</td>\n",
       "      <td>38673.0</td>\n",
       "      <td>0.0</td>\n",
       "      <td>77606.0</td>\n",
       "      <td>0.0</td>\n",
       "      <td>0</td>\n",
       "      <td>116279.0</td>\n",
       "      <td>220001.06</td>\n",
       "      <td>1.892010</td>\n",
       "    </tr>\n",
       "    <tr>\n",
       "      <th>1</th>\n",
       "      <td>H0AK01038</td>\n",
       "      <td>2010</td>\n",
       "      <td>1569.23</td>\n",
       "      <td>88.93</td>\n",
       "      <td>0.00</td>\n",
       "      <td>0.00</td>\n",
       "      <td>0.0</td>\n",
       "      <td>0.00</td>\n",
       "      <td>0.00</td>\n",
       "      <td>0.0</td>\n",
       "      <td>...</td>\n",
       "      <td>0</td>\n",
       "      <td>REP</td>\n",
       "      <td>24709.0</td>\n",
       "      <td>0.0</td>\n",
       "      <td>0.0</td>\n",
       "      <td>0.0</td>\n",
       "      <td>0</td>\n",
       "      <td>24709.0</td>\n",
       "      <td>169777.74</td>\n",
       "      <td>6.871089</td>\n",
       "    </tr>\n",
       "    <tr>\n",
       "      <th>2</th>\n",
       "      <td>H0AL00016</td>\n",
       "      <td>2010</td>\n",
       "      <td>19831.34</td>\n",
       "      <td>909.80</td>\n",
       "      <td>81.19</td>\n",
       "      <td>465.00</td>\n",
       "      <td>0.0</td>\n",
       "      <td>3177.55</td>\n",
       "      <td>2192.99</td>\n",
       "      <td>0.0</td>\n",
       "      <td>...</td>\n",
       "      <td>0</td>\n",
       "      <td>DEM</td>\n",
       "      <td>6672.0</td>\n",
       "      <td>0.0</td>\n",
       "      <td>0.0</td>\n",
       "      <td>0.0</td>\n",
       "      <td>0</td>\n",
       "      <td>6672.0</td>\n",
       "      <td>26957.87</td>\n",
       "      <td>4.040448</td>\n",
       "    </tr>\n",
       "    <tr>\n",
       "      <th>3</th>\n",
       "      <td>H0AL01030</td>\n",
       "      <td>2010</td>\n",
       "      <td>7054.34</td>\n",
       "      <td>5233.32</td>\n",
       "      <td>668.95</td>\n",
       "      <td>27082.28</td>\n",
       "      <td>1175.0</td>\n",
       "      <td>1295.21</td>\n",
       "      <td>583.75</td>\n",
       "      <td>0.0</td>\n",
       "      <td>...</td>\n",
       "      <td>0</td>\n",
       "      <td>REP</td>\n",
       "      <td>18725.0</td>\n",
       "      <td>0.0</td>\n",
       "      <td>0.0</td>\n",
       "      <td>0.0</td>\n",
       "      <td>0</td>\n",
       "      <td>18725.0</td>\n",
       "      <td>44377.00</td>\n",
       "      <td>2.369933</td>\n",
       "    </tr>\n",
       "    <tr>\n",
       "      <th>4</th>\n",
       "      <td>H0AL01030</td>\n",
       "      <td>2012</td>\n",
       "      <td>3480.00</td>\n",
       "      <td>27.72</td>\n",
       "      <td>381.09</td>\n",
       "      <td>7257.71</td>\n",
       "      <td>0.0</td>\n",
       "      <td>0.00</td>\n",
       "      <td>56.58</td>\n",
       "      <td>0.0</td>\n",
       "      <td>...</td>\n",
       "      <td>0</td>\n",
       "      <td>R</td>\n",
       "      <td>3854.0</td>\n",
       "      <td>0.0</td>\n",
       "      <td>0.0</td>\n",
       "      <td>0.0</td>\n",
       "      <td>0</td>\n",
       "      <td>3854.0</td>\n",
       "      <td>11203.10</td>\n",
       "      <td>2.906876</td>\n",
       "    </tr>\n",
       "  </tbody>\n",
       "</table>\n",
       "<p>5 rows × 27 columns</p>\n",
       "</div>"
      ],
      "text/plain": [
       "     cand_id  cycle        c1       c2      c3        c4      c5       c6  \\\n",
       "0  H0AK00089   2010    550.00     0.00    0.00      0.00     0.0   785.00   \n",
       "1  H0AK01038   2010   1569.23    88.93    0.00      0.00     0.0     0.00   \n",
       "2  H0AL00016   2010  19831.34   909.80   81.19    465.00     0.0  3177.55   \n",
       "3  H0AL01030   2010   7054.34  5233.32  668.95  27082.28  1175.0  1295.21   \n",
       "4  H0AL01030   2012   3480.00    27.72  381.09   7257.71     0.0     0.00   \n",
       "\n",
       "        c7   c8     ...       incumbent  party  primary_votes  runoff_votes  \\\n",
       "0     0.00  0.0     ...               0    DEM        38673.0           0.0   \n",
       "1     0.00  0.0     ...               0    REP        24709.0           0.0   \n",
       "2  2192.99  0.0     ...               0    DEM         6672.0           0.0   \n",
       "3   583.75  0.0     ...               0    REP        18725.0           0.0   \n",
       "4    56.58  0.0     ...               0      R         3854.0           0.0   \n",
       "\n",
       "   general_votes ge_runoff_election_votes ge_winner_indicator total_votes  \\\n",
       "0        77606.0                      0.0                   0    116279.0   \n",
       "1            0.0                      0.0                   0     24709.0   \n",
       "2            0.0                      0.0                   0      6672.0   \n",
       "3            0.0                      0.0                   0     18725.0   \n",
       "4            0.0                      0.0                   0      3854.0   \n",
       "\n",
       "  totalspend  costpervote  \n",
       "0  220001.06     1.892010  \n",
       "1  169777.74     6.871089  \n",
       "2   26957.87     4.040448  \n",
       "3   44377.00     2.369933  \n",
       "4   11203.10     2.906876  \n",
       "\n",
       "[5 rows x 27 columns]"
      ]
     },
     "execution_count": 39,
     "metadata": {},
     "output_type": "execute_result"
    }
   ],
   "source": [
    "combined.head()"
   ]
  },
  {
   "cell_type": "code",
   "execution_count": 40,
   "metadata": {
    "collapsed": true
   },
   "outputs": [],
   "source": [
    "combined.to_csv('combined_all.csv', index=False)"
   ]
  },
  {
   "cell_type": "code",
   "execution_count": null,
   "metadata": {
    "collapsed": true
   },
   "outputs": [],
   "source": []
  }
 ],
 "metadata": {
  "kernelspec": {
   "display_name": "Python [default]",
   "language": "python",
   "name": "python3"
  },
  "language_info": {
   "codemirror_mode": {
    "name": "ipython",
    "version": 3
   },
   "file_extension": ".py",
   "mimetype": "text/x-python",
   "name": "python",
   "nbconvert_exporter": "python",
   "pygments_lexer": "ipython3",
   "version": "3.5.2"
  }
 },
 "nbformat": 4,
 "nbformat_minor": 2
}
