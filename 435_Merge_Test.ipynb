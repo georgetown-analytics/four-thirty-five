{
 "cells": [
  {
   "cell_type": "markdown",
   "metadata": {},
   "source": [
    "# Data Classification"
   ]
  },
  {
   "cell_type": "markdown",
   "metadata": {},
   "source": [
    "# Notebook set-up"
   ]
  },
  {
   "cell_type": "code",
   "execution_count": 7,
   "metadata": {
    "collapsed": true
   },
   "outputs": [],
   "source": [
    "import os \n",
    "import numpy as np \n",
    "import pandas as pd \n",
    "import seaborn as sns \n",
    "import matplotlib.pyplot as plt \n",
    "import io\n",
    "\n",
    "sns.set_style('whitegrid')\n",
    "sns.set_context('notebook')"
   ]
  },
  {
   "cell_type": "markdown",
   "metadata": {},
   "source": [
    "# Data loading"
   ]
  },
  {
   "cell_type": "code",
   "execution_count": 8,
   "metadata": {
    "collapsed": true
   },
   "outputs": [],
   "source": [
    "# Load the data into a dataframe \n",
    "#can_master = pd.read_csv('can-1996-2016.csv')\n",
    "#cmte_master =pd.read_csv('cm-1996-2014.csv') \n",
    "#opex=pd.read_csv('opex-2004-2014.csv')\n",
    "#oth=pd.read_csv('oth-1996-2014.csv')\n",
    "exp=pd.read_csv('expresults_rev.csv')\n",
    "#election_spend=pd.read_csv('catall.csv')\n",
    "results = pd.read_csv('candr.csv')\n",
    "catsort= pd.read_csv('catsort_rev.csv')"
   ]
  },
  {
   "cell_type": "code",
   "execution_count": 9,
   "metadata": {
    "collapsed": true
   },
   "outputs": [],
   "source": [
    "catsort['cycle']=pd.to_numeric(catsort['cycle'],errors='coerce')"
   ]
  },
  {
   "cell_type": "code",
   "execution_count": 10,
   "metadata": {},
   "outputs": [
    {
     "name": "stdout",
     "output_type": "stream",
     "text": [
      "         cand_id  cycle  c1  c2  c3  c4  c5  c6  c7  c8  c9  c10  c11  c12  \\\n",
      "30254        NaN    NaN NaN NaN NaN NaN NaN NaN NaN NaN NaN  NaN  NaN  NaN   \n",
      "30258  H2PA04192    NaN NaN NaN NaN NaN NaN NaN NaN NaN NaN  NaN  NaN  NaN   \n",
      "30272  H4IL06104    NaN NaN NaN NaN NaN NaN NaN NaN NaN NaN  NaN  NaN  NaN   \n",
      "30280  H4IN02051    NaN NaN NaN NaN NaN NaN NaN NaN NaN NaN  NaN  NaN  NaN   \n",
      "30288  S0SC00149    NaN NaN NaN NaN NaN NaN NaN NaN NaN NaN  NaN  NaN  NaN   \n",
      "30293  H8FL24042    NaN NaN NaN NaN NaN NaN NaN NaN NaN NaN  NaN  NaN  NaN   \n",
      "30297  H2TX03118    NaN NaN NaN NaN NaN NaN NaN NaN NaN NaN  NaN  NaN  NaN   \n",
      "30306  H0LA04073    NaN NaN NaN NaN NaN NaN NaN NaN NaN NaN  NaN  NaN  NaN   \n",
      "30309  H4TX04088    NaN NaN NaN NaN NaN NaN NaN NaN NaN NaN  NaN  NaN  NaN   \n",
      "30317  H4IL08092    NaN NaN NaN NaN NaN NaN NaN NaN NaN NaN  NaN  NaN  NaN   \n",
      "30320  H4CA19076    NaN NaN NaN NaN NaN NaN NaN NaN NaN NaN  NaN  NaN  NaN   \n",
      "30324  H4MO01126    NaN NaN NaN NaN NaN NaN NaN NaN NaN NaN  NaN  NaN  NaN   \n",
      "30351  S4SC00158    NaN NaN NaN NaN NaN NaN NaN NaN NaN NaN  NaN  NaN  NaN   \n",
      "30356  H0TN09053    NaN NaN NaN NaN NaN NaN NaN NaN NaN NaN  NaN  NaN  NaN   \n",
      "30363  S0AZ00152    NaN NaN NaN NaN NaN NaN NaN NaN NaN NaN  NaN  NaN  NaN   \n",
      "30364  H2TN07202    NaN NaN NaN NaN NaN NaN NaN NaN NaN NaN  NaN  NaN  NaN   \n",
      "30368  H4PA04099    NaN NaN NaN NaN NaN NaN NaN NaN NaN NaN  NaN  NaN  NaN   \n",
      "30384  H8MD00013    NaN NaN NaN NaN NaN NaN NaN NaN NaN NaN  NaN  NaN  NaN   \n",
      "30386  H4NC04115    NaN NaN NaN NaN NaN NaN NaN NaN NaN NaN  NaN  NaN  NaN   \n",
      "30389  H2GA13053    NaN NaN NaN NaN NaN NaN NaN NaN NaN NaN  NaN  NaN  NaN   \n",
      "30394  H0CA28109    NaN NaN NaN NaN NaN NaN NaN NaN NaN NaN  NaN  NaN  NaN   \n",
      "30396  S0NH00219    NaN NaN NaN NaN NaN NaN NaN NaN NaN NaN  NaN  NaN  NaN   \n",
      "30408  H6NC13012    NaN NaN NaN NaN NaN NaN NaN NaN NaN NaN  NaN  NaN  NaN   \n",
      "30414  H8CA22089    NaN NaN NaN NaN NaN NaN NaN NaN NaN NaN  NaN  NaN  NaN   \n",
      "30422  H4CO01138    NaN NaN NaN NaN NaN NaN NaN NaN NaN NaN  NaN  NaN  NaN   \n",
      "30435  H4CA42052    NaN NaN NaN NaN NaN NaN NaN NaN NaN NaN  NaN  NaN  NaN   \n",
      "30439  H0KY05130    NaN NaN NaN NaN NaN NaN NaN NaN NaN NaN  NaN  NaN  NaN   \n",
      "30452  H2MI13154    NaN NaN NaN NaN NaN NaN NaN NaN NaN NaN  NaN  NaN  NaN   \n",
      "30455  H8KS03072    NaN NaN NaN NaN NaN NaN NaN NaN NaN NaN  NaN  NaN  NaN   \n",
      "30460  H8FL01099    NaN NaN NaN NaN NaN NaN NaN NaN NaN NaN  NaN  NaN  NaN   \n",
      "...          ...    ...  ..  ..  ..  ..  ..  ..  ..  ..  ..  ...  ...  ...   \n",
      "43183  S8MN00438    NaN NaN NaN NaN NaN NaN NaN NaN NaN NaN  NaN  NaN  NaN   \n",
      "43186  H0MD05126    NaN NaN NaN NaN NaN NaN NaN NaN NaN NaN  NaN  NaN  NaN   \n",
      "43195  H0MO09168    NaN NaN NaN NaN NaN NaN NaN NaN NaN NaN  NaN  NaN  NaN   \n",
      "43203  H4CA25099    NaN NaN NaN NaN NaN NaN NaN NaN NaN NaN  NaN  NaN  NaN   \n",
      "43205  H4TN04205    NaN NaN NaN NaN NaN NaN NaN NaN NaN NaN  NaN  NaN  NaN   \n",
      "43210  H0MI06137    NaN NaN NaN NaN NaN NaN NaN NaN NaN NaN  NaN  NaN  NaN   \n",
      "43232  H6OH04082    NaN NaN NaN NaN NaN NaN NaN NaN NaN NaN  NaN  NaN  NaN   \n",
      "43244  H4AR01044    NaN NaN NaN NaN NaN NaN NaN NaN NaN NaN  NaN  NaN  NaN   \n",
      "43249  S0UT00066    NaN NaN NaN NaN NaN NaN NaN NaN NaN NaN  NaN  NaN  NaN   \n",
      "43258  H0IN02125    NaN NaN NaN NaN NaN NaN NaN NaN NaN NaN  NaN  NaN  NaN   \n",
      "43259  H0PA12124    NaN NaN NaN NaN NaN NaN NaN NaN NaN NaN  NaN  NaN  NaN   \n",
      "43263  H8MI12062    NaN NaN NaN NaN NaN NaN NaN NaN NaN NaN  NaN  NaN  NaN   \n",
      "43291  H2FL22114    NaN NaN NaN NaN NaN NaN NaN NaN NaN NaN  NaN  NaN  NaN   \n",
      "43292  H4NE03037    NaN NaN NaN NaN NaN NaN NaN NaN NaN NaN  NaN  NaN  NaN   \n",
      "43301  S8MS00196    NaN NaN NaN NaN NaN NaN NaN NaN NaN NaN  NaN  NaN  NaN   \n",
      "43304  H4TX03064    NaN NaN NaN NaN NaN NaN NaN NaN NaN NaN  NaN  NaN  NaN   \n",
      "43309  H2CA49234    NaN NaN NaN NaN NaN NaN NaN NaN NaN NaN  NaN  NaN  NaN   \n",
      "43316  H2OR04079    NaN NaN NaN NaN NaN NaN NaN NaN NaN NaN  NaN  NaN  NaN   \n",
      "43324  H2AZ07161    NaN NaN NaN NaN NaN NaN NaN NaN NaN NaN  NaN  NaN  NaN   \n",
      "43337  H4TX07065    NaN NaN NaN NaN NaN NaN NaN NaN NaN NaN  NaN  NaN  NaN   \n",
      "43338  S4IL00362    NaN NaN NaN NaN NaN NaN NaN NaN NaN NaN  NaN  NaN  NaN   \n",
      "43341  H4ID01073    NaN NaN NaN NaN NaN NaN NaN NaN NaN NaN  NaN  NaN  NaN   \n",
      "43348  H0OH02071    NaN NaN NaN NaN NaN NaN NaN NaN NaN NaN  NaN  NaN  NaN   \n",
      "43352  S4CO00197    NaN NaN NaN NaN NaN NaN NaN NaN NaN NaN  NaN  NaN  NaN   \n",
      "43353  H4CA48059    NaN NaN NaN NaN NaN NaN NaN NaN NaN NaN  NaN  NaN  NaN   \n",
      "43354  H4CO03167    NaN NaN NaN NaN NaN NaN NaN NaN NaN NaN  NaN  NaN  NaN   \n",
      "43359  S0CO00211    NaN NaN NaN NaN NaN NaN NaN NaN NaN NaN  NaN  NaN  NaN   \n",
      "43388  H4MD06175    NaN NaN NaN NaN NaN NaN NaN NaN NaN NaN  NaN  NaN  NaN   \n",
      "43403  H8FL00026    NaN NaN NaN NaN NaN NaN NaN NaN NaN NaN  NaN  NaN  NaN   \n",
      "43407  H4AZ05047    NaN NaN NaN NaN NaN NaN NaN NaN NaN NaN  NaN  NaN  NaN   \n",
      "\n",
      "       c13  total  \n",
      "30254  NaN    NaN  \n",
      "30258  NaN    NaN  \n",
      "30272  NaN    NaN  \n",
      "30280  NaN    NaN  \n",
      "30288  NaN    NaN  \n",
      "30293  NaN    NaN  \n",
      "30297  NaN    NaN  \n",
      "30306  NaN    NaN  \n",
      "30309  NaN    NaN  \n",
      "30317  NaN    NaN  \n",
      "30320  NaN    NaN  \n",
      "30324  NaN    NaN  \n",
      "30351  NaN    NaN  \n",
      "30356  NaN    NaN  \n",
      "30363  NaN    NaN  \n",
      "30364  NaN    NaN  \n",
      "30368  NaN    NaN  \n",
      "30384  NaN    NaN  \n",
      "30386  NaN    NaN  \n",
      "30389  NaN    NaN  \n",
      "30394  NaN    NaN  \n",
      "30396  NaN    NaN  \n",
      "30408  NaN    NaN  \n",
      "30414  NaN    NaN  \n",
      "30422  NaN    NaN  \n",
      "30435  NaN    NaN  \n",
      "30439  NaN    NaN  \n",
      "30452  NaN    NaN  \n",
      "30455  NaN    NaN  \n",
      "30460  NaN    NaN  \n",
      "...    ...    ...  \n",
      "43183  NaN    NaN  \n",
      "43186  NaN    NaN  \n",
      "43195  NaN    NaN  \n",
      "43203  NaN    NaN  \n",
      "43205  NaN    NaN  \n",
      "43210  NaN    NaN  \n",
      "43232  NaN    NaN  \n",
      "43244  NaN    NaN  \n",
      "43249  NaN    NaN  \n",
      "43258  NaN    NaN  \n",
      "43259  NaN    NaN  \n",
      "43263  NaN    NaN  \n",
      "43291  NaN    NaN  \n",
      "43292  NaN    NaN  \n",
      "43301  NaN    NaN  \n",
      "43304  NaN    NaN  \n",
      "43309  NaN    NaN  \n",
      "43316  NaN    NaN  \n",
      "43324  NaN    NaN  \n",
      "43337  NaN    NaN  \n",
      "43338  NaN    NaN  \n",
      "43341  NaN    NaN  \n",
      "43348  NaN    NaN  \n",
      "43352  NaN    NaN  \n",
      "43353  NaN    NaN  \n",
      "43354  NaN    NaN  \n",
      "43359  NaN    NaN  \n",
      "43388  NaN    NaN  \n",
      "43403  NaN    NaN  \n",
      "43407  NaN    NaN  \n",
      "\n",
      "[1319 rows x 16 columns]\n"
     ]
    }
   ],
   "source": [
    "print(catsort[pd.to_numeric(catsort['cycle'], errors = 'coerce').isnull()])"
   ]
  },
  {
   "cell_type": "code",
   "execution_count": 11,
   "metadata": {
    "collapsed": true
   },
   "outputs": [],
   "source": [
    "catsort = catsort[pd.notnull(catsort['cycle'])]"
   ]
  },
  {
   "cell_type": "code",
   "execution_count": 12,
   "metadata": {
    "collapsed": true
   },
   "outputs": [],
   "source": [
    "catsort['cycle'] = catsort['cycle'].astype(int).astype('str')"
   ]
  },
  {
   "cell_type": "code",
   "execution_count": 13,
   "metadata": {},
   "outputs": [
    {
     "data": {
      "text/html": [
       "<div>\n",
       "<table border=\"1\" class=\"dataframe\">\n",
       "  <thead>\n",
       "    <tr style=\"text-align: right;\">\n",
       "      <th></th>\n",
       "      <th>cand_id</th>\n",
       "      <th>cycle</th>\n",
       "      <th>c1</th>\n",
       "      <th>c2</th>\n",
       "      <th>c3</th>\n",
       "      <th>c4</th>\n",
       "      <th>c5</th>\n",
       "      <th>c6</th>\n",
       "      <th>c7</th>\n",
       "      <th>c8</th>\n",
       "      <th>c9</th>\n",
       "      <th>c10</th>\n",
       "      <th>c11</th>\n",
       "      <th>c12</th>\n",
       "      <th>c13</th>\n",
       "      <th>total</th>\n",
       "    </tr>\n",
       "  </thead>\n",
       "  <tbody>\n",
       "    <tr>\n",
       "      <th>0</th>\n",
       "      <td>H6FL19038</td>\n",
       "      <td>2006</td>\n",
       "      <td>281886.64</td>\n",
       "      <td>NaN</td>\n",
       "      <td>NaN</td>\n",
       "      <td>NaN</td>\n",
       "      <td>NaN</td>\n",
       "      <td>NaN</td>\n",
       "      <td>NaN</td>\n",
       "      <td>NaN</td>\n",
       "      <td>NaN</td>\n",
       "      <td>NaN</td>\n",
       "      <td>NaN</td>\n",
       "      <td>NaN</td>\n",
       "      <td>NaN</td>\n",
       "      <td>NaN</td>\n",
       "    </tr>\n",
       "    <tr>\n",
       "      <th>1</th>\n",
       "      <td>H2NY17071</td>\n",
       "      <td>2004</td>\n",
       "      <td>4500.00</td>\n",
       "      <td>NaN</td>\n",
       "      <td>NaN</td>\n",
       "      <td>NaN</td>\n",
       "      <td>NaN</td>\n",
       "      <td>NaN</td>\n",
       "      <td>NaN</td>\n",
       "      <td>NaN</td>\n",
       "      <td>NaN</td>\n",
       "      <td>NaN</td>\n",
       "      <td>NaN</td>\n",
       "      <td>NaN</td>\n",
       "      <td>NaN</td>\n",
       "      <td>NaN</td>\n",
       "    </tr>\n",
       "    <tr>\n",
       "      <th>2</th>\n",
       "      <td>H8TX27023</td>\n",
       "      <td>2008</td>\n",
       "      <td>12900.00</td>\n",
       "      <td>NaN</td>\n",
       "      <td>NaN</td>\n",
       "      <td>NaN</td>\n",
       "      <td>NaN</td>\n",
       "      <td>NaN</td>\n",
       "      <td>NaN</td>\n",
       "      <td>NaN</td>\n",
       "      <td>NaN</td>\n",
       "      <td>NaN</td>\n",
       "      <td>NaN</td>\n",
       "      <td>NaN</td>\n",
       "      <td>NaN</td>\n",
       "      <td>NaN</td>\n",
       "    </tr>\n",
       "    <tr>\n",
       "      <th>3</th>\n",
       "      <td>H8OH18088</td>\n",
       "      <td>2012</td>\n",
       "      <td>30.00</td>\n",
       "      <td>NaN</td>\n",
       "      <td>NaN</td>\n",
       "      <td>NaN</td>\n",
       "      <td>NaN</td>\n",
       "      <td>NaN</td>\n",
       "      <td>NaN</td>\n",
       "      <td>NaN</td>\n",
       "      <td>NaN</td>\n",
       "      <td>NaN</td>\n",
       "      <td>NaN</td>\n",
       "      <td>NaN</td>\n",
       "      <td>NaN</td>\n",
       "      <td>NaN</td>\n",
       "    </tr>\n",
       "    <tr>\n",
       "      <th>4</th>\n",
       "      <td>H0SC01071</td>\n",
       "      <td>2008</td>\n",
       "      <td>83183.76</td>\n",
       "      <td>NaN</td>\n",
       "      <td>NaN</td>\n",
       "      <td>NaN</td>\n",
       "      <td>NaN</td>\n",
       "      <td>NaN</td>\n",
       "      <td>NaN</td>\n",
       "      <td>NaN</td>\n",
       "      <td>NaN</td>\n",
       "      <td>NaN</td>\n",
       "      <td>NaN</td>\n",
       "      <td>NaN</td>\n",
       "      <td>NaN</td>\n",
       "      <td>NaN</td>\n",
       "    </tr>\n",
       "  </tbody>\n",
       "</table>\n",
       "</div>"
      ],
      "text/plain": [
       "     cand_id cycle         c1  c2  c3  c4  c5  c6  c7  c8  c9  c10  c11  c12  \\\n",
       "0  H6FL19038  2006  281886.64 NaN NaN NaN NaN NaN NaN NaN NaN  NaN  NaN  NaN   \n",
       "1  H2NY17071  2004    4500.00 NaN NaN NaN NaN NaN NaN NaN NaN  NaN  NaN  NaN   \n",
       "2  H8TX27023  2008   12900.00 NaN NaN NaN NaN NaN NaN NaN NaN  NaN  NaN  NaN   \n",
       "3  H8OH18088  2012      30.00 NaN NaN NaN NaN NaN NaN NaN NaN  NaN  NaN  NaN   \n",
       "4  H0SC01071  2008   83183.76 NaN NaN NaN NaN NaN NaN NaN NaN  NaN  NaN  NaN   \n",
       "\n",
       "   c13  total  \n",
       "0  NaN    NaN  \n",
       "1  NaN    NaN  \n",
       "2  NaN    NaN  \n",
       "3  NaN    NaN  \n",
       "4  NaN    NaN  "
      ]
     },
     "execution_count": 13,
     "metadata": {},
     "output_type": "execute_result"
    }
   ],
   "source": [
    "catsort.head()"
   ]
  },
  {
   "cell_type": "code",
   "execution_count": 14,
   "metadata": {
    "collapsed": true
   },
   "outputs": [],
   "source": [
    "exp['cycle']=pd.to_numeric(exp['cycle'],errors='coerce')"
   ]
  },
  {
   "cell_type": "code",
   "execution_count": 15,
   "metadata": {},
   "outputs": [
    {
     "name": "stdout",
     "output_type": "stream",
     "text": [
      "       state_abbreviation district incumbent party  primary_votes  \\\n",
      "187                    CA        4       (I)   REP        63731.0   \n",
      "188                    CA        4       (I)     R       105015.0   \n",
      "264                    CA       45       NaN     R         8422.0   \n",
      "282                    CA       48       NaN     D        39385.0   \n",
      "283                    CA       48       NaN     D        39385.0   \n",
      "284                    CA       49       (I)     R        56558.0   \n",
      "285                    CA       49       (I)     R        71329.0   \n",
      "286                    CA       49       (I)   REP        60447.0   \n",
      "287                    CA       49       (I)     R        41369.0   \n",
      "288                    CA       49       (I)   REP        47693.0   \n",
      "289                    CA       49       (I)     R        66710.0   \n",
      "1063                   ID        1       (I)     R        48986.0   \n",
      "1064                   ID        1       (I)     R        48986.0   \n",
      "1081                   ID        1       (I)     R        48986.0   \n",
      "1382                   LA        2       (I)     D        17506.0   \n",
      "1383                   LA        2       (I)   DEM            NaN   \n",
      "1384                   LA        2       (I)     D            NaN   \n",
      "1775                   MN        7       NaN   IDP         2242.0   \n",
      "1776                   MN        7       NaN     R         7698.0   \n",
      "2029                   MO        7       NaN   DEM         4370.0   \n",
      "2030                   MO        7       NaN     D         3743.0   \n",
      "2031                   MT        0       (I)   REP        96796.0   \n",
      "2032                   MT        0       (I)     R        90492.0   \n",
      "2033                   MT        0       (I)   REP        91836.0   \n",
      "2034                   MT        0       (I)     R       107309.0   \n",
      "2152                   NV        3       (I)     R        21955.0   \n",
      "2153                   NV        3       (I)   REP            0.0   \n",
      "2154                   NV        3       (I)     R            0.0   \n",
      "2155                   NV        3       (I)     R        21955.0   \n",
      "2156                   NV        3       (I)   REP            0.0   \n",
      "...                   ...      ...       ...   ...            ...   \n",
      "458501                 ID        S       NaN     R         2082.0   \n",
      "458502                 OH        S       NaN     W            NaN   \n",
      "458503                 NC        9       NaN   LBT            NaN   \n",
      "458504                 NV        1       NaN     R         1137.0   \n",
      "458505                 CO        4       NaN    UN            NaN   \n",
      "458506                 TX        3       NaN     R         2357.0   \n",
      "458507                 AK        S       NaN     D         1080.0   \n",
      "458508                 TX       24       NaN   LBT            NaN   \n",
      "458509                 CA       52       NaN   LBT          486.0   \n",
      "458510                 NV        4       NaN   IAP            NaN   \n",
      "458511                 NV        3       NaN   IAP            NaN   \n",
      "458512                 OK        S       NaN     R         3800.0   \n",
      "458513                 RI        2       NaN     W            NaN   \n",
      "458514                 MN        4       NaN   DFL         3212.0   \n",
      "458515                 MN        4       NaN   DFL         8622.0   \n",
      "458516                 SC        1       NaN   IDP            NaN   \n",
      "458517                 CA       49       NaN   LIB          395.0   \n",
      "458518                 AZ        7       NaN   REP         2737.0   \n",
      "458519                 TX       17       NaN   LIB            NaN   \n",
      "458520                 TX       31       NaN   LIB            NaN   \n",
      "458521                 NV        S       NaN   LBT            NaN   \n",
      "458522                 NJ        S       NaN     R        19238.0   \n",
      "458523                 HI        1       NaN     R          799.0   \n",
      "458524                 HI        1       NaN   REP          397.0   \n",
      "458525                 HI        1       NaN   LBT          295.0   \n",
      "458526                 NJ       13       NaN   PLC            NaN   \n",
      "458527                 NJ       13       NaN   PLC            NaN   \n",
      "458528                 OR        S       NaN     R        15838.0   \n",
      "458529                 NJ       13       NaN   PLC            NaN   \n",
      "458530                 MD        8       NaN   CON            NaN   \n",
      "\n",
      "        runoff_votes  general_votes  ge_runoff_election_votes  \\\n",
      "187              NaN       135818.0                       NaN   \n",
      "188              NaN       221926.0                       NaN   \n",
      "264              NaN            NaN                       NaN   \n",
      "282              NaN        93525.0                       NaN   \n",
      "283              NaN        93525.0                       NaN   \n",
      "284              NaN        98161.0                       NaN   \n",
      "285              NaN       159725.0                       NaN   \n",
      "286              NaN       119088.0                       NaN   \n",
      "287              NaN       140300.0                       NaN   \n",
      "288              NaN        98831.0                       NaN   \n",
      "289              NaN       141658.0                       NaN   \n",
      "1063             NaN       207662.0                       NaN   \n",
      "1064             NaN       207662.0                       NaN   \n",
      "1081             NaN       207662.0                       NaN   \n",
      "1382         92921.0        31318.0                       NaN   \n",
      "1383             NaN        28283.0                   35153.0   \n",
      "1384             NaN       173510.0                       NaN   \n",
      "1775             NaN         7839.0                       NaN   \n",
      "1776             NaN        87062.0                       NaN   \n",
      "2029             NaN            NaN                       NaN   \n",
      "2030             NaN            NaN                       NaN   \n",
      "2031             NaN       217696.0                       NaN   \n",
      "2032             NaN       308470.0                       NaN   \n",
      "2033             NaN       239124.0                       NaN   \n",
      "2034             NaN       286076.0                       NaN   \n",
      "2152             NaN       147940.0                       NaN   \n",
      "2153             NaN       102232.0                       NaN   \n",
      "2154             NaN       162240.0                       NaN   \n",
      "2155             NaN       147940.0                       NaN   \n",
      "2156             NaN       102232.0                       NaN   \n",
      "...              ...            ...                       ...   \n",
      "458501           NaN            NaN                       NaN   \n",
      "458502           NaN          296.0                       NaN   \n",
      "458503           NaN         6711.0                       NaN   \n",
      "458504           NaN            NaN                       NaN   \n",
      "458505           NaN         3986.0                       NaN   \n",
      "458506           NaN            NaN                       NaN   \n",
      "458507           NaN            NaN                       NaN   \n",
      "458508           NaN         4340.0                       NaN   \n",
      "458509           NaN         6465.0                       NaN   \n",
      "458510           NaN         9389.0                       NaN   \n",
      "458511           NaN         6937.0                       NaN   \n",
      "458512           NaN            NaN                       NaN   \n",
      "458513           NaN            6.0                       NaN   \n",
      "458514           NaN            NaN                       NaN   \n",
      "458515           NaN            NaN                       NaN   \n",
      "458516           NaN         2489.0                       NaN   \n",
      "458517           NaN         4290.0                       NaN   \n",
      "458518           NaN            NaN                       NaN   \n",
      "458519           NaN            NaN                       NaN   \n",
      "458520           NaN        26735.0                       NaN   \n",
      "458521           NaN         5269.0                       NaN   \n",
      "458522           NaN            NaN                       NaN   \n",
      "458523           NaN            NaN                       NaN   \n",
      "458524           NaN            NaN                       NaN   \n",
      "458525           NaN            NaN                       NaN   \n",
      "458526           NaN         2592.0                       NaN   \n",
      "458527           NaN          586.0                       NaN   \n",
      "458528           NaN            NaN                       NaN   \n",
      "458529           NaN         1282.0                       NaN   \n",
      "458530           NaN          696.0                       NaN   \n",
      "\n",
      "       ge_winner_indicator  total_votes    cand_id    cmte_id  exp_sum  \\\n",
      "187                      W       199549  H0CA14042  C00393181      NaN   \n",
      "188                      W       326941  H0CA14042  C00393181      NaN   \n",
      "264                    NaN         8422  H0CA44122  C00396457      NaN   \n",
      "282                    NaN       132910  H0CA47034  C00404889      NaN   \n",
      "283                    NaN       132910  H0CA47034  C00349597      NaN   \n",
      "284                      W       154719  H0CA48024  C00393181      NaN   \n",
      "285                      W       231054  H0CA48024  C00393181      NaN   \n",
      "286                      W       179535  H0CA48024  C00393181      NaN   \n",
      "287                      W       181669  H0CA48024  C00393181      NaN   \n",
      "288                      W       146524  H0CA48024  C00393181      NaN   \n",
      "289                      W       208368  H0CA48024  C00393181      NaN   \n",
      "1063                     W       256648  H0ID01139  C00393181      NaN   \n",
      "1064                     W       256648  H0ID01139  C00381319      NaN   \n",
      "1081                     W       256648  H0ID01139  C00404814      NaN   \n",
      "1382                   NaN       141745  H0LA02119  C00247734      NaN   \n",
      "1383                     W        63436  H0LA02119  C00247734      NaN   \n",
      "1384                     W       173510  H0LA02119  C00247734      NaN   \n",
      "1775                   NaN        10081  H0MN07034  C00355537      NaN   \n",
      "1776                   NaN        94760  H0MN07034  C00355537      NaN   \n",
      "2029                   NaN         4370  H0MO07097  C00379339      NaN   \n",
      "2030                   NaN         3743  H0MO07097  C00379339      NaN   \n",
      "2031                     W       314492  H0MT00033  C00393181      NaN   \n",
      "2032                     W       398962  H0MT00033  C00393181      NaN   \n",
      "2033                     W       330960  H0MT00033  C00393181      NaN   \n",
      "2034                     W       393385  H0MT00033  C00393181      NaN   \n",
      "2152                   NaN       169895  H0NV01078  C00393181      NaN   \n",
      "2153                     W       102232  H0NV01078  C00393181      NaN   \n",
      "2154                     W       162240  H0NV01078  C00393181      NaN   \n",
      "2155                   NaN       169895  H0NV01078  C00350454      NaN   \n",
      "2156                     W       102232  H0NV01078  C00350454      NaN   \n",
      "...                    ...          ...        ...        ...      ...   \n",
      "458501                 NaN         2082        NaN        NaN      NaN   \n",
      "458502                 NaN          296        NaN        NaN      NaN   \n",
      "458503                 NaN         6711        NaN        NaN      NaN   \n",
      "458504                 NaN         1137        NaN        NaN      NaN   \n",
      "458505                 NaN         3986        NaN        NaN      NaN   \n",
      "458506                 NaN         2357        NaN        NaN      NaN   \n",
      "458507                 NaN         1080        NaN        NaN      NaN   \n",
      "458508                 NaN         4340        NaN        NaN      NaN   \n",
      "458509                 NaN         6951        NaN        NaN      NaN   \n",
      "458510                 NaN         9389        NaN        NaN      NaN   \n",
      "458511                 NaN         6937        NaN        NaN      NaN   \n",
      "458512                 NaN         3800        NaN        NaN      NaN   \n",
      "458513                 NaN            6        NaN        NaN      NaN   \n",
      "458514                 NaN         3212        NaN        NaN      NaN   \n",
      "458515                 NaN         8622        NaN        NaN      NaN   \n",
      "458516                 NaN         2489        NaN        NaN      NaN   \n",
      "458517                 NaN         4685        NaN        NaN      NaN   \n",
      "458518                 NaN         2737        NaN        NaN      NaN   \n",
      "458519                 NaN            0        NaN        NaN      NaN   \n",
      "458520                 NaN        26735        NaN        NaN      NaN   \n",
      "458521                 NaN         5269        NaN        NaN      NaN   \n",
      "458522                 NaN        19238        NaN        NaN      NaN   \n",
      "458523                 NaN          799        NaN        NaN      NaN   \n",
      "458524                 NaN          397        NaN        NaN      NaN   \n",
      "458525                 NaN          295        NaN        NaN      NaN   \n",
      "458526                 NaN         2592        NaN        NaN      NaN   \n",
      "458527                 NaN          586        NaN        NaN      NaN   \n",
      "458528                 NaN        15838        NaN        NaN      NaN   \n",
      "458529                 NaN         1282        NaN        NaN      NaN   \n",
      "458530                 NaN          696        NaN        NaN      NaN   \n",
      "\n",
      "       category  cycle  \n",
      "187         NaN    NaN  \n",
      "188         NaN    NaN  \n",
      "264         NaN    NaN  \n",
      "282         NaN    NaN  \n",
      "283         NaN    NaN  \n",
      "284         NaN    NaN  \n",
      "285         NaN    NaN  \n",
      "286         NaN    NaN  \n",
      "287         NaN    NaN  \n",
      "288         NaN    NaN  \n",
      "289         NaN    NaN  \n",
      "1063        NaN    NaN  \n",
      "1064        NaN    NaN  \n",
      "1081        NaN    NaN  \n",
      "1382        NaN    NaN  \n",
      "1383        NaN    NaN  \n",
      "1384        NaN    NaN  \n",
      "1775        NaN    NaN  \n",
      "1776        NaN    NaN  \n",
      "2029        NaN    NaN  \n",
      "2030        NaN    NaN  \n",
      "2031        NaN    NaN  \n",
      "2032        NaN    NaN  \n",
      "2033        NaN    NaN  \n",
      "2034        NaN    NaN  \n",
      "2152        NaN    NaN  \n",
      "2153        NaN    NaN  \n",
      "2154        NaN    NaN  \n",
      "2155        NaN    NaN  \n",
      "2156        NaN    NaN  \n",
      "...         ...    ...  \n",
      "458501      NaN    NaN  \n",
      "458502      NaN    NaN  \n",
      "458503      NaN    NaN  \n",
      "458504      NaN    NaN  \n",
      "458505      NaN    NaN  \n",
      "458506      NaN    NaN  \n",
      "458507      NaN    NaN  \n",
      "458508      NaN    NaN  \n",
      "458509      NaN    NaN  \n",
      "458510      NaN    NaN  \n",
      "458511      NaN    NaN  \n",
      "458512      NaN    NaN  \n",
      "458513      NaN    NaN  \n",
      "458514      NaN    NaN  \n",
      "458515      NaN    NaN  \n",
      "458516      NaN    NaN  \n",
      "458517      NaN    NaN  \n",
      "458518      NaN    NaN  \n",
      "458519      NaN    NaN  \n",
      "458520      NaN    NaN  \n",
      "458521      NaN    NaN  \n",
      "458522      NaN    NaN  \n",
      "458523      NaN    NaN  \n",
      "458524      NaN    NaN  \n",
      "458525      NaN    NaN  \n",
      "458526      NaN    NaN  \n",
      "458527      NaN    NaN  \n",
      "458528      NaN    NaN  \n",
      "458529      NaN    NaN  \n",
      "458530      NaN    NaN  \n",
      "\n",
      "[20997 rows x 15 columns]\n"
     ]
    }
   ],
   "source": [
    "print(exp[pd.to_numeric(exp['cycle'], errors = 'coerce').isnull()])"
   ]
  },
  {
   "cell_type": "code",
   "execution_count": 16,
   "metadata": {
    "collapsed": true
   },
   "outputs": [],
   "source": [
    "exp = exp[pd.notnull(exp['cycle'])]"
   ]
  },
  {
   "cell_type": "code",
   "execution_count": 17,
   "metadata": {
    "collapsed": true
   },
   "outputs": [],
   "source": [
    "exp['cycle'] = exp['cycle'].astype(int).astype('str')"
   ]
  },
  {
   "cell_type": "code",
   "execution_count": 18,
   "metadata": {},
   "outputs": [
    {
     "data": {
      "text/html": [
       "<div>\n",
       "<table border=\"1\" class=\"dataframe\">\n",
       "  <thead>\n",
       "    <tr style=\"text-align: right;\">\n",
       "      <th></th>\n",
       "      <th>state_abbreviation</th>\n",
       "      <th>district</th>\n",
       "      <th>incumbent</th>\n",
       "      <th>party</th>\n",
       "      <th>primary_votes</th>\n",
       "      <th>runoff_votes</th>\n",
       "      <th>general_votes</th>\n",
       "      <th>ge_runoff_election_votes</th>\n",
       "      <th>ge_winner_indicator</th>\n",
       "      <th>total_votes</th>\n",
       "      <th>cand_id</th>\n",
       "      <th>cmte_id</th>\n",
       "      <th>exp_sum</th>\n",
       "      <th>category</th>\n",
       "      <th>cycle</th>\n",
       "    </tr>\n",
       "  </thead>\n",
       "  <tbody>\n",
       "    <tr>\n",
       "      <th>0</th>\n",
       "      <td>AL</td>\n",
       "      <td>7</td>\n",
       "      <td>(I)</td>\n",
       "      <td>D</td>\n",
       "      <td>0.0</td>\n",
       "      <td>NaN</td>\n",
       "      <td>228518.0</td>\n",
       "      <td>NaN</td>\n",
       "      <td>W</td>\n",
       "      <td>228518</td>\n",
       "      <td>H0AL07060</td>\n",
       "      <td>C00347872</td>\n",
       "      <td>1363.96</td>\n",
       "      <td>NaN</td>\n",
       "      <td>2012</td>\n",
       "    </tr>\n",
       "    <tr>\n",
       "      <th>1</th>\n",
       "      <td>AL</td>\n",
       "      <td>7</td>\n",
       "      <td>(I)</td>\n",
       "      <td>DEM</td>\n",
       "      <td>93586.0</td>\n",
       "      <td>NaN</td>\n",
       "      <td>133870.0</td>\n",
       "      <td>NaN</td>\n",
       "      <td>W</td>\n",
       "      <td>227456</td>\n",
       "      <td>H0AL07060</td>\n",
       "      <td>C00347872</td>\n",
       "      <td>1363.96</td>\n",
       "      <td>NaN</td>\n",
       "      <td>2012</td>\n",
       "    </tr>\n",
       "    <tr>\n",
       "      <th>2</th>\n",
       "      <td>AL</td>\n",
       "      <td>7</td>\n",
       "      <td>(I)</td>\n",
       "      <td>D</td>\n",
       "      <td>58193.0</td>\n",
       "      <td>NaN</td>\n",
       "      <td>183408.0</td>\n",
       "      <td>NaN</td>\n",
       "      <td>W</td>\n",
       "      <td>241601</td>\n",
       "      <td>H0AL07060</td>\n",
       "      <td>C00347872</td>\n",
       "      <td>1363.96</td>\n",
       "      <td>NaN</td>\n",
       "      <td>2012</td>\n",
       "    </tr>\n",
       "    <tr>\n",
       "      <th>3</th>\n",
       "      <td>AL</td>\n",
       "      <td>7</td>\n",
       "      <td>(I)</td>\n",
       "      <td>D</td>\n",
       "      <td>0.0</td>\n",
       "      <td>NaN</td>\n",
       "      <td>228518.0</td>\n",
       "      <td>NaN</td>\n",
       "      <td>W</td>\n",
       "      <td>228518</td>\n",
       "      <td>H0AL07060</td>\n",
       "      <td>C00347872</td>\n",
       "      <td>1204248.81</td>\n",
       "      <td>NaN</td>\n",
       "      <td>2010</td>\n",
       "    </tr>\n",
       "    <tr>\n",
       "      <th>4</th>\n",
       "      <td>AL</td>\n",
       "      <td>7</td>\n",
       "      <td>(I)</td>\n",
       "      <td>DEM</td>\n",
       "      <td>93586.0</td>\n",
       "      <td>NaN</td>\n",
       "      <td>133870.0</td>\n",
       "      <td>NaN</td>\n",
       "      <td>W</td>\n",
       "      <td>227456</td>\n",
       "      <td>H0AL07060</td>\n",
       "      <td>C00347872</td>\n",
       "      <td>1204248.81</td>\n",
       "      <td>NaN</td>\n",
       "      <td>2010</td>\n",
       "    </tr>\n",
       "  </tbody>\n",
       "</table>\n",
       "</div>"
      ],
      "text/plain": [
       "  state_abbreviation district incumbent party  primary_votes  runoff_votes  \\\n",
       "0                 AL        7       (I)     D            0.0           NaN   \n",
       "1                 AL        7       (I)   DEM        93586.0           NaN   \n",
       "2                 AL        7       (I)     D        58193.0           NaN   \n",
       "3                 AL        7       (I)     D            0.0           NaN   \n",
       "4                 AL        7       (I)   DEM        93586.0           NaN   \n",
       "\n",
       "   general_votes  ge_runoff_election_votes ge_winner_indicator  total_votes  \\\n",
       "0       228518.0                       NaN                   W       228518   \n",
       "1       133870.0                       NaN                   W       227456   \n",
       "2       183408.0                       NaN                   W       241601   \n",
       "3       228518.0                       NaN                   W       228518   \n",
       "4       133870.0                       NaN                   W       227456   \n",
       "\n",
       "     cand_id    cmte_id     exp_sum category cycle  \n",
       "0  H0AL07060  C00347872     1363.96      NaN  2012  \n",
       "1  H0AL07060  C00347872     1363.96      NaN  2012  \n",
       "2  H0AL07060  C00347872     1363.96      NaN  2012  \n",
       "3  H0AL07060  C00347872  1204248.81      NaN  2010  \n",
       "4  H0AL07060  C00347872  1204248.81      NaN  2010  "
      ]
     },
     "execution_count": 18,
     "metadata": {},
     "output_type": "execute_result"
    }
   ],
   "source": [
    "exp.head()"
   ]
  },
  {
   "cell_type": "code",
   "execution_count": null,
   "metadata": {
    "collapsed": true
   },
   "outputs": [],
   "source": []
  },
  {
   "cell_type": "code",
   "execution_count": null,
   "metadata": {
    "collapsed": true
   },
   "outputs": [],
   "source": []
  },
  {
   "cell_type": "code",
   "execution_count": 19,
   "metadata": {},
   "outputs": [
    {
     "data": {
      "text/html": [
       "<div>\n",
       "<table border=\"1\" class=\"dataframe\">\n",
       "  <thead>\n",
       "    <tr style=\"text-align: right;\">\n",
       "      <th></th>\n",
       "      <th>cand_id</th>\n",
       "      <th>cycle</th>\n",
       "      <th>c1</th>\n",
       "      <th>c2</th>\n",
       "      <th>c3</th>\n",
       "      <th>c4</th>\n",
       "      <th>c5</th>\n",
       "      <th>c6</th>\n",
       "      <th>c7</th>\n",
       "      <th>c8</th>\n",
       "      <th>c9</th>\n",
       "      <th>c10</th>\n",
       "      <th>c11</th>\n",
       "      <th>c12</th>\n",
       "      <th>c13</th>\n",
       "      <th>total</th>\n",
       "    </tr>\n",
       "  </thead>\n",
       "  <tbody>\n",
       "    <tr>\n",
       "      <th>0</th>\n",
       "      <td>H6FL19038</td>\n",
       "      <td>2006</td>\n",
       "      <td>281886.64</td>\n",
       "      <td>NaN</td>\n",
       "      <td>NaN</td>\n",
       "      <td>NaN</td>\n",
       "      <td>NaN</td>\n",
       "      <td>NaN</td>\n",
       "      <td>NaN</td>\n",
       "      <td>NaN</td>\n",
       "      <td>NaN</td>\n",
       "      <td>NaN</td>\n",
       "      <td>NaN</td>\n",
       "      <td>NaN</td>\n",
       "      <td>NaN</td>\n",
       "      <td>NaN</td>\n",
       "    </tr>\n",
       "    <tr>\n",
       "      <th>1</th>\n",
       "      <td>H2NY17071</td>\n",
       "      <td>2004</td>\n",
       "      <td>4500.00</td>\n",
       "      <td>NaN</td>\n",
       "      <td>NaN</td>\n",
       "      <td>NaN</td>\n",
       "      <td>NaN</td>\n",
       "      <td>NaN</td>\n",
       "      <td>NaN</td>\n",
       "      <td>NaN</td>\n",
       "      <td>NaN</td>\n",
       "      <td>NaN</td>\n",
       "      <td>NaN</td>\n",
       "      <td>NaN</td>\n",
       "      <td>NaN</td>\n",
       "      <td>NaN</td>\n",
       "    </tr>\n",
       "    <tr>\n",
       "      <th>2</th>\n",
       "      <td>H8TX27023</td>\n",
       "      <td>2008</td>\n",
       "      <td>12900.00</td>\n",
       "      <td>NaN</td>\n",
       "      <td>NaN</td>\n",
       "      <td>NaN</td>\n",
       "      <td>NaN</td>\n",
       "      <td>NaN</td>\n",
       "      <td>NaN</td>\n",
       "      <td>NaN</td>\n",
       "      <td>NaN</td>\n",
       "      <td>NaN</td>\n",
       "      <td>NaN</td>\n",
       "      <td>NaN</td>\n",
       "      <td>NaN</td>\n",
       "      <td>NaN</td>\n",
       "    </tr>\n",
       "    <tr>\n",
       "      <th>3</th>\n",
       "      <td>H8OH18088</td>\n",
       "      <td>2012</td>\n",
       "      <td>30.00</td>\n",
       "      <td>NaN</td>\n",
       "      <td>NaN</td>\n",
       "      <td>NaN</td>\n",
       "      <td>NaN</td>\n",
       "      <td>NaN</td>\n",
       "      <td>NaN</td>\n",
       "      <td>NaN</td>\n",
       "      <td>NaN</td>\n",
       "      <td>NaN</td>\n",
       "      <td>NaN</td>\n",
       "      <td>NaN</td>\n",
       "      <td>NaN</td>\n",
       "      <td>NaN</td>\n",
       "    </tr>\n",
       "    <tr>\n",
       "      <th>4</th>\n",
       "      <td>H0SC01071</td>\n",
       "      <td>2008</td>\n",
       "      <td>83183.76</td>\n",
       "      <td>NaN</td>\n",
       "      <td>NaN</td>\n",
       "      <td>NaN</td>\n",
       "      <td>NaN</td>\n",
       "      <td>NaN</td>\n",
       "      <td>NaN</td>\n",
       "      <td>NaN</td>\n",
       "      <td>NaN</td>\n",
       "      <td>NaN</td>\n",
       "      <td>NaN</td>\n",
       "      <td>NaN</td>\n",
       "      <td>NaN</td>\n",
       "      <td>NaN</td>\n",
       "    </tr>\n",
       "  </tbody>\n",
       "</table>\n",
       "</div>"
      ],
      "text/plain": [
       "     cand_id cycle         c1  c2  c3  c4  c5  c6  c7  c8  c9  c10  c11  c12  \\\n",
       "0  H6FL19038  2006  281886.64 NaN NaN NaN NaN NaN NaN NaN NaN  NaN  NaN  NaN   \n",
       "1  H2NY17071  2004    4500.00 NaN NaN NaN NaN NaN NaN NaN NaN  NaN  NaN  NaN   \n",
       "2  H8TX27023  2008   12900.00 NaN NaN NaN NaN NaN NaN NaN NaN  NaN  NaN  NaN   \n",
       "3  H8OH18088  2012      30.00 NaN NaN NaN NaN NaN NaN NaN NaN  NaN  NaN  NaN   \n",
       "4  H0SC01071  2008   83183.76 NaN NaN NaN NaN NaN NaN NaN NaN  NaN  NaN  NaN   \n",
       "\n",
       "   c13  total  \n",
       "0  NaN    NaN  \n",
       "1  NaN    NaN  \n",
       "2  NaN    NaN  \n",
       "3  NaN    NaN  \n",
       "4  NaN    NaN  "
      ]
     },
     "execution_count": 19,
     "metadata": {},
     "output_type": "execute_result"
    }
   ],
   "source": [
    "catsort.head()"
   ]
  },
  {
   "cell_type": "code",
   "execution_count": 20,
   "metadata": {
    "collapsed": true
   },
   "outputs": [],
   "source": [
    "#catsort['cycle']=catsort['cycle'].astype('str')"
   ]
  },
  {
   "cell_type": "code",
   "execution_count": 21,
   "metadata": {},
   "outputs": [
    {
     "name": "stdout",
     "output_type": "stream",
     "text": [
      "cand_id     object\n",
      "cycle       object\n",
      "c1         float64\n",
      "c2         float64\n",
      "c3         float64\n",
      "c4         float64\n",
      "c5         float64\n",
      "c6         float64\n",
      "c7         float64\n",
      "c8         float64\n",
      "c9         float64\n",
      "c10        float64\n",
      "c11        float64\n",
      "c12        float64\n",
      "c13        float64\n",
      "total      float64\n",
      "dtype: object\n"
     ]
    }
   ],
   "source": [
    "print(catsort.dtypes)"
   ]
  },
  {
   "cell_type": "code",
   "execution_count": 22,
   "metadata": {
    "collapsed": true
   },
   "outputs": [],
   "source": [
    "cs1 = catsort"
   ]
  },
  {
   "cell_type": "code",
   "execution_count": 23,
   "metadata": {
    "collapsed": true
   },
   "outputs": [],
   "source": [
    "cs1 = cs1.drop(['c2','c3', 'c4', 'c5', 'c6', 'c7', 'c8', 'c9', 'c10', 'c11', 'c12', 'c13','total'], axis=1)"
   ]
  },
  {
   "cell_type": "code",
   "execution_count": 24,
   "metadata": {},
   "outputs": [
    {
     "data": {
      "text/html": [
       "<div>\n",
       "<table border=\"1\" class=\"dataframe\">\n",
       "  <thead>\n",
       "    <tr style=\"text-align: right;\">\n",
       "      <th></th>\n",
       "      <th>cand_id</th>\n",
       "      <th>cycle</th>\n",
       "      <th>c1</th>\n",
       "    </tr>\n",
       "  </thead>\n",
       "  <tbody>\n",
       "    <tr>\n",
       "      <th>0</th>\n",
       "      <td>H6FL19038</td>\n",
       "      <td>2006</td>\n",
       "      <td>281886.64</td>\n",
       "    </tr>\n",
       "    <tr>\n",
       "      <th>1</th>\n",
       "      <td>H2NY17071</td>\n",
       "      <td>2004</td>\n",
       "      <td>4500.00</td>\n",
       "    </tr>\n",
       "    <tr>\n",
       "      <th>2</th>\n",
       "      <td>H8TX27023</td>\n",
       "      <td>2008</td>\n",
       "      <td>12900.00</td>\n",
       "    </tr>\n",
       "    <tr>\n",
       "      <th>3</th>\n",
       "      <td>H8OH18088</td>\n",
       "      <td>2012</td>\n",
       "      <td>30.00</td>\n",
       "    </tr>\n",
       "    <tr>\n",
       "      <th>4</th>\n",
       "      <td>H0SC01071</td>\n",
       "      <td>2008</td>\n",
       "      <td>83183.76</td>\n",
       "    </tr>\n",
       "  </tbody>\n",
       "</table>\n",
       "</div>"
      ],
      "text/plain": [
       "     cand_id cycle         c1\n",
       "0  H6FL19038  2006  281886.64\n",
       "1  H2NY17071  2004    4500.00\n",
       "2  H8TX27023  2008   12900.00\n",
       "3  H8OH18088  2012      30.00\n",
       "4  H0SC01071  2008   83183.76"
      ]
     },
     "execution_count": 24,
     "metadata": {},
     "output_type": "execute_result"
    }
   ],
   "source": [
    "cs1.head()"
   ]
  },
  {
   "cell_type": "code",
   "execution_count": 25,
   "metadata": {
    "collapsed": true
   },
   "outputs": [],
   "source": [
    "cs1.set_index(['cand_id','cycle'], inplace=True)"
   ]
  },
  {
   "cell_type": "code",
   "execution_count": 26,
   "metadata": {},
   "outputs": [
    {
     "name": "stdout",
     "output_type": "stream",
     "text": [
      "                         c1\n",
      "cand_id   cycle            \n",
      "H6FL19038 2006    281886.64\n",
      "H2NY17071 2004      4500.00\n",
      "H8TX27023 2008     12900.00\n",
      "H8OH18088 2012        30.00\n",
      "H0SC01071 2008     83183.76\n",
      "S0CA00199 2010     65563.32\n",
      "S0MI00056 2014     49863.62\n",
      "H2GA12113 2012    162924.41\n",
      "H8NJ03156 2010     48652.69\n",
      "H6AZ08020 2006     21606.11\n",
      "H4WV03070 2014      2826.00\n",
      "H4WI04191 2006       966.06\n",
      "H8VA10072 2008      4602.00\n",
      "H2MA01202 2012     13388.58\n",
      "H6WV03083 2006      1652.00\n",
      "H8WY00148 2012     68895.65\n",
      "H8WI01024 2014    356582.98\n",
      "H6TX09033 2004   1143785.48\n",
      "H0IN07157 2012     28824.84\n",
      "H2MI11042 2014      1938.75\n",
      "H0FL12150 2010     11395.96\n",
      "H8AL05109 2012     10019.08\n",
      "H8VA11039 2010      6902.86\n",
      "H2MN08103 2012     22125.35\n",
      "H4TX19136 2012      4743.92\n",
      "S2CA00286 2006       595.15\n",
      "H0WI07051 2012      1965.96\n",
      "H0NY02085 2010   1625923.74\n",
      "H4TN06051 2008     86814.26\n",
      "H8CA37137 2012    390071.78\n",
      "...                     ...\n",
      "H0MA06072 2012          NaN\n",
      "H0AZ01267 2012          NaN\n",
      "S4SC00083 2006          NaN\n",
      "H6TX09033 2004          NaN\n",
      "S8NM00184 2014          NaN\n",
      "H6OH15104 2014          NaN\n",
      "H2TX21094 2012          NaN\n",
      "S8ID00027 2010          NaN\n",
      "H4PA08074 2006          NaN\n",
      "S0NY00410 2012          NaN\n",
      "S0NH00219 2008          NaN\n",
      "H4TX09095 2008          NaN\n",
      "H6HI02301 2006          NaN\n",
      "S2MO00353 2006          NaN\n",
      "H8OH01043 2008          NaN\n",
      "H0NY27066 2010          NaN\n",
      "H2AL05094 2014          NaN\n",
      "H0KY03226 2010          NaN\n",
      "H8NC11061 2012          NaN\n",
      "H6CA27272 2006          NaN\n",
      "H2ND00057 2008          NaN\n",
      "S2GA00118 2008          NaN\n",
      "S6MO00297 2010          NaN\n",
      "H8AZ05071 2008          NaN\n",
      "H2AZ07070 2014          NaN\n",
      "H2GA05133 2012          NaN\n",
      "H8OH05044 2004          NaN\n",
      "H0WA02098 2012          NaN\n",
      "H0WV01072 2014          NaN\n",
      "S0AR00069 2014          NaN\n",
      "\n",
      "[42090 rows x 1 columns]\n"
     ]
    }
   ],
   "source": [
    "print(cs1)"
   ]
  },
  {
   "cell_type": "code",
   "execution_count": 27,
   "metadata": {},
   "outputs": [
    {
     "data": {
      "text/html": [
       "<div>\n",
       "<table border=\"1\" class=\"dataframe\">\n",
       "  <thead>\n",
       "    <tr style=\"text-align: right;\">\n",
       "      <th></th>\n",
       "      <th></th>\n",
       "      <th>c1</th>\n",
       "    </tr>\n",
       "    <tr>\n",
       "      <th>cand_id</th>\n",
       "      <th>cycle</th>\n",
       "      <th></th>\n",
       "    </tr>\n",
       "  </thead>\n",
       "  <tbody>\n",
       "    <tr>\n",
       "      <th>H6FL19038</th>\n",
       "      <th>2006</th>\n",
       "      <td>281886.64</td>\n",
       "    </tr>\n",
       "    <tr>\n",
       "      <th>H2NY17071</th>\n",
       "      <th>2004</th>\n",
       "      <td>4500.00</td>\n",
       "    </tr>\n",
       "    <tr>\n",
       "      <th>H8TX27023</th>\n",
       "      <th>2008</th>\n",
       "      <td>12900.00</td>\n",
       "    </tr>\n",
       "    <tr>\n",
       "      <th>H8OH18088</th>\n",
       "      <th>2012</th>\n",
       "      <td>30.00</td>\n",
       "    </tr>\n",
       "    <tr>\n",
       "      <th>H0SC01071</th>\n",
       "      <th>2008</th>\n",
       "      <td>83183.76</td>\n",
       "    </tr>\n",
       "  </tbody>\n",
       "</table>\n",
       "</div>"
      ],
      "text/plain": [
       "                        c1\n",
       "cand_id   cycle           \n",
       "H6FL19038 2006   281886.64\n",
       "H2NY17071 2004     4500.00\n",
       "H8TX27023 2008    12900.00\n",
       "H8OH18088 2012       30.00\n",
       "H0SC01071 2008    83183.76"
      ]
     },
     "execution_count": 27,
     "metadata": {},
     "output_type": "execute_result"
    }
   ],
   "source": [
    "cs1.head()"
   ]
  },
  {
   "cell_type": "code",
   "execution_count": 28,
   "metadata": {},
   "outputs": [
    {
     "name": "stderr",
     "output_type": "stream",
     "text": [
      "/Users/adammorris/anaconda/lib/python3.5/site-packages/ipykernel/__main__.py:2: PerformanceWarning: indexing past lexsort depth may impact performance.\n",
      "  from ipykernel import kernelapp as app\n"
     ]
    },
    {
     "data": {
      "text/html": [
       "<div>\n",
       "<table border=\"1\" class=\"dataframe\">\n",
       "  <thead>\n",
       "    <tr style=\"text-align: right;\">\n",
       "      <th></th>\n",
       "      <th></th>\n",
       "      <th>c1</th>\n",
       "    </tr>\n",
       "    <tr>\n",
       "      <th>cand_id</th>\n",
       "      <th>cycle</th>\n",
       "      <th></th>\n",
       "    </tr>\n",
       "  </thead>\n",
       "  <tbody>\n",
       "    <tr>\n",
       "      <th rowspan=\"7\" valign=\"top\">H0SC01071</th>\n",
       "      <th>2006</th>\n",
       "      <td>34484.85</td>\n",
       "    </tr>\n",
       "    <tr>\n",
       "      <th>2006</th>\n",
       "      <td>NaN</td>\n",
       "    </tr>\n",
       "    <tr>\n",
       "      <th>2006</th>\n",
       "      <td>NaN</td>\n",
       "    </tr>\n",
       "    <tr>\n",
       "      <th>2006</th>\n",
       "      <td>NaN</td>\n",
       "    </tr>\n",
       "    <tr>\n",
       "      <th>2006</th>\n",
       "      <td>NaN</td>\n",
       "    </tr>\n",
       "    <tr>\n",
       "      <th>2006</th>\n",
       "      <td>NaN</td>\n",
       "    </tr>\n",
       "    <tr>\n",
       "      <th>2006</th>\n",
       "      <td>NaN</td>\n",
       "    </tr>\n",
       "  </tbody>\n",
       "</table>\n",
       "</div>"
      ],
      "text/plain": [
       "                       c1\n",
       "cand_id   cycle          \n",
       "H0SC01071 2006   34484.85\n",
       "          2006        NaN\n",
       "          2006        NaN\n",
       "          2006        NaN\n",
       "          2006        NaN\n",
       "          2006        NaN\n",
       "          2006        NaN"
      ]
     },
     "execution_count": 28,
     "metadata": {},
     "output_type": "execute_result"
    }
   ],
   "source": [
    "#test\n",
    "cs1.loc[\"H0SC01071\", '2006']"
   ]
  },
  {
   "cell_type": "code",
   "execution_count": 29,
   "metadata": {
    "scrolled": true
   },
   "outputs": [
    {
     "name": "stdout",
     "output_type": "stream",
     "text": [
      "                        c1\n",
      "cand_id   cycle           \n",
      "H0AK00089 2010      550.00\n",
      "          2012         NaN\n",
      "H0AK01038 2010     1569.23\n",
      "H0AL00016 2010    19831.34\n",
      "H0AL01030 2010     7054.34\n",
      "          2012     3480.00\n",
      "H0AL02087 2010         NaN\n",
      "          2012    11727.82\n",
      "          2014    12132.25\n",
      "H0AL02103 2010     2197.40\n",
      "H0AL02111 2010     4897.58\n",
      "H0AL03184 2010       14.95\n",
      "H0AL05049 2004         NaN\n",
      "          2006         NaN\n",
      "          2008         NaN\n",
      "          2010     5818.75\n",
      "          2012    11016.15\n",
      "          2014     4592.00\n",
      "H0AL05155 2010    56555.95\n",
      "          2012         NaN\n",
      "H0AL05163 2010    54616.04\n",
      "          2012    54178.00\n",
      "          2014    15420.65\n",
      "H0AL05171 2010     8174.82\n",
      "H0AL05189 2010     1082.20\n",
      "H0AL05197 2010         NaN\n",
      "          2012         NaN\n",
      "H0AL07060 2004         NaN\n",
      "          2006         NaN\n",
      "          2008         NaN\n",
      "...                    ...\n",
      "S8TN00246 2008         NaN\n",
      "S8TX00202 2008         NaN\n",
      "          2010         NaN\n",
      "S8TX00228 2008         NaN\n",
      "S8VA00214 2004     1500.00\n",
      "          2006      747.99\n",
      "          2008      250.00\n",
      "          2012   116540.57\n",
      "          2014         NaN\n",
      "S8VA00255 2008         NaN\n",
      "          2010         NaN\n",
      "S8VA00263 2008         NaN\n",
      "          2012         NaN\n",
      "          2014         NaN\n",
      "S8WA00194 2006         NaN\n",
      "          2008         NaN\n",
      "          2010         NaN\n",
      "          2012         NaN\n",
      "          2014         NaN\n",
      "S8WI00026 2006         NaN\n",
      "          2008         NaN\n",
      "          2010         NaN\n",
      "          2012         NaN\n",
      "          2014         NaN\n",
      "S8WI00158 2012     2377.63\n",
      "          2014         NaN\n",
      "S8WV00093 2008         NaN\n",
      "S8WV00101 2010     2318.01\n",
      "S8WY00163 2008         NaN\n",
      "S8WY00171 2008         NaN\n",
      "\n",
      "[10765 rows x 1 columns]\n"
     ]
    }
   ],
   "source": [
    "agg_df = cs1.sum(level=['cand_id','cycle'])\n",
    "print(agg_df)"
   ]
  },
  {
   "cell_type": "code",
   "execution_count": 30,
   "metadata": {},
   "outputs": [
    {
     "data": {
      "text/plain": [
       "c1    34484.85\n",
       "Name: (H0SC01071, 2006), dtype: float64"
      ]
     },
     "execution_count": 30,
     "metadata": {},
     "output_type": "execute_result"
    }
   ],
   "source": [
    "#test\n",
    "agg_df.loc['H0SC01071','2006']"
   ]
  },
  {
   "cell_type": "code",
   "execution_count": 31,
   "metadata": {
    "collapsed": true
   },
   "outputs": [],
   "source": [
    "#cs1 = cs1[pd.notnull(cs1['c1'])]"
   ]
  },
  {
   "cell_type": "code",
   "execution_count": 32,
   "metadata": {
    "collapsed": true
   },
   "outputs": [],
   "source": [
    "#cs1 = cs1.drop_duplicates()"
   ]
  },
  {
   "cell_type": "code",
   "execution_count": 33,
   "metadata": {
    "collapsed": true
   },
   "outputs": [],
   "source": [
    "#cs1.groupby(['cand_id','cycle'])['c1'].sum()"
   ]
  },
  {
   "cell_type": "code",
   "execution_count": 34,
   "metadata": {
    "collapsed": true
   },
   "outputs": [],
   "source": [
    "cs2 = catsort"
   ]
  },
  {
   "cell_type": "code",
   "execution_count": 35,
   "metadata": {
    "collapsed": true
   },
   "outputs": [],
   "source": [
    "cs2 = cs2.drop(['c1','c3','c4', 'c5', 'c6', 'c7', 'c8', 'c9', 'c10', 'c11', 'c12', 'c13','total'], axis =1)"
   ]
  },
  {
   "cell_type": "code",
   "execution_count": 36,
   "metadata": {
    "collapsed": true
   },
   "outputs": [],
   "source": [
    "cs2.set_index(['cand_id','cycle'], inplace=True)"
   ]
  },
  {
   "cell_type": "code",
   "execution_count": 37,
   "metadata": {},
   "outputs": [
    {
     "name": "stdout",
     "output_type": "stream",
     "text": [
      "                 c2\n",
      "cand_id   cycle    \n",
      "H6FL19038 2006  NaN\n",
      "H2NY17071 2004  NaN\n",
      "H8TX27023 2008  NaN\n",
      "H8OH18088 2012  NaN\n",
      "H0SC01071 2008  NaN\n",
      "S0CA00199 2010  NaN\n",
      "S0MI00056 2014  NaN\n",
      "H2GA12113 2012  NaN\n",
      "H8NJ03156 2010  NaN\n",
      "H6AZ08020 2006  NaN\n",
      "H4WV03070 2014  NaN\n",
      "H4WI04191 2006  NaN\n",
      "H8VA10072 2008  NaN\n",
      "H2MA01202 2012  NaN\n",
      "H6WV03083 2006  NaN\n",
      "H8WY00148 2012  NaN\n",
      "H8WI01024 2014  NaN\n",
      "H6TX09033 2004  NaN\n",
      "H0IN07157 2012  NaN\n",
      "H2MI11042 2014  NaN\n",
      "H0FL12150 2010  NaN\n",
      "H8AL05109 2012  NaN\n",
      "H8VA11039 2010  NaN\n",
      "H2MN08103 2012  NaN\n",
      "H4TX19136 2012  NaN\n",
      "S2CA00286 2006  NaN\n",
      "H0WI07051 2012  NaN\n",
      "H0NY02085 2010  NaN\n",
      "H4TN06051 2008  NaN\n",
      "H8CA37137 2012  NaN\n",
      "...              ..\n",
      "H0MA06072 2012  NaN\n",
      "H0AZ01267 2012  NaN\n",
      "S4SC00083 2006  NaN\n",
      "H6TX09033 2004  NaN\n",
      "S8NM00184 2014  NaN\n",
      "H6OH15104 2014  NaN\n",
      "H2TX21094 2012  NaN\n",
      "S8ID00027 2010  NaN\n",
      "H4PA08074 2006  NaN\n",
      "S0NY00410 2012  NaN\n",
      "S0NH00219 2008  NaN\n",
      "H4TX09095 2008  NaN\n",
      "H6HI02301 2006  NaN\n",
      "S2MO00353 2006  NaN\n",
      "H8OH01043 2008  NaN\n",
      "H0NY27066 2010  NaN\n",
      "H2AL05094 2014  NaN\n",
      "H0KY03226 2010  NaN\n",
      "H8NC11061 2012  NaN\n",
      "H6CA27272 2006  NaN\n",
      "H2ND00057 2008  NaN\n",
      "S2GA00118 2008  NaN\n",
      "S6MO00297 2010  NaN\n",
      "H8AZ05071 2008  NaN\n",
      "H2AZ07070 2014  NaN\n",
      "H2GA05133 2012  NaN\n",
      "H8OH05044 2004  NaN\n",
      "H0WA02098 2012  NaN\n",
      "H0WV01072 2014  NaN\n",
      "S0AR00069 2014  NaN\n",
      "\n",
      "[42090 rows x 1 columns]\n"
     ]
    }
   ],
   "source": [
    "print(cs2)"
   ]
  },
  {
   "cell_type": "code",
   "execution_count": 38,
   "metadata": {
    "collapsed": true
   },
   "outputs": [],
   "source": [
    "#cs2 = catsort"
   ]
  },
  {
   "cell_type": "code",
   "execution_count": 39,
   "metadata": {},
   "outputs": [
    {
     "data": {
      "text/html": [
       "<div>\n",
       "<table border=\"1\" class=\"dataframe\">\n",
       "  <thead>\n",
       "    <tr style=\"text-align: right;\">\n",
       "      <th></th>\n",
       "      <th></th>\n",
       "      <th>c2</th>\n",
       "    </tr>\n",
       "    <tr>\n",
       "      <th>cand_id</th>\n",
       "      <th>cycle</th>\n",
       "      <th></th>\n",
       "    </tr>\n",
       "  </thead>\n",
       "  <tbody>\n",
       "    <tr>\n",
       "      <th>H6FL19038</th>\n",
       "      <th>2006</th>\n",
       "      <td>NaN</td>\n",
       "    </tr>\n",
       "    <tr>\n",
       "      <th>H2NY17071</th>\n",
       "      <th>2004</th>\n",
       "      <td>NaN</td>\n",
       "    </tr>\n",
       "    <tr>\n",
       "      <th>H8TX27023</th>\n",
       "      <th>2008</th>\n",
       "      <td>NaN</td>\n",
       "    </tr>\n",
       "    <tr>\n",
       "      <th>H8OH18088</th>\n",
       "      <th>2012</th>\n",
       "      <td>NaN</td>\n",
       "    </tr>\n",
       "    <tr>\n",
       "      <th>H0SC01071</th>\n",
       "      <th>2008</th>\n",
       "      <td>NaN</td>\n",
       "    </tr>\n",
       "  </tbody>\n",
       "</table>\n",
       "</div>"
      ],
      "text/plain": [
       "                 c2\n",
       "cand_id   cycle    \n",
       "H6FL19038 2006  NaN\n",
       "H2NY17071 2004  NaN\n",
       "H8TX27023 2008  NaN\n",
       "H8OH18088 2012  NaN\n",
       "H0SC01071 2008  NaN"
      ]
     },
     "execution_count": 39,
     "metadata": {},
     "output_type": "execute_result"
    }
   ],
   "source": [
    "cs2.head()"
   ]
  },
  {
   "cell_type": "code",
   "execution_count": 40,
   "metadata": {
    "collapsed": true
   },
   "outputs": [],
   "source": [
    "#cs2 = cs2[pd.notnull(cs2['c2'])]"
   ]
  },
  {
   "cell_type": "code",
   "execution_count": 41,
   "metadata": {},
   "outputs": [
    {
     "name": "stderr",
     "output_type": "stream",
     "text": [
      "/Users/adammorris/anaconda/lib/python3.5/site-packages/ipykernel/__main__.py:2: PerformanceWarning: indexing past lexsort depth may impact performance.\n",
      "  from ipykernel import kernelapp as app\n"
     ]
    },
    {
     "data": {
      "text/html": [
       "<div>\n",
       "<table border=\"1\" class=\"dataframe\">\n",
       "  <thead>\n",
       "    <tr style=\"text-align: right;\">\n",
       "      <th></th>\n",
       "      <th></th>\n",
       "      <th>c2</th>\n",
       "    </tr>\n",
       "    <tr>\n",
       "      <th>cand_id</th>\n",
       "      <th>cycle</th>\n",
       "      <th></th>\n",
       "    </tr>\n",
       "  </thead>\n",
       "  <tbody>\n",
       "    <tr>\n",
       "      <th rowspan=\"11\" valign=\"top\">H2NY17071</th>\n",
       "      <th>2004</th>\n",
       "      <td>NaN</td>\n",
       "    </tr>\n",
       "    <tr>\n",
       "      <th>2004</th>\n",
       "      <td>NaN</td>\n",
       "    </tr>\n",
       "    <tr>\n",
       "      <th>2004</th>\n",
       "      <td>12621.75</td>\n",
       "    </tr>\n",
       "    <tr>\n",
       "      <th>2004</th>\n",
       "      <td>NaN</td>\n",
       "    </tr>\n",
       "    <tr>\n",
       "      <th>2004</th>\n",
       "      <td>NaN</td>\n",
       "    </tr>\n",
       "    <tr>\n",
       "      <th>2004</th>\n",
       "      <td>NaN</td>\n",
       "    </tr>\n",
       "    <tr>\n",
       "      <th>2004</th>\n",
       "      <td>NaN</td>\n",
       "    </tr>\n",
       "    <tr>\n",
       "      <th>2004</th>\n",
       "      <td>NaN</td>\n",
       "    </tr>\n",
       "    <tr>\n",
       "      <th>2004</th>\n",
       "      <td>NaN</td>\n",
       "    </tr>\n",
       "    <tr>\n",
       "      <th>2004</th>\n",
       "      <td>NaN</td>\n",
       "    </tr>\n",
       "    <tr>\n",
       "      <th>2004</th>\n",
       "      <td>NaN</td>\n",
       "    </tr>\n",
       "  </tbody>\n",
       "</table>\n",
       "</div>"
      ],
      "text/plain": [
       "                       c2\n",
       "cand_id   cycle          \n",
       "H2NY17071 2004        NaN\n",
       "          2004        NaN\n",
       "          2004   12621.75\n",
       "          2004        NaN\n",
       "          2004        NaN\n",
       "          2004        NaN\n",
       "          2004        NaN\n",
       "          2004        NaN\n",
       "          2004        NaN\n",
       "          2004        NaN\n",
       "          2004        NaN"
      ]
     },
     "execution_count": 41,
     "metadata": {},
     "output_type": "execute_result"
    }
   ],
   "source": [
    "#test\n",
    "cs2.loc[\"H2NY17071\", '2004']"
   ]
  },
  {
   "cell_type": "code",
   "execution_count": 42,
   "metadata": {},
   "outputs": [
    {
     "name": "stdout",
     "output_type": "stream",
     "text": [
      "                       c2\n",
      "cand_id   cycle          \n",
      "H0AK00089 2010        NaN\n",
      "          2012        NaN\n",
      "H0AK01038 2010      88.93\n",
      "H0AL00016 2010     909.80\n",
      "H0AL01030 2010    5233.32\n",
      "          2012      27.72\n",
      "H0AL02087 2010        NaN\n",
      "          2012        NaN\n",
      "          2014        NaN\n",
      "H0AL02103 2010        NaN\n",
      "H0AL02111 2010        NaN\n",
      "H0AL03184 2010    1441.91\n",
      "H0AL05049 2004        NaN\n",
      "          2006        NaN\n",
      "          2008        NaN\n",
      "          2010        NaN\n",
      "          2012        NaN\n",
      "          2014        NaN\n",
      "H0AL05155 2010   15549.94\n",
      "          2012        NaN\n",
      "H0AL05163 2010    2343.79\n",
      "          2012    8154.95\n",
      "          2014    8540.32\n",
      "H0AL05171 2010        NaN\n",
      "H0AL05189 2010        NaN\n",
      "H0AL05197 2010        NaN\n",
      "          2012        NaN\n",
      "H0AL07060 2004        NaN\n",
      "          2006        NaN\n",
      "          2008        NaN\n",
      "...                   ...\n",
      "S8TN00246 2008        NaN\n",
      "S8TX00202 2008        NaN\n",
      "          2010        NaN\n",
      "S8TX00228 2008        NaN\n",
      "S8VA00214 2004        NaN\n",
      "          2006        NaN\n",
      "          2008        NaN\n",
      "          2012        NaN\n",
      "          2014        NaN\n",
      "S8VA00255 2008        NaN\n",
      "          2010        NaN\n",
      "S8VA00263 2008        NaN\n",
      "          2012        NaN\n",
      "          2014        NaN\n",
      "S8WA00194 2006        NaN\n",
      "          2008        NaN\n",
      "          2010        NaN\n",
      "          2012        NaN\n",
      "          2014        NaN\n",
      "S8WI00026 2006        NaN\n",
      "          2008        NaN\n",
      "          2010        NaN\n",
      "          2012        NaN\n",
      "          2014        NaN\n",
      "S8WI00158 2012     475.00\n",
      "          2014        NaN\n",
      "S8WV00093 2008        NaN\n",
      "S8WV00101 2010        NaN\n",
      "S8WY00163 2008        NaN\n",
      "S8WY00171 2008        NaN\n",
      "\n",
      "[10765 rows x 1 columns]\n"
     ]
    }
   ],
   "source": [
    "agg_df = cs2.sum(level=['cand_id','cycle'])\n",
    "print(agg_df)"
   ]
  },
  {
   "cell_type": "code",
   "execution_count": 43,
   "metadata": {
    "collapsed": true
   },
   "outputs": [],
   "source": [
    "#cs2.drop_duplicates()"
   ]
  },
  {
   "cell_type": "code",
   "execution_count": 44,
   "metadata": {},
   "outputs": [
    {
     "data": {
      "text/plain": [
       "c2    4715.72\n",
       "Name: (H0NC11118, 2010), dtype: float64"
      ]
     },
     "execution_count": 44,
     "metadata": {},
     "output_type": "execute_result"
    }
   ],
   "source": [
    "#test\n",
    "agg_df.loc['H0NC11118','2010']"
   ]
  },
  {
   "cell_type": "code",
   "execution_count": 45,
   "metadata": {},
   "outputs": [
    {
     "data": {
      "text/html": [
       "<div>\n",
       "<table border=\"1\" class=\"dataframe\">\n",
       "  <thead>\n",
       "    <tr style=\"text-align: right;\">\n",
       "      <th></th>\n",
       "      <th></th>\n",
       "      <th>c2</th>\n",
       "    </tr>\n",
       "    <tr>\n",
       "      <th>cand_id</th>\n",
       "      <th>cycle</th>\n",
       "      <th></th>\n",
       "    </tr>\n",
       "  </thead>\n",
       "  <tbody>\n",
       "    <tr>\n",
       "      <th>H6FL19038</th>\n",
       "      <th>2006</th>\n",
       "      <td>NaN</td>\n",
       "    </tr>\n",
       "    <tr>\n",
       "      <th>H2NY17071</th>\n",
       "      <th>2004</th>\n",
       "      <td>NaN</td>\n",
       "    </tr>\n",
       "    <tr>\n",
       "      <th>H8TX27023</th>\n",
       "      <th>2008</th>\n",
       "      <td>NaN</td>\n",
       "    </tr>\n",
       "    <tr>\n",
       "      <th>H8OH18088</th>\n",
       "      <th>2012</th>\n",
       "      <td>NaN</td>\n",
       "    </tr>\n",
       "    <tr>\n",
       "      <th>H0SC01071</th>\n",
       "      <th>2008</th>\n",
       "      <td>NaN</td>\n",
       "    </tr>\n",
       "  </tbody>\n",
       "</table>\n",
       "</div>"
      ],
      "text/plain": [
       "                 c2\n",
       "cand_id   cycle    \n",
       "H6FL19038 2006  NaN\n",
       "H2NY17071 2004  NaN\n",
       "H8TX27023 2008  NaN\n",
       "H8OH18088 2012  NaN\n",
       "H0SC01071 2008  NaN"
      ]
     },
     "execution_count": 45,
     "metadata": {},
     "output_type": "execute_result"
    }
   ],
   "source": [
    "cs2.head()"
   ]
  },
  {
   "cell_type": "code",
   "execution_count": 46,
   "metadata": {},
   "outputs": [
    {
     "data": {
      "text/plain": [
       "c2    12621.75\n",
       "Name: (H2NY17071, 2004), dtype: float64"
      ]
     },
     "execution_count": 46,
     "metadata": {},
     "output_type": "execute_result"
    }
   ],
   "source": [
    "#test\n",
    "agg_df.loc['H2NY17071','2004']"
   ]
  },
  {
   "cell_type": "code",
   "execution_count": 47,
   "metadata": {
    "collapsed": true
   },
   "outputs": [],
   "source": [
    "#cs2.groupby(['cand_id','cycle'])['c2'].sum()"
   ]
  },
  {
   "cell_type": "code",
   "execution_count": 48,
   "metadata": {
    "collapsed": true
   },
   "outputs": [],
   "source": [
    "cs3 = catsort"
   ]
  },
  {
   "cell_type": "code",
   "execution_count": 49,
   "metadata": {
    "collapsed": true
   },
   "outputs": [],
   "source": [
    "cs3 = cs3.drop(['c1', 'c2', 'c4', 'c5', 'c6', 'c7', 'c8', 'c9', 'c10', 'c11', 'c12', 'c13','total'], axis = 1)"
   ]
  },
  {
   "cell_type": "code",
   "execution_count": 50,
   "metadata": {
    "collapsed": true
   },
   "outputs": [],
   "source": [
    "#cs3 = cs3[pd.notnull(cs3['c3'])]"
   ]
  },
  {
   "cell_type": "code",
   "execution_count": 51,
   "metadata": {},
   "outputs": [
    {
     "data": {
      "text/html": [
       "<div>\n",
       "<table border=\"1\" class=\"dataframe\">\n",
       "  <thead>\n",
       "    <tr style=\"text-align: right;\">\n",
       "      <th></th>\n",
       "      <th>cand_id</th>\n",
       "      <th>cycle</th>\n",
       "      <th>c3</th>\n",
       "    </tr>\n",
       "  </thead>\n",
       "  <tbody>\n",
       "    <tr>\n",
       "      <th>0</th>\n",
       "      <td>H6FL19038</td>\n",
       "      <td>2006</td>\n",
       "      <td>NaN</td>\n",
       "    </tr>\n",
       "    <tr>\n",
       "      <th>1</th>\n",
       "      <td>H2NY17071</td>\n",
       "      <td>2004</td>\n",
       "      <td>NaN</td>\n",
       "    </tr>\n",
       "    <tr>\n",
       "      <th>2</th>\n",
       "      <td>H8TX27023</td>\n",
       "      <td>2008</td>\n",
       "      <td>NaN</td>\n",
       "    </tr>\n",
       "    <tr>\n",
       "      <th>3</th>\n",
       "      <td>H8OH18088</td>\n",
       "      <td>2012</td>\n",
       "      <td>NaN</td>\n",
       "    </tr>\n",
       "    <tr>\n",
       "      <th>4</th>\n",
       "      <td>H0SC01071</td>\n",
       "      <td>2008</td>\n",
       "      <td>NaN</td>\n",
       "    </tr>\n",
       "  </tbody>\n",
       "</table>\n",
       "</div>"
      ],
      "text/plain": [
       "     cand_id cycle  c3\n",
       "0  H6FL19038  2006 NaN\n",
       "1  H2NY17071  2004 NaN\n",
       "2  H8TX27023  2008 NaN\n",
       "3  H8OH18088  2012 NaN\n",
       "4  H0SC01071  2008 NaN"
      ]
     },
     "execution_count": 51,
     "metadata": {},
     "output_type": "execute_result"
    }
   ],
   "source": [
    "cs3.head()"
   ]
  },
  {
   "cell_type": "code",
   "execution_count": 52,
   "metadata": {
    "collapsed": true
   },
   "outputs": [],
   "source": [
    "cs3.set_index(['cand_id','cycle'], inplace=True)"
   ]
  },
  {
   "cell_type": "code",
   "execution_count": 53,
   "metadata": {
    "collapsed": true
   },
   "outputs": [],
   "source": [
    "#cs3.groupby(['cand_id','cycle'])['c3'].sum()"
   ]
  },
  {
   "cell_type": "code",
   "execution_count": 54,
   "metadata": {},
   "outputs": [
    {
     "data": {
      "text/html": [
       "<div>\n",
       "<table border=\"1\" class=\"dataframe\">\n",
       "  <thead>\n",
       "    <tr style=\"text-align: right;\">\n",
       "      <th></th>\n",
       "      <th></th>\n",
       "      <th>c3</th>\n",
       "    </tr>\n",
       "    <tr>\n",
       "      <th>cand_id</th>\n",
       "      <th>cycle</th>\n",
       "      <th></th>\n",
       "    </tr>\n",
       "  </thead>\n",
       "  <tbody>\n",
       "    <tr>\n",
       "      <th>H6FL19038</th>\n",
       "      <th>2006</th>\n",
       "      <td>NaN</td>\n",
       "    </tr>\n",
       "    <tr>\n",
       "      <th>H2NY17071</th>\n",
       "      <th>2004</th>\n",
       "      <td>NaN</td>\n",
       "    </tr>\n",
       "    <tr>\n",
       "      <th>H8TX27023</th>\n",
       "      <th>2008</th>\n",
       "      <td>NaN</td>\n",
       "    </tr>\n",
       "    <tr>\n",
       "      <th>H8OH18088</th>\n",
       "      <th>2012</th>\n",
       "      <td>NaN</td>\n",
       "    </tr>\n",
       "    <tr>\n",
       "      <th>H0SC01071</th>\n",
       "      <th>2008</th>\n",
       "      <td>NaN</td>\n",
       "    </tr>\n",
       "  </tbody>\n",
       "</table>\n",
       "</div>"
      ],
      "text/plain": [
       "                 c3\n",
       "cand_id   cycle    \n",
       "H6FL19038 2006  NaN\n",
       "H2NY17071 2004  NaN\n",
       "H8TX27023 2008  NaN\n",
       "H8OH18088 2012  NaN\n",
       "H0SC01071 2008  NaN"
      ]
     },
     "execution_count": 54,
     "metadata": {},
     "output_type": "execute_result"
    }
   ],
   "source": [
    "cs3.head()"
   ]
  },
  {
   "cell_type": "code",
   "execution_count": 55,
   "metadata": {
    "collapsed": true
   },
   "outputs": [],
   "source": [
    "#cs3 = cs3.drop_duplicates()"
   ]
  },
  {
   "cell_type": "code",
   "execution_count": 56,
   "metadata": {},
   "outputs": [
    {
     "name": "stdout",
     "output_type": "stream",
     "text": [
      "                        c3\n",
      "cand_id   cycle           \n",
      "H0AK00089 2010         NaN\n",
      "          2012         NaN\n",
      "H0AK01038 2010         NaN\n",
      "H0AL00016 2010       81.19\n",
      "H0AL01030 2010      668.95\n",
      "          2012      381.09\n",
      "H0AL02087 2010         NaN\n",
      "          2012    16964.09\n",
      "          2014    16866.78\n",
      "H0AL02103 2010         NaN\n",
      "H0AL02111 2010      484.62\n",
      "H0AL03184 2010         NaN\n",
      "H0AL05049 2004         NaN\n",
      "          2006         NaN\n",
      "          2008         NaN\n",
      "          2010         NaN\n",
      "          2012         NaN\n",
      "          2014         NaN\n",
      "H0AL05155 2010   266006.98\n",
      "          2012     4745.35\n",
      "H0AL05163 2010    71452.12\n",
      "          2012   121673.90\n",
      "          2014    91996.02\n",
      "H0AL05171 2010         NaN\n",
      "H0AL05189 2010         NaN\n",
      "H0AL05197 2010         NaN\n",
      "          2012         NaN\n",
      "H0AL07060 2004         NaN\n",
      "          2006         NaN\n",
      "          2008         NaN\n",
      "...                    ...\n",
      "S8TN00246 2008         NaN\n",
      "S8TX00202 2008         NaN\n",
      "          2010         NaN\n",
      "S8TX00228 2008         NaN\n",
      "S8VA00214 2004     5112.83\n",
      "          2006     6585.79\n",
      "          2008         NaN\n",
      "          2012    53277.88\n",
      "          2014         NaN\n",
      "S8VA00255 2008         NaN\n",
      "          2010         NaN\n",
      "S8VA00263 2008         NaN\n",
      "          2012         NaN\n",
      "          2014         NaN\n",
      "S8WA00194 2006         NaN\n",
      "          2008         NaN\n",
      "          2010         NaN\n",
      "          2012         NaN\n",
      "          2014         NaN\n",
      "S8WI00026 2006         NaN\n",
      "          2008         NaN\n",
      "          2010         NaN\n",
      "          2012         NaN\n",
      "          2014         NaN\n",
      "S8WI00158 2012         NaN\n",
      "          2014         NaN\n",
      "S8WV00093 2008         NaN\n",
      "S8WV00101 2010         NaN\n",
      "S8WY00163 2008         NaN\n",
      "S8WY00171 2008         NaN\n",
      "\n",
      "[10765 rows x 1 columns]\n"
     ]
    }
   ],
   "source": [
    "agg_df = cs3.sum(level=['cand_id','cycle'])\n",
    "print(agg_df)"
   ]
  },
  {
   "cell_type": "code",
   "execution_count": 57,
   "metadata": {},
   "outputs": [
    {
     "data": {
      "text/plain": [
       "c3    6585.79\n",
       "Name: (S8VA00214, 2006), dtype: float64"
      ]
     },
     "execution_count": 57,
     "metadata": {},
     "output_type": "execute_result"
    }
   ],
   "source": [
    "#test\n",
    "agg_df.loc['S8VA00214','2006']"
   ]
  },
  {
   "cell_type": "code",
   "execution_count": 58,
   "metadata": {
    "collapsed": true
   },
   "outputs": [],
   "source": [
    "cs4 = catsort"
   ]
  },
  {
   "cell_type": "code",
   "execution_count": 59,
   "metadata": {
    "collapsed": true
   },
   "outputs": [],
   "source": [
    "cs4 = cs4.drop(['c1', 'c2', 'c3', 'c5', 'c6', 'c7', 'c8', 'c9', 'c10', 'c11', 'c12', 'c13','total'], axis = 1)"
   ]
  },
  {
   "cell_type": "code",
   "execution_count": 60,
   "metadata": {
    "collapsed": true
   },
   "outputs": [],
   "source": [
    "#cs4 = cs4[pd.notnull(cs4['c4'])]"
   ]
  },
  {
   "cell_type": "code",
   "execution_count": 61,
   "metadata": {
    "collapsed": true
   },
   "outputs": [],
   "source": [
    "#cs4.groupby(['cand_id','cycle'])['c4'].sum()"
   ]
  },
  {
   "cell_type": "code",
   "execution_count": 62,
   "metadata": {
    "collapsed": true
   },
   "outputs": [],
   "source": [
    "#cs4 = cs4.drop_duplicates()"
   ]
  },
  {
   "cell_type": "code",
   "execution_count": 63,
   "metadata": {
    "collapsed": true
   },
   "outputs": [],
   "source": [
    "cs4.set_index(['cand_id','cycle'], inplace=True)"
   ]
  },
  {
   "cell_type": "code",
   "execution_count": 64,
   "metadata": {},
   "outputs": [
    {
     "data": {
      "text/html": [
       "<div>\n",
       "<table border=\"1\" class=\"dataframe\">\n",
       "  <thead>\n",
       "    <tr style=\"text-align: right;\">\n",
       "      <th></th>\n",
       "      <th></th>\n",
       "      <th>c4</th>\n",
       "    </tr>\n",
       "    <tr>\n",
       "      <th>cand_id</th>\n",
       "      <th>cycle</th>\n",
       "      <th></th>\n",
       "    </tr>\n",
       "  </thead>\n",
       "  <tbody>\n",
       "    <tr>\n",
       "      <th>H6FL19038</th>\n",
       "      <th>2006</th>\n",
       "      <td>NaN</td>\n",
       "    </tr>\n",
       "    <tr>\n",
       "      <th>H2NY17071</th>\n",
       "      <th>2004</th>\n",
       "      <td>NaN</td>\n",
       "    </tr>\n",
       "    <tr>\n",
       "      <th>H8TX27023</th>\n",
       "      <th>2008</th>\n",
       "      <td>NaN</td>\n",
       "    </tr>\n",
       "    <tr>\n",
       "      <th>H8OH18088</th>\n",
       "      <th>2012</th>\n",
       "      <td>NaN</td>\n",
       "    </tr>\n",
       "    <tr>\n",
       "      <th>H0SC01071</th>\n",
       "      <th>2008</th>\n",
       "      <td>NaN</td>\n",
       "    </tr>\n",
       "  </tbody>\n",
       "</table>\n",
       "</div>"
      ],
      "text/plain": [
       "                 c4\n",
       "cand_id   cycle    \n",
       "H6FL19038 2006  NaN\n",
       "H2NY17071 2004  NaN\n",
       "H8TX27023 2008  NaN\n",
       "H8OH18088 2012  NaN\n",
       "H0SC01071 2008  NaN"
      ]
     },
     "execution_count": 64,
     "metadata": {},
     "output_type": "execute_result"
    }
   ],
   "source": [
    "cs4.head()"
   ]
  },
  {
   "cell_type": "code",
   "execution_count": 65,
   "metadata": {},
   "outputs": [
    {
     "name": "stdout",
     "output_type": "stream",
     "text": [
      "                        c4\n",
      "cand_id   cycle           \n",
      "H0AK00089 2010         NaN\n",
      "          2012         NaN\n",
      "H0AK01038 2010         NaN\n",
      "H0AL00016 2010      465.00\n",
      "H0AL01030 2010    27082.28\n",
      "          2012     7257.71\n",
      "H0AL02087 2010         NaN\n",
      "          2012         NaN\n",
      "          2014         NaN\n",
      "H0AL02103 2010         NaN\n",
      "H0AL02111 2010     8403.45\n",
      "H0AL03184 2010     5000.00\n",
      "H0AL05049 2004         NaN\n",
      "          2006         NaN\n",
      "          2008         NaN\n",
      "          2010         NaN\n",
      "          2012         NaN\n",
      "          2014         NaN\n",
      "H0AL05155 2010    20809.92\n",
      "          2012         NaN\n",
      "H0AL05163 2010   547321.04\n",
      "          2012   165131.27\n",
      "          2014    81481.66\n",
      "H0AL05171 2010    40231.96\n",
      "H0AL05189 2010         NaN\n",
      "H0AL05197 2010      595.35\n",
      "          2012         NaN\n",
      "H0AL07060 2004         NaN\n",
      "          2006         NaN\n",
      "          2008         NaN\n",
      "...                    ...\n",
      "S8TN00246 2008         NaN\n",
      "S8TX00202 2008         NaN\n",
      "          2010         NaN\n",
      "S8TX00228 2008         NaN\n",
      "S8VA00214 2004         NaN\n",
      "          2006         NaN\n",
      "          2008         NaN\n",
      "          2012         NaN\n",
      "          2014         NaN\n",
      "S8VA00255 2008         NaN\n",
      "          2010         NaN\n",
      "S8VA00263 2008         NaN\n",
      "          2012         NaN\n",
      "          2014         NaN\n",
      "S8WA00194 2006         NaN\n",
      "          2008         NaN\n",
      "          2010         NaN\n",
      "          2012         NaN\n",
      "          2014         NaN\n",
      "S8WI00026 2006         NaN\n",
      "          2008         NaN\n",
      "          2010         NaN\n",
      "          2012         NaN\n",
      "          2014         NaN\n",
      "S8WI00158 2012         NaN\n",
      "          2014         NaN\n",
      "S8WV00093 2008         NaN\n",
      "S8WV00101 2010         NaN\n",
      "S8WY00163 2008         NaN\n",
      "S8WY00171 2008         NaN\n",
      "\n",
      "[10765 rows x 1 columns]\n"
     ]
    }
   ],
   "source": [
    "agg_df = cs4.sum(level=['cand_id','cycle'])\n",
    "print(agg_df)"
   ]
  },
  {
   "cell_type": "code",
   "execution_count": 66,
   "metadata": {
    "collapsed": true
   },
   "outputs": [],
   "source": [
    "cs5 = catsort"
   ]
  },
  {
   "cell_type": "code",
   "execution_count": 67,
   "metadata": {
    "collapsed": true
   },
   "outputs": [],
   "source": [
    "cs5 = cs5.drop(['c1', 'c2', 'c3', 'c4', 'c6', 'c7', 'c8', 'c9', 'c10', 'c11', 'c12', 'c13','total'], axis = 1)"
   ]
  },
  {
   "cell_type": "code",
   "execution_count": 68,
   "metadata": {
    "collapsed": true
   },
   "outputs": [],
   "source": [
    "#cs5 = cs5[pd.notnull(cs5['c5'])]"
   ]
  },
  {
   "cell_type": "code",
   "execution_count": 69,
   "metadata": {
    "collapsed": true
   },
   "outputs": [],
   "source": [
    "#cs5.groupby(['cand_id','cycle'])['c5'].sum()"
   ]
  },
  {
   "cell_type": "code",
   "execution_count": 70,
   "metadata": {
    "collapsed": true
   },
   "outputs": [],
   "source": [
    "#cs5 = cs5.drop_duplicates()"
   ]
  },
  {
   "cell_type": "code",
   "execution_count": 71,
   "metadata": {
    "collapsed": true
   },
   "outputs": [],
   "source": [
    "cs5.set_index(['cand_id','cycle'], inplace=True)"
   ]
  },
  {
   "cell_type": "code",
   "execution_count": 72,
   "metadata": {},
   "outputs": [
    {
     "data": {
      "text/html": [
       "<div>\n",
       "<table border=\"1\" class=\"dataframe\">\n",
       "  <thead>\n",
       "    <tr style=\"text-align: right;\">\n",
       "      <th></th>\n",
       "      <th></th>\n",
       "      <th>c5</th>\n",
       "    </tr>\n",
       "    <tr>\n",
       "      <th>cand_id</th>\n",
       "      <th>cycle</th>\n",
       "      <th></th>\n",
       "    </tr>\n",
       "  </thead>\n",
       "  <tbody>\n",
       "    <tr>\n",
       "      <th>H6FL19038</th>\n",
       "      <th>2006</th>\n",
       "      <td>NaN</td>\n",
       "    </tr>\n",
       "    <tr>\n",
       "      <th>H2NY17071</th>\n",
       "      <th>2004</th>\n",
       "      <td>NaN</td>\n",
       "    </tr>\n",
       "    <tr>\n",
       "      <th>H8TX27023</th>\n",
       "      <th>2008</th>\n",
       "      <td>NaN</td>\n",
       "    </tr>\n",
       "    <tr>\n",
       "      <th>H8OH18088</th>\n",
       "      <th>2012</th>\n",
       "      <td>NaN</td>\n",
       "    </tr>\n",
       "    <tr>\n",
       "      <th>H0SC01071</th>\n",
       "      <th>2008</th>\n",
       "      <td>NaN</td>\n",
       "    </tr>\n",
       "  </tbody>\n",
       "</table>\n",
       "</div>"
      ],
      "text/plain": [
       "                 c5\n",
       "cand_id   cycle    \n",
       "H6FL19038 2006  NaN\n",
       "H2NY17071 2004  NaN\n",
       "H8TX27023 2008  NaN\n",
       "H8OH18088 2012  NaN\n",
       "H0SC01071 2008  NaN"
      ]
     },
     "execution_count": 72,
     "metadata": {},
     "output_type": "execute_result"
    }
   ],
   "source": [
    "cs5.head()"
   ]
  },
  {
   "cell_type": "code",
   "execution_count": 73,
   "metadata": {},
   "outputs": [
    {
     "name": "stdout",
     "output_type": "stream",
     "text": [
      "                      c5\n",
      "cand_id   cycle         \n",
      "H0AK00089 2010       NaN\n",
      "          2012       NaN\n",
      "H0AK01038 2010       NaN\n",
      "H0AL00016 2010       NaN\n",
      "H0AL01030 2010    1175.0\n",
      "          2012       NaN\n",
      "H0AL02087 2010       NaN\n",
      "          2012       NaN\n",
      "          2014       NaN\n",
      "H0AL02103 2010       NaN\n",
      "H0AL02111 2010       NaN\n",
      "H0AL03184 2010       NaN\n",
      "H0AL05049 2004       NaN\n",
      "          2006       NaN\n",
      "          2008       NaN\n",
      "          2010       NaN\n",
      "          2012       NaN\n",
      "          2014       NaN\n",
      "H0AL05155 2010       NaN\n",
      "          2012       NaN\n",
      "H0AL05163 2010   27000.0\n",
      "          2012   17000.0\n",
      "          2014   15000.0\n",
      "H0AL05171 2010       NaN\n",
      "H0AL05189 2010       NaN\n",
      "H0AL05197 2010       NaN\n",
      "          2012       NaN\n",
      "H0AL07060 2004       NaN\n",
      "          2006       NaN\n",
      "          2008       NaN\n",
      "...                  ...\n",
      "S8TN00246 2008       NaN\n",
      "S8TX00202 2008       NaN\n",
      "          2010       NaN\n",
      "S8TX00228 2008       NaN\n",
      "S8VA00214 2004       NaN\n",
      "          2006       NaN\n",
      "          2008       NaN\n",
      "          2012       NaN\n",
      "          2014       NaN\n",
      "S8VA00255 2008       NaN\n",
      "          2010       NaN\n",
      "S8VA00263 2008       NaN\n",
      "          2012       NaN\n",
      "          2014       NaN\n",
      "S8WA00194 2006       NaN\n",
      "          2008       NaN\n",
      "          2010       NaN\n",
      "          2012       NaN\n",
      "          2014       NaN\n",
      "S8WI00026 2006       NaN\n",
      "          2008       NaN\n",
      "          2010       NaN\n",
      "          2012       NaN\n",
      "          2014       NaN\n",
      "S8WI00158 2012       NaN\n",
      "          2014       NaN\n",
      "S8WV00093 2008       NaN\n",
      "S8WV00101 2010       NaN\n",
      "S8WY00163 2008       NaN\n",
      "S8WY00171 2008       NaN\n",
      "\n",
      "[10765 rows x 1 columns]\n"
     ]
    }
   ],
   "source": [
    "agg_df = cs5.sum(level=['cand_id','cycle'])\n",
    "print(agg_df)"
   ]
  },
  {
   "cell_type": "code",
   "execution_count": 74,
   "metadata": {},
   "outputs": [
    {
     "data": {
      "text/plain": [
       "c5    16750.0\n",
       "Name: (H0CA02138, 2010), dtype: float64"
      ]
     },
     "execution_count": 74,
     "metadata": {},
     "output_type": "execute_result"
    }
   ],
   "source": [
    "#test\n",
    "agg_df.loc['H0CA02138','2010']"
   ]
  },
  {
   "cell_type": "code",
   "execution_count": 75,
   "metadata": {},
   "outputs": [
    {
     "data": {
      "text/html": [
       "<div>\n",
       "<table border=\"1\" class=\"dataframe\">\n",
       "  <thead>\n",
       "    <tr style=\"text-align: right;\">\n",
       "      <th></th>\n",
       "      <th></th>\n",
       "      <th>c5</th>\n",
       "    </tr>\n",
       "    <tr>\n",
       "      <th>cand_id</th>\n",
       "      <th>cycle</th>\n",
       "      <th></th>\n",
       "    </tr>\n",
       "  </thead>\n",
       "  <tbody>\n",
       "    <tr>\n",
       "      <th>H6FL19038</th>\n",
       "      <th>2006</th>\n",
       "      <td>NaN</td>\n",
       "    </tr>\n",
       "    <tr>\n",
       "      <th>H2NY17071</th>\n",
       "      <th>2004</th>\n",
       "      <td>NaN</td>\n",
       "    </tr>\n",
       "    <tr>\n",
       "      <th>H8TX27023</th>\n",
       "      <th>2008</th>\n",
       "      <td>NaN</td>\n",
       "    </tr>\n",
       "    <tr>\n",
       "      <th>H8OH18088</th>\n",
       "      <th>2012</th>\n",
       "      <td>NaN</td>\n",
       "    </tr>\n",
       "    <tr>\n",
       "      <th>H0SC01071</th>\n",
       "      <th>2008</th>\n",
       "      <td>NaN</td>\n",
       "    </tr>\n",
       "  </tbody>\n",
       "</table>\n",
       "</div>"
      ],
      "text/plain": [
       "                 c5\n",
       "cand_id   cycle    \n",
       "H6FL19038 2006  NaN\n",
       "H2NY17071 2004  NaN\n",
       "H8TX27023 2008  NaN\n",
       "H8OH18088 2012  NaN\n",
       "H0SC01071 2008  NaN"
      ]
     },
     "execution_count": 75,
     "metadata": {},
     "output_type": "execute_result"
    }
   ],
   "source": [
    "cs5.head()"
   ]
  },
  {
   "cell_type": "code",
   "execution_count": 76,
   "metadata": {
    "collapsed": true
   },
   "outputs": [],
   "source": [
    "cs6 = catsort"
   ]
  },
  {
   "cell_type": "code",
   "execution_count": 77,
   "metadata": {
    "collapsed": true
   },
   "outputs": [],
   "source": [
    "cs6 = cs6.drop(['c1', 'c2', 'c3', 'c4', 'c5', 'c7', 'c8', 'c9', 'c10', 'c11', 'c12', 'c13','total'], axis = 1)"
   ]
  },
  {
   "cell_type": "code",
   "execution_count": 78,
   "metadata": {
    "collapsed": true
   },
   "outputs": [],
   "source": [
    "#cs6 = cs6[pd.notnull(cs6['c6'])]"
   ]
  },
  {
   "cell_type": "code",
   "execution_count": 79,
   "metadata": {
    "collapsed": true
   },
   "outputs": [],
   "source": [
    "#cs6.groupby(['cand_id','cycle'])['c6'].sum()"
   ]
  },
  {
   "cell_type": "code",
   "execution_count": 80,
   "metadata": {
    "collapsed": true
   },
   "outputs": [],
   "source": [
    "#cs6 = cs6.drop_duplicates()"
   ]
  },
  {
   "cell_type": "code",
   "execution_count": 81,
   "metadata": {
    "collapsed": true
   },
   "outputs": [],
   "source": [
    "cs6.set_index(['cand_id','cycle'], inplace=True)"
   ]
  },
  {
   "cell_type": "code",
   "execution_count": 82,
   "metadata": {},
   "outputs": [
    {
     "data": {
      "text/html": [
       "<div>\n",
       "<table border=\"1\" class=\"dataframe\">\n",
       "  <thead>\n",
       "    <tr style=\"text-align: right;\">\n",
       "      <th></th>\n",
       "      <th></th>\n",
       "      <th>c6</th>\n",
       "    </tr>\n",
       "    <tr>\n",
       "      <th>cand_id</th>\n",
       "      <th>cycle</th>\n",
       "      <th></th>\n",
       "    </tr>\n",
       "  </thead>\n",
       "  <tbody>\n",
       "    <tr>\n",
       "      <th>H6FL19038</th>\n",
       "      <th>2006</th>\n",
       "      <td>NaN</td>\n",
       "    </tr>\n",
       "    <tr>\n",
       "      <th>H2NY17071</th>\n",
       "      <th>2004</th>\n",
       "      <td>NaN</td>\n",
       "    </tr>\n",
       "    <tr>\n",
       "      <th>H8TX27023</th>\n",
       "      <th>2008</th>\n",
       "      <td>NaN</td>\n",
       "    </tr>\n",
       "    <tr>\n",
       "      <th>H8OH18088</th>\n",
       "      <th>2012</th>\n",
       "      <td>NaN</td>\n",
       "    </tr>\n",
       "    <tr>\n",
       "      <th>H0SC01071</th>\n",
       "      <th>2008</th>\n",
       "      <td>NaN</td>\n",
       "    </tr>\n",
       "  </tbody>\n",
       "</table>\n",
       "</div>"
      ],
      "text/plain": [
       "                 c6\n",
       "cand_id   cycle    \n",
       "H6FL19038 2006  NaN\n",
       "H2NY17071 2004  NaN\n",
       "H8TX27023 2008  NaN\n",
       "H8OH18088 2012  NaN\n",
       "H0SC01071 2008  NaN"
      ]
     },
     "execution_count": 82,
     "metadata": {},
     "output_type": "execute_result"
    }
   ],
   "source": [
    "cs6.head()"
   ]
  },
  {
   "cell_type": "code",
   "execution_count": 83,
   "metadata": {},
   "outputs": [
    {
     "name": "stdout",
     "output_type": "stream",
     "text": [
      "                       c6\n",
      "cand_id   cycle          \n",
      "H0AK00089 2010     785.00\n",
      "          2012        NaN\n",
      "H0AK01038 2010        NaN\n",
      "H0AL00016 2010    3177.55\n",
      "H0AL01030 2010    1295.21\n",
      "          2012        NaN\n",
      "H0AL02087 2010        NaN\n",
      "          2012        NaN\n",
      "          2014        NaN\n",
      "H0AL02103 2010        NaN\n",
      "H0AL02111 2010    7489.74\n",
      "H0AL03184 2010    2293.50\n",
      "H0AL05049 2004        NaN\n",
      "          2006        NaN\n",
      "          2008        NaN\n",
      "          2010        NaN\n",
      "          2012        NaN\n",
      "          2014        NaN\n",
      "H0AL05155 2010        NaN\n",
      "          2012        NaN\n",
      "H0AL05163 2010   66857.04\n",
      "          2012   16138.18\n",
      "          2014   11833.66\n",
      "H0AL05171 2010    5993.05\n",
      "H0AL05189 2010        NaN\n",
      "H0AL05197 2010        NaN\n",
      "          2012        NaN\n",
      "H0AL07060 2004        NaN\n",
      "          2006        NaN\n",
      "          2008        NaN\n",
      "...                   ...\n",
      "S8TN00246 2008        NaN\n",
      "S8TX00202 2008        NaN\n",
      "          2010        NaN\n",
      "S8TX00228 2008        NaN\n",
      "S8VA00214 2004        NaN\n",
      "          2006        NaN\n",
      "          2008        NaN\n",
      "          2012        NaN\n",
      "          2014        NaN\n",
      "S8VA00255 2008        NaN\n",
      "          2010        NaN\n",
      "S8VA00263 2008        NaN\n",
      "          2012        NaN\n",
      "          2014        NaN\n",
      "S8WA00194 2006        NaN\n",
      "          2008        NaN\n",
      "          2010        NaN\n",
      "          2012        NaN\n",
      "          2014        NaN\n",
      "S8WI00026 2006        NaN\n",
      "          2008        NaN\n",
      "          2010        NaN\n",
      "          2012        NaN\n",
      "          2014        NaN\n",
      "S8WI00158 2012        NaN\n",
      "          2014        NaN\n",
      "S8WV00093 2008        NaN\n",
      "S8WV00101 2010        NaN\n",
      "S8WY00163 2008        NaN\n",
      "S8WY00171 2008        NaN\n",
      "\n",
      "[10765 rows x 1 columns]\n"
     ]
    }
   ],
   "source": [
    "agg_df = cs6.sum(level=['cand_id','cycle'])\n",
    "print(agg_df)"
   ]
  },
  {
   "cell_type": "code",
   "execution_count": 84,
   "metadata": {},
   "outputs": [
    {
     "data": {
      "text/html": [
       "<div>\n",
       "<table border=\"1\" class=\"dataframe\">\n",
       "  <thead>\n",
       "    <tr style=\"text-align: right;\">\n",
       "      <th></th>\n",
       "      <th></th>\n",
       "      <th>c6</th>\n",
       "    </tr>\n",
       "    <tr>\n",
       "      <th>cand_id</th>\n",
       "      <th>cycle</th>\n",
       "      <th></th>\n",
       "    </tr>\n",
       "  </thead>\n",
       "  <tbody>\n",
       "    <tr>\n",
       "      <th>H6FL19038</th>\n",
       "      <th>2006</th>\n",
       "      <td>NaN</td>\n",
       "    </tr>\n",
       "    <tr>\n",
       "      <th>H2NY17071</th>\n",
       "      <th>2004</th>\n",
       "      <td>NaN</td>\n",
       "    </tr>\n",
       "    <tr>\n",
       "      <th>H8TX27023</th>\n",
       "      <th>2008</th>\n",
       "      <td>NaN</td>\n",
       "    </tr>\n",
       "    <tr>\n",
       "      <th>H8OH18088</th>\n",
       "      <th>2012</th>\n",
       "      <td>NaN</td>\n",
       "    </tr>\n",
       "    <tr>\n",
       "      <th>H0SC01071</th>\n",
       "      <th>2008</th>\n",
       "      <td>NaN</td>\n",
       "    </tr>\n",
       "  </tbody>\n",
       "</table>\n",
       "</div>"
      ],
      "text/plain": [
       "                 c6\n",
       "cand_id   cycle    \n",
       "H6FL19038 2006  NaN\n",
       "H2NY17071 2004  NaN\n",
       "H8TX27023 2008  NaN\n",
       "H8OH18088 2012  NaN\n",
       "H0SC01071 2008  NaN"
      ]
     },
     "execution_count": 84,
     "metadata": {},
     "output_type": "execute_result"
    }
   ],
   "source": [
    "cs6.head()"
   ]
  },
  {
   "cell_type": "code",
   "execution_count": 85,
   "metadata": {},
   "outputs": [
    {
     "data": {
      "text/plain": [
       "c6    6671.16\n",
       "Name: (H0AR01109, 2010), dtype: float64"
      ]
     },
     "execution_count": 85,
     "metadata": {},
     "output_type": "execute_result"
    }
   ],
   "source": [
    "#test\n",
    "agg_df.loc['H0AR01109','2010']"
   ]
  },
  {
   "cell_type": "code",
   "execution_count": 86,
   "metadata": {
    "collapsed": true
   },
   "outputs": [],
   "source": [
    "cs7 = catsort"
   ]
  },
  {
   "cell_type": "code",
   "execution_count": 87,
   "metadata": {
    "collapsed": true
   },
   "outputs": [],
   "source": [
    "cs7 = cs7.drop(['c1', 'c2', 'c3', 'c4', 'c5', 'c6', 'c8', 'c9', 'c10', 'c11', 'c12', 'c13','total'], axis = 1)"
   ]
  },
  {
   "cell_type": "code",
   "execution_count": 88,
   "metadata": {
    "collapsed": true
   },
   "outputs": [],
   "source": [
    "#cs7 = cs7[pd.notnull(cs7['c7'])]"
   ]
  },
  {
   "cell_type": "code",
   "execution_count": 89,
   "metadata": {
    "collapsed": true
   },
   "outputs": [],
   "source": [
    "#cs7.groupby(['cand_id','cycle'])['c7'].sum()"
   ]
  },
  {
   "cell_type": "code",
   "execution_count": 90,
   "metadata": {
    "collapsed": true
   },
   "outputs": [],
   "source": [
    "#cs7 = cs7.drop_duplicates()"
   ]
  },
  {
   "cell_type": "code",
   "execution_count": 91,
   "metadata": {
    "collapsed": true
   },
   "outputs": [],
   "source": [
    "cs7.set_index(['cand_id','cycle'], inplace=True)"
   ]
  },
  {
   "cell_type": "code",
   "execution_count": 92,
   "metadata": {},
   "outputs": [
    {
     "data": {
      "text/html": [
       "<div>\n",
       "<table border=\"1\" class=\"dataframe\">\n",
       "  <thead>\n",
       "    <tr style=\"text-align: right;\">\n",
       "      <th></th>\n",
       "      <th></th>\n",
       "      <th>c7</th>\n",
       "    </tr>\n",
       "    <tr>\n",
       "      <th>cand_id</th>\n",
       "      <th>cycle</th>\n",
       "      <th></th>\n",
       "    </tr>\n",
       "  </thead>\n",
       "  <tbody>\n",
       "    <tr>\n",
       "      <th>H6FL19038</th>\n",
       "      <th>2006</th>\n",
       "      <td>NaN</td>\n",
       "    </tr>\n",
       "    <tr>\n",
       "      <th>H2NY17071</th>\n",
       "      <th>2004</th>\n",
       "      <td>NaN</td>\n",
       "    </tr>\n",
       "    <tr>\n",
       "      <th>H8TX27023</th>\n",
       "      <th>2008</th>\n",
       "      <td>NaN</td>\n",
       "    </tr>\n",
       "    <tr>\n",
       "      <th>H8OH18088</th>\n",
       "      <th>2012</th>\n",
       "      <td>NaN</td>\n",
       "    </tr>\n",
       "    <tr>\n",
       "      <th>H0SC01071</th>\n",
       "      <th>2008</th>\n",
       "      <td>NaN</td>\n",
       "    </tr>\n",
       "  </tbody>\n",
       "</table>\n",
       "</div>"
      ],
      "text/plain": [
       "                 c7\n",
       "cand_id   cycle    \n",
       "H6FL19038 2006  NaN\n",
       "H2NY17071 2004  NaN\n",
       "H8TX27023 2008  NaN\n",
       "H8OH18088 2012  NaN\n",
       "H0SC01071 2008  NaN"
      ]
     },
     "execution_count": 92,
     "metadata": {},
     "output_type": "execute_result"
    }
   ],
   "source": [
    "cs7.head()"
   ]
  },
  {
   "cell_type": "code",
   "execution_count": 93,
   "metadata": {},
   "outputs": [
    {
     "name": "stdout",
     "output_type": "stream",
     "text": [
      "                       c7\n",
      "cand_id   cycle          \n",
      "H0AK00089 2010        NaN\n",
      "          2012        NaN\n",
      "H0AK01038 2010        NaN\n",
      "H0AL00016 2010    2192.99\n",
      "H0AL01030 2010     583.75\n",
      "          2012      56.58\n",
      "H0AL02087 2010        NaN\n",
      "          2012        NaN\n",
      "          2014        NaN\n",
      "H0AL02103 2010        NaN\n",
      "H0AL02111 2010        NaN\n",
      "H0AL03184 2010        NaN\n",
      "H0AL05049 2004        NaN\n",
      "          2006        NaN\n",
      "          2008        NaN\n",
      "          2010        NaN\n",
      "          2012        NaN\n",
      "          2014        NaN\n",
      "H0AL05155 2010   47101.73\n",
      "          2012        NaN\n",
      "H0AL05163 2010    9362.66\n",
      "          2012    9083.92\n",
      "          2014    2350.00\n",
      "H0AL05171 2010        NaN\n",
      "H0AL05189 2010     205.00\n",
      "H0AL05197 2010        NaN\n",
      "          2012        NaN\n",
      "H0AL07060 2004        NaN\n",
      "          2006        NaN\n",
      "          2008        NaN\n",
      "...                   ...\n",
      "S8TN00246 2008        NaN\n",
      "S8TX00202 2008        NaN\n",
      "          2010        NaN\n",
      "S8TX00228 2008        NaN\n",
      "S8VA00214 2004        NaN\n",
      "          2006        NaN\n",
      "          2008        NaN\n",
      "          2012    1516.16\n",
      "          2014        NaN\n",
      "S8VA00255 2008        NaN\n",
      "          2010        NaN\n",
      "S8VA00263 2008        NaN\n",
      "          2012        NaN\n",
      "          2014        NaN\n",
      "S8WA00194 2006        NaN\n",
      "          2008        NaN\n",
      "          2010        NaN\n",
      "          2012        NaN\n",
      "          2014        NaN\n",
      "S8WI00026 2006        NaN\n",
      "          2008        NaN\n",
      "          2010        NaN\n",
      "          2012        NaN\n",
      "          2014        NaN\n",
      "S8WI00158 2012        NaN\n",
      "          2014        NaN\n",
      "S8WV00093 2008        NaN\n",
      "S8WV00101 2010      86.42\n",
      "S8WY00163 2008        NaN\n",
      "S8WY00171 2008        NaN\n",
      "\n",
      "[10765 rows x 1 columns]\n"
     ]
    }
   ],
   "source": [
    "agg_df = cs7.sum(level=['cand_id','cycle'])\n",
    "print(agg_df)"
   ]
  },
  {
   "cell_type": "code",
   "execution_count": 94,
   "metadata": {},
   "outputs": [
    {
     "data": {
      "text/plain": [
       "c7   NaN\n",
       "Name: (H0AL02087, 2010), dtype: float64"
      ]
     },
     "execution_count": 94,
     "metadata": {},
     "output_type": "execute_result"
    }
   ],
   "source": [
    "#test\n",
    "agg_df.loc['H0AL02087','2010']"
   ]
  },
  {
   "cell_type": "code",
   "execution_count": 95,
   "metadata": {
    "collapsed": true
   },
   "outputs": [],
   "source": [
    "cs8 = catsort"
   ]
  },
  {
   "cell_type": "code",
   "execution_count": 96,
   "metadata": {
    "collapsed": true
   },
   "outputs": [],
   "source": [
    "cs8 = cs8.drop(['c1', 'c2', 'c3', 'c4', 'c5', 'c6', 'c7', 'c9', 'c10', 'c11', 'c12', 'c13','total'], axis = 1)"
   ]
  },
  {
   "cell_type": "code",
   "execution_count": 97,
   "metadata": {
    "collapsed": true
   },
   "outputs": [],
   "source": [
    "#cs8 = cs8[pd.notnull(cs8['c8'])]"
   ]
  },
  {
   "cell_type": "code",
   "execution_count": 98,
   "metadata": {
    "collapsed": true
   },
   "outputs": [],
   "source": [
    "#cs8.groupby(['cand_id','cycle'])['c8'].sum()"
   ]
  },
  {
   "cell_type": "code",
   "execution_count": 99,
   "metadata": {
    "collapsed": true
   },
   "outputs": [],
   "source": [
    "#cs8 = cs8.drop_duplicates()"
   ]
  },
  {
   "cell_type": "code",
   "execution_count": 100,
   "metadata": {},
   "outputs": [
    {
     "data": {
      "text/html": [
       "<div>\n",
       "<table border=\"1\" class=\"dataframe\">\n",
       "  <thead>\n",
       "    <tr style=\"text-align: right;\">\n",
       "      <th></th>\n",
       "      <th>cand_id</th>\n",
       "      <th>cycle</th>\n",
       "      <th>c8</th>\n",
       "    </tr>\n",
       "  </thead>\n",
       "  <tbody>\n",
       "    <tr>\n",
       "      <th>0</th>\n",
       "      <td>H6FL19038</td>\n",
       "      <td>2006</td>\n",
       "      <td>NaN</td>\n",
       "    </tr>\n",
       "    <tr>\n",
       "      <th>1</th>\n",
       "      <td>H2NY17071</td>\n",
       "      <td>2004</td>\n",
       "      <td>NaN</td>\n",
       "    </tr>\n",
       "    <tr>\n",
       "      <th>2</th>\n",
       "      <td>H8TX27023</td>\n",
       "      <td>2008</td>\n",
       "      <td>NaN</td>\n",
       "    </tr>\n",
       "    <tr>\n",
       "      <th>3</th>\n",
       "      <td>H8OH18088</td>\n",
       "      <td>2012</td>\n",
       "      <td>NaN</td>\n",
       "    </tr>\n",
       "    <tr>\n",
       "      <th>4</th>\n",
       "      <td>H0SC01071</td>\n",
       "      <td>2008</td>\n",
       "      <td>NaN</td>\n",
       "    </tr>\n",
       "  </tbody>\n",
       "</table>\n",
       "</div>"
      ],
      "text/plain": [
       "     cand_id cycle  c8\n",
       "0  H6FL19038  2006 NaN\n",
       "1  H2NY17071  2004 NaN\n",
       "2  H8TX27023  2008 NaN\n",
       "3  H8OH18088  2012 NaN\n",
       "4  H0SC01071  2008 NaN"
      ]
     },
     "execution_count": 100,
     "metadata": {},
     "output_type": "execute_result"
    }
   ],
   "source": [
    "cs8.head()"
   ]
  },
  {
   "cell_type": "code",
   "execution_count": 101,
   "metadata": {
    "collapsed": true
   },
   "outputs": [],
   "source": [
    "cs8.set_index(['cand_id','cycle'], inplace=True)"
   ]
  },
  {
   "cell_type": "code",
   "execution_count": 102,
   "metadata": {},
   "outputs": [
    {
     "data": {
      "text/html": [
       "<div>\n",
       "<table border=\"1\" class=\"dataframe\">\n",
       "  <thead>\n",
       "    <tr style=\"text-align: right;\">\n",
       "      <th></th>\n",
       "      <th></th>\n",
       "      <th>c8</th>\n",
       "    </tr>\n",
       "    <tr>\n",
       "      <th>cand_id</th>\n",
       "      <th>cycle</th>\n",
       "      <th></th>\n",
       "    </tr>\n",
       "  </thead>\n",
       "  <tbody>\n",
       "    <tr>\n",
       "      <th>H6FL19038</th>\n",
       "      <th>2006</th>\n",
       "      <td>NaN</td>\n",
       "    </tr>\n",
       "    <tr>\n",
       "      <th>H2NY17071</th>\n",
       "      <th>2004</th>\n",
       "      <td>NaN</td>\n",
       "    </tr>\n",
       "    <tr>\n",
       "      <th>H8TX27023</th>\n",
       "      <th>2008</th>\n",
       "      <td>NaN</td>\n",
       "    </tr>\n",
       "    <tr>\n",
       "      <th>H8OH18088</th>\n",
       "      <th>2012</th>\n",
       "      <td>NaN</td>\n",
       "    </tr>\n",
       "    <tr>\n",
       "      <th>H0SC01071</th>\n",
       "      <th>2008</th>\n",
       "      <td>NaN</td>\n",
       "    </tr>\n",
       "  </tbody>\n",
       "</table>\n",
       "</div>"
      ],
      "text/plain": [
       "                 c8\n",
       "cand_id   cycle    \n",
       "H6FL19038 2006  NaN\n",
       "H2NY17071 2004  NaN\n",
       "H8TX27023 2008  NaN\n",
       "H8OH18088 2012  NaN\n",
       "H0SC01071 2008  NaN"
      ]
     },
     "execution_count": 102,
     "metadata": {},
     "output_type": "execute_result"
    }
   ],
   "source": [
    "cs8.head()"
   ]
  },
  {
   "cell_type": "code",
   "execution_count": 103,
   "metadata": {},
   "outputs": [
    {
     "name": "stdout",
     "output_type": "stream",
     "text": [
      "                    c8\n",
      "cand_id   cycle       \n",
      "H0AK00089 2010     NaN\n",
      "          2012     NaN\n",
      "H0AK01038 2010     NaN\n",
      "H0AL00016 2010     NaN\n",
      "H0AL01030 2010     NaN\n",
      "          2012     NaN\n",
      "H0AL02087 2010     NaN\n",
      "          2012     NaN\n",
      "          2014     NaN\n",
      "H0AL02103 2010     NaN\n",
      "H0AL02111 2010     NaN\n",
      "H0AL03184 2010     NaN\n",
      "H0AL05049 2004     NaN\n",
      "          2006     NaN\n",
      "          2008     NaN\n",
      "          2010     NaN\n",
      "          2012     NaN\n",
      "          2014     NaN\n",
      "H0AL05155 2010     NaN\n",
      "          2012     NaN\n",
      "H0AL05163 2010   249.0\n",
      "          2012     NaN\n",
      "          2014     NaN\n",
      "H0AL05171 2010     NaN\n",
      "H0AL05189 2010     NaN\n",
      "H0AL05197 2010     NaN\n",
      "          2012     NaN\n",
      "H0AL07060 2004     NaN\n",
      "          2006     NaN\n",
      "          2008     NaN\n",
      "...                ...\n",
      "S8TN00246 2008     NaN\n",
      "S8TX00202 2008     NaN\n",
      "          2010     NaN\n",
      "S8TX00228 2008     NaN\n",
      "S8VA00214 2004     NaN\n",
      "          2006     NaN\n",
      "          2008     NaN\n",
      "          2012     NaN\n",
      "          2014     NaN\n",
      "S8VA00255 2008     NaN\n",
      "          2010     NaN\n",
      "S8VA00263 2008     NaN\n",
      "          2012     NaN\n",
      "          2014     NaN\n",
      "S8WA00194 2006     NaN\n",
      "          2008     NaN\n",
      "          2010     NaN\n",
      "          2012     NaN\n",
      "          2014     NaN\n",
      "S8WI00026 2006     NaN\n",
      "          2008     NaN\n",
      "          2010     NaN\n",
      "          2012     NaN\n",
      "          2014     NaN\n",
      "S8WI00158 2012     NaN\n",
      "          2014     NaN\n",
      "S8WV00093 2008     NaN\n",
      "S8WV00101 2010     NaN\n",
      "S8WY00163 2008     NaN\n",
      "S8WY00171 2008     NaN\n",
      "\n",
      "[10765 rows x 1 columns]\n"
     ]
    }
   ],
   "source": [
    "agg_df = cs8.sum(level=['cand_id','cycle'])\n",
    "print(agg_df)"
   ]
  },
  {
   "cell_type": "code",
   "execution_count": 104,
   "metadata": {},
   "outputs": [
    {
     "data": {
      "text/plain": [
       "c8   NaN\n",
       "Name: (S8WV00093, 2008), dtype: float64"
      ]
     },
     "execution_count": 104,
     "metadata": {},
     "output_type": "execute_result"
    }
   ],
   "source": [
    "#test\n",
    "agg_df.loc['S8WV00093','2008']"
   ]
  },
  {
   "cell_type": "code",
   "execution_count": 105,
   "metadata": {
    "collapsed": true
   },
   "outputs": [],
   "source": [
    "cs9 = catsort"
   ]
  },
  {
   "cell_type": "code",
   "execution_count": 106,
   "metadata": {
    "collapsed": true
   },
   "outputs": [],
   "source": [
    "cs9 = cs9.drop(['c1', 'c2', 'c3', 'c4', 'c5', 'c6', 'c7', 'c8', 'c10', 'c11', 'c12', 'c13','total'], axis = 1)"
   ]
  },
  {
   "cell_type": "code",
   "execution_count": 107,
   "metadata": {
    "collapsed": true
   },
   "outputs": [],
   "source": [
    "#cs9 = cs9[pd.notnull(cs9['c9'])]"
   ]
  },
  {
   "cell_type": "code",
   "execution_count": 108,
   "metadata": {
    "collapsed": true
   },
   "outputs": [],
   "source": [
    "#cs9.groupby(['cand_id','cycle'])['c9'].sum()"
   ]
  },
  {
   "cell_type": "code",
   "execution_count": 109,
   "metadata": {
    "collapsed": true
   },
   "outputs": [],
   "source": [
    "#cs9 = cs9.drop_duplicates()"
   ]
  },
  {
   "cell_type": "code",
   "execution_count": 110,
   "metadata": {
    "collapsed": true
   },
   "outputs": [],
   "source": [
    "cs9.set_index(['cand_id','cycle'], inplace=True)"
   ]
  },
  {
   "cell_type": "code",
   "execution_count": 111,
   "metadata": {},
   "outputs": [
    {
     "name": "stdout",
     "output_type": "stream",
     "text": [
      "                 c9\n",
      "cand_id   cycle    \n",
      "H0AK00089 2010  NaN\n",
      "          2012  NaN\n",
      "H0AK01038 2010  NaN\n",
      "H0AL00016 2010  NaN\n",
      "H0AL01030 2010  NaN\n",
      "          2012  NaN\n",
      "H0AL02087 2010  NaN\n",
      "          2012  NaN\n",
      "          2014  NaN\n",
      "H0AL02103 2010  NaN\n",
      "H0AL02111 2010  NaN\n",
      "H0AL03184 2010  NaN\n",
      "H0AL05049 2004  NaN\n",
      "          2006  NaN\n",
      "          2008  NaN\n",
      "          2010  NaN\n",
      "          2012  NaN\n",
      "          2014  NaN\n",
      "H0AL05155 2010  NaN\n",
      "          2012  NaN\n",
      "H0AL05163 2010  NaN\n",
      "          2012  NaN\n",
      "          2014  NaN\n",
      "H0AL05171 2010  NaN\n",
      "H0AL05189 2010  NaN\n",
      "H0AL05197 2010  NaN\n",
      "          2012  NaN\n",
      "H0AL07060 2004  NaN\n",
      "          2006  NaN\n",
      "          2008  NaN\n",
      "...              ..\n",
      "S8TN00246 2008  NaN\n",
      "S8TX00202 2008  NaN\n",
      "          2010  NaN\n",
      "S8TX00228 2008  NaN\n",
      "S8VA00214 2004  NaN\n",
      "          2006  NaN\n",
      "          2008  NaN\n",
      "          2012  NaN\n",
      "          2014  NaN\n",
      "S8VA00255 2008  NaN\n",
      "          2010  NaN\n",
      "S8VA00263 2008  NaN\n",
      "          2012  NaN\n",
      "          2014  NaN\n",
      "S8WA00194 2006  NaN\n",
      "          2008  NaN\n",
      "          2010  NaN\n",
      "          2012  NaN\n",
      "          2014  NaN\n",
      "S8WI00026 2006  NaN\n",
      "          2008  NaN\n",
      "          2010  NaN\n",
      "          2012  NaN\n",
      "          2014  NaN\n",
      "S8WI00158 2012  NaN\n",
      "          2014  NaN\n",
      "S8WV00093 2008  NaN\n",
      "S8WV00101 2010  NaN\n",
      "S8WY00163 2008  NaN\n",
      "S8WY00171 2008  NaN\n",
      "\n",
      "[10765 rows x 1 columns]\n"
     ]
    }
   ],
   "source": [
    "agg_df = cs9.sum(level=['cand_id','cycle'])\n",
    "print(agg_df)"
   ]
  },
  {
   "cell_type": "code",
   "execution_count": 112,
   "metadata": {},
   "outputs": [
    {
     "data": {
      "text/html": [
       "<div>\n",
       "<table border=\"1\" class=\"dataframe\">\n",
       "  <thead>\n",
       "    <tr style=\"text-align: right;\">\n",
       "      <th></th>\n",
       "      <th></th>\n",
       "      <th>c9</th>\n",
       "    </tr>\n",
       "    <tr>\n",
       "      <th>cand_id</th>\n",
       "      <th>cycle</th>\n",
       "      <th></th>\n",
       "    </tr>\n",
       "  </thead>\n",
       "  <tbody>\n",
       "    <tr>\n",
       "      <th>H6FL19038</th>\n",
       "      <th>2006</th>\n",
       "      <td>NaN</td>\n",
       "    </tr>\n",
       "    <tr>\n",
       "      <th>H2NY17071</th>\n",
       "      <th>2004</th>\n",
       "      <td>NaN</td>\n",
       "    </tr>\n",
       "    <tr>\n",
       "      <th>H8TX27023</th>\n",
       "      <th>2008</th>\n",
       "      <td>NaN</td>\n",
       "    </tr>\n",
       "    <tr>\n",
       "      <th>H8OH18088</th>\n",
       "      <th>2012</th>\n",
       "      <td>NaN</td>\n",
       "    </tr>\n",
       "    <tr>\n",
       "      <th>H0SC01071</th>\n",
       "      <th>2008</th>\n",
       "      <td>NaN</td>\n",
       "    </tr>\n",
       "  </tbody>\n",
       "</table>\n",
       "</div>"
      ],
      "text/plain": [
       "                 c9\n",
       "cand_id   cycle    \n",
       "H6FL19038 2006  NaN\n",
       "H2NY17071 2004  NaN\n",
       "H8TX27023 2008  NaN\n",
       "H8OH18088 2012  NaN\n",
       "H0SC01071 2008  NaN"
      ]
     },
     "execution_count": 112,
     "metadata": {},
     "output_type": "execute_result"
    }
   ],
   "source": [
    "cs9.head()"
   ]
  },
  {
   "cell_type": "code",
   "execution_count": 113,
   "metadata": {},
   "outputs": [
    {
     "data": {
      "text/plain": [
       "c9   NaN\n",
       "Name: (H0AL05163, 2010), dtype: float64"
      ]
     },
     "execution_count": 113,
     "metadata": {},
     "output_type": "execute_result"
    }
   ],
   "source": [
    "#test\n",
    "agg_df.loc['H0AL05163','2010']"
   ]
  },
  {
   "cell_type": "code",
   "execution_count": 114,
   "metadata": {
    "collapsed": true
   },
   "outputs": [],
   "source": [
    "cs10 = catsort"
   ]
  },
  {
   "cell_type": "code",
   "execution_count": 115,
   "metadata": {
    "collapsed": true
   },
   "outputs": [],
   "source": [
    "cs10 = cs10.drop(['c1', 'c2', 'c3', 'c4', 'c5', 'c6', 'c7', 'c8', 'c9', 'c11', 'c12', 'c13','total'], axis = 1)"
   ]
  },
  {
   "cell_type": "code",
   "execution_count": 116,
   "metadata": {
    "collapsed": true
   },
   "outputs": [],
   "source": [
    "#cs10 = cs10[pd.notnull(cs10['c10'])]"
   ]
  },
  {
   "cell_type": "code",
   "execution_count": 117,
   "metadata": {
    "collapsed": true
   },
   "outputs": [],
   "source": [
    "#cs10.groupby(['cand_id','cycle'])['c10'].sum()"
   ]
  },
  {
   "cell_type": "code",
   "execution_count": 118,
   "metadata": {
    "collapsed": true
   },
   "outputs": [],
   "source": [
    "#cs10 = cs10.drop_duplicates()"
   ]
  },
  {
   "cell_type": "code",
   "execution_count": 119,
   "metadata": {
    "collapsed": true
   },
   "outputs": [],
   "source": [
    "cs10.set_index(['cand_id','cycle'], inplace=True)"
   ]
  },
  {
   "cell_type": "code",
   "execution_count": 120,
   "metadata": {},
   "outputs": [
    {
     "data": {
      "text/html": [
       "<div>\n",
       "<table border=\"1\" class=\"dataframe\">\n",
       "  <thead>\n",
       "    <tr style=\"text-align: right;\">\n",
       "      <th></th>\n",
       "      <th></th>\n",
       "      <th>c10</th>\n",
       "    </tr>\n",
       "    <tr>\n",
       "      <th>cand_id</th>\n",
       "      <th>cycle</th>\n",
       "      <th></th>\n",
       "    </tr>\n",
       "  </thead>\n",
       "  <tbody>\n",
       "    <tr>\n",
       "      <th>H6FL19038</th>\n",
       "      <th>2006</th>\n",
       "      <td>NaN</td>\n",
       "    </tr>\n",
       "    <tr>\n",
       "      <th>H2NY17071</th>\n",
       "      <th>2004</th>\n",
       "      <td>NaN</td>\n",
       "    </tr>\n",
       "    <tr>\n",
       "      <th>H8TX27023</th>\n",
       "      <th>2008</th>\n",
       "      <td>NaN</td>\n",
       "    </tr>\n",
       "    <tr>\n",
       "      <th>H8OH18088</th>\n",
       "      <th>2012</th>\n",
       "      <td>NaN</td>\n",
       "    </tr>\n",
       "    <tr>\n",
       "      <th>H0SC01071</th>\n",
       "      <th>2008</th>\n",
       "      <td>NaN</td>\n",
       "    </tr>\n",
       "  </tbody>\n",
       "</table>\n",
       "</div>"
      ],
      "text/plain": [
       "                 c10\n",
       "cand_id   cycle     \n",
       "H6FL19038 2006   NaN\n",
       "H2NY17071 2004   NaN\n",
       "H8TX27023 2008   NaN\n",
       "H8OH18088 2012   NaN\n",
       "H0SC01071 2008   NaN"
      ]
     },
     "execution_count": 120,
     "metadata": {},
     "output_type": "execute_result"
    }
   ],
   "source": [
    "cs10.head()"
   ]
  },
  {
   "cell_type": "code",
   "execution_count": 121,
   "metadata": {},
   "outputs": [
    {
     "name": "stdout",
     "output_type": "stream",
     "text": [
      "                   c10\n",
      "cand_id   cycle       \n",
      "H0AK00089 2010     NaN\n",
      "          2012     NaN\n",
      "H0AK01038 2010     NaN\n",
      "H0AL00016 2010     NaN\n",
      "H0AL01030 2010     NaN\n",
      "          2012     NaN\n",
      "H0AL02087 2010     NaN\n",
      "          2012     NaN\n",
      "          2014     NaN\n",
      "H0AL02103 2010     NaN\n",
      "H0AL02111 2010     NaN\n",
      "H0AL03184 2010     NaN\n",
      "H0AL05049 2004     NaN\n",
      "          2006     NaN\n",
      "          2008     NaN\n",
      "          2010     NaN\n",
      "          2012     NaN\n",
      "          2014     NaN\n",
      "H0AL05155 2010   610.0\n",
      "          2012     NaN\n",
      "H0AL05163 2010     NaN\n",
      "          2012     NaN\n",
      "          2014     NaN\n",
      "H0AL05171 2010     NaN\n",
      "H0AL05189 2010     NaN\n",
      "H0AL05197 2010     NaN\n",
      "          2012     NaN\n",
      "H0AL07060 2004     NaN\n",
      "          2006     NaN\n",
      "          2008     NaN\n",
      "...                ...\n",
      "S8TN00246 2008     NaN\n",
      "S8TX00202 2008     NaN\n",
      "          2010     NaN\n",
      "S8TX00228 2008     NaN\n",
      "S8VA00214 2004     NaN\n",
      "          2006     NaN\n",
      "          2008     NaN\n",
      "          2012     NaN\n",
      "          2014     NaN\n",
      "S8VA00255 2008     NaN\n",
      "          2010     NaN\n",
      "S8VA00263 2008     NaN\n",
      "          2012     NaN\n",
      "          2014     NaN\n",
      "S8WA00194 2006     NaN\n",
      "          2008     NaN\n",
      "          2010     NaN\n",
      "          2012     NaN\n",
      "          2014     NaN\n",
      "S8WI00026 2006     NaN\n",
      "          2008     NaN\n",
      "          2010     NaN\n",
      "          2012     NaN\n",
      "          2014     NaN\n",
      "S8WI00158 2012     NaN\n",
      "          2014     NaN\n",
      "S8WV00093 2008     NaN\n",
      "S8WV00101 2010     NaN\n",
      "S8WY00163 2008     NaN\n",
      "S8WY00171 2008     NaN\n",
      "\n",
      "[10765 rows x 1 columns]\n"
     ]
    }
   ],
   "source": [
    "agg_df = cs10.sum(level=['cand_id','cycle'])\n",
    "print(agg_df)"
   ]
  },
  {
   "cell_type": "code",
   "execution_count": 122,
   "metadata": {},
   "outputs": [
    {
     "data": {
      "text/plain": [
       "c10    610.0\n",
       "Name: (H0AL05155, 2010), dtype: float64"
      ]
     },
     "execution_count": 122,
     "metadata": {},
     "output_type": "execute_result"
    }
   ],
   "source": [
    "#test\n",
    "agg_df.loc['H0AL05155','2010']"
   ]
  },
  {
   "cell_type": "code",
   "execution_count": 123,
   "metadata": {
    "collapsed": true
   },
   "outputs": [],
   "source": [
    "cs11 = catsort"
   ]
  },
  {
   "cell_type": "code",
   "execution_count": 124,
   "metadata": {
    "collapsed": true
   },
   "outputs": [],
   "source": [
    "cs11 = cs11.drop(['c1', 'c2', 'c3', 'c4', 'c5', 'c6', 'c7', 'c8', 'c9', 'c10', 'c12', 'c13','total'], axis = 1)"
   ]
  },
  {
   "cell_type": "code",
   "execution_count": 125,
   "metadata": {},
   "outputs": [
    {
     "data": {
      "text/html": [
       "<div>\n",
       "<table border=\"1\" class=\"dataframe\">\n",
       "  <thead>\n",
       "    <tr style=\"text-align: right;\">\n",
       "      <th></th>\n",
       "      <th>cand_id</th>\n",
       "      <th>cycle</th>\n",
       "      <th>c11</th>\n",
       "    </tr>\n",
       "  </thead>\n",
       "  <tbody>\n",
       "    <tr>\n",
       "      <th>0</th>\n",
       "      <td>H6FL19038</td>\n",
       "      <td>2006</td>\n",
       "      <td>NaN</td>\n",
       "    </tr>\n",
       "    <tr>\n",
       "      <th>1</th>\n",
       "      <td>H2NY17071</td>\n",
       "      <td>2004</td>\n",
       "      <td>NaN</td>\n",
       "    </tr>\n",
       "    <tr>\n",
       "      <th>2</th>\n",
       "      <td>H8TX27023</td>\n",
       "      <td>2008</td>\n",
       "      <td>NaN</td>\n",
       "    </tr>\n",
       "    <tr>\n",
       "      <th>3</th>\n",
       "      <td>H8OH18088</td>\n",
       "      <td>2012</td>\n",
       "      <td>NaN</td>\n",
       "    </tr>\n",
       "    <tr>\n",
       "      <th>4</th>\n",
       "      <td>H0SC01071</td>\n",
       "      <td>2008</td>\n",
       "      <td>NaN</td>\n",
       "    </tr>\n",
       "  </tbody>\n",
       "</table>\n",
       "</div>"
      ],
      "text/plain": [
       "     cand_id cycle  c11\n",
       "0  H6FL19038  2006  NaN\n",
       "1  H2NY17071  2004  NaN\n",
       "2  H8TX27023  2008  NaN\n",
       "3  H8OH18088  2012  NaN\n",
       "4  H0SC01071  2008  NaN"
      ]
     },
     "execution_count": 125,
     "metadata": {},
     "output_type": "execute_result"
    }
   ],
   "source": [
    "cs11.head()"
   ]
  },
  {
   "cell_type": "code",
   "execution_count": 126,
   "metadata": {
    "collapsed": true
   },
   "outputs": [],
   "source": [
    "#cs11 = cs11[pd.notnull(cs11['c11'])]"
   ]
  },
  {
   "cell_type": "code",
   "execution_count": 127,
   "metadata": {
    "collapsed": true
   },
   "outputs": [],
   "source": [
    "#cs11.groupby(['cand_id','cycle'])['c11'].sum()"
   ]
  },
  {
   "cell_type": "code",
   "execution_count": 128,
   "metadata": {
    "collapsed": true
   },
   "outputs": [],
   "source": [
    "#cs11 = cs11.drop_duplicates()"
   ]
  },
  {
   "cell_type": "code",
   "execution_count": 129,
   "metadata": {
    "collapsed": true
   },
   "outputs": [],
   "source": [
    "cs11.set_index(['cand_id','cycle'], inplace=True)"
   ]
  },
  {
   "cell_type": "code",
   "execution_count": 130,
   "metadata": {},
   "outputs": [
    {
     "data": {
      "text/html": [
       "<div>\n",
       "<table border=\"1\" class=\"dataframe\">\n",
       "  <thead>\n",
       "    <tr style=\"text-align: right;\">\n",
       "      <th></th>\n",
       "      <th></th>\n",
       "      <th>c11</th>\n",
       "    </tr>\n",
       "    <tr>\n",
       "      <th>cand_id</th>\n",
       "      <th>cycle</th>\n",
       "      <th></th>\n",
       "    </tr>\n",
       "  </thead>\n",
       "  <tbody>\n",
       "    <tr>\n",
       "      <th>H6FL19038</th>\n",
       "      <th>2006</th>\n",
       "      <td>NaN</td>\n",
       "    </tr>\n",
       "    <tr>\n",
       "      <th>H2NY17071</th>\n",
       "      <th>2004</th>\n",
       "      <td>NaN</td>\n",
       "    </tr>\n",
       "    <tr>\n",
       "      <th>H8TX27023</th>\n",
       "      <th>2008</th>\n",
       "      <td>NaN</td>\n",
       "    </tr>\n",
       "    <tr>\n",
       "      <th>H8OH18088</th>\n",
       "      <th>2012</th>\n",
       "      <td>NaN</td>\n",
       "    </tr>\n",
       "    <tr>\n",
       "      <th>H0SC01071</th>\n",
       "      <th>2008</th>\n",
       "      <td>NaN</td>\n",
       "    </tr>\n",
       "  </tbody>\n",
       "</table>\n",
       "</div>"
      ],
      "text/plain": [
       "                 c11\n",
       "cand_id   cycle     \n",
       "H6FL19038 2006   NaN\n",
       "H2NY17071 2004   NaN\n",
       "H8TX27023 2008   NaN\n",
       "H8OH18088 2012   NaN\n",
       "H0SC01071 2008   NaN"
      ]
     },
     "execution_count": 130,
     "metadata": {},
     "output_type": "execute_result"
    }
   ],
   "source": [
    "cs11.head()"
   ]
  },
  {
   "cell_type": "code",
   "execution_count": 131,
   "metadata": {},
   "outputs": [
    {
     "name": "stdout",
     "output_type": "stream",
     "text": [
      "                   c11\n",
      "cand_id   cycle       \n",
      "H0AK00089 2010     NaN\n",
      "          2012     NaN\n",
      "H0AK01038 2010     NaN\n",
      "H0AL00016 2010     NaN\n",
      "H0AL01030 2010     NaN\n",
      "          2012     NaN\n",
      "H0AL02087 2010     NaN\n",
      "          2012     NaN\n",
      "          2014     NaN\n",
      "H0AL02103 2010     NaN\n",
      "H0AL02111 2010     NaN\n",
      "H0AL03184 2010     NaN\n",
      "H0AL05049 2004     NaN\n",
      "          2006     NaN\n",
      "          2008     NaN\n",
      "          2010     NaN\n",
      "          2012     NaN\n",
      "          2014     NaN\n",
      "H0AL05155 2010     NaN\n",
      "          2012     NaN\n",
      "H0AL05163 2010     NaN\n",
      "          2012     NaN\n",
      "          2014     NaN\n",
      "H0AL05171 2010     NaN\n",
      "H0AL05189 2010     NaN\n",
      "H0AL05197 2010   500.0\n",
      "          2012     NaN\n",
      "H0AL07060 2004     NaN\n",
      "          2006     NaN\n",
      "          2008     NaN\n",
      "...                ...\n",
      "S8TN00246 2008     NaN\n",
      "S8TX00202 2008     NaN\n",
      "          2010     NaN\n",
      "S8TX00228 2008     NaN\n",
      "S8VA00214 2004     NaN\n",
      "          2006     NaN\n",
      "          2008     NaN\n",
      "          2012     NaN\n",
      "          2014     NaN\n",
      "S8VA00255 2008     NaN\n",
      "          2010     NaN\n",
      "S8VA00263 2008     NaN\n",
      "          2012     NaN\n",
      "          2014     NaN\n",
      "S8WA00194 2006     NaN\n",
      "          2008     NaN\n",
      "          2010     NaN\n",
      "          2012     NaN\n",
      "          2014     NaN\n",
      "S8WI00026 2006     NaN\n",
      "          2008     NaN\n",
      "          2010     NaN\n",
      "          2012     NaN\n",
      "          2014     NaN\n",
      "S8WI00158 2012     NaN\n",
      "          2014     NaN\n",
      "S8WV00093 2008     NaN\n",
      "S8WV00101 2010     NaN\n",
      "S8WY00163 2008     NaN\n",
      "S8WY00171 2008     NaN\n",
      "\n",
      "[10765 rows x 1 columns]\n"
     ]
    }
   ],
   "source": [
    "agg_df = cs11.sum(level=['cand_id','cycle'])\n",
    "print(agg_df)"
   ]
  },
  {
   "cell_type": "code",
   "execution_count": 132,
   "metadata": {},
   "outputs": [
    {
     "data": {
      "text/plain": [
       "c11    500.0\n",
       "Name: (H0AL05197, 2010), dtype: float64"
      ]
     },
     "execution_count": 132,
     "metadata": {},
     "output_type": "execute_result"
    }
   ],
   "source": [
    "#test\n",
    "agg_df.loc['H0AL05197','2010']"
   ]
  },
  {
   "cell_type": "code",
   "execution_count": 133,
   "metadata": {
    "collapsed": true
   },
   "outputs": [],
   "source": [
    "cs12 = catsort"
   ]
  },
  {
   "cell_type": "code",
   "execution_count": 134,
   "metadata": {
    "collapsed": true
   },
   "outputs": [],
   "source": [
    "cs12 = cs12.drop(['c1', 'c2', 'c3', 'c4', 'c5', 'c6', 'c7', 'c8', 'c9', 'c10', 'c11', 'c13','total'], axis = 1)"
   ]
  },
  {
   "cell_type": "code",
   "execution_count": 135,
   "metadata": {},
   "outputs": [
    {
     "data": {
      "text/html": [
       "<div>\n",
       "<table border=\"1\" class=\"dataframe\">\n",
       "  <thead>\n",
       "    <tr style=\"text-align: right;\">\n",
       "      <th></th>\n",
       "      <th>cand_id</th>\n",
       "      <th>cycle</th>\n",
       "      <th>c12</th>\n",
       "    </tr>\n",
       "  </thead>\n",
       "  <tbody>\n",
       "    <tr>\n",
       "      <th>0</th>\n",
       "      <td>H6FL19038</td>\n",
       "      <td>2006</td>\n",
       "      <td>NaN</td>\n",
       "    </tr>\n",
       "    <tr>\n",
       "      <th>1</th>\n",
       "      <td>H2NY17071</td>\n",
       "      <td>2004</td>\n",
       "      <td>NaN</td>\n",
       "    </tr>\n",
       "    <tr>\n",
       "      <th>2</th>\n",
       "      <td>H8TX27023</td>\n",
       "      <td>2008</td>\n",
       "      <td>NaN</td>\n",
       "    </tr>\n",
       "    <tr>\n",
       "      <th>3</th>\n",
       "      <td>H8OH18088</td>\n",
       "      <td>2012</td>\n",
       "      <td>NaN</td>\n",
       "    </tr>\n",
       "    <tr>\n",
       "      <th>4</th>\n",
       "      <td>H0SC01071</td>\n",
       "      <td>2008</td>\n",
       "      <td>NaN</td>\n",
       "    </tr>\n",
       "  </tbody>\n",
       "</table>\n",
       "</div>"
      ],
      "text/plain": [
       "     cand_id cycle  c12\n",
       "0  H6FL19038  2006  NaN\n",
       "1  H2NY17071  2004  NaN\n",
       "2  H8TX27023  2008  NaN\n",
       "3  H8OH18088  2012  NaN\n",
       "4  H0SC01071  2008  NaN"
      ]
     },
     "execution_count": 135,
     "metadata": {},
     "output_type": "execute_result"
    }
   ],
   "source": [
    "cs12.head()"
   ]
  },
  {
   "cell_type": "code",
   "execution_count": 136,
   "metadata": {
    "collapsed": true
   },
   "outputs": [],
   "source": [
    "#cs12 = cs12[pd.notnull(cs12['c12'])]"
   ]
  },
  {
   "cell_type": "code",
   "execution_count": 137,
   "metadata": {
    "collapsed": true
   },
   "outputs": [],
   "source": [
    "#cs12.groupby(['cand_id','cycle'])['c12'].sum()"
   ]
  },
  {
   "cell_type": "code",
   "execution_count": 138,
   "metadata": {
    "collapsed": true
   },
   "outputs": [],
   "source": [
    "#cs12 = cs12.drop_duplicates()"
   ]
  },
  {
   "cell_type": "code",
   "execution_count": 139,
   "metadata": {
    "collapsed": true
   },
   "outputs": [],
   "source": [
    "cs12.set_index(['cand_id','cycle'], inplace=True)"
   ]
  },
  {
   "cell_type": "code",
   "execution_count": 140,
   "metadata": {},
   "outputs": [
    {
     "data": {
      "text/html": [
       "<div>\n",
       "<table border=\"1\" class=\"dataframe\">\n",
       "  <thead>\n",
       "    <tr style=\"text-align: right;\">\n",
       "      <th></th>\n",
       "      <th></th>\n",
       "      <th>c12</th>\n",
       "    </tr>\n",
       "    <tr>\n",
       "      <th>cand_id</th>\n",
       "      <th>cycle</th>\n",
       "      <th></th>\n",
       "    </tr>\n",
       "  </thead>\n",
       "  <tbody>\n",
       "    <tr>\n",
       "      <th>H6FL19038</th>\n",
       "      <th>2006</th>\n",
       "      <td>NaN</td>\n",
       "    </tr>\n",
       "    <tr>\n",
       "      <th>H2NY17071</th>\n",
       "      <th>2004</th>\n",
       "      <td>NaN</td>\n",
       "    </tr>\n",
       "    <tr>\n",
       "      <th>H8TX27023</th>\n",
       "      <th>2008</th>\n",
       "      <td>NaN</td>\n",
       "    </tr>\n",
       "    <tr>\n",
       "      <th>H8OH18088</th>\n",
       "      <th>2012</th>\n",
       "      <td>NaN</td>\n",
       "    </tr>\n",
       "    <tr>\n",
       "      <th>H0SC01071</th>\n",
       "      <th>2008</th>\n",
       "      <td>NaN</td>\n",
       "    </tr>\n",
       "  </tbody>\n",
       "</table>\n",
       "</div>"
      ],
      "text/plain": [
       "                 c12\n",
       "cand_id   cycle     \n",
       "H6FL19038 2006   NaN\n",
       "H2NY17071 2004   NaN\n",
       "H8TX27023 2008   NaN\n",
       "H8OH18088 2012   NaN\n",
       "H0SC01071 2008   NaN"
      ]
     },
     "execution_count": 140,
     "metadata": {},
     "output_type": "execute_result"
    }
   ],
   "source": [
    "cs12.head()"
   ]
  },
  {
   "cell_type": "code",
   "execution_count": 141,
   "metadata": {},
   "outputs": [
    {
     "name": "stdout",
     "output_type": "stream",
     "text": [
      "                    c12\n",
      "cand_id   cycle        \n",
      "H0AK00089 2010      NaN\n",
      "          2012      NaN\n",
      "H0AK01038 2010      NaN\n",
      "H0AL00016 2010    300.0\n",
      "H0AL01030 2010      NaN\n",
      "          2012      NaN\n",
      "H0AL02087 2010      NaN\n",
      "          2012      NaN\n",
      "          2014      NaN\n",
      "H0AL02103 2010      NaN\n",
      "H0AL02111 2010      NaN\n",
      "H0AL03184 2010      NaN\n",
      "H0AL05049 2004      NaN\n",
      "          2006      NaN\n",
      "          2008      NaN\n",
      "          2010      NaN\n",
      "          2012    500.0\n",
      "          2014   5000.0\n",
      "H0AL05155 2010      NaN\n",
      "          2012      NaN\n",
      "H0AL05163 2010      NaN\n",
      "          2012      NaN\n",
      "          2014      NaN\n",
      "H0AL05171 2010      NaN\n",
      "H0AL05189 2010      NaN\n",
      "H0AL05197 2010      NaN\n",
      "          2012      NaN\n",
      "H0AL07060 2004      NaN\n",
      "          2006      NaN\n",
      "          2008      NaN\n",
      "...                 ...\n",
      "S8TN00246 2008      NaN\n",
      "S8TX00202 2008      NaN\n",
      "          2010      NaN\n",
      "S8TX00228 2008      NaN\n",
      "S8VA00214 2004      NaN\n",
      "          2006      NaN\n",
      "          2008      NaN\n",
      "          2012      NaN\n",
      "          2014      NaN\n",
      "S8VA00255 2008      NaN\n",
      "          2010      NaN\n",
      "S8VA00263 2008      NaN\n",
      "          2012      NaN\n",
      "          2014      NaN\n",
      "S8WA00194 2006      NaN\n",
      "          2008      NaN\n",
      "          2010      NaN\n",
      "          2012      NaN\n",
      "          2014      NaN\n",
      "S8WI00026 2006      NaN\n",
      "          2008      NaN\n",
      "          2010      NaN\n",
      "          2012      NaN\n",
      "          2014      NaN\n",
      "S8WI00158 2012      NaN\n",
      "          2014      NaN\n",
      "S8WV00093 2008      NaN\n",
      "S8WV00101 2010      NaN\n",
      "S8WY00163 2008      NaN\n",
      "S8WY00171 2008      NaN\n",
      "\n",
      "[10765 rows x 1 columns]\n"
     ]
    }
   ],
   "source": [
    "agg_df = cs12.sum(level=['cand_id','cycle'])\n",
    "print(agg_df)"
   ]
  },
  {
   "cell_type": "code",
   "execution_count": 142,
   "metadata": {},
   "outputs": [
    {
     "data": {
      "text/plain": [
       "c12    500.0\n",
       "Name: (H0AL05049, 2012), dtype: float64"
      ]
     },
     "execution_count": 142,
     "metadata": {},
     "output_type": "execute_result"
    }
   ],
   "source": [
    "#test\n",
    "agg_df.loc['H0AL05049', '2012']"
   ]
  },
  {
   "cell_type": "code",
   "execution_count": 143,
   "metadata": {
    "collapsed": true
   },
   "outputs": [],
   "source": [
    "cs13 = catsort"
   ]
  },
  {
   "cell_type": "code",
   "execution_count": 144,
   "metadata": {
    "collapsed": true
   },
   "outputs": [],
   "source": [
    "cs13 = cs13.drop(['c1', 'c2', 'c3', 'c4', 'c5', 'c6', 'c7', 'c8', 'c9', 'c10', 'c11', 'c12','total'], axis = 1)"
   ]
  },
  {
   "cell_type": "code",
   "execution_count": 145,
   "metadata": {},
   "outputs": [
    {
     "data": {
      "text/html": [
       "<div>\n",
       "<table border=\"1\" class=\"dataframe\">\n",
       "  <thead>\n",
       "    <tr style=\"text-align: right;\">\n",
       "      <th></th>\n",
       "      <th>cand_id</th>\n",
       "      <th>cycle</th>\n",
       "      <th>c13</th>\n",
       "    </tr>\n",
       "  </thead>\n",
       "  <tbody>\n",
       "    <tr>\n",
       "      <th>0</th>\n",
       "      <td>H6FL19038</td>\n",
       "      <td>2006</td>\n",
       "      <td>NaN</td>\n",
       "    </tr>\n",
       "    <tr>\n",
       "      <th>1</th>\n",
       "      <td>H2NY17071</td>\n",
       "      <td>2004</td>\n",
       "      <td>NaN</td>\n",
       "    </tr>\n",
       "    <tr>\n",
       "      <th>2</th>\n",
       "      <td>H8TX27023</td>\n",
       "      <td>2008</td>\n",
       "      <td>NaN</td>\n",
       "    </tr>\n",
       "    <tr>\n",
       "      <th>3</th>\n",
       "      <td>H8OH18088</td>\n",
       "      <td>2012</td>\n",
       "      <td>NaN</td>\n",
       "    </tr>\n",
       "    <tr>\n",
       "      <th>4</th>\n",
       "      <td>H0SC01071</td>\n",
       "      <td>2008</td>\n",
       "      <td>NaN</td>\n",
       "    </tr>\n",
       "  </tbody>\n",
       "</table>\n",
       "</div>"
      ],
      "text/plain": [
       "     cand_id cycle  c13\n",
       "0  H6FL19038  2006  NaN\n",
       "1  H2NY17071  2004  NaN\n",
       "2  H8TX27023  2008  NaN\n",
       "3  H8OH18088  2012  NaN\n",
       "4  H0SC01071  2008  NaN"
      ]
     },
     "execution_count": 145,
     "metadata": {},
     "output_type": "execute_result"
    }
   ],
   "source": [
    "cs13.head()"
   ]
  },
  {
   "cell_type": "code",
   "execution_count": 146,
   "metadata": {
    "collapsed": true
   },
   "outputs": [],
   "source": [
    "#cs13 = cs13[pd.notnull(cs13['c13'])]"
   ]
  },
  {
   "cell_type": "code",
   "execution_count": 147,
   "metadata": {
    "collapsed": true
   },
   "outputs": [],
   "source": [
    "#cs13.groupby(['cand_id','cycle'])['c13'].sum()"
   ]
  },
  {
   "cell_type": "code",
   "execution_count": 148,
   "metadata": {
    "collapsed": true
   },
   "outputs": [],
   "source": [
    "#cs13 = cs13.drop_duplicates()"
   ]
  },
  {
   "cell_type": "code",
   "execution_count": 149,
   "metadata": {
    "collapsed": true
   },
   "outputs": [],
   "source": [
    "cs13.set_index(['cand_id','cycle'], inplace=True)"
   ]
  },
  {
   "cell_type": "code",
   "execution_count": 150,
   "metadata": {},
   "outputs": [
    {
     "data": {
      "text/html": [
       "<div>\n",
       "<table border=\"1\" class=\"dataframe\">\n",
       "  <thead>\n",
       "    <tr style=\"text-align: right;\">\n",
       "      <th></th>\n",
       "      <th></th>\n",
       "      <th>c13</th>\n",
       "    </tr>\n",
       "    <tr>\n",
       "      <th>cand_id</th>\n",
       "      <th>cycle</th>\n",
       "      <th></th>\n",
       "    </tr>\n",
       "  </thead>\n",
       "  <tbody>\n",
       "    <tr>\n",
       "      <th>H6FL19038</th>\n",
       "      <th>2006</th>\n",
       "      <td>NaN</td>\n",
       "    </tr>\n",
       "    <tr>\n",
       "      <th>H2NY17071</th>\n",
       "      <th>2004</th>\n",
       "      <td>NaN</td>\n",
       "    </tr>\n",
       "    <tr>\n",
       "      <th>H8TX27023</th>\n",
       "      <th>2008</th>\n",
       "      <td>NaN</td>\n",
       "    </tr>\n",
       "    <tr>\n",
       "      <th>H8OH18088</th>\n",
       "      <th>2012</th>\n",
       "      <td>NaN</td>\n",
       "    </tr>\n",
       "    <tr>\n",
       "      <th>H0SC01071</th>\n",
       "      <th>2008</th>\n",
       "      <td>NaN</td>\n",
       "    </tr>\n",
       "  </tbody>\n",
       "</table>\n",
       "</div>"
      ],
      "text/plain": [
       "                 c13\n",
       "cand_id   cycle     \n",
       "H6FL19038 2006   NaN\n",
       "H2NY17071 2004   NaN\n",
       "H8TX27023 2008   NaN\n",
       "H8OH18088 2012   NaN\n",
       "H0SC01071 2008   NaN"
      ]
     },
     "execution_count": 150,
     "metadata": {},
     "output_type": "execute_result"
    }
   ],
   "source": [
    "cs13.head()"
   ]
  },
  {
   "cell_type": "code",
   "execution_count": 151,
   "metadata": {},
   "outputs": [
    {
     "name": "stdout",
     "output_type": "stream",
     "text": [
      "                         c13\n",
      "cand_id   cycle             \n",
      "H0AK00089 2010     218666.06\n",
      "          2012       3766.93\n",
      "H0AK01038 2010     168119.58\n",
      "H0AL00016 2010           NaN\n",
      "H0AL01030 2010       1284.15\n",
      "          2012           NaN\n",
      "H0AL02087 2010    1403415.39\n",
      "          2012     666262.07\n",
      "          2014     541474.45\n",
      "H0AL02103 2010     127314.17\n",
      "H0AL02111 2010           NaN\n",
      "H0AL03184 2010           NaN\n",
      "H0AL05049 2004     467848.90\n",
      "          2006     332285.59\n",
      "          2008     454202.00\n",
      "          2010      10023.55\n",
      "          2012        735.00\n",
      "          2014           NaN\n",
      "H0AL05155 2010     518734.69\n",
      "          2012       9324.78\n",
      "H0AL05163 2010       1626.96\n",
      "          2012       2321.95\n",
      "          2014        215.00\n",
      "H0AL05171 2010      18926.36\n",
      "H0AL05189 2010     370262.34\n",
      "H0AL05197 2010     756375.70\n",
      "          2012     161419.77\n",
      "H0AL07060 2004    1004122.38\n",
      "          2006     405922.39\n",
      "          2008     579570.41\n",
      "...                      ...\n",
      "S8TN00246 2008     155202.00\n",
      "S8TX00202 2008    4061842.00\n",
      "          2010        723.00\n",
      "S8TX00228 2008      14396.00\n",
      "S8VA00214 2004     214384.60\n",
      "          2006   15703582.53\n",
      "          2008     181683.63\n",
      "          2012   14194518.10\n",
      "          2014      36146.13\n",
      "S8VA00255 2008    2389603.15\n",
      "          2010      22641.24\n",
      "S8VA00263 2008      88847.00\n",
      "          2012      58640.35\n",
      "          2014       1067.95\n",
      "S8WA00194 2006   14223069.42\n",
      "          2008     899642.00\n",
      "          2010     931331.42\n",
      "          2012    8296449.12\n",
      "          2014     893864.58\n",
      "S8WI00026 2006    1605292.48\n",
      "          2008    2327769.00\n",
      "          2010   14982047.15\n",
      "          2012    3918602.37\n",
      "          2014    2470340.41\n",
      "S8WI00158 2012    3505271.39\n",
      "          2014      50779.77\n",
      "S8WV00093 2008     107027.00\n",
      "S8WV00101 2010           NaN\n",
      "S8WY00163 2008      15796.00\n",
      "S8WY00171 2008       6372.00\n",
      "\n",
      "[10765 rows x 1 columns]\n"
     ]
    }
   ],
   "source": [
    "agg_df = cs13.sum(level=['cand_id','cycle'])\n",
    "print(agg_df)"
   ]
  },
  {
   "cell_type": "code",
   "execution_count": 152,
   "metadata": {},
   "outputs": [
    {
     "data": {
      "text/html": [
       "<div>\n",
       "<table border=\"1\" class=\"dataframe\">\n",
       "  <thead>\n",
       "    <tr style=\"text-align: right;\">\n",
       "      <th></th>\n",
       "      <th></th>\n",
       "      <th>c13</th>\n",
       "    </tr>\n",
       "    <tr>\n",
       "      <th>cand_id</th>\n",
       "      <th>cycle</th>\n",
       "      <th></th>\n",
       "    </tr>\n",
       "  </thead>\n",
       "  <tbody>\n",
       "    <tr>\n",
       "      <th>H6FL19038</th>\n",
       "      <th>2006</th>\n",
       "      <td>NaN</td>\n",
       "    </tr>\n",
       "    <tr>\n",
       "      <th>H2NY17071</th>\n",
       "      <th>2004</th>\n",
       "      <td>NaN</td>\n",
       "    </tr>\n",
       "    <tr>\n",
       "      <th>H8TX27023</th>\n",
       "      <th>2008</th>\n",
       "      <td>NaN</td>\n",
       "    </tr>\n",
       "    <tr>\n",
       "      <th>H8OH18088</th>\n",
       "      <th>2012</th>\n",
       "      <td>NaN</td>\n",
       "    </tr>\n",
       "    <tr>\n",
       "      <th>H0SC01071</th>\n",
       "      <th>2008</th>\n",
       "      <td>NaN</td>\n",
       "    </tr>\n",
       "  </tbody>\n",
       "</table>\n",
       "</div>"
      ],
      "text/plain": [
       "                 c13\n",
       "cand_id   cycle     \n",
       "H6FL19038 2006   NaN\n",
       "H2NY17071 2004   NaN\n",
       "H8TX27023 2008   NaN\n",
       "H8OH18088 2012   NaN\n",
       "H0SC01071 2008   NaN"
      ]
     },
     "execution_count": 152,
     "metadata": {},
     "output_type": "execute_result"
    }
   ],
   "source": [
    "cs13.head()"
   ]
  },
  {
   "cell_type": "code",
   "execution_count": 153,
   "metadata": {},
   "outputs": [
    {
     "data": {
      "text/plain": [
       "c13    15796.0\n",
       "Name: (S8WY00163, 2008), dtype: float64"
      ]
     },
     "execution_count": 153,
     "metadata": {},
     "output_type": "execute_result"
    }
   ],
   "source": [
    "#test\n",
    "agg_df.loc['S8WY00163','2008']"
   ]
  },
  {
   "cell_type": "code",
   "execution_count": 154,
   "metadata": {
    "collapsed": true
   },
   "outputs": [],
   "source": [
    "pr = exp"
   ]
  },
  {
   "cell_type": "code",
   "execution_count": 155,
   "metadata": {},
   "outputs": [
    {
     "data": {
      "text/html": [
       "<div>\n",
       "<table border=\"1\" class=\"dataframe\">\n",
       "  <thead>\n",
       "    <tr style=\"text-align: right;\">\n",
       "      <th></th>\n",
       "      <th>state_abbreviation</th>\n",
       "      <th>district</th>\n",
       "      <th>incumbent</th>\n",
       "      <th>party</th>\n",
       "      <th>primary_votes</th>\n",
       "      <th>runoff_votes</th>\n",
       "      <th>general_votes</th>\n",
       "      <th>ge_runoff_election_votes</th>\n",
       "      <th>ge_winner_indicator</th>\n",
       "      <th>total_votes</th>\n",
       "      <th>cand_id</th>\n",
       "      <th>cmte_id</th>\n",
       "      <th>exp_sum</th>\n",
       "      <th>category</th>\n",
       "      <th>cycle</th>\n",
       "    </tr>\n",
       "  </thead>\n",
       "  <tbody>\n",
       "    <tr>\n",
       "      <th>0</th>\n",
       "      <td>AL</td>\n",
       "      <td>7</td>\n",
       "      <td>(I)</td>\n",
       "      <td>D</td>\n",
       "      <td>0.0</td>\n",
       "      <td>NaN</td>\n",
       "      <td>228518.0</td>\n",
       "      <td>NaN</td>\n",
       "      <td>W</td>\n",
       "      <td>228518</td>\n",
       "      <td>H0AL07060</td>\n",
       "      <td>C00347872</td>\n",
       "      <td>1363.96</td>\n",
       "      <td>NaN</td>\n",
       "      <td>2012</td>\n",
       "    </tr>\n",
       "    <tr>\n",
       "      <th>1</th>\n",
       "      <td>AL</td>\n",
       "      <td>7</td>\n",
       "      <td>(I)</td>\n",
       "      <td>DEM</td>\n",
       "      <td>93586.0</td>\n",
       "      <td>NaN</td>\n",
       "      <td>133870.0</td>\n",
       "      <td>NaN</td>\n",
       "      <td>W</td>\n",
       "      <td>227456</td>\n",
       "      <td>H0AL07060</td>\n",
       "      <td>C00347872</td>\n",
       "      <td>1363.96</td>\n",
       "      <td>NaN</td>\n",
       "      <td>2012</td>\n",
       "    </tr>\n",
       "    <tr>\n",
       "      <th>2</th>\n",
       "      <td>AL</td>\n",
       "      <td>7</td>\n",
       "      <td>(I)</td>\n",
       "      <td>D</td>\n",
       "      <td>58193.0</td>\n",
       "      <td>NaN</td>\n",
       "      <td>183408.0</td>\n",
       "      <td>NaN</td>\n",
       "      <td>W</td>\n",
       "      <td>241601</td>\n",
       "      <td>H0AL07060</td>\n",
       "      <td>C00347872</td>\n",
       "      <td>1363.96</td>\n",
       "      <td>NaN</td>\n",
       "      <td>2012</td>\n",
       "    </tr>\n",
       "    <tr>\n",
       "      <th>3</th>\n",
       "      <td>AL</td>\n",
       "      <td>7</td>\n",
       "      <td>(I)</td>\n",
       "      <td>D</td>\n",
       "      <td>0.0</td>\n",
       "      <td>NaN</td>\n",
       "      <td>228518.0</td>\n",
       "      <td>NaN</td>\n",
       "      <td>W</td>\n",
       "      <td>228518</td>\n",
       "      <td>H0AL07060</td>\n",
       "      <td>C00347872</td>\n",
       "      <td>1204248.81</td>\n",
       "      <td>NaN</td>\n",
       "      <td>2010</td>\n",
       "    </tr>\n",
       "    <tr>\n",
       "      <th>4</th>\n",
       "      <td>AL</td>\n",
       "      <td>7</td>\n",
       "      <td>(I)</td>\n",
       "      <td>DEM</td>\n",
       "      <td>93586.0</td>\n",
       "      <td>NaN</td>\n",
       "      <td>133870.0</td>\n",
       "      <td>NaN</td>\n",
       "      <td>W</td>\n",
       "      <td>227456</td>\n",
       "      <td>H0AL07060</td>\n",
       "      <td>C00347872</td>\n",
       "      <td>1204248.81</td>\n",
       "      <td>NaN</td>\n",
       "      <td>2010</td>\n",
       "    </tr>\n",
       "  </tbody>\n",
       "</table>\n",
       "</div>"
      ],
      "text/plain": [
       "  state_abbreviation district incumbent party  primary_votes  runoff_votes  \\\n",
       "0                 AL        7       (I)     D            0.0           NaN   \n",
       "1                 AL        7       (I)   DEM        93586.0           NaN   \n",
       "2                 AL        7       (I)     D        58193.0           NaN   \n",
       "3                 AL        7       (I)     D            0.0           NaN   \n",
       "4                 AL        7       (I)   DEM        93586.0           NaN   \n",
       "\n",
       "   general_votes  ge_runoff_election_votes ge_winner_indicator  total_votes  \\\n",
       "0       228518.0                       NaN                   W       228518   \n",
       "1       133870.0                       NaN                   W       227456   \n",
       "2       183408.0                       NaN                   W       241601   \n",
       "3       228518.0                       NaN                   W       228518   \n",
       "4       133870.0                       NaN                   W       227456   \n",
       "\n",
       "     cand_id    cmte_id     exp_sum category cycle  \n",
       "0  H0AL07060  C00347872     1363.96      NaN  2012  \n",
       "1  H0AL07060  C00347872     1363.96      NaN  2012  \n",
       "2  H0AL07060  C00347872     1363.96      NaN  2012  \n",
       "3  H0AL07060  C00347872  1204248.81      NaN  2010  \n",
       "4  H0AL07060  C00347872  1204248.81      NaN  2010  "
      ]
     },
     "execution_count": 155,
     "metadata": {},
     "output_type": "execute_result"
    }
   ],
   "source": [
    "pr.head()"
   ]
  },
  {
   "cell_type": "code",
   "execution_count": 156,
   "metadata": {
    "collapsed": true
   },
   "outputs": [],
   "source": [
    "pr = pr.drop(['cmte_id', 'exp_sum', 'category'], axis = 1)"
   ]
  },
  {
   "cell_type": "code",
   "execution_count": 157,
   "metadata": {
    "collapsed": true
   },
   "outputs": [],
   "source": [
    "#exp= exp[pd.notnull(cs12['c12'])]"
   ]
  },
  {
   "cell_type": "code",
   "execution_count": 158,
   "metadata": {},
   "outputs": [
    {
     "data": {
      "text/html": [
       "<div>\n",
       "<table border=\"1\" class=\"dataframe\">\n",
       "  <thead>\n",
       "    <tr style=\"text-align: right;\">\n",
       "      <th></th>\n",
       "      <th>state_abbreviation</th>\n",
       "      <th>district</th>\n",
       "      <th>incumbent</th>\n",
       "      <th>party</th>\n",
       "      <th>primary_votes</th>\n",
       "      <th>runoff_votes</th>\n",
       "      <th>general_votes</th>\n",
       "      <th>ge_runoff_election_votes</th>\n",
       "      <th>ge_winner_indicator</th>\n",
       "      <th>total_votes</th>\n",
       "      <th>cand_id</th>\n",
       "      <th>cycle</th>\n",
       "    </tr>\n",
       "  </thead>\n",
       "  <tbody>\n",
       "    <tr>\n",
       "      <th>0</th>\n",
       "      <td>AL</td>\n",
       "      <td>7</td>\n",
       "      <td>(I)</td>\n",
       "      <td>D</td>\n",
       "      <td>0.0</td>\n",
       "      <td>NaN</td>\n",
       "      <td>228518.0</td>\n",
       "      <td>NaN</td>\n",
       "      <td>W</td>\n",
       "      <td>228518</td>\n",
       "      <td>H0AL07060</td>\n",
       "      <td>2012</td>\n",
       "    </tr>\n",
       "    <tr>\n",
       "      <th>1</th>\n",
       "      <td>AL</td>\n",
       "      <td>7</td>\n",
       "      <td>(I)</td>\n",
       "      <td>DEM</td>\n",
       "      <td>93586.0</td>\n",
       "      <td>NaN</td>\n",
       "      <td>133870.0</td>\n",
       "      <td>NaN</td>\n",
       "      <td>W</td>\n",
       "      <td>227456</td>\n",
       "      <td>H0AL07060</td>\n",
       "      <td>2012</td>\n",
       "    </tr>\n",
       "    <tr>\n",
       "      <th>2</th>\n",
       "      <td>AL</td>\n",
       "      <td>7</td>\n",
       "      <td>(I)</td>\n",
       "      <td>D</td>\n",
       "      <td>58193.0</td>\n",
       "      <td>NaN</td>\n",
       "      <td>183408.0</td>\n",
       "      <td>NaN</td>\n",
       "      <td>W</td>\n",
       "      <td>241601</td>\n",
       "      <td>H0AL07060</td>\n",
       "      <td>2012</td>\n",
       "    </tr>\n",
       "    <tr>\n",
       "      <th>3</th>\n",
       "      <td>AL</td>\n",
       "      <td>7</td>\n",
       "      <td>(I)</td>\n",
       "      <td>D</td>\n",
       "      <td>0.0</td>\n",
       "      <td>NaN</td>\n",
       "      <td>228518.0</td>\n",
       "      <td>NaN</td>\n",
       "      <td>W</td>\n",
       "      <td>228518</td>\n",
       "      <td>H0AL07060</td>\n",
       "      <td>2010</td>\n",
       "    </tr>\n",
       "    <tr>\n",
       "      <th>4</th>\n",
       "      <td>AL</td>\n",
       "      <td>7</td>\n",
       "      <td>(I)</td>\n",
       "      <td>DEM</td>\n",
       "      <td>93586.0</td>\n",
       "      <td>NaN</td>\n",
       "      <td>133870.0</td>\n",
       "      <td>NaN</td>\n",
       "      <td>W</td>\n",
       "      <td>227456</td>\n",
       "      <td>H0AL07060</td>\n",
       "      <td>2010</td>\n",
       "    </tr>\n",
       "  </tbody>\n",
       "</table>\n",
       "</div>"
      ],
      "text/plain": [
       "  state_abbreviation district incumbent party  primary_votes  runoff_votes  \\\n",
       "0                 AL        7       (I)     D            0.0           NaN   \n",
       "1                 AL        7       (I)   DEM        93586.0           NaN   \n",
       "2                 AL        7       (I)     D        58193.0           NaN   \n",
       "3                 AL        7       (I)     D            0.0           NaN   \n",
       "4                 AL        7       (I)   DEM        93586.0           NaN   \n",
       "\n",
       "   general_votes  ge_runoff_election_votes ge_winner_indicator  total_votes  \\\n",
       "0       228518.0                       NaN                   W       228518   \n",
       "1       133870.0                       NaN                   W       227456   \n",
       "2       183408.0                       NaN                   W       241601   \n",
       "3       228518.0                       NaN                   W       228518   \n",
       "4       133870.0                       NaN                   W       227456   \n",
       "\n",
       "     cand_id cycle  \n",
       "0  H0AL07060  2012  \n",
       "1  H0AL07060  2012  \n",
       "2  H0AL07060  2012  \n",
       "3  H0AL07060  2010  \n",
       "4  H0AL07060  2010  "
      ]
     },
     "execution_count": 158,
     "metadata": {},
     "output_type": "execute_result"
    }
   ],
   "source": [
    "pr.head()"
   ]
  },
  {
   "cell_type": "code",
   "execution_count": 159,
   "metadata": {
    "collapsed": true
   },
   "outputs": [],
   "source": [
    "#cs10 = cs10.drop_duplicates()"
   ]
  },
  {
   "cell_type": "code",
   "execution_count": 160,
   "metadata": {
    "collapsed": true
   },
   "outputs": [],
   "source": [
    "pr.set_index(['cand_id','cycle'], inplace=True)"
   ]
  },
  {
   "cell_type": "code",
   "execution_count": 161,
   "metadata": {},
   "outputs": [
    {
     "data": {
      "text/html": [
       "<div>\n",
       "<table border=\"1\" class=\"dataframe\">\n",
       "  <thead>\n",
       "    <tr style=\"text-align: right;\">\n",
       "      <th></th>\n",
       "      <th></th>\n",
       "      <th>state_abbreviation</th>\n",
       "      <th>district</th>\n",
       "      <th>incumbent</th>\n",
       "      <th>party</th>\n",
       "      <th>primary_votes</th>\n",
       "      <th>runoff_votes</th>\n",
       "      <th>general_votes</th>\n",
       "      <th>ge_runoff_election_votes</th>\n",
       "      <th>ge_winner_indicator</th>\n",
       "      <th>total_votes</th>\n",
       "    </tr>\n",
       "    <tr>\n",
       "      <th>cand_id</th>\n",
       "      <th>cycle</th>\n",
       "      <th></th>\n",
       "      <th></th>\n",
       "      <th></th>\n",
       "      <th></th>\n",
       "      <th></th>\n",
       "      <th></th>\n",
       "      <th></th>\n",
       "      <th></th>\n",
       "      <th></th>\n",
       "      <th></th>\n",
       "    </tr>\n",
       "  </thead>\n",
       "  <tbody>\n",
       "    <tr>\n",
       "      <th rowspan=\"5\" valign=\"top\">H0AL07060</th>\n",
       "      <th>2012</th>\n",
       "      <td>AL</td>\n",
       "      <td>7</td>\n",
       "      <td>(I)</td>\n",
       "      <td>D</td>\n",
       "      <td>0.0</td>\n",
       "      <td>NaN</td>\n",
       "      <td>228518.0</td>\n",
       "      <td>NaN</td>\n",
       "      <td>W</td>\n",
       "      <td>228518</td>\n",
       "    </tr>\n",
       "    <tr>\n",
       "      <th>2012</th>\n",
       "      <td>AL</td>\n",
       "      <td>7</td>\n",
       "      <td>(I)</td>\n",
       "      <td>DEM</td>\n",
       "      <td>93586.0</td>\n",
       "      <td>NaN</td>\n",
       "      <td>133870.0</td>\n",
       "      <td>NaN</td>\n",
       "      <td>W</td>\n",
       "      <td>227456</td>\n",
       "    </tr>\n",
       "    <tr>\n",
       "      <th>2012</th>\n",
       "      <td>AL</td>\n",
       "      <td>7</td>\n",
       "      <td>(I)</td>\n",
       "      <td>D</td>\n",
       "      <td>58193.0</td>\n",
       "      <td>NaN</td>\n",
       "      <td>183408.0</td>\n",
       "      <td>NaN</td>\n",
       "      <td>W</td>\n",
       "      <td>241601</td>\n",
       "    </tr>\n",
       "    <tr>\n",
       "      <th>2010</th>\n",
       "      <td>AL</td>\n",
       "      <td>7</td>\n",
       "      <td>(I)</td>\n",
       "      <td>D</td>\n",
       "      <td>0.0</td>\n",
       "      <td>NaN</td>\n",
       "      <td>228518.0</td>\n",
       "      <td>NaN</td>\n",
       "      <td>W</td>\n",
       "      <td>228518</td>\n",
       "    </tr>\n",
       "    <tr>\n",
       "      <th>2010</th>\n",
       "      <td>AL</td>\n",
       "      <td>7</td>\n",
       "      <td>(I)</td>\n",
       "      <td>DEM</td>\n",
       "      <td>93586.0</td>\n",
       "      <td>NaN</td>\n",
       "      <td>133870.0</td>\n",
       "      <td>NaN</td>\n",
       "      <td>W</td>\n",
       "      <td>227456</td>\n",
       "    </tr>\n",
       "  </tbody>\n",
       "</table>\n",
       "</div>"
      ],
      "text/plain": [
       "                state_abbreviation district incumbent party  primary_votes  \\\n",
       "cand_id   cycle                                                              \n",
       "H0AL07060 2012                  AL        7       (I)     D            0.0   \n",
       "          2012                  AL        7       (I)   DEM        93586.0   \n",
       "          2012                  AL        7       (I)     D        58193.0   \n",
       "          2010                  AL        7       (I)     D            0.0   \n",
       "          2010                  AL        7       (I)   DEM        93586.0   \n",
       "\n",
       "                 runoff_votes  general_votes  ge_runoff_election_votes  \\\n",
       "cand_id   cycle                                                          \n",
       "H0AL07060 2012            NaN       228518.0                       NaN   \n",
       "          2012            NaN       133870.0                       NaN   \n",
       "          2012            NaN       183408.0                       NaN   \n",
       "          2010            NaN       228518.0                       NaN   \n",
       "          2010            NaN       133870.0                       NaN   \n",
       "\n",
       "                ge_winner_indicator  total_votes  \n",
       "cand_id   cycle                                   \n",
       "H0AL07060 2012                    W       228518  \n",
       "          2012                    W       227456  \n",
       "          2012                    W       241601  \n",
       "          2010                    W       228518  \n",
       "          2010                    W       227456  "
      ]
     },
     "execution_count": 161,
     "metadata": {},
     "output_type": "execute_result"
    }
   ],
   "source": [
    "pr.head()"
   ]
  },
  {
   "cell_type": "code",
   "execution_count": 162,
   "metadata": {
    "collapsed": true
   },
   "outputs": [],
   "source": [
    "pr['primary_votes'].fillna(0, inplace = True)"
   ]
  },
  {
   "cell_type": "code",
   "execution_count": 163,
   "metadata": {
    "collapsed": true
   },
   "outputs": [],
   "source": [
    "pr['runoff_votes'].fillna(0, inplace = True)"
   ]
  },
  {
   "cell_type": "code",
   "execution_count": 164,
   "metadata": {
    "collapsed": true
   },
   "outputs": [],
   "source": [
    "pr['ge_runoff_election_votes'].fillna(0, inplace = True)"
   ]
  },
  {
   "cell_type": "code",
   "execution_count": 165,
   "metadata": {
    "collapsed": true
   },
   "outputs": [],
   "source": [
    "pr['general_votes'].fillna(0, inplace = True)"
   ]
  },
  {
   "cell_type": "code",
   "execution_count": 166,
   "metadata": {},
   "outputs": [
    {
     "data": {
      "text/html": [
       "<div>\n",
       "<table border=\"1\" class=\"dataframe\">\n",
       "  <thead>\n",
       "    <tr style=\"text-align: right;\">\n",
       "      <th></th>\n",
       "      <th></th>\n",
       "      <th>state_abbreviation</th>\n",
       "      <th>district</th>\n",
       "      <th>incumbent</th>\n",
       "      <th>party</th>\n",
       "      <th>primary_votes</th>\n",
       "      <th>runoff_votes</th>\n",
       "      <th>general_votes</th>\n",
       "      <th>ge_runoff_election_votes</th>\n",
       "      <th>ge_winner_indicator</th>\n",
       "      <th>total_votes</th>\n",
       "    </tr>\n",
       "    <tr>\n",
       "      <th>cand_id</th>\n",
       "      <th>cycle</th>\n",
       "      <th></th>\n",
       "      <th></th>\n",
       "      <th></th>\n",
       "      <th></th>\n",
       "      <th></th>\n",
       "      <th></th>\n",
       "      <th></th>\n",
       "      <th></th>\n",
       "      <th></th>\n",
       "      <th></th>\n",
       "    </tr>\n",
       "  </thead>\n",
       "  <tbody>\n",
       "    <tr>\n",
       "      <th rowspan=\"5\" valign=\"top\">H0AL07060</th>\n",
       "      <th>2012</th>\n",
       "      <td>AL</td>\n",
       "      <td>7</td>\n",
       "      <td>(I)</td>\n",
       "      <td>D</td>\n",
       "      <td>0.0</td>\n",
       "      <td>0.0</td>\n",
       "      <td>228518.0</td>\n",
       "      <td>0.0</td>\n",
       "      <td>W</td>\n",
       "      <td>228518</td>\n",
       "    </tr>\n",
       "    <tr>\n",
       "      <th>2012</th>\n",
       "      <td>AL</td>\n",
       "      <td>7</td>\n",
       "      <td>(I)</td>\n",
       "      <td>DEM</td>\n",
       "      <td>93586.0</td>\n",
       "      <td>0.0</td>\n",
       "      <td>133870.0</td>\n",
       "      <td>0.0</td>\n",
       "      <td>W</td>\n",
       "      <td>227456</td>\n",
       "    </tr>\n",
       "    <tr>\n",
       "      <th>2012</th>\n",
       "      <td>AL</td>\n",
       "      <td>7</td>\n",
       "      <td>(I)</td>\n",
       "      <td>D</td>\n",
       "      <td>58193.0</td>\n",
       "      <td>0.0</td>\n",
       "      <td>183408.0</td>\n",
       "      <td>0.0</td>\n",
       "      <td>W</td>\n",
       "      <td>241601</td>\n",
       "    </tr>\n",
       "    <tr>\n",
       "      <th>2010</th>\n",
       "      <td>AL</td>\n",
       "      <td>7</td>\n",
       "      <td>(I)</td>\n",
       "      <td>D</td>\n",
       "      <td>0.0</td>\n",
       "      <td>0.0</td>\n",
       "      <td>228518.0</td>\n",
       "      <td>0.0</td>\n",
       "      <td>W</td>\n",
       "      <td>228518</td>\n",
       "    </tr>\n",
       "    <tr>\n",
       "      <th>2010</th>\n",
       "      <td>AL</td>\n",
       "      <td>7</td>\n",
       "      <td>(I)</td>\n",
       "      <td>DEM</td>\n",
       "      <td>93586.0</td>\n",
       "      <td>0.0</td>\n",
       "      <td>133870.0</td>\n",
       "      <td>0.0</td>\n",
       "      <td>W</td>\n",
       "      <td>227456</td>\n",
       "    </tr>\n",
       "  </tbody>\n",
       "</table>\n",
       "</div>"
      ],
      "text/plain": [
       "                state_abbreviation district incumbent party  primary_votes  \\\n",
       "cand_id   cycle                                                              \n",
       "H0AL07060 2012                  AL        7       (I)     D            0.0   \n",
       "          2012                  AL        7       (I)   DEM        93586.0   \n",
       "          2012                  AL        7       (I)     D        58193.0   \n",
       "          2010                  AL        7       (I)     D            0.0   \n",
       "          2010                  AL        7       (I)   DEM        93586.0   \n",
       "\n",
       "                 runoff_votes  general_votes  ge_runoff_election_votes  \\\n",
       "cand_id   cycle                                                          \n",
       "H0AL07060 2012            0.0       228518.0                       0.0   \n",
       "          2012            0.0       133870.0                       0.0   \n",
       "          2012            0.0       183408.0                       0.0   \n",
       "          2010            0.0       228518.0                       0.0   \n",
       "          2010            0.0       133870.0                       0.0   \n",
       "\n",
       "                ge_winner_indicator  total_votes  \n",
       "cand_id   cycle                                   \n",
       "H0AL07060 2012                    W       228518  \n",
       "          2012                    W       227456  \n",
       "          2012                    W       241601  \n",
       "          2010                    W       228518  \n",
       "          2010                    W       227456  "
      ]
     },
     "execution_count": 166,
     "metadata": {},
     "output_type": "execute_result"
    }
   ],
   "source": [
    "pr.head()"
   ]
  },
  {
   "cell_type": "code",
   "execution_count": 167,
   "metadata": {
    "collapsed": true
   },
   "outputs": [],
   "source": [
    "pr['primary_total'] = pr.primary_votes + pr.runoff_votes"
   ]
  },
  {
   "cell_type": "code",
   "execution_count": 168,
   "metadata": {},
   "outputs": [
    {
     "data": {
      "text/html": [
       "<div>\n",
       "<table border=\"1\" class=\"dataframe\">\n",
       "  <thead>\n",
       "    <tr style=\"text-align: right;\">\n",
       "      <th></th>\n",
       "      <th></th>\n",
       "      <th>state_abbreviation</th>\n",
       "      <th>district</th>\n",
       "      <th>incumbent</th>\n",
       "      <th>party</th>\n",
       "      <th>primary_votes</th>\n",
       "      <th>runoff_votes</th>\n",
       "      <th>general_votes</th>\n",
       "      <th>ge_runoff_election_votes</th>\n",
       "      <th>ge_winner_indicator</th>\n",
       "      <th>total_votes</th>\n",
       "      <th>primary_total</th>\n",
       "    </tr>\n",
       "    <tr>\n",
       "      <th>cand_id</th>\n",
       "      <th>cycle</th>\n",
       "      <th></th>\n",
       "      <th></th>\n",
       "      <th></th>\n",
       "      <th></th>\n",
       "      <th></th>\n",
       "      <th></th>\n",
       "      <th></th>\n",
       "      <th></th>\n",
       "      <th></th>\n",
       "      <th></th>\n",
       "      <th></th>\n",
       "    </tr>\n",
       "  </thead>\n",
       "  <tbody>\n",
       "    <tr>\n",
       "      <th rowspan=\"5\" valign=\"top\">H0AL07060</th>\n",
       "      <th>2012</th>\n",
       "      <td>AL</td>\n",
       "      <td>7</td>\n",
       "      <td>(I)</td>\n",
       "      <td>D</td>\n",
       "      <td>0.0</td>\n",
       "      <td>0.0</td>\n",
       "      <td>228518.0</td>\n",
       "      <td>0.0</td>\n",
       "      <td>W</td>\n",
       "      <td>228518</td>\n",
       "      <td>0.0</td>\n",
       "    </tr>\n",
       "    <tr>\n",
       "      <th>2012</th>\n",
       "      <td>AL</td>\n",
       "      <td>7</td>\n",
       "      <td>(I)</td>\n",
       "      <td>DEM</td>\n",
       "      <td>93586.0</td>\n",
       "      <td>0.0</td>\n",
       "      <td>133870.0</td>\n",
       "      <td>0.0</td>\n",
       "      <td>W</td>\n",
       "      <td>227456</td>\n",
       "      <td>93586.0</td>\n",
       "    </tr>\n",
       "    <tr>\n",
       "      <th>2012</th>\n",
       "      <td>AL</td>\n",
       "      <td>7</td>\n",
       "      <td>(I)</td>\n",
       "      <td>D</td>\n",
       "      <td>58193.0</td>\n",
       "      <td>0.0</td>\n",
       "      <td>183408.0</td>\n",
       "      <td>0.0</td>\n",
       "      <td>W</td>\n",
       "      <td>241601</td>\n",
       "      <td>58193.0</td>\n",
       "    </tr>\n",
       "    <tr>\n",
       "      <th>2010</th>\n",
       "      <td>AL</td>\n",
       "      <td>7</td>\n",
       "      <td>(I)</td>\n",
       "      <td>D</td>\n",
       "      <td>0.0</td>\n",
       "      <td>0.0</td>\n",
       "      <td>228518.0</td>\n",
       "      <td>0.0</td>\n",
       "      <td>W</td>\n",
       "      <td>228518</td>\n",
       "      <td>0.0</td>\n",
       "    </tr>\n",
       "    <tr>\n",
       "      <th>2010</th>\n",
       "      <td>AL</td>\n",
       "      <td>7</td>\n",
       "      <td>(I)</td>\n",
       "      <td>DEM</td>\n",
       "      <td>93586.0</td>\n",
       "      <td>0.0</td>\n",
       "      <td>133870.0</td>\n",
       "      <td>0.0</td>\n",
       "      <td>W</td>\n",
       "      <td>227456</td>\n",
       "      <td>93586.0</td>\n",
       "    </tr>\n",
       "  </tbody>\n",
       "</table>\n",
       "</div>"
      ],
      "text/plain": [
       "                state_abbreviation district incumbent party  primary_votes  \\\n",
       "cand_id   cycle                                                              \n",
       "H0AL07060 2012                  AL        7       (I)     D            0.0   \n",
       "          2012                  AL        7       (I)   DEM        93586.0   \n",
       "          2012                  AL        7       (I)     D        58193.0   \n",
       "          2010                  AL        7       (I)     D            0.0   \n",
       "          2010                  AL        7       (I)   DEM        93586.0   \n",
       "\n",
       "                 runoff_votes  general_votes  ge_runoff_election_votes  \\\n",
       "cand_id   cycle                                                          \n",
       "H0AL07060 2012            0.0       228518.0                       0.0   \n",
       "          2012            0.0       133870.0                       0.0   \n",
       "          2012            0.0       183408.0                       0.0   \n",
       "          2010            0.0       228518.0                       0.0   \n",
       "          2010            0.0       133870.0                       0.0   \n",
       "\n",
       "                ge_winner_indicator  total_votes  primary_total  \n",
       "cand_id   cycle                                                  \n",
       "H0AL07060 2012                    W       228518            0.0  \n",
       "          2012                    W       227456        93586.0  \n",
       "          2012                    W       241601        58193.0  \n",
       "          2010                    W       228518            0.0  \n",
       "          2010                    W       227456        93586.0  "
      ]
     },
     "execution_count": 168,
     "metadata": {},
     "output_type": "execute_result"
    }
   ],
   "source": [
    "pr.head()"
   ]
  },
  {
   "cell_type": "code",
   "execution_count": 169,
   "metadata": {
    "collapsed": true
   },
   "outputs": [],
   "source": [
    "pr['general_total'] = pr.general_votes + pr.ge_runoff_election_votes"
   ]
  },
  {
   "cell_type": "code",
   "execution_count": 170,
   "metadata": {},
   "outputs": [
    {
     "data": {
      "text/html": [
       "<div>\n",
       "<table border=\"1\" class=\"dataframe\">\n",
       "  <thead>\n",
       "    <tr style=\"text-align: right;\">\n",
       "      <th></th>\n",
       "      <th></th>\n",
       "      <th>state_abbreviation</th>\n",
       "      <th>district</th>\n",
       "      <th>incumbent</th>\n",
       "      <th>party</th>\n",
       "      <th>primary_votes</th>\n",
       "      <th>runoff_votes</th>\n",
       "      <th>general_votes</th>\n",
       "      <th>ge_runoff_election_votes</th>\n",
       "      <th>ge_winner_indicator</th>\n",
       "      <th>total_votes</th>\n",
       "      <th>primary_total</th>\n",
       "      <th>general_total</th>\n",
       "    </tr>\n",
       "    <tr>\n",
       "      <th>cand_id</th>\n",
       "      <th>cycle</th>\n",
       "      <th></th>\n",
       "      <th></th>\n",
       "      <th></th>\n",
       "      <th></th>\n",
       "      <th></th>\n",
       "      <th></th>\n",
       "      <th></th>\n",
       "      <th></th>\n",
       "      <th></th>\n",
       "      <th></th>\n",
       "      <th></th>\n",
       "      <th></th>\n",
       "    </tr>\n",
       "  </thead>\n",
       "  <tbody>\n",
       "    <tr>\n",
       "      <th rowspan=\"5\" valign=\"top\">H0AL07060</th>\n",
       "      <th>2012</th>\n",
       "      <td>AL</td>\n",
       "      <td>7</td>\n",
       "      <td>(I)</td>\n",
       "      <td>D</td>\n",
       "      <td>0.0</td>\n",
       "      <td>0.0</td>\n",
       "      <td>228518.0</td>\n",
       "      <td>0.0</td>\n",
       "      <td>W</td>\n",
       "      <td>228518</td>\n",
       "      <td>0.0</td>\n",
       "      <td>228518.0</td>\n",
       "    </tr>\n",
       "    <tr>\n",
       "      <th>2012</th>\n",
       "      <td>AL</td>\n",
       "      <td>7</td>\n",
       "      <td>(I)</td>\n",
       "      <td>DEM</td>\n",
       "      <td>93586.0</td>\n",
       "      <td>0.0</td>\n",
       "      <td>133870.0</td>\n",
       "      <td>0.0</td>\n",
       "      <td>W</td>\n",
       "      <td>227456</td>\n",
       "      <td>93586.0</td>\n",
       "      <td>133870.0</td>\n",
       "    </tr>\n",
       "    <tr>\n",
       "      <th>2012</th>\n",
       "      <td>AL</td>\n",
       "      <td>7</td>\n",
       "      <td>(I)</td>\n",
       "      <td>D</td>\n",
       "      <td>58193.0</td>\n",
       "      <td>0.0</td>\n",
       "      <td>183408.0</td>\n",
       "      <td>0.0</td>\n",
       "      <td>W</td>\n",
       "      <td>241601</td>\n",
       "      <td>58193.0</td>\n",
       "      <td>183408.0</td>\n",
       "    </tr>\n",
       "    <tr>\n",
       "      <th>2010</th>\n",
       "      <td>AL</td>\n",
       "      <td>7</td>\n",
       "      <td>(I)</td>\n",
       "      <td>D</td>\n",
       "      <td>0.0</td>\n",
       "      <td>0.0</td>\n",
       "      <td>228518.0</td>\n",
       "      <td>0.0</td>\n",
       "      <td>W</td>\n",
       "      <td>228518</td>\n",
       "      <td>0.0</td>\n",
       "      <td>228518.0</td>\n",
       "    </tr>\n",
       "    <tr>\n",
       "      <th>2010</th>\n",
       "      <td>AL</td>\n",
       "      <td>7</td>\n",
       "      <td>(I)</td>\n",
       "      <td>DEM</td>\n",
       "      <td>93586.0</td>\n",
       "      <td>0.0</td>\n",
       "      <td>133870.0</td>\n",
       "      <td>0.0</td>\n",
       "      <td>W</td>\n",
       "      <td>227456</td>\n",
       "      <td>93586.0</td>\n",
       "      <td>133870.0</td>\n",
       "    </tr>\n",
       "  </tbody>\n",
       "</table>\n",
       "</div>"
      ],
      "text/plain": [
       "                state_abbreviation district incumbent party  primary_votes  \\\n",
       "cand_id   cycle                                                              \n",
       "H0AL07060 2012                  AL        7       (I)     D            0.0   \n",
       "          2012                  AL        7       (I)   DEM        93586.0   \n",
       "          2012                  AL        7       (I)     D        58193.0   \n",
       "          2010                  AL        7       (I)     D            0.0   \n",
       "          2010                  AL        7       (I)   DEM        93586.0   \n",
       "\n",
       "                 runoff_votes  general_votes  ge_runoff_election_votes  \\\n",
       "cand_id   cycle                                                          \n",
       "H0AL07060 2012            0.0       228518.0                       0.0   \n",
       "          2012            0.0       133870.0                       0.0   \n",
       "          2012            0.0       183408.0                       0.0   \n",
       "          2010            0.0       228518.0                       0.0   \n",
       "          2010            0.0       133870.0                       0.0   \n",
       "\n",
       "                ge_winner_indicator  total_votes  primary_total  general_total  \n",
       "cand_id   cycle                                                                 \n",
       "H0AL07060 2012                    W       228518            0.0       228518.0  \n",
       "          2012                    W       227456        93586.0       133870.0  \n",
       "          2012                    W       241601        58193.0       183408.0  \n",
       "          2010                    W       228518            0.0       228518.0  \n",
       "          2010                    W       227456        93586.0       133870.0  "
      ]
     },
     "execution_count": 170,
     "metadata": {},
     "output_type": "execute_result"
    }
   ],
   "source": [
    "pr.head()"
   ]
  },
  {
   "cell_type": "code",
   "execution_count": 171,
   "metadata": {
    "collapsed": true
   },
   "outputs": [],
   "source": [
    "#pd.merge(pr,cs1, how = 'left', on = 'cand_id')"
   ]
  },
  {
   "cell_type": "code",
   "execution_count": 172,
   "metadata": {
    "collapsed": true
   },
   "outputs": [],
   "source": [
    "#RS1 = pr.join(cs1)"
   ]
  },
  {
   "cell_type": "code",
   "execution_count": null,
   "metadata": {
    "collapsed": true
   },
   "outputs": [],
   "source": [
    "#RS2 = RS1.join(cs2)"
   ]
  },
  {
   "cell_type": "code",
   "execution_count": null,
   "metadata": {
    "collapsed": true
   },
   "outputs": [],
   "source": [
    "#RS3 = RS2.join(cs3)"
   ]
  },
  {
   "cell_type": "code",
   "execution_count": null,
   "metadata": {
    "collapsed": true
   },
   "outputs": [],
   "source": [
    "#RS4 = RS3.join(cs4)"
   ]
  },
  {
   "cell_type": "code",
   "execution_count": null,
   "metadata": {
    "collapsed": true
   },
   "outputs": [],
   "source": [
    "cm1 = pd.merge(cs1, cs2, on=['cand_id','cycle'], how='left')"
   ]
  },
  {
   "cell_type": "code",
   "execution_count": null,
   "metadata": {
    "collapsed": true
   },
   "outputs": [],
   "source": [
    "#csm1 = pd.merge(csm1, cs3, on=['cand_id','cycle'], how='left')"
   ]
  },
  {
   "cell_type": "code",
   "execution_count": null,
   "metadata": {
    "collapsed": true
   },
   "outputs": [],
   "source": [
    "#csm1 = pd.merge(csm1, cs4, on=['cand_id','cycle'], how='left')"
   ]
  },
  {
   "cell_type": "code",
   "execution_count": null,
   "metadata": {
    "collapsed": true
   },
   "outputs": [],
   "source": [
    "#csm1 = pd.merge(csm1, cs5, on=['cand_id','cycle'], how='left')"
   ]
  },
  {
   "cell_type": "code",
   "execution_count": null,
   "metadata": {
    "collapsed": true
   },
   "outputs": [],
   "source": [
    "#csm1 = pd.merge(csm1, cs6, on=['cand_id','cycle'], how='left')"
   ]
  },
  {
   "cell_type": "code",
   "execution_count": null,
   "metadata": {
    "collapsed": true
   },
   "outputs": [],
   "source": [
    "#csm1 = pd.merge(csm1, cs7, on=['cand_id','cycle'], how='left')"
   ]
  },
  {
   "cell_type": "code",
   "execution_count": null,
   "metadata": {
    "collapsed": true
   },
   "outputs": [],
   "source": [
    "#csm1 = pd.merge(csm1, cs8, on=['cand_id','cycle'], how='left')"
   ]
  },
  {
   "cell_type": "code",
   "execution_count": null,
   "metadata": {
    "collapsed": true
   },
   "outputs": [],
   "source": [
    "#csm1 = pd.merge(csm1, cs9, on=['cand_id','cycle'], how='left')"
   ]
  },
  {
   "cell_type": "code",
   "execution_count": null,
   "metadata": {
    "collapsed": true
   },
   "outputs": [],
   "source": [
    "#csm1 = pd.merge(csm1, cs10, on=['cand_id','cycle'], how='left')"
   ]
  },
  {
   "cell_type": "code",
   "execution_count": null,
   "metadata": {
    "collapsed": true
   },
   "outputs": [],
   "source": [
    "#csm1 = pd.merge(csm1, cs11, on=['cand_id','cycle'], how='left')"
   ]
  },
  {
   "cell_type": "code",
   "execution_count": null,
   "metadata": {
    "collapsed": true
   },
   "outputs": [],
   "source": [
    "#csm1 = pd.merge(csm1, cs12, on=['cand_id','cycle'], how='left')"
   ]
  },
  {
   "cell_type": "code",
   "execution_count": null,
   "metadata": {
    "collapsed": true
   },
   "outputs": [],
   "source": [
    "#csm1 = csm1.drop(['c13'], axis = 1)"
   ]
  },
  {
   "cell_type": "code",
   "execution_count": null,
   "metadata": {
    "collapsed": true
   },
   "outputs": [],
   "source": [
    "#csm1 = csm1.drop_duplicates()"
   ]
  },
  {
   "cell_type": "code",
   "execution_count": null,
   "metadata": {
    "collapsed": true
   },
   "outputs": [],
   "source": [
    "csm1.head(200)"
   ]
  },
  {
   "cell_type": "code",
   "execution_count": null,
   "metadata": {
    "collapsed": true
   },
   "outputs": [],
   "source": [
    "#cs12.groupby(['cand_id','cycle'])['c12'].sum()"
   ]
  },
  {
   "cell_type": "code",
   "execution_count": null,
   "metadata": {
    "collapsed": true
   },
   "outputs": [],
   "source": []
  },
  {
   "cell_type": "code",
   "execution_count": null,
   "metadata": {
    "collapsed": true
   },
   "outputs": [],
   "source": [
    "df.head()"
   ]
  },
  {
   "cell_type": "code",
   "execution_count": null,
   "metadata": {
    "collapsed": true
   },
   "outputs": [],
   "source": [
    "df = election_spend"
   ]
  },
  {
   "cell_type": "code",
   "execution_count": null,
   "metadata": {
    "collapsed": true
   },
   "outputs": [],
   "source": [
    "df.drop('id', axis=1, inplace=True)"
   ]
  },
  {
   "cell_type": "code",
   "execution_count": null,
   "metadata": {
    "collapsed": true
   },
   "outputs": [],
   "source": [
    "df.drop('cand_name', axis=1, inplace=True)"
   ]
  },
  {
   "cell_type": "code",
   "execution_count": null,
   "metadata": {
    "collapsed": true
   },
   "outputs": [],
   "source": [
    "df.head()"
   ]
  },
  {
   "cell_type": "code",
   "execution_count": null,
   "metadata": {
    "collapsed": true
   },
   "outputs": [],
   "source": [
    "df.count()"
   ]
  },
  {
   "cell_type": "code",
   "execution_count": null,
   "metadata": {
    "collapsed": true
   },
   "outputs": [],
   "source": [
    "df = df.drop_duplicates()"
   ]
  },
  {
   "cell_type": "code",
   "execution_count": null,
   "metadata": {
    "collapsed": true
   },
   "outputs": [],
   "source": [
    "df.head(4)"
   ]
  },
  {
   "cell_type": "code",
   "execution_count": null,
   "metadata": {
    "collapsed": true
   },
   "outputs": [],
   "source": [
    "df.count()"
   ]
  },
  {
   "cell_type": "code",
   "execution_count": null,
   "metadata": {
    "collapsed": true
   },
   "outputs": [],
   "source": [
    "df.loc[:'H6FL19038']"
   ]
  },
  {
   "cell_type": "code",
   "execution_count": null,
   "metadata": {
    "collapsed": true
   },
   "outputs": [],
   "source": [
    "df = df[df.total_votes != 0]"
   ]
  },
  {
   "cell_type": "code",
   "execution_count": null,
   "metadata": {
    "collapsed": true
   },
   "outputs": [],
   "source": [
    "df.head()"
   ]
  },
  {
   "cell_type": "code",
   "execution_count": null,
   "metadata": {
    "collapsed": true
   },
   "outputs": [],
   "source": [
    "Expense = df[[\"cand_id\",\"cand_ici\",\"cycle\",\"c1\",\"c2\",\"c3\",\"c4\",\"c5\",\"c6\",\"c7\",\"c8\",\"c9\",\"c10\",\"c11\",\"c12\",\"c13\"]]"
   ]
  },
  {
   "cell_type": "code",
   "execution_count": null,
   "metadata": {
    "collapsed": true
   },
   "outputs": [],
   "source": [
    "Other = df[[\"cand_id\",\"cand_pty_affiliation\",\"cand_office_st\",\"cand_office\",\"cand_office_district\",\"cand_ici\",\"cycle\",\"total_votes\"]]"
   ]
  },
  {
   "cell_type": "code",
   "execution_count": null,
   "metadata": {
    "collapsed": true
   },
   "outputs": [],
   "source": [
    "Expense.head(10)"
   ]
  },
  {
   "cell_type": "code",
   "execution_count": null,
   "metadata": {
    "collapsed": true
   },
   "outputs": [],
   "source": [
    "Expense_Update = Expense.drop_duplicates()"
   ]
  },
  {
   "cell_type": "code",
   "execution_count": null,
   "metadata": {
    "collapsed": true
   },
   "outputs": [],
   "source": [
    "Expense_Update.head()"
   ]
  },
  {
   "cell_type": "code",
   "execution_count": null,
   "metadata": {
    "collapsed": true
   },
   "outputs": [],
   "source": [
    "results.head()"
   ]
  },
  {
   "cell_type": "code",
   "execution_count": null,
   "metadata": {
    "collapsed": true
   },
   "outputs": [],
   "source": [
    "df1 = results"
   ]
  },
  {
   "cell_type": "code",
   "execution_count": null,
   "metadata": {
    "collapsed": true
   },
   "outputs": [],
   "source": [
    "df1.fec_id.apply(str)"
   ]
  },
  {
   "cell_type": "code",
   "execution_count": null,
   "metadata": {
    "collapsed": true
   },
   "outputs": [],
   "source": [
    "df2 = df1[pd.notnull(df1['fec_id'])]"
   ]
  },
  {
   "cell_type": "code",
   "execution_count": null,
   "metadata": {
    "collapsed": true
   },
   "outputs": [],
   "source": [
    "df2.head(20)"
   ]
  },
  {
   "cell_type": "code",
   "execution_count": null,
   "metadata": {
    "collapsed": true
   },
   "outputs": [],
   "source": [
    "df2['incumbent']=df2['incumbent'].fillna(0)"
   ]
  },
  {
   "cell_type": "code",
   "execution_count": null,
   "metadata": {
    "collapsed": true
   },
   "outputs": [],
   "source": [
    "df2['primary_votes']=df2['primary_votes'].fillna(0)"
   ]
  },
  {
   "cell_type": "code",
   "execution_count": null,
   "metadata": {
    "collapsed": true
   },
   "outputs": [],
   "source": [
    "df2['runoff_votes']=df2['runoff_votes'].fillna(0)"
   ]
  },
  {
   "cell_type": "code",
   "execution_count": null,
   "metadata": {
    "collapsed": true
   },
   "outputs": [],
   "source": [
    "df2['general_votes']=df2['general_votes'].fillna(0)"
   ]
  },
  {
   "cell_type": "code",
   "execution_count": null,
   "metadata": {
    "collapsed": true
   },
   "outputs": [],
   "source": [
    "df2['ge_runoff_election_votes']=df2['ge_runoff_election_votes'].fillna(0)"
   ]
  },
  {
   "cell_type": "code",
   "execution_count": null,
   "metadata": {
    "collapsed": true
   },
   "outputs": [],
   "source": [
    "df2.head()"
   ]
  },
  {
   "cell_type": "code",
   "execution_count": null,
   "metadata": {
    "collapsed": true
   },
   "outputs": [],
   "source": [
    "df2['ge_winner_indicator']=df2['ge_winner_indicator'].fillna(0)"
   ]
  },
  {
   "cell_type": "code",
   "execution_count": null,
   "metadata": {
    "collapsed": true
   },
   "outputs": [],
   "source": [
    "df2.head(20)"
   ]
  },
  {
   "cell_type": "code",
   "execution_count": null,
   "metadata": {
    "collapsed": true
   },
   "outputs": [],
   "source": [
    "df3 = df2.replace(\"W\",1)"
   ]
  },
  {
   "cell_type": "code",
   "execution_count": null,
   "metadata": {
    "collapsed": true
   },
   "outputs": [],
   "source": [
    "df3.head(20)"
   ]
  },
  {
   "cell_type": "code",
   "execution_count": null,
   "metadata": {
    "collapsed": true
   },
   "outputs": [],
   "source": [
    "df4 = df3.replace(\"(I)\",1)"
   ]
  },
  {
   "cell_type": "code",
   "execution_count": null,
   "metadata": {
    "collapsed": true
   },
   "outputs": [],
   "source": [
    "df4.head(20)"
   ]
  },
  {
   "cell_type": "code",
   "execution_count": null,
   "metadata": {
    "collapsed": true
   },
   "outputs": [],
   "source": [
    "results_clean = df4.drop_duplicates()"
   ]
  },
  {
   "cell_type": "code",
   "execution_count": null,
   "metadata": {
    "collapsed": true
   },
   "outputs": [],
   "source": [
    "results_clean.count()"
   ]
  },
  {
   "cell_type": "code",
   "execution_count": null,
   "metadata": {
    "collapsed": true
   },
   "outputs": [],
   "source": [
    "results_clean.drop('ge_runoff_election_votes', axis=1, inplace=True)"
   ]
  },
  {
   "cell_type": "code",
   "execution_count": null,
   "metadata": {
    "collapsed": true
   },
   "outputs": [],
   "source": [
    "results_clean.drop('ge_winner_indicator', axis=1, inplace=True)"
   ]
  },
  {
   "cell_type": "code",
   "execution_count": null,
   "metadata": {
    "collapsed": true
   },
   "outputs": [],
   "source": [
    "results_clean.drop('blank', axis=1, inplace=True)"
   ]
  },
  {
   "cell_type": "code",
   "execution_count": null,
   "metadata": {
    "collapsed": true
   },
   "outputs": [],
   "source": [
    "results_clean.head(20)"
   ]
  },
  {
   "cell_type": "code",
   "execution_count": null,
   "metadata": {
    "collapsed": true
   },
   "outputs": [],
   "source": [
    "from pandas.tools.plotting import parallel_coordinates\n",
    "parallel_coordinates(data, class_column='label')"
   ]
  },
  {
   "cell_type": "code",
   "execution_count": null,
   "metadata": {
    "collapsed": true
   },
   "outputs": [],
   "source": [
    "from sklearn.model_selection import train_test_split as tts \n",
    "\n",
    "X = data[[\n",
    "    '??', '??', '??', '??', '??', '??', '??'\n",
    "]]\n",
    "y = data['label']\n",
    "\n",
    "print(X.shape)\n",
    "print(y.shape)"
   ]
  },
  {
   "cell_type": "code",
   "execution_count": null,
   "metadata": {
    "collapsed": true
   },
   "outputs": [],
   "source": [
    "X_train, X_test, y_train, y_test = tts(X, y, test_size=0.2)"
   ]
  },
  {
   "cell_type": "code",
   "execution_count": null,
   "metadata": {
    "collapsed": true
   },
   "outputs": [],
   "source": []
  },
  {
   "cell_type": "code",
   "execution_count": null,
   "metadata": {
    "collapsed": true
   },
   "outputs": [],
   "source": []
  },
  {
   "cell_type": "code",
   "execution_count": null,
   "metadata": {
    "collapsed": true
   },
   "outputs": [],
   "source": []
  }
 ],
 "metadata": {
  "kernelspec": {
   "display_name": "Python [default]",
   "language": "python",
   "name": "python3"
  },
  "language_info": {
   "codemirror_mode": {
    "name": "ipython",
    "version": 3
   },
   "file_extension": ".py",
   "mimetype": "text/x-python",
   "name": "python",
   "nbconvert_exporter": "python",
   "pygments_lexer": "ipython3",
   "version": "3.5.2"
  }
 },
 "nbformat": 4,
 "nbformat_minor": 2
}
