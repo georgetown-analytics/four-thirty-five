{
 "cells": [
  {
   "cell_type": "markdown",
   "metadata": {},
   "source": [
    "# Data Classification"
   ]
  },
  {
   "cell_type": "markdown",
   "metadata": {},
   "source": [
    "# Notebook set-up"
   ]
  },
  {
   "cell_type": "code",
   "execution_count": 192,
   "metadata": {
    "collapsed": true
   },
   "outputs": [],
   "source": [
    "import os \n",
    "import numpy as np \n",
    "import pandas as pd \n",
    "import seaborn as sns \n",
    "import matplotlib.pyplot as plt \n",
    "import io\n",
    "\n",
    "sns.set_style('whitegrid')\n",
    "sns.set_context('notebook')"
   ]
  },
  {
   "cell_type": "markdown",
   "metadata": {},
   "source": [
    "# Data loading"
   ]
  },
  {
   "cell_type": "code",
   "execution_count": 193,
   "metadata": {
    "collapsed": false
   },
   "outputs": [],
   "source": [
    "# Load the data into a dataframe \n",
    "#can_master = pd.read_csv('can-1996-2016.csv')\n",
    "#cmte_master =pd.read_csv('cm-1996-2014.csv') \n",
    "#opex=pd.read_csv('opex-2004-2014.csv')\n",
    "#oth=pd.read_csv('oth-1996-2014.csv')\n",
    "#exp=pd.read_csv('expresults_rev.csv')\n",
    "#election_spend=pd.read_csv('catall.csv')\n",
    "#results = pd.read_csv('candr.csv')\n",
    "catsort= pd.read_csv('catsort.csv')"
   ]
  },
  {
   "cell_type": "code",
   "execution_count": 194,
   "metadata": {
    "collapsed": true
   },
   "outputs": [],
   "source": [
    "catsort['cycle']=pd.to_numeric(catsort['cycle'],errors='coerce')"
   ]
  },
  {
   "cell_type": "code",
   "execution_count": 195,
   "metadata": {
    "collapsed": false
   },
   "outputs": [
    {
     "name": "stdout",
     "output_type": "stream",
     "text": [
      "         cand_id  cycle  c1  c2  c3  c4  c5  c6  c7  c8  c9  c10  c11  c12  \\\n",
      "30254        NaN    NaN NaN NaN NaN NaN NaN NaN NaN NaN NaN  NaN  NaN  NaN   \n",
      "30258  H2PA04192    NaN NaN NaN NaN NaN NaN NaN NaN NaN NaN  NaN  NaN  NaN   \n",
      "30272  H4IL06104    NaN NaN NaN NaN NaN NaN NaN NaN NaN NaN  NaN  NaN  NaN   \n",
      "30280  H4IN02051    NaN NaN NaN NaN NaN NaN NaN NaN NaN NaN  NaN  NaN  NaN   \n",
      "30288  S0SC00149    NaN NaN NaN NaN NaN NaN NaN NaN NaN NaN  NaN  NaN  NaN   \n",
      "30293  H8FL24042    NaN NaN NaN NaN NaN NaN NaN NaN NaN NaN  NaN  NaN  NaN   \n",
      "30297  H2TX03118    NaN NaN NaN NaN NaN NaN NaN NaN NaN NaN  NaN  NaN  NaN   \n",
      "30306  H0LA04073    NaN NaN NaN NaN NaN NaN NaN NaN NaN NaN  NaN  NaN  NaN   \n",
      "30309  H4TX04088    NaN NaN NaN NaN NaN NaN NaN NaN NaN NaN  NaN  NaN  NaN   \n",
      "30317  H4IL08092    NaN NaN NaN NaN NaN NaN NaN NaN NaN NaN  NaN  NaN  NaN   \n",
      "30320  H4CA19076    NaN NaN NaN NaN NaN NaN NaN NaN NaN NaN  NaN  NaN  NaN   \n",
      "30324  H4MO01126    NaN NaN NaN NaN NaN NaN NaN NaN NaN NaN  NaN  NaN  NaN   \n",
      "30351  S4SC00158    NaN NaN NaN NaN NaN NaN NaN NaN NaN NaN  NaN  NaN  NaN   \n",
      "30356  H0TN09053    NaN NaN NaN NaN NaN NaN NaN NaN NaN NaN  NaN  NaN  NaN   \n",
      "30363  S0AZ00152    NaN NaN NaN NaN NaN NaN NaN NaN NaN NaN  NaN  NaN  NaN   \n",
      "30364  H2TN07202    NaN NaN NaN NaN NaN NaN NaN NaN NaN NaN  NaN  NaN  NaN   \n",
      "30368  H4PA04099    NaN NaN NaN NaN NaN NaN NaN NaN NaN NaN  NaN  NaN  NaN   \n",
      "30384  H8MD00013    NaN NaN NaN NaN NaN NaN NaN NaN NaN NaN  NaN  NaN  NaN   \n",
      "30386  H4NC04115    NaN NaN NaN NaN NaN NaN NaN NaN NaN NaN  NaN  NaN  NaN   \n",
      "30389  H2GA13053    NaN NaN NaN NaN NaN NaN NaN NaN NaN NaN  NaN  NaN  NaN   \n",
      "30394  H0CA28109    NaN NaN NaN NaN NaN NaN NaN NaN NaN NaN  NaN  NaN  NaN   \n",
      "30396  S0NH00219    NaN NaN NaN NaN NaN NaN NaN NaN NaN NaN  NaN  NaN  NaN   \n",
      "30408  H6NC13012    NaN NaN NaN NaN NaN NaN NaN NaN NaN NaN  NaN  NaN  NaN   \n",
      "30414  H8CA22089    NaN NaN NaN NaN NaN NaN NaN NaN NaN NaN  NaN  NaN  NaN   \n",
      "30422  H4CO01138    NaN NaN NaN NaN NaN NaN NaN NaN NaN NaN  NaN  NaN  NaN   \n",
      "30435  H4CA42052    NaN NaN NaN NaN NaN NaN NaN NaN NaN NaN  NaN  NaN  NaN   \n",
      "30439  H0KY05130    NaN NaN NaN NaN NaN NaN NaN NaN NaN NaN  NaN  NaN  NaN   \n",
      "30452  H2MI13154    NaN NaN NaN NaN NaN NaN NaN NaN NaN NaN  NaN  NaN  NaN   \n",
      "30455  H8KS03072    NaN NaN NaN NaN NaN NaN NaN NaN NaN NaN  NaN  NaN  NaN   \n",
      "30460  H8FL01099    NaN NaN NaN NaN NaN NaN NaN NaN NaN NaN  NaN  NaN  NaN   \n",
      "...          ...    ...  ..  ..  ..  ..  ..  ..  ..  ..  ..  ...  ...  ...   \n",
      "43183  S8MN00438    NaN NaN NaN NaN NaN NaN NaN NaN NaN NaN  NaN  NaN  NaN   \n",
      "43186  H0MD05126    NaN NaN NaN NaN NaN NaN NaN NaN NaN NaN  NaN  NaN  NaN   \n",
      "43195  H0MO09168    NaN NaN NaN NaN NaN NaN NaN NaN NaN NaN  NaN  NaN  NaN   \n",
      "43203  H4CA25099    NaN NaN NaN NaN NaN NaN NaN NaN NaN NaN  NaN  NaN  NaN   \n",
      "43205  H4TN04205    NaN NaN NaN NaN NaN NaN NaN NaN NaN NaN  NaN  NaN  NaN   \n",
      "43210  H0MI06137    NaN NaN NaN NaN NaN NaN NaN NaN NaN NaN  NaN  NaN  NaN   \n",
      "43232  H6OH04082    NaN NaN NaN NaN NaN NaN NaN NaN NaN NaN  NaN  NaN  NaN   \n",
      "43244  H4AR01044    NaN NaN NaN NaN NaN NaN NaN NaN NaN NaN  NaN  NaN  NaN   \n",
      "43249  S0UT00066    NaN NaN NaN NaN NaN NaN NaN NaN NaN NaN  NaN  NaN  NaN   \n",
      "43258  H0IN02125    NaN NaN NaN NaN NaN NaN NaN NaN NaN NaN  NaN  NaN  NaN   \n",
      "43259  H0PA12124    NaN NaN NaN NaN NaN NaN NaN NaN NaN NaN  NaN  NaN  NaN   \n",
      "43263  H8MI12062    NaN NaN NaN NaN NaN NaN NaN NaN NaN NaN  NaN  NaN  NaN   \n",
      "43291  H2FL22114    NaN NaN NaN NaN NaN NaN NaN NaN NaN NaN  NaN  NaN  NaN   \n",
      "43292  H4NE03037    NaN NaN NaN NaN NaN NaN NaN NaN NaN NaN  NaN  NaN  NaN   \n",
      "43301  S8MS00196    NaN NaN NaN NaN NaN NaN NaN NaN NaN NaN  NaN  NaN  NaN   \n",
      "43304  H4TX03064    NaN NaN NaN NaN NaN NaN NaN NaN NaN NaN  NaN  NaN  NaN   \n",
      "43309  H2CA49234    NaN NaN NaN NaN NaN NaN NaN NaN NaN NaN  NaN  NaN  NaN   \n",
      "43316  H2OR04079    NaN NaN NaN NaN NaN NaN NaN NaN NaN NaN  NaN  NaN  NaN   \n",
      "43324  H2AZ07161    NaN NaN NaN NaN NaN NaN NaN NaN NaN NaN  NaN  NaN  NaN   \n",
      "43337  H4TX07065    NaN NaN NaN NaN NaN NaN NaN NaN NaN NaN  NaN  NaN  NaN   \n",
      "43338  S4IL00362    NaN NaN NaN NaN NaN NaN NaN NaN NaN NaN  NaN  NaN  NaN   \n",
      "43341  H4ID01073    NaN NaN NaN NaN NaN NaN NaN NaN NaN NaN  NaN  NaN  NaN   \n",
      "43348  H0OH02071    NaN NaN NaN NaN NaN NaN NaN NaN NaN NaN  NaN  NaN  NaN   \n",
      "43352  S4CO00197    NaN NaN NaN NaN NaN NaN NaN NaN NaN NaN  NaN  NaN  NaN   \n",
      "43353  H4CA48059    NaN NaN NaN NaN NaN NaN NaN NaN NaN NaN  NaN  NaN  NaN   \n",
      "43354  H4CO03167    NaN NaN NaN NaN NaN NaN NaN NaN NaN NaN  NaN  NaN  NaN   \n",
      "43359  S0CO00211    NaN NaN NaN NaN NaN NaN NaN NaN NaN NaN  NaN  NaN  NaN   \n",
      "43388  H4MD06175    NaN NaN NaN NaN NaN NaN NaN NaN NaN NaN  NaN  NaN  NaN   \n",
      "43403  H8FL00026    NaN NaN NaN NaN NaN NaN NaN NaN NaN NaN  NaN  NaN  NaN   \n",
      "43407  H4AZ05047    NaN NaN NaN NaN NaN NaN NaN NaN NaN NaN  NaN  NaN  NaN   \n",
      "\n",
      "       c13  total  \n",
      "30254  NaN    NaN  \n",
      "30258  NaN    NaN  \n",
      "30272  NaN    NaN  \n",
      "30280  NaN    NaN  \n",
      "30288  NaN    NaN  \n",
      "30293  NaN    NaN  \n",
      "30297  NaN    NaN  \n",
      "30306  NaN    NaN  \n",
      "30309  NaN    NaN  \n",
      "30317  NaN    NaN  \n",
      "30320  NaN    NaN  \n",
      "30324  NaN    NaN  \n",
      "30351  NaN    NaN  \n",
      "30356  NaN    NaN  \n",
      "30363  NaN    NaN  \n",
      "30364  NaN    NaN  \n",
      "30368  NaN    NaN  \n",
      "30384  NaN    NaN  \n",
      "30386  NaN    NaN  \n",
      "30389  NaN    NaN  \n",
      "30394  NaN    NaN  \n",
      "30396  NaN    NaN  \n",
      "30408  NaN    NaN  \n",
      "30414  NaN    NaN  \n",
      "30422  NaN    NaN  \n",
      "30435  NaN    NaN  \n",
      "30439  NaN    NaN  \n",
      "30452  NaN    NaN  \n",
      "30455  NaN    NaN  \n",
      "30460  NaN    NaN  \n",
      "...    ...    ...  \n",
      "43183  NaN    NaN  \n",
      "43186  NaN    NaN  \n",
      "43195  NaN    NaN  \n",
      "43203  NaN    NaN  \n",
      "43205  NaN    NaN  \n",
      "43210  NaN    NaN  \n",
      "43232  NaN    NaN  \n",
      "43244  NaN    NaN  \n",
      "43249  NaN    NaN  \n",
      "43258  NaN    NaN  \n",
      "43259  NaN    NaN  \n",
      "43263  NaN    NaN  \n",
      "43291  NaN    NaN  \n",
      "43292  NaN    NaN  \n",
      "43301  NaN    NaN  \n",
      "43304  NaN    NaN  \n",
      "43309  NaN    NaN  \n",
      "43316  NaN    NaN  \n",
      "43324  NaN    NaN  \n",
      "43337  NaN    NaN  \n",
      "43338  NaN    NaN  \n",
      "43341  NaN    NaN  \n",
      "43348  NaN    NaN  \n",
      "43352  NaN    NaN  \n",
      "43353  NaN    NaN  \n",
      "43354  NaN    NaN  \n",
      "43359  NaN    NaN  \n",
      "43388  NaN    NaN  \n",
      "43403  NaN    NaN  \n",
      "43407  NaN    NaN  \n",
      "\n",
      "[1319 rows x 16 columns]\n"
     ]
    }
   ],
   "source": [
    "print(catsort[pd.to_numeric(catsort['cycle'], errors = 'coerce').isnull()])"
   ]
  },
  {
   "cell_type": "code",
   "execution_count": 196,
   "metadata": {
    "collapsed": true
   },
   "outputs": [],
   "source": [
    "catsort = catsort[pd.notnull(catsort['cycle'])]"
   ]
  },
  {
   "cell_type": "code",
   "execution_count": 197,
   "metadata": {
    "collapsed": true
   },
   "outputs": [],
   "source": [
    "catsort['cycle'] = catsort['cycle'].astype(int).astype('str')"
   ]
  },
  {
   "cell_type": "code",
   "execution_count": 198,
   "metadata": {
    "collapsed": false
   },
   "outputs": [
    {
     "data": {
      "text/html": [
       "<div>\n",
       "<table border=\"1\" class=\"dataframe\">\n",
       "  <thead>\n",
       "    <tr style=\"text-align: right;\">\n",
       "      <th></th>\n",
       "      <th>cand_id</th>\n",
       "      <th>cycle</th>\n",
       "      <th>c1</th>\n",
       "      <th>c2</th>\n",
       "      <th>c3</th>\n",
       "      <th>c4</th>\n",
       "      <th>c5</th>\n",
       "      <th>c6</th>\n",
       "      <th>c7</th>\n",
       "      <th>c8</th>\n",
       "      <th>c9</th>\n",
       "      <th>c10</th>\n",
       "      <th>c11</th>\n",
       "      <th>c12</th>\n",
       "      <th>c13</th>\n",
       "      <th>total</th>\n",
       "    </tr>\n",
       "  </thead>\n",
       "  <tbody>\n",
       "    <tr>\n",
       "      <th>0</th>\n",
       "      <td>H6FL19038</td>\n",
       "      <td>2006</td>\n",
       "      <td>281886.64</td>\n",
       "      <td>NaN</td>\n",
       "      <td>NaN</td>\n",
       "      <td>NaN</td>\n",
       "      <td>NaN</td>\n",
       "      <td>NaN</td>\n",
       "      <td>NaN</td>\n",
       "      <td>NaN</td>\n",
       "      <td>NaN</td>\n",
       "      <td>NaN</td>\n",
       "      <td>NaN</td>\n",
       "      <td>NaN</td>\n",
       "      <td>NaN</td>\n",
       "      <td>NaN</td>\n",
       "    </tr>\n",
       "    <tr>\n",
       "      <th>1</th>\n",
       "      <td>H2NY17071</td>\n",
       "      <td>2004</td>\n",
       "      <td>4500.00</td>\n",
       "      <td>NaN</td>\n",
       "      <td>NaN</td>\n",
       "      <td>NaN</td>\n",
       "      <td>NaN</td>\n",
       "      <td>NaN</td>\n",
       "      <td>NaN</td>\n",
       "      <td>NaN</td>\n",
       "      <td>NaN</td>\n",
       "      <td>NaN</td>\n",
       "      <td>NaN</td>\n",
       "      <td>NaN</td>\n",
       "      <td>NaN</td>\n",
       "      <td>NaN</td>\n",
       "    </tr>\n",
       "    <tr>\n",
       "      <th>2</th>\n",
       "      <td>H8TX27023</td>\n",
       "      <td>2008</td>\n",
       "      <td>12900.00</td>\n",
       "      <td>NaN</td>\n",
       "      <td>NaN</td>\n",
       "      <td>NaN</td>\n",
       "      <td>NaN</td>\n",
       "      <td>NaN</td>\n",
       "      <td>NaN</td>\n",
       "      <td>NaN</td>\n",
       "      <td>NaN</td>\n",
       "      <td>NaN</td>\n",
       "      <td>NaN</td>\n",
       "      <td>NaN</td>\n",
       "      <td>NaN</td>\n",
       "      <td>NaN</td>\n",
       "    </tr>\n",
       "    <tr>\n",
       "      <th>3</th>\n",
       "      <td>H8OH18088</td>\n",
       "      <td>2012</td>\n",
       "      <td>30.00</td>\n",
       "      <td>NaN</td>\n",
       "      <td>NaN</td>\n",
       "      <td>NaN</td>\n",
       "      <td>NaN</td>\n",
       "      <td>NaN</td>\n",
       "      <td>NaN</td>\n",
       "      <td>NaN</td>\n",
       "      <td>NaN</td>\n",
       "      <td>NaN</td>\n",
       "      <td>NaN</td>\n",
       "      <td>NaN</td>\n",
       "      <td>NaN</td>\n",
       "      <td>NaN</td>\n",
       "    </tr>\n",
       "    <tr>\n",
       "      <th>4</th>\n",
       "      <td>H0SC01071</td>\n",
       "      <td>2008</td>\n",
       "      <td>83183.76</td>\n",
       "      <td>NaN</td>\n",
       "      <td>NaN</td>\n",
       "      <td>NaN</td>\n",
       "      <td>NaN</td>\n",
       "      <td>NaN</td>\n",
       "      <td>NaN</td>\n",
       "      <td>NaN</td>\n",
       "      <td>NaN</td>\n",
       "      <td>NaN</td>\n",
       "      <td>NaN</td>\n",
       "      <td>NaN</td>\n",
       "      <td>NaN</td>\n",
       "      <td>NaN</td>\n",
       "    </tr>\n",
       "  </tbody>\n",
       "</table>\n",
       "</div>"
      ],
      "text/plain": [
       "     cand_id cycle         c1  c2  c3  c4  c5  c6  c7  c8  c9  c10  c11  c12  \\\n",
       "0  H6FL19038  2006  281886.64 NaN NaN NaN NaN NaN NaN NaN NaN  NaN  NaN  NaN   \n",
       "1  H2NY17071  2004    4500.00 NaN NaN NaN NaN NaN NaN NaN NaN  NaN  NaN  NaN   \n",
       "2  H8TX27023  2008   12900.00 NaN NaN NaN NaN NaN NaN NaN NaN  NaN  NaN  NaN   \n",
       "3  H8OH18088  2012      30.00 NaN NaN NaN NaN NaN NaN NaN NaN  NaN  NaN  NaN   \n",
       "4  H0SC01071  2008   83183.76 NaN NaN NaN NaN NaN NaN NaN NaN  NaN  NaN  NaN   \n",
       "\n",
       "   c13  total  \n",
       "0  NaN    NaN  \n",
       "1  NaN    NaN  \n",
       "2  NaN    NaN  \n",
       "3  NaN    NaN  \n",
       "4  NaN    NaN  "
      ]
     },
     "execution_count": 198,
     "metadata": {},
     "output_type": "execute_result"
    }
   ],
   "source": [
    "catsort.head()"
   ]
  },
  {
   "cell_type": "code",
   "execution_count": 199,
   "metadata": {
    "collapsed": true
   },
   "outputs": [],
   "source": [
    "#exp = exp[pd.notnull(exp['cycle'])]"
   ]
  },
  {
   "cell_type": "code",
   "execution_count": 200,
   "metadata": {
    "collapsed": true
   },
   "outputs": [],
   "source": [
    "#exp['cycle'] = exp['cycle'].astype(int).astype('str')"
   ]
  },
  {
   "cell_type": "code",
   "execution_count": 201,
   "metadata": {
    "collapsed": false
   },
   "outputs": [],
   "source": [
    "#exp.head()"
   ]
  },
  {
   "cell_type": "code",
   "execution_count": 202,
   "metadata": {
    "collapsed": true
   },
   "outputs": [],
   "source": [
    "#catsort['cycle']=catsort['cycle'].astype('str')"
   ]
  },
  {
   "cell_type": "code",
   "execution_count": 203,
   "metadata": {
    "collapsed": false
   },
   "outputs": [
    {
     "name": "stdout",
     "output_type": "stream",
     "text": [
      "cand_id     object\n",
      "cycle       object\n",
      "c1         float64\n",
      "c2         float64\n",
      "c3         float64\n",
      "c4         float64\n",
      "c5         float64\n",
      "c6         float64\n",
      "c7         float64\n",
      "c8         float64\n",
      "c9         float64\n",
      "c10        float64\n",
      "c11        float64\n",
      "c12        float64\n",
      "c13        float64\n",
      "total      float64\n",
      "dtype: object\n"
     ]
    }
   ],
   "source": [
    "print(catsort.dtypes)"
   ]
  },
  {
   "cell_type": "code",
   "execution_count": 204,
   "metadata": {
    "collapsed": true
   },
   "outputs": [],
   "source": [
    "cs1 = catsort"
   ]
  },
  {
   "cell_type": "code",
   "execution_count": 205,
   "metadata": {
    "collapsed": true
   },
   "outputs": [],
   "source": [
    "cs1 = cs1.drop(['c2','c3', 'c4', 'c5', 'c6', 'c7', 'c8', 'c9', 'c10', 'c11', 'c12', 'c13','total'], axis=1)"
   ]
  },
  {
   "cell_type": "code",
   "execution_count": 206,
   "metadata": {
    "collapsed": false
   },
   "outputs": [
    {
     "data": {
      "text/html": [
       "<div>\n",
       "<table border=\"1\" class=\"dataframe\">\n",
       "  <thead>\n",
       "    <tr style=\"text-align: right;\">\n",
       "      <th></th>\n",
       "      <th>cand_id</th>\n",
       "      <th>cycle</th>\n",
       "      <th>c1</th>\n",
       "    </tr>\n",
       "  </thead>\n",
       "  <tbody>\n",
       "    <tr>\n",
       "      <th>0</th>\n",
       "      <td>H6FL19038</td>\n",
       "      <td>2006</td>\n",
       "      <td>281886.64</td>\n",
       "    </tr>\n",
       "    <tr>\n",
       "      <th>1</th>\n",
       "      <td>H2NY17071</td>\n",
       "      <td>2004</td>\n",
       "      <td>4500.00</td>\n",
       "    </tr>\n",
       "    <tr>\n",
       "      <th>2</th>\n",
       "      <td>H8TX27023</td>\n",
       "      <td>2008</td>\n",
       "      <td>12900.00</td>\n",
       "    </tr>\n",
       "    <tr>\n",
       "      <th>3</th>\n",
       "      <td>H8OH18088</td>\n",
       "      <td>2012</td>\n",
       "      <td>30.00</td>\n",
       "    </tr>\n",
       "    <tr>\n",
       "      <th>4</th>\n",
       "      <td>H0SC01071</td>\n",
       "      <td>2008</td>\n",
       "      <td>83183.76</td>\n",
       "    </tr>\n",
       "  </tbody>\n",
       "</table>\n",
       "</div>"
      ],
      "text/plain": [
       "     cand_id cycle         c1\n",
       "0  H6FL19038  2006  281886.64\n",
       "1  H2NY17071  2004    4500.00\n",
       "2  H8TX27023  2008   12900.00\n",
       "3  H8OH18088  2012      30.00\n",
       "4  H0SC01071  2008   83183.76"
      ]
     },
     "execution_count": 206,
     "metadata": {},
     "output_type": "execute_result"
    }
   ],
   "source": [
    "cs1.head()"
   ]
  },
  {
   "cell_type": "code",
   "execution_count": 207,
   "metadata": {
    "collapsed": false
   },
   "outputs": [],
   "source": [
    "#cs1 = cs1.set_index(['cand_id','cycle'], inplace=True)"
   ]
  },
  {
   "cell_type": "code",
   "execution_count": 208,
   "metadata": {
    "collapsed": false
   },
   "outputs": [],
   "source": [
    "#print(cs1)"
   ]
  },
  {
   "cell_type": "code",
   "execution_count": 209,
   "metadata": {
    "collapsed": false
   },
   "outputs": [
    {
     "data": {
      "text/html": [
       "<div>\n",
       "<table border=\"1\" class=\"dataframe\">\n",
       "  <thead>\n",
       "    <tr style=\"text-align: right;\">\n",
       "      <th></th>\n",
       "      <th>cand_id</th>\n",
       "      <th>cycle</th>\n",
       "      <th>c1</th>\n",
       "    </tr>\n",
       "  </thead>\n",
       "  <tbody>\n",
       "    <tr>\n",
       "      <th>0</th>\n",
       "      <td>H6FL19038</td>\n",
       "      <td>2006</td>\n",
       "      <td>281886.64</td>\n",
       "    </tr>\n",
       "    <tr>\n",
       "      <th>1</th>\n",
       "      <td>H2NY17071</td>\n",
       "      <td>2004</td>\n",
       "      <td>4500.00</td>\n",
       "    </tr>\n",
       "    <tr>\n",
       "      <th>2</th>\n",
       "      <td>H8TX27023</td>\n",
       "      <td>2008</td>\n",
       "      <td>12900.00</td>\n",
       "    </tr>\n",
       "    <tr>\n",
       "      <th>3</th>\n",
       "      <td>H8OH18088</td>\n",
       "      <td>2012</td>\n",
       "      <td>30.00</td>\n",
       "    </tr>\n",
       "    <tr>\n",
       "      <th>4</th>\n",
       "      <td>H0SC01071</td>\n",
       "      <td>2008</td>\n",
       "      <td>83183.76</td>\n",
       "    </tr>\n",
       "  </tbody>\n",
       "</table>\n",
       "</div>"
      ],
      "text/plain": [
       "     cand_id cycle         c1\n",
       "0  H6FL19038  2006  281886.64\n",
       "1  H2NY17071  2004    4500.00\n",
       "2  H8TX27023  2008   12900.00\n",
       "3  H8OH18088  2012      30.00\n",
       "4  H0SC01071  2008   83183.76"
      ]
     },
     "execution_count": 209,
     "metadata": {},
     "output_type": "execute_result"
    }
   ],
   "source": [
    "cs1.head()"
   ]
  },
  {
   "cell_type": "code",
   "execution_count": 210,
   "metadata": {
    "collapsed": false
   },
   "outputs": [],
   "source": [
    "#test\n",
    "#cs1.loc[\"H0SC01071\", '2006']"
   ]
  },
  {
   "cell_type": "code",
   "execution_count": 211,
   "metadata": {
    "collapsed": false,
    "scrolled": true
   },
   "outputs": [],
   "source": [
    "#agg_df = cs1.sum(level=['cand_id','cycle'])\n",
    "#print(agg_df)"
   ]
  },
  {
   "cell_type": "code",
   "execution_count": 212,
   "metadata": {
    "collapsed": false
   },
   "outputs": [],
   "source": [
    "#test\n",
    "#agg_df.loc['H0SC01071','2006']"
   ]
  },
  {
   "cell_type": "code",
   "execution_count": 213,
   "metadata": {
    "collapsed": true
   },
   "outputs": [],
   "source": [
    "cs1 = cs1[pd.notnull(cs1['c1'])]"
   ]
  },
  {
   "cell_type": "code",
   "execution_count": 214,
   "metadata": {
    "collapsed": true
   },
   "outputs": [],
   "source": [
    "cs1 = cs1.drop_duplicates()"
   ]
  },
  {
   "cell_type": "code",
   "execution_count": 215,
   "metadata": {
    "collapsed": false
   },
   "outputs": [],
   "source": [
    "cs1 = cs1.groupby(['cand_id','cycle'])['c1'].sum().reset_index()"
   ]
  },
  {
   "cell_type": "code",
   "execution_count": 216,
   "metadata": {
    "collapsed": false
   },
   "outputs": [
    {
     "data": {
      "text/html": [
       "<div>\n",
       "<table border=\"1\" class=\"dataframe\">\n",
       "  <thead>\n",
       "    <tr style=\"text-align: right;\">\n",
       "      <th></th>\n",
       "      <th>cand_id</th>\n",
       "      <th>cycle</th>\n",
       "      <th>c1</th>\n",
       "    </tr>\n",
       "  </thead>\n",
       "  <tbody>\n",
       "    <tr>\n",
       "      <th>0</th>\n",
       "      <td>H0AK00089</td>\n",
       "      <td>2010</td>\n",
       "      <td>550.00</td>\n",
       "    </tr>\n",
       "    <tr>\n",
       "      <th>1</th>\n",
       "      <td>H0AK01038</td>\n",
       "      <td>2010</td>\n",
       "      <td>1569.23</td>\n",
       "    </tr>\n",
       "    <tr>\n",
       "      <th>2</th>\n",
       "      <td>H0AL00016</td>\n",
       "      <td>2010</td>\n",
       "      <td>19831.34</td>\n",
       "    </tr>\n",
       "    <tr>\n",
       "      <th>3</th>\n",
       "      <td>H0AL01030</td>\n",
       "      <td>2010</td>\n",
       "      <td>7054.34</td>\n",
       "    </tr>\n",
       "    <tr>\n",
       "      <th>4</th>\n",
       "      <td>H0AL01030</td>\n",
       "      <td>2012</td>\n",
       "      <td>3480.00</td>\n",
       "    </tr>\n",
       "  </tbody>\n",
       "</table>\n",
       "</div>"
      ],
      "text/plain": [
       "     cand_id cycle        c1\n",
       "0  H0AK00089  2010    550.00\n",
       "1  H0AK01038  2010   1569.23\n",
       "2  H0AL00016  2010  19831.34\n",
       "3  H0AL01030  2010   7054.34\n",
       "4  H0AL01030  2012   3480.00"
      ]
     },
     "execution_count": 216,
     "metadata": {},
     "output_type": "execute_result"
    }
   ],
   "source": [
    "cs1.head()"
   ]
  },
  {
   "cell_type": "code",
   "execution_count": 217,
   "metadata": {
    "collapsed": true
   },
   "outputs": [],
   "source": [
    "cs2 = catsort"
   ]
  },
  {
   "cell_type": "code",
   "execution_count": 218,
   "metadata": {
    "collapsed": true
   },
   "outputs": [],
   "source": [
    "cs2 = cs2.drop(['c1','c3','c4', 'c5', 'c6', 'c7', 'c8', 'c9', 'c10', 'c11', 'c12', 'c13','total'], axis =1)"
   ]
  },
  {
   "cell_type": "code",
   "execution_count": 177,
   "metadata": {
    "collapsed": true
   },
   "outputs": [],
   "source": [
    "#cs2.set_index(['cand_id','cycle'], inplace=True)"
   ]
  },
  {
   "cell_type": "code",
   "execution_count": 178,
   "metadata": {
    "collapsed": false
   },
   "outputs": [],
   "source": [
    "#print(cs2)"
   ]
  },
  {
   "cell_type": "code",
   "execution_count": 38,
   "metadata": {
    "collapsed": true
   },
   "outputs": [],
   "source": [
    "#cs2 = catsort"
   ]
  },
  {
   "cell_type": "code",
   "execution_count": 219,
   "metadata": {
    "collapsed": true
   },
   "outputs": [],
   "source": [
    "cs2 = cs2[pd.notnull(cs2['c2'])]"
   ]
  },
  {
   "cell_type": "code",
   "execution_count": 220,
   "metadata": {
    "collapsed": false
   },
   "outputs": [],
   "source": [
    "#test\n",
    "#cs2.loc[\"H2NY17071\", '2004']"
   ]
  },
  {
   "cell_type": "code",
   "execution_count": 221,
   "metadata": {
    "collapsed": false
   },
   "outputs": [],
   "source": [
    "#agg_df = cs2.sum(level=['cand_id','cycle'])\n",
    "#print(agg_df)"
   ]
  },
  {
   "cell_type": "code",
   "execution_count": 222,
   "metadata": {
    "collapsed": true
   },
   "outputs": [],
   "source": [
    "cs2 = cs2.drop_duplicates()"
   ]
  },
  {
   "cell_type": "code",
   "execution_count": 182,
   "metadata": {
    "collapsed": false
   },
   "outputs": [],
   "source": [
    "#test\n",
    "#agg_df.loc['H0NC11118','2010']"
   ]
  },
  {
   "cell_type": "code",
   "execution_count": 223,
   "metadata": {
    "collapsed": true
   },
   "outputs": [],
   "source": [
    "cs2 = cs2.groupby(['cand_id','cycle'])['c2'].sum().reset_index()"
   ]
  },
  {
   "cell_type": "code",
   "execution_count": 224,
   "metadata": {
    "collapsed": false
   },
   "outputs": [],
   "source": [
    "#test\n",
    "#agg_df.loc['H2NY17071','2004']"
   ]
  },
  {
   "cell_type": "code",
   "execution_count": 225,
   "metadata": {
    "collapsed": false
   },
   "outputs": [
    {
     "data": {
      "text/html": [
       "<div>\n",
       "<table border=\"1\" class=\"dataframe\">\n",
       "  <thead>\n",
       "    <tr style=\"text-align: right;\">\n",
       "      <th></th>\n",
       "      <th>cand_id</th>\n",
       "      <th>cycle</th>\n",
       "      <th>c2</th>\n",
       "    </tr>\n",
       "  </thead>\n",
       "  <tbody>\n",
       "    <tr>\n",
       "      <th>0</th>\n",
       "      <td>H0AK01038</td>\n",
       "      <td>2010</td>\n",
       "      <td>88.93</td>\n",
       "    </tr>\n",
       "    <tr>\n",
       "      <th>1</th>\n",
       "      <td>H0AL00016</td>\n",
       "      <td>2010</td>\n",
       "      <td>909.80</td>\n",
       "    </tr>\n",
       "    <tr>\n",
       "      <th>2</th>\n",
       "      <td>H0AL01030</td>\n",
       "      <td>2010</td>\n",
       "      <td>5233.32</td>\n",
       "    </tr>\n",
       "    <tr>\n",
       "      <th>3</th>\n",
       "      <td>H0AL01030</td>\n",
       "      <td>2012</td>\n",
       "      <td>27.72</td>\n",
       "    </tr>\n",
       "    <tr>\n",
       "      <th>4</th>\n",
       "      <td>H0AL03184</td>\n",
       "      <td>2010</td>\n",
       "      <td>1441.91</td>\n",
       "    </tr>\n",
       "  </tbody>\n",
       "</table>\n",
       "</div>"
      ],
      "text/plain": [
       "     cand_id cycle       c2\n",
       "0  H0AK01038  2010    88.93\n",
       "1  H0AL00016  2010   909.80\n",
       "2  H0AL01030  2010  5233.32\n",
       "3  H0AL01030  2012    27.72\n",
       "4  H0AL03184  2010  1441.91"
      ]
     },
     "execution_count": 225,
     "metadata": {},
     "output_type": "execute_result"
    }
   ],
   "source": [
    "cs2.head()"
   ]
  },
  {
   "cell_type": "code",
   "execution_count": 226,
   "metadata": {
    "collapsed": true
   },
   "outputs": [],
   "source": [
    "#cs2.groupby(['cand_id','cycle'])['c2'].sum()"
   ]
  },
  {
   "cell_type": "code",
   "execution_count": 227,
   "metadata": {
    "collapsed": true
   },
   "outputs": [],
   "source": [
    "cm1 = pd.merge(cs1, cs2, on=['cand_id','cycle'], how='outer')"
   ]
  },
  {
   "cell_type": "code",
   "execution_count": 228,
   "metadata": {
    "collapsed": false
   },
   "outputs": [
    {
     "data": {
      "text/html": [
       "<div>\n",
       "<table border=\"1\" class=\"dataframe\">\n",
       "  <thead>\n",
       "    <tr style=\"text-align: right;\">\n",
       "      <th></th>\n",
       "      <th>cand_id</th>\n",
       "      <th>cycle</th>\n",
       "      <th>c1</th>\n",
       "      <th>c2</th>\n",
       "    </tr>\n",
       "  </thead>\n",
       "  <tbody>\n",
       "    <tr>\n",
       "      <th>0</th>\n",
       "      <td>H0AK00089</td>\n",
       "      <td>2010</td>\n",
       "      <td>550.00</td>\n",
       "      <td>NaN</td>\n",
       "    </tr>\n",
       "    <tr>\n",
       "      <th>1</th>\n",
       "      <td>H0AK01038</td>\n",
       "      <td>2010</td>\n",
       "      <td>1569.23</td>\n",
       "      <td>88.93</td>\n",
       "    </tr>\n",
       "    <tr>\n",
       "      <th>2</th>\n",
       "      <td>H0AL00016</td>\n",
       "      <td>2010</td>\n",
       "      <td>19831.34</td>\n",
       "      <td>909.80</td>\n",
       "    </tr>\n",
       "    <tr>\n",
       "      <th>3</th>\n",
       "      <td>H0AL01030</td>\n",
       "      <td>2010</td>\n",
       "      <td>7054.34</td>\n",
       "      <td>5233.32</td>\n",
       "    </tr>\n",
       "    <tr>\n",
       "      <th>4</th>\n",
       "      <td>H0AL01030</td>\n",
       "      <td>2012</td>\n",
       "      <td>3480.00</td>\n",
       "      <td>27.72</td>\n",
       "    </tr>\n",
       "  </tbody>\n",
       "</table>\n",
       "</div>"
      ],
      "text/plain": [
       "     cand_id cycle        c1       c2\n",
       "0  H0AK00089  2010    550.00      NaN\n",
       "1  H0AK01038  2010   1569.23    88.93\n",
       "2  H0AL00016  2010  19831.34   909.80\n",
       "3  H0AL01030  2010   7054.34  5233.32\n",
       "4  H0AL01030  2012   3480.00    27.72"
      ]
     },
     "execution_count": 228,
     "metadata": {},
     "output_type": "execute_result"
    }
   ],
   "source": [
    "cm1.head()"
   ]
  },
  {
   "cell_type": "code",
   "execution_count": 229,
   "metadata": {
    "collapsed": true
   },
   "outputs": [],
   "source": [
    "cs3 = catsort"
   ]
  },
  {
   "cell_type": "code",
   "execution_count": 230,
   "metadata": {
    "collapsed": true
   },
   "outputs": [],
   "source": [
    "cs3 = cs3.drop(['c1', 'c2', 'c4', 'c5', 'c6', 'c7', 'c8', 'c9', 'c10', 'c11', 'c12', 'c13','total'], axis = 1)"
   ]
  },
  {
   "cell_type": "code",
   "execution_count": 231,
   "metadata": {
    "collapsed": true
   },
   "outputs": [],
   "source": [
    "cs3 = cs3[pd.notnull(cs3['c3'])]"
   ]
  },
  {
   "cell_type": "code",
   "execution_count": 232,
   "metadata": {
    "collapsed": true
   },
   "outputs": [],
   "source": [
    "cs3 = cs3.drop_duplicates()"
   ]
  },
  {
   "cell_type": "code",
   "execution_count": 234,
   "metadata": {
    "collapsed": false
   },
   "outputs": [
    {
     "data": {
      "text/html": [
       "<div>\n",
       "<table border=\"1\" class=\"dataframe\">\n",
       "  <thead>\n",
       "    <tr style=\"text-align: right;\">\n",
       "      <th></th>\n",
       "      <th>cand_id</th>\n",
       "      <th>cycle</th>\n",
       "      <th>c3</th>\n",
       "    </tr>\n",
       "  </thead>\n",
       "  <tbody>\n",
       "    <tr>\n",
       "      <th>0</th>\n",
       "      <td>H0AL00016</td>\n",
       "      <td>2010</td>\n",
       "      <td>81.19</td>\n",
       "    </tr>\n",
       "    <tr>\n",
       "      <th>1</th>\n",
       "      <td>H0AL01030</td>\n",
       "      <td>2010</td>\n",
       "      <td>668.95</td>\n",
       "    </tr>\n",
       "    <tr>\n",
       "      <th>2</th>\n",
       "      <td>H0AL01030</td>\n",
       "      <td>2012</td>\n",
       "      <td>381.09</td>\n",
       "    </tr>\n",
       "    <tr>\n",
       "      <th>3</th>\n",
       "      <td>H0AL02087</td>\n",
       "      <td>2012</td>\n",
       "      <td>16964.09</td>\n",
       "    </tr>\n",
       "    <tr>\n",
       "      <th>4</th>\n",
       "      <td>H0AL02087</td>\n",
       "      <td>2014</td>\n",
       "      <td>16866.78</td>\n",
       "    </tr>\n",
       "  </tbody>\n",
       "</table>\n",
       "</div>"
      ],
      "text/plain": [
       "     cand_id cycle        c3\n",
       "0  H0AL00016  2010     81.19\n",
       "1  H0AL01030  2010    668.95\n",
       "2  H0AL01030  2012    381.09\n",
       "3  H0AL02087  2012  16964.09\n",
       "4  H0AL02087  2014  16866.78"
      ]
     },
     "execution_count": 234,
     "metadata": {},
     "output_type": "execute_result"
    }
   ],
   "source": [
    "cs3.head()"
   ]
  },
  {
   "cell_type": "code",
   "execution_count": 233,
   "metadata": {
    "collapsed": true
   },
   "outputs": [],
   "source": [
    "cs3 = cs3.groupby(['cand_id','cycle'])['c3'].sum().reset_index()"
   ]
  },
  {
   "cell_type": "code",
   "execution_count": 240,
   "metadata": {
    "collapsed": true
   },
   "outputs": [],
   "source": [
    "#cs3.set_index(['cand_id','cycle'], inplace=True)"
   ]
  },
  {
   "cell_type": "code",
   "execution_count": 241,
   "metadata": {
    "collapsed": true
   },
   "outputs": [],
   "source": [
    "#cs3.groupby(['cand_id','cycle'])['c3'].sum()"
   ]
  },
  {
   "cell_type": "code",
   "execution_count": 237,
   "metadata": {
    "collapsed": true
   },
   "outputs": [],
   "source": [
    "cm1 = pd.merge(cm1, cs3, on=['cand_id','cycle'], how='outer')"
   ]
  },
  {
   "cell_type": "code",
   "execution_count": 242,
   "metadata": {
    "collapsed": false
   },
   "outputs": [
    {
     "data": {
      "text/html": [
       "<div>\n",
       "<table border=\"1\" class=\"dataframe\">\n",
       "  <thead>\n",
       "    <tr style=\"text-align: right;\">\n",
       "      <th></th>\n",
       "      <th>cand_id</th>\n",
       "      <th>cycle</th>\n",
       "      <th>c1</th>\n",
       "      <th>c2</th>\n",
       "      <th>c3</th>\n",
       "    </tr>\n",
       "  </thead>\n",
       "  <tbody>\n",
       "    <tr>\n",
       "      <th>0</th>\n",
       "      <td>H0AK00089</td>\n",
       "      <td>2010</td>\n",
       "      <td>550.00</td>\n",
       "      <td>NaN</td>\n",
       "      <td>NaN</td>\n",
       "    </tr>\n",
       "    <tr>\n",
       "      <th>1</th>\n",
       "      <td>H0AK01038</td>\n",
       "      <td>2010</td>\n",
       "      <td>1569.23</td>\n",
       "      <td>88.93</td>\n",
       "      <td>NaN</td>\n",
       "    </tr>\n",
       "    <tr>\n",
       "      <th>2</th>\n",
       "      <td>H0AL00016</td>\n",
       "      <td>2010</td>\n",
       "      <td>19831.34</td>\n",
       "      <td>909.80</td>\n",
       "      <td>81.19</td>\n",
       "    </tr>\n",
       "    <tr>\n",
       "      <th>3</th>\n",
       "      <td>H0AL01030</td>\n",
       "      <td>2010</td>\n",
       "      <td>7054.34</td>\n",
       "      <td>5233.32</td>\n",
       "      <td>668.95</td>\n",
       "    </tr>\n",
       "    <tr>\n",
       "      <th>4</th>\n",
       "      <td>H0AL01030</td>\n",
       "      <td>2012</td>\n",
       "      <td>3480.00</td>\n",
       "      <td>27.72</td>\n",
       "      <td>381.09</td>\n",
       "    </tr>\n",
       "    <tr>\n",
       "      <th>5</th>\n",
       "      <td>H0AL02087</td>\n",
       "      <td>2012</td>\n",
       "      <td>11727.82</td>\n",
       "      <td>NaN</td>\n",
       "      <td>16964.09</td>\n",
       "    </tr>\n",
       "    <tr>\n",
       "      <th>6</th>\n",
       "      <td>H0AL02087</td>\n",
       "      <td>2014</td>\n",
       "      <td>12132.25</td>\n",
       "      <td>NaN</td>\n",
       "      <td>16866.78</td>\n",
       "    </tr>\n",
       "    <tr>\n",
       "      <th>7</th>\n",
       "      <td>H0AL02103</td>\n",
       "      <td>2010</td>\n",
       "      <td>2197.40</td>\n",
       "      <td>NaN</td>\n",
       "      <td>NaN</td>\n",
       "    </tr>\n",
       "    <tr>\n",
       "      <th>8</th>\n",
       "      <td>H0AL02111</td>\n",
       "      <td>2010</td>\n",
       "      <td>4897.58</td>\n",
       "      <td>NaN</td>\n",
       "      <td>484.62</td>\n",
       "    </tr>\n",
       "    <tr>\n",
       "      <th>9</th>\n",
       "      <td>H0AL03184</td>\n",
       "      <td>2010</td>\n",
       "      <td>14.95</td>\n",
       "      <td>1441.91</td>\n",
       "      <td>NaN</td>\n",
       "    </tr>\n",
       "  </tbody>\n",
       "</table>\n",
       "</div>"
      ],
      "text/plain": [
       "     cand_id cycle        c1       c2        c3\n",
       "0  H0AK00089  2010    550.00      NaN       NaN\n",
       "1  H0AK01038  2010   1569.23    88.93       NaN\n",
       "2  H0AL00016  2010  19831.34   909.80     81.19\n",
       "3  H0AL01030  2010   7054.34  5233.32    668.95\n",
       "4  H0AL01030  2012   3480.00    27.72    381.09\n",
       "5  H0AL02087  2012  11727.82      NaN  16964.09\n",
       "6  H0AL02087  2014  12132.25      NaN  16866.78\n",
       "7  H0AL02103  2010   2197.40      NaN       NaN\n",
       "8  H0AL02111  2010   4897.58      NaN    484.62\n",
       "9  H0AL03184  2010     14.95  1441.91       NaN"
      ]
     },
     "execution_count": 242,
     "metadata": {},
     "output_type": "execute_result"
    }
   ],
   "source": [
    "cm1.head(10)"
   ]
  },
  {
   "cell_type": "code",
   "execution_count": 235,
   "metadata": {
    "collapsed": false
   },
   "outputs": [],
   "source": [
    "#agg_df = cs3.sum(level=['cand_id','cycle'])\n",
    "#print(agg_df)"
   ]
  },
  {
   "cell_type": "code",
   "execution_count": 236,
   "metadata": {
    "collapsed": false
   },
   "outputs": [],
   "source": [
    "#test\n",
    "#agg_df.loc['S8VA00214','2006']"
   ]
  },
  {
   "cell_type": "code",
   "execution_count": 243,
   "metadata": {
    "collapsed": true
   },
   "outputs": [],
   "source": [
    "cs4 = catsort"
   ]
  },
  {
   "cell_type": "code",
   "execution_count": 244,
   "metadata": {
    "collapsed": true
   },
   "outputs": [],
   "source": [
    "cs4 = cs4.drop(['c1', 'c2', 'c3', 'c5', 'c6', 'c7', 'c8', 'c9', 'c10', 'c11', 'c12', 'c13','total'], axis = 1)"
   ]
  },
  {
   "cell_type": "code",
   "execution_count": 245,
   "metadata": {
    "collapsed": true
   },
   "outputs": [],
   "source": [
    "cs4 = cs4[pd.notnull(cs4['c4'])]"
   ]
  },
  {
   "cell_type": "code",
   "execution_count": 61,
   "metadata": {
    "collapsed": true
   },
   "outputs": [],
   "source": [
    "#cs4.groupby(['cand_id','cycle'])['c4'].sum()"
   ]
  },
  {
   "cell_type": "code",
   "execution_count": 246,
   "metadata": {
    "collapsed": true
   },
   "outputs": [],
   "source": [
    "cs4 = cs4.drop_duplicates()"
   ]
  },
  {
   "cell_type": "code",
   "execution_count": 247,
   "metadata": {
    "collapsed": true
   },
   "outputs": [],
   "source": [
    "cs4 = cs4.groupby(['cand_id','cycle'])['c4'].sum().reset_index()"
   ]
  },
  {
   "cell_type": "code",
   "execution_count": 63,
   "metadata": {
    "collapsed": true
   },
   "outputs": [],
   "source": [
    "#cs4.set_index(['cand_id','cycle'], inplace=True)"
   ]
  },
  {
   "cell_type": "code",
   "execution_count": 248,
   "metadata": {
    "collapsed": false
   },
   "outputs": [
    {
     "data": {
      "text/html": [
       "<div>\n",
       "<table border=\"1\" class=\"dataframe\">\n",
       "  <thead>\n",
       "    <tr style=\"text-align: right;\">\n",
       "      <th></th>\n",
       "      <th>cand_id</th>\n",
       "      <th>cycle</th>\n",
       "      <th>c4</th>\n",
       "    </tr>\n",
       "  </thead>\n",
       "  <tbody>\n",
       "    <tr>\n",
       "      <th>0</th>\n",
       "      <td>H0AL00016</td>\n",
       "      <td>2010</td>\n",
       "      <td>465.00</td>\n",
       "    </tr>\n",
       "    <tr>\n",
       "      <th>1</th>\n",
       "      <td>H0AL01030</td>\n",
       "      <td>2010</td>\n",
       "      <td>27082.28</td>\n",
       "    </tr>\n",
       "    <tr>\n",
       "      <th>2</th>\n",
       "      <td>H0AL01030</td>\n",
       "      <td>2012</td>\n",
       "      <td>7257.71</td>\n",
       "    </tr>\n",
       "    <tr>\n",
       "      <th>3</th>\n",
       "      <td>H0AL02111</td>\n",
       "      <td>2010</td>\n",
       "      <td>8403.45</td>\n",
       "    </tr>\n",
       "    <tr>\n",
       "      <th>4</th>\n",
       "      <td>H0AL03184</td>\n",
       "      <td>2010</td>\n",
       "      <td>5000.00</td>\n",
       "    </tr>\n",
       "  </tbody>\n",
       "</table>\n",
       "</div>"
      ],
      "text/plain": [
       "     cand_id cycle        c4\n",
       "0  H0AL00016  2010    465.00\n",
       "1  H0AL01030  2010  27082.28\n",
       "2  H0AL01030  2012   7257.71\n",
       "3  H0AL02111  2010   8403.45\n",
       "4  H0AL03184  2010   5000.00"
      ]
     },
     "execution_count": 248,
     "metadata": {},
     "output_type": "execute_result"
    }
   ],
   "source": [
    "cs4.head()"
   ]
  },
  {
   "cell_type": "code",
   "execution_count": 250,
   "metadata": {
    "collapsed": true
   },
   "outputs": [],
   "source": [
    "cm1 = pd.merge(cm1, cs4, on=['cand_id','cycle'], how='outer')"
   ]
  },
  {
   "cell_type": "code",
   "execution_count": 249,
   "metadata": {
    "collapsed": false
   },
   "outputs": [],
   "source": [
    "#agg_df = cs4.sum(level=['cand_id','cycle'])\n",
    "#print(agg_df)"
   ]
  },
  {
   "cell_type": "code",
   "execution_count": 251,
   "metadata": {
    "collapsed": true
   },
   "outputs": [],
   "source": [
    "cs5 = catsort"
   ]
  },
  {
   "cell_type": "code",
   "execution_count": 252,
   "metadata": {
    "collapsed": true
   },
   "outputs": [],
   "source": [
    "cs5 = cs5.drop(['c1', 'c2', 'c3', 'c4', 'c6', 'c7', 'c8', 'c9', 'c10', 'c11', 'c12', 'c13','total'], axis = 1)"
   ]
  },
  {
   "cell_type": "code",
   "execution_count": 253,
   "metadata": {
    "collapsed": true
   },
   "outputs": [],
   "source": [
    "cs5 = cs5[pd.notnull(cs5['c5'])]"
   ]
  },
  {
   "cell_type": "code",
   "execution_count": 69,
   "metadata": {
    "collapsed": true
   },
   "outputs": [],
   "source": [
    "#cs5.groupby(['cand_id','cycle'])['c5'].sum()"
   ]
  },
  {
   "cell_type": "code",
   "execution_count": 254,
   "metadata": {
    "collapsed": true
   },
   "outputs": [],
   "source": [
    "cs5 = cs5.drop_duplicates()"
   ]
  },
  {
   "cell_type": "code",
   "execution_count": 256,
   "metadata": {
    "collapsed": true
   },
   "outputs": [],
   "source": [
    "cs5 = cs5.groupby(['cand_id','cycle'])['c5'].sum().reset_index()"
   ]
  },
  {
   "cell_type": "code",
   "execution_count": 255,
   "metadata": {
    "collapsed": true
   },
   "outputs": [],
   "source": [
    "#cs5.set_index(['cand_id','cycle'], inplace=True)"
   ]
  },
  {
   "cell_type": "code",
   "execution_count": 257,
   "metadata": {
    "collapsed": false
   },
   "outputs": [
    {
     "data": {
      "text/html": [
       "<div>\n",
       "<table border=\"1\" class=\"dataframe\">\n",
       "  <thead>\n",
       "    <tr style=\"text-align: right;\">\n",
       "      <th></th>\n",
       "      <th>cand_id</th>\n",
       "      <th>cycle</th>\n",
       "      <th>c5</th>\n",
       "    </tr>\n",
       "  </thead>\n",
       "  <tbody>\n",
       "    <tr>\n",
       "      <th>0</th>\n",
       "      <td>H0AL01030</td>\n",
       "      <td>2010</td>\n",
       "      <td>1175.0</td>\n",
       "    </tr>\n",
       "    <tr>\n",
       "      <th>1</th>\n",
       "      <td>H0AL05163</td>\n",
       "      <td>2010</td>\n",
       "      <td>27000.0</td>\n",
       "    </tr>\n",
       "    <tr>\n",
       "      <th>2</th>\n",
       "      <td>H0AL05163</td>\n",
       "      <td>2012</td>\n",
       "      <td>17000.0</td>\n",
       "    </tr>\n",
       "    <tr>\n",
       "      <th>3</th>\n",
       "      <td>H0AL05163</td>\n",
       "      <td>2014</td>\n",
       "      <td>15000.0</td>\n",
       "    </tr>\n",
       "    <tr>\n",
       "      <th>4</th>\n",
       "      <td>H0AL07086</td>\n",
       "      <td>2010</td>\n",
       "      <td>55500.0</td>\n",
       "    </tr>\n",
       "  </tbody>\n",
       "</table>\n",
       "</div>"
      ],
      "text/plain": [
       "     cand_id cycle       c5\n",
       "0  H0AL01030  2010   1175.0\n",
       "1  H0AL05163  2010  27000.0\n",
       "2  H0AL05163  2012  17000.0\n",
       "3  H0AL05163  2014  15000.0\n",
       "4  H0AL07086  2010  55500.0"
      ]
     },
     "execution_count": 257,
     "metadata": {},
     "output_type": "execute_result"
    }
   ],
   "source": [
    "cs5.head()"
   ]
  },
  {
   "cell_type": "code",
   "execution_count": 258,
   "metadata": {
    "collapsed": false
   },
   "outputs": [],
   "source": [
    "#agg_df = cs5.sum(level=['cand_id','cycle'])\n",
    "#print(agg_df)"
   ]
  },
  {
   "cell_type": "code",
   "execution_count": 259,
   "metadata": {
    "collapsed": false
   },
   "outputs": [],
   "source": [
    "#test\n",
    "#agg_df.loc['H0CA02138','2010']"
   ]
  },
  {
   "cell_type": "code",
   "execution_count": 260,
   "metadata": {
    "collapsed": false
   },
   "outputs": [],
   "source": [
    "cm1 = pd.merge(cm1, cs5, on=['cand_id','cycle'], how='outer')"
   ]
  },
  {
   "cell_type": "code",
   "execution_count": 261,
   "metadata": {
    "collapsed": true
   },
   "outputs": [],
   "source": [
    "cs6 = catsort"
   ]
  },
  {
   "cell_type": "code",
   "execution_count": 262,
   "metadata": {
    "collapsed": true
   },
   "outputs": [],
   "source": [
    "cs6 = cs6.drop(['c1', 'c2', 'c3', 'c4', 'c5', 'c7', 'c8', 'c9', 'c10', 'c11', 'c12', 'c13','total'], axis = 1)"
   ]
  },
  {
   "cell_type": "code",
   "execution_count": 263,
   "metadata": {
    "collapsed": true
   },
   "outputs": [],
   "source": [
    "cs6 = cs6[pd.notnull(cs6['c6'])]"
   ]
  },
  {
   "cell_type": "code",
   "execution_count": 79,
   "metadata": {
    "collapsed": true
   },
   "outputs": [],
   "source": [
    "#cs6.groupby(['cand_id','cycle'])['c6'].sum()"
   ]
  },
  {
   "cell_type": "code",
   "execution_count": 264,
   "metadata": {
    "collapsed": true
   },
   "outputs": [],
   "source": [
    "cs6 = cs6.drop_duplicates()"
   ]
  },
  {
   "cell_type": "code",
   "execution_count": 265,
   "metadata": {
    "collapsed": true
   },
   "outputs": [],
   "source": [
    "#cs6.set_index(['cand_id','cycle'], inplace=True)"
   ]
  },
  {
   "cell_type": "code",
   "execution_count": 266,
   "metadata": {
    "collapsed": false
   },
   "outputs": [],
   "source": [
    "cs6 = cs6.groupby(['cand_id','cycle'])['c6'].sum().reset_index()"
   ]
  },
  {
   "cell_type": "code",
   "execution_count": 267,
   "metadata": {
    "collapsed": true
   },
   "outputs": [],
   "source": [
    "cm1 = pd.merge(cm1, cs6, on=['cand_id','cycle'], how='outer')"
   ]
  },
  {
   "cell_type": "code",
   "execution_count": 268,
   "metadata": {
    "collapsed": false
   },
   "outputs": [],
   "source": [
    "#agg_df = cs6.sum(level=['cand_id','cycle'])\n",
    "#print(agg_df)"
   ]
  },
  {
   "cell_type": "code",
   "execution_count": 269,
   "metadata": {
    "collapsed": false
   },
   "outputs": [],
   "source": [
    "#test\n",
    "#agg_df.loc['H0AR01109','2010']"
   ]
  },
  {
   "cell_type": "code",
   "execution_count": 270,
   "metadata": {
    "collapsed": true
   },
   "outputs": [],
   "source": [
    "cs7 = catsort"
   ]
  },
  {
   "cell_type": "code",
   "execution_count": 271,
   "metadata": {
    "collapsed": true
   },
   "outputs": [],
   "source": [
    "cs7 = cs7.drop(['c1', 'c2', 'c3', 'c4', 'c5', 'c6', 'c8', 'c9', 'c10', 'c11', 'c12', 'c13','total'], axis = 1)"
   ]
  },
  {
   "cell_type": "code",
   "execution_count": 272,
   "metadata": {
    "collapsed": true
   },
   "outputs": [],
   "source": [
    "cs7 = cs7[pd.notnull(cs7['c7'])]"
   ]
  },
  {
   "cell_type": "code",
   "execution_count": 89,
   "metadata": {
    "collapsed": true
   },
   "outputs": [],
   "source": [
    "#cs7.groupby(['cand_id','cycle'])['c7'].sum()"
   ]
  },
  {
   "cell_type": "code",
   "execution_count": 273,
   "metadata": {
    "collapsed": true
   },
   "outputs": [],
   "source": [
    "cs7 = cs7.drop_duplicates()"
   ]
  },
  {
   "cell_type": "code",
   "execution_count": 274,
   "metadata": {
    "collapsed": true
   },
   "outputs": [],
   "source": [
    "cs7 = cs7.groupby(['cand_id','cycle'])['c7'].sum().reset_index()"
   ]
  },
  {
   "cell_type": "code",
   "execution_count": 275,
   "metadata": {
    "collapsed": true
   },
   "outputs": [],
   "source": [
    "#cs7.set_index(['cand_id','cycle'], inplace=True)"
   ]
  },
  {
   "cell_type": "code",
   "execution_count": 276,
   "metadata": {
    "collapsed": false
   },
   "outputs": [
    {
     "data": {
      "text/html": [
       "<div>\n",
       "<table border=\"1\" class=\"dataframe\">\n",
       "  <thead>\n",
       "    <tr style=\"text-align: right;\">\n",
       "      <th></th>\n",
       "      <th>cand_id</th>\n",
       "      <th>cycle</th>\n",
       "      <th>c7</th>\n",
       "    </tr>\n",
       "  </thead>\n",
       "  <tbody>\n",
       "    <tr>\n",
       "      <th>0</th>\n",
       "      <td>H0AL00016</td>\n",
       "      <td>2010</td>\n",
       "      <td>2192.99</td>\n",
       "    </tr>\n",
       "    <tr>\n",
       "      <th>1</th>\n",
       "      <td>H0AL01030</td>\n",
       "      <td>2010</td>\n",
       "      <td>583.75</td>\n",
       "    </tr>\n",
       "    <tr>\n",
       "      <th>2</th>\n",
       "      <td>H0AL01030</td>\n",
       "      <td>2012</td>\n",
       "      <td>56.58</td>\n",
       "    </tr>\n",
       "    <tr>\n",
       "      <th>3</th>\n",
       "      <td>H0AL05155</td>\n",
       "      <td>2010</td>\n",
       "      <td>47101.73</td>\n",
       "    </tr>\n",
       "    <tr>\n",
       "      <th>4</th>\n",
       "      <td>H0AL05163</td>\n",
       "      <td>2010</td>\n",
       "      <td>9362.66</td>\n",
       "    </tr>\n",
       "  </tbody>\n",
       "</table>\n",
       "</div>"
      ],
      "text/plain": [
       "     cand_id cycle        c7\n",
       "0  H0AL00016  2010   2192.99\n",
       "1  H0AL01030  2010    583.75\n",
       "2  H0AL01030  2012     56.58\n",
       "3  H0AL05155  2010  47101.73\n",
       "4  H0AL05163  2010   9362.66"
      ]
     },
     "execution_count": 276,
     "metadata": {},
     "output_type": "execute_result"
    }
   ],
   "source": [
    "cs7.head()"
   ]
  },
  {
   "cell_type": "code",
   "execution_count": 277,
   "metadata": {
    "collapsed": false
   },
   "outputs": [],
   "source": [
    "#agg_df = cs7.sum(level=['cand_id','cycle'])\n",
    "#print(agg_df)"
   ]
  },
  {
   "cell_type": "code",
   "execution_count": 278,
   "metadata": {
    "collapsed": false
   },
   "outputs": [],
   "source": [
    "#test\n",
    "#agg_df.loc['H0AL02087','2010']"
   ]
  },
  {
   "cell_type": "code",
   "execution_count": 279,
   "metadata": {
    "collapsed": true
   },
   "outputs": [],
   "source": [
    "cm1 = pd.merge(cm1, cs7, on=['cand_id','cycle'], how='outer')"
   ]
  },
  {
   "cell_type": "code",
   "execution_count": 280,
   "metadata": {
    "collapsed": true
   },
   "outputs": [],
   "source": [
    "cs8 = catsort"
   ]
  },
  {
   "cell_type": "code",
   "execution_count": 281,
   "metadata": {
    "collapsed": true
   },
   "outputs": [],
   "source": [
    "cs8 = cs8.drop(['c1', 'c2', 'c3', 'c4', 'c5', 'c6', 'c7', 'c9', 'c10', 'c11', 'c12', 'c13','total'], axis = 1)"
   ]
  },
  {
   "cell_type": "code",
   "execution_count": 282,
   "metadata": {
    "collapsed": true
   },
   "outputs": [],
   "source": [
    "cs8 = cs8[pd.notnull(cs8['c8'])]"
   ]
  },
  {
   "cell_type": "code",
   "execution_count": 283,
   "metadata": {
    "collapsed": true
   },
   "outputs": [],
   "source": [
    "#cs8.groupby(['cand_id','cycle'])['c8'].sum()"
   ]
  },
  {
   "cell_type": "code",
   "execution_count": 284,
   "metadata": {
    "collapsed": true
   },
   "outputs": [],
   "source": [
    "cs8 = cs8.drop_duplicates()"
   ]
  },
  {
   "cell_type": "code",
   "execution_count": 285,
   "metadata": {
    "collapsed": false
   },
   "outputs": [],
   "source": [
    "cs8 = cs8.groupby(['cand_id','cycle'])['c8'].sum().reset_index()"
   ]
  },
  {
   "cell_type": "code",
   "execution_count": 286,
   "metadata": {
    "collapsed": true
   },
   "outputs": [],
   "source": [
    "#cs8.set_index(['cand_id','cycle'], inplace=True)"
   ]
  },
  {
   "cell_type": "code",
   "execution_count": 287,
   "metadata": {
    "collapsed": false
   },
   "outputs": [
    {
     "data": {
      "text/html": [
       "<div>\n",
       "<table border=\"1\" class=\"dataframe\">\n",
       "  <thead>\n",
       "    <tr style=\"text-align: right;\">\n",
       "      <th></th>\n",
       "      <th>cand_id</th>\n",
       "      <th>cycle</th>\n",
       "      <th>c8</th>\n",
       "    </tr>\n",
       "  </thead>\n",
       "  <tbody>\n",
       "    <tr>\n",
       "      <th>0</th>\n",
       "      <td>H0AL05163</td>\n",
       "      <td>2010</td>\n",
       "      <td>249.00</td>\n",
       "    </tr>\n",
       "    <tr>\n",
       "      <th>1</th>\n",
       "      <td>H0AZ01259</td>\n",
       "      <td>2012</td>\n",
       "      <td>50000.00</td>\n",
       "    </tr>\n",
       "    <tr>\n",
       "      <th>2</th>\n",
       "      <td>H0CA15148</td>\n",
       "      <td>2004</td>\n",
       "      <td>904.66</td>\n",
       "    </tr>\n",
       "    <tr>\n",
       "      <th>3</th>\n",
       "      <td>H0FL04066</td>\n",
       "      <td>2006</td>\n",
       "      <td>500000.00</td>\n",
       "    </tr>\n",
       "    <tr>\n",
       "      <th>4</th>\n",
       "      <td>H0HI01157</td>\n",
       "      <td>2010</td>\n",
       "      <td>15000.00</td>\n",
       "    </tr>\n",
       "  </tbody>\n",
       "</table>\n",
       "</div>"
      ],
      "text/plain": [
       "     cand_id cycle         c8\n",
       "0  H0AL05163  2010     249.00\n",
       "1  H0AZ01259  2012   50000.00\n",
       "2  H0CA15148  2004     904.66\n",
       "3  H0FL04066  2006  500000.00\n",
       "4  H0HI01157  2010   15000.00"
      ]
     },
     "execution_count": 287,
     "metadata": {},
     "output_type": "execute_result"
    }
   ],
   "source": [
    "cs8.head()"
   ]
  },
  {
   "cell_type": "code",
   "execution_count": 288,
   "metadata": {
    "collapsed": false
   },
   "outputs": [],
   "source": [
    "#agg_df = cs8.sum(level=['cand_id','cycle'])\n",
    "#print(agg_df)"
   ]
  },
  {
   "cell_type": "code",
   "execution_count": 289,
   "metadata": {
    "collapsed": false
   },
   "outputs": [],
   "source": [
    "#test\n",
    "#agg_df.loc['S8WV00093','2008']"
   ]
  },
  {
   "cell_type": "code",
   "execution_count": 290,
   "metadata": {
    "collapsed": true
   },
   "outputs": [],
   "source": [
    "cm1 = pd.merge(cm1, cs8, on=['cand_id','cycle'], how='outer')"
   ]
  },
  {
   "cell_type": "code",
   "execution_count": 291,
   "metadata": {
    "collapsed": true
   },
   "outputs": [],
   "source": [
    "cs9 = catsort"
   ]
  },
  {
   "cell_type": "code",
   "execution_count": 292,
   "metadata": {
    "collapsed": true
   },
   "outputs": [],
   "source": [
    "cs9 = cs9.drop(['c1', 'c2', 'c3', 'c4', 'c5', 'c6', 'c7', 'c8', 'c10', 'c11', 'c12', 'c13','total'], axis = 1)"
   ]
  },
  {
   "cell_type": "code",
   "execution_count": 293,
   "metadata": {
    "collapsed": true
   },
   "outputs": [],
   "source": [
    "cs9 = cs9[pd.notnull(cs9['c9'])]"
   ]
  },
  {
   "cell_type": "code",
   "execution_count": 108,
   "metadata": {
    "collapsed": true
   },
   "outputs": [],
   "source": [
    "#cs9.groupby(['cand_id','cycle'])['c9'].sum()"
   ]
  },
  {
   "cell_type": "code",
   "execution_count": 294,
   "metadata": {
    "collapsed": true
   },
   "outputs": [],
   "source": [
    "cs9 = cs9.drop_duplicates()"
   ]
  },
  {
   "cell_type": "code",
   "execution_count": 295,
   "metadata": {
    "collapsed": true
   },
   "outputs": [],
   "source": [
    "#cs9.set_index(['cand_id','cycle'], inplace=True)"
   ]
  },
  {
   "cell_type": "code",
   "execution_count": 296,
   "metadata": {
    "collapsed": false
   },
   "outputs": [],
   "source": [
    "#agg_df = cs9.sum(level=['cand_id','cycle'])\n",
    "#print(agg_df)"
   ]
  },
  {
   "cell_type": "code",
   "execution_count": 297,
   "metadata": {
    "collapsed": true
   },
   "outputs": [],
   "source": [
    "cs9 = cs9.groupby(['cand_id','cycle'])['c9'].sum().reset_index()"
   ]
  },
  {
   "cell_type": "code",
   "execution_count": 298,
   "metadata": {
    "collapsed": false
   },
   "outputs": [
    {
     "data": {
      "text/html": [
       "<div>\n",
       "<table border=\"1\" class=\"dataframe\">\n",
       "  <thead>\n",
       "    <tr style=\"text-align: right;\">\n",
       "      <th></th>\n",
       "      <th>cand_id</th>\n",
       "      <th>cycle</th>\n",
       "      <th>c9</th>\n",
       "    </tr>\n",
       "  </thead>\n",
       "  <tbody>\n",
       "    <tr>\n",
       "      <th>0</th>\n",
       "      <td>H0AL07177</td>\n",
       "      <td>2012</td>\n",
       "      <td>1020.00</td>\n",
       "    </tr>\n",
       "    <tr>\n",
       "      <th>1</th>\n",
       "      <td>H0AR01109</td>\n",
       "      <td>2012</td>\n",
       "      <td>4000.00</td>\n",
       "    </tr>\n",
       "    <tr>\n",
       "      <th>2</th>\n",
       "      <td>H0AR04061</td>\n",
       "      <td>2010</td>\n",
       "      <td>3027.27</td>\n",
       "    </tr>\n",
       "    <tr>\n",
       "      <th>3</th>\n",
       "      <td>H0AZ04493</td>\n",
       "      <td>2012</td>\n",
       "      <td>1615.52</td>\n",
       "    </tr>\n",
       "    <tr>\n",
       "      <th>4</th>\n",
       "      <td>H0CA02138</td>\n",
       "      <td>2012</td>\n",
       "      <td>1200.00</td>\n",
       "    </tr>\n",
       "  </tbody>\n",
       "</table>\n",
       "</div>"
      ],
      "text/plain": [
       "     cand_id cycle       c9\n",
       "0  H0AL07177  2012  1020.00\n",
       "1  H0AR01109  2012  4000.00\n",
       "2  H0AR04061  2010  3027.27\n",
       "3  H0AZ04493  2012  1615.52\n",
       "4  H0CA02138  2012  1200.00"
      ]
     },
     "execution_count": 298,
     "metadata": {},
     "output_type": "execute_result"
    }
   ],
   "source": [
    "cs9.head()"
   ]
  },
  {
   "cell_type": "code",
   "execution_count": 299,
   "metadata": {
    "collapsed": false
   },
   "outputs": [],
   "source": [
    "#test\n",
    "#agg_df.loc['H0AL05163','2010']"
   ]
  },
  {
   "cell_type": "code",
   "execution_count": 300,
   "metadata": {
    "collapsed": true
   },
   "outputs": [],
   "source": [
    "cm1 = pd.merge(cm1, cs9, on=['cand_id','cycle'], how='outer')"
   ]
  },
  {
   "cell_type": "code",
   "execution_count": 301,
   "metadata": {
    "collapsed": true
   },
   "outputs": [],
   "source": [
    "cs10 = catsort"
   ]
  },
  {
   "cell_type": "code",
   "execution_count": 302,
   "metadata": {
    "collapsed": true
   },
   "outputs": [],
   "source": [
    "cs10 = cs10.drop(['c1', 'c2', 'c3', 'c4', 'c5', 'c6', 'c7', 'c8', 'c9', 'c11', 'c12', 'c13','total'], axis = 1)"
   ]
  },
  {
   "cell_type": "code",
   "execution_count": 303,
   "metadata": {
    "collapsed": true
   },
   "outputs": [],
   "source": [
    "cs10 = cs10[pd.notnull(cs10['c10'])]"
   ]
  },
  {
   "cell_type": "code",
   "execution_count": 117,
   "metadata": {
    "collapsed": true
   },
   "outputs": [],
   "source": [
    "#cs10.groupby(['cand_id','cycle'])['c10'].sum()"
   ]
  },
  {
   "cell_type": "code",
   "execution_count": 304,
   "metadata": {
    "collapsed": true
   },
   "outputs": [],
   "source": [
    "cs10 = cs10.drop_duplicates()"
   ]
  },
  {
   "cell_type": "code",
   "execution_count": 305,
   "metadata": {
    "collapsed": true
   },
   "outputs": [],
   "source": [
    "#cs10.set_index(['cand_id','cycle'], inplace=True)"
   ]
  },
  {
   "cell_type": "code",
   "execution_count": 306,
   "metadata": {
    "collapsed": false
   },
   "outputs": [],
   "source": [
    "cs10 = cs10.groupby(['cand_id','cycle'])['c10'].sum().reset_index()"
   ]
  },
  {
   "cell_type": "code",
   "execution_count": 307,
   "metadata": {
    "collapsed": false
   },
   "outputs": [],
   "source": [
    "#agg_df = cs10.sum(level=['cand_id','cycle'])\n",
    "#print(agg_df)"
   ]
  },
  {
   "cell_type": "code",
   "execution_count": 308,
   "metadata": {
    "collapsed": false
   },
   "outputs": [],
   "source": [
    "#test\n",
    "#agg_df.loc['H0AL05155','2010']"
   ]
  },
  {
   "cell_type": "code",
   "execution_count": 309,
   "metadata": {
    "collapsed": true
   },
   "outputs": [],
   "source": [
    "cm1 = pd.merge(cm1, cs10, on=['cand_id','cycle'], how='outer')"
   ]
  },
  {
   "cell_type": "code",
   "execution_count": 310,
   "metadata": {
    "collapsed": true
   },
   "outputs": [],
   "source": [
    "cs11 = catsort"
   ]
  },
  {
   "cell_type": "code",
   "execution_count": 311,
   "metadata": {
    "collapsed": true
   },
   "outputs": [],
   "source": [
    "cs11 = cs11.drop(['c1', 'c2', 'c3', 'c4', 'c5', 'c6', 'c7', 'c8', 'c9', 'c10', 'c12', 'c13','total'], axis = 1)"
   ]
  },
  {
   "cell_type": "code",
   "execution_count": 312,
   "metadata": {
    "collapsed": true
   },
   "outputs": [],
   "source": [
    "cs11 = cs11[pd.notnull(cs11['c11'])]"
   ]
  },
  {
   "cell_type": "code",
   "execution_count": 315,
   "metadata": {
    "collapsed": true
   },
   "outputs": [],
   "source": [
    "#cs11.groupby(['cand_id','cycle'])['c11'].sum()"
   ]
  },
  {
   "cell_type": "code",
   "execution_count": 313,
   "metadata": {
    "collapsed": true
   },
   "outputs": [],
   "source": [
    "cs11 = cs11.drop_duplicates()"
   ]
  },
  {
   "cell_type": "code",
   "execution_count": 314,
   "metadata": {
    "collapsed": true
   },
   "outputs": [],
   "source": [
    "#cs11.set_index(['cand_id','cycle'], inplace=True)"
   ]
  },
  {
   "cell_type": "code",
   "execution_count": 316,
   "metadata": {
    "collapsed": true
   },
   "outputs": [],
   "source": [
    "cs11 = cs11.groupby(['cand_id','cycle'])['c11'].sum().reset_index()"
   ]
  },
  {
   "cell_type": "code",
   "execution_count": 317,
   "metadata": {
    "collapsed": false
   },
   "outputs": [],
   "source": [
    "#agg_df = cs11.sum(level=['cand_id','cycle'])\n",
    "#print(agg_df)"
   ]
  },
  {
   "cell_type": "code",
   "execution_count": 318,
   "metadata": {
    "collapsed": false
   },
   "outputs": [],
   "source": [
    "#test\n",
    "#agg_df.loc['H0AL05197','2010']"
   ]
  },
  {
   "cell_type": "code",
   "execution_count": 328,
   "metadata": {
    "collapsed": true
   },
   "outputs": [],
   "source": [
    "cm1 = pd.merge(cm1, cs11, on=['cand_id','cycle'], how='outer')"
   ]
  },
  {
   "cell_type": "code",
   "execution_count": 319,
   "metadata": {
    "collapsed": true
   },
   "outputs": [],
   "source": [
    "cs12 = catsort"
   ]
  },
  {
   "cell_type": "code",
   "execution_count": 320,
   "metadata": {
    "collapsed": true
   },
   "outputs": [],
   "source": [
    "cs12 = cs12.drop(['c1', 'c2', 'c3', 'c4', 'c5', 'c6', 'c7', 'c8', 'c9', 'c10', 'c11', 'c13','total'], axis = 1)"
   ]
  },
  {
   "cell_type": "code",
   "execution_count": 321,
   "metadata": {
    "collapsed": true
   },
   "outputs": [],
   "source": [
    "cs12 = cs12[pd.notnull(cs12['c12'])]"
   ]
  },
  {
   "cell_type": "code",
   "execution_count": 322,
   "metadata": {
    "collapsed": true
   },
   "outputs": [],
   "source": [
    "#cs12.groupby(['cand_id','cycle'])['c12'].sum()"
   ]
  },
  {
   "cell_type": "code",
   "execution_count": 323,
   "metadata": {
    "collapsed": true
   },
   "outputs": [],
   "source": [
    "cs12 = cs12.drop_duplicates()"
   ]
  },
  {
   "cell_type": "code",
   "execution_count": 324,
   "metadata": {
    "collapsed": true
   },
   "outputs": [],
   "source": [
    "#cs12.set_index(['cand_id','cycle'], inplace=True)"
   ]
  },
  {
   "cell_type": "code",
   "execution_count": 325,
   "metadata": {
    "collapsed": false
   },
   "outputs": [],
   "source": [
    "cs12 = cs12.groupby(['cand_id','cycle'])['c12'].sum().reset_index()"
   ]
  },
  {
   "cell_type": "code",
   "execution_count": 326,
   "metadata": {
    "collapsed": false
   },
   "outputs": [],
   "source": [
    "#agg_df = cs12.sum(level=['cand_id','cycle'])\n",
    "#print(agg_df)"
   ]
  },
  {
   "cell_type": "code",
   "execution_count": 327,
   "metadata": {
    "collapsed": false
   },
   "outputs": [],
   "source": [
    "#test\n",
    "#agg_df.loc['H0AL05049', '2012']"
   ]
  },
  {
   "cell_type": "code",
   "execution_count": 329,
   "metadata": {
    "collapsed": true
   },
   "outputs": [],
   "source": [
    "cm1 = pd.merge(cm1, cs12, on=['cand_id','cycle'], how='outer')"
   ]
  },
  {
   "cell_type": "code",
   "execution_count": 330,
   "metadata": {
    "collapsed": true
   },
   "outputs": [],
   "source": [
    "cs13 = catsort"
   ]
  },
  {
   "cell_type": "code",
   "execution_count": 331,
   "metadata": {
    "collapsed": true
   },
   "outputs": [],
   "source": [
    "cs13 = cs13.drop(['c1', 'c2', 'c3', 'c4', 'c5', 'c6', 'c7', 'c8', 'c9', 'c10', 'c11', 'c12','total'], axis = 1)"
   ]
  },
  {
   "cell_type": "code",
   "execution_count": 332,
   "metadata": {
    "collapsed": true
   },
   "outputs": [],
   "source": [
    "cs13 = cs13[pd.notnull(cs13['c13'])]"
   ]
  },
  {
   "cell_type": "code",
   "execution_count": 333,
   "metadata": {
    "collapsed": true
   },
   "outputs": [],
   "source": [
    "#cs13.groupby(['cand_id','cycle'])['c13'].sum()"
   ]
  },
  {
   "cell_type": "code",
   "execution_count": 334,
   "metadata": {
    "collapsed": true
   },
   "outputs": [],
   "source": [
    "cs13 = cs13.drop_duplicates()"
   ]
  },
  {
   "cell_type": "code",
   "execution_count": 335,
   "metadata": {
    "collapsed": true
   },
   "outputs": [],
   "source": [
    "#cs13.set_index(['cand_id','cycle'], inplace=True)"
   ]
  },
  {
   "cell_type": "code",
   "execution_count": 336,
   "metadata": {
    "collapsed": false
   },
   "outputs": [],
   "source": [
    "cs13 = cs13.groupby(['cand_id','cycle'])['c13'].sum().reset_index()"
   ]
  },
  {
   "cell_type": "code",
   "execution_count": 337,
   "metadata": {
    "collapsed": false
   },
   "outputs": [],
   "source": [
    "#agg_df = cs13.sum(level=['cand_id','cycle'])\n",
    "#print(agg_df)"
   ]
  },
  {
   "cell_type": "code",
   "execution_count": 338,
   "metadata": {
    "collapsed": false
   },
   "outputs": [],
   "source": [
    "cm1 = pd.merge(cm1, cs13, on=['cand_id','cycle'], how='outer')"
   ]
  },
  {
   "cell_type": "code",
   "execution_count": 339,
   "metadata": {
    "collapsed": false
   },
   "outputs": [],
   "source": [
    "#test\n",
    "#agg_df.loc['S8WY00163','2008']"
   ]
  },
  {
   "cell_type": "code",
   "execution_count": 344,
   "metadata": {
    "collapsed": false
   },
   "outputs": [
    {
     "data": {
      "text/html": [
       "<div>\n",
       "<table border=\"1\" class=\"dataframe\">\n",
       "  <thead>\n",
       "    <tr style=\"text-align: right;\">\n",
       "      <th></th>\n",
       "      <th>cand_id</th>\n",
       "      <th>cycle</th>\n",
       "      <th>c1</th>\n",
       "      <th>c2</th>\n",
       "      <th>c3</th>\n",
       "      <th>c4</th>\n",
       "      <th>c5</th>\n",
       "      <th>c6</th>\n",
       "      <th>c7</th>\n",
       "      <th>c8</th>\n",
       "      <th>c9</th>\n",
       "      <th>c10</th>\n",
       "      <th>c11</th>\n",
       "      <th>c12</th>\n",
       "      <th>c13</th>\n",
       "    </tr>\n",
       "  </thead>\n",
       "  <tbody>\n",
       "    <tr>\n",
       "      <th>0</th>\n",
       "      <td>H0AK00089</td>\n",
       "      <td>2010</td>\n",
       "      <td>550.00</td>\n",
       "      <td>NaN</td>\n",
       "      <td>NaN</td>\n",
       "      <td>NaN</td>\n",
       "      <td>NaN</td>\n",
       "      <td>785.00</td>\n",
       "      <td>NaN</td>\n",
       "      <td>NaN</td>\n",
       "      <td>NaN</td>\n",
       "      <td>NaN</td>\n",
       "      <td>NaN</td>\n",
       "      <td>NaN</td>\n",
       "      <td>218666.06</td>\n",
       "    </tr>\n",
       "    <tr>\n",
       "      <th>1</th>\n",
       "      <td>H0AK01038</td>\n",
       "      <td>2010</td>\n",
       "      <td>1569.23</td>\n",
       "      <td>88.93</td>\n",
       "      <td>NaN</td>\n",
       "      <td>NaN</td>\n",
       "      <td>NaN</td>\n",
       "      <td>NaN</td>\n",
       "      <td>NaN</td>\n",
       "      <td>NaN</td>\n",
       "      <td>NaN</td>\n",
       "      <td>NaN</td>\n",
       "      <td>NaN</td>\n",
       "      <td>NaN</td>\n",
       "      <td>168119.58</td>\n",
       "    </tr>\n",
       "    <tr>\n",
       "      <th>2</th>\n",
       "      <td>H0AL00016</td>\n",
       "      <td>2010</td>\n",
       "      <td>19831.34</td>\n",
       "      <td>909.80</td>\n",
       "      <td>81.19</td>\n",
       "      <td>465.00</td>\n",
       "      <td>NaN</td>\n",
       "      <td>3177.55</td>\n",
       "      <td>2192.99</td>\n",
       "      <td>NaN</td>\n",
       "      <td>NaN</td>\n",
       "      <td>NaN</td>\n",
       "      <td>NaN</td>\n",
       "      <td>300.0</td>\n",
       "      <td>NaN</td>\n",
       "    </tr>\n",
       "    <tr>\n",
       "      <th>3</th>\n",
       "      <td>H0AL01030</td>\n",
       "      <td>2010</td>\n",
       "      <td>7054.34</td>\n",
       "      <td>5233.32</td>\n",
       "      <td>668.95</td>\n",
       "      <td>27082.28</td>\n",
       "      <td>1175.0</td>\n",
       "      <td>1295.21</td>\n",
       "      <td>583.75</td>\n",
       "      <td>NaN</td>\n",
       "      <td>NaN</td>\n",
       "      <td>NaN</td>\n",
       "      <td>NaN</td>\n",
       "      <td>NaN</td>\n",
       "      <td>1284.15</td>\n",
       "    </tr>\n",
       "    <tr>\n",
       "      <th>4</th>\n",
       "      <td>H0AL01030</td>\n",
       "      <td>2012</td>\n",
       "      <td>3480.00</td>\n",
       "      <td>27.72</td>\n",
       "      <td>381.09</td>\n",
       "      <td>7257.71</td>\n",
       "      <td>NaN</td>\n",
       "      <td>NaN</td>\n",
       "      <td>56.58</td>\n",
       "      <td>NaN</td>\n",
       "      <td>NaN</td>\n",
       "      <td>NaN</td>\n",
       "      <td>NaN</td>\n",
       "      <td>NaN</td>\n",
       "      <td>NaN</td>\n",
       "    </tr>\n",
       "  </tbody>\n",
       "</table>\n",
       "</div>"
      ],
      "text/plain": [
       "     cand_id cycle        c1       c2      c3        c4      c5       c6  \\\n",
       "0  H0AK00089  2010    550.00      NaN     NaN       NaN     NaN   785.00   \n",
       "1  H0AK01038  2010   1569.23    88.93     NaN       NaN     NaN      NaN   \n",
       "2  H0AL00016  2010  19831.34   909.80   81.19    465.00     NaN  3177.55   \n",
       "3  H0AL01030  2010   7054.34  5233.32  668.95  27082.28  1175.0  1295.21   \n",
       "4  H0AL01030  2012   3480.00    27.72  381.09   7257.71     NaN      NaN   \n",
       "\n",
       "        c7  c8  c9  c10  c11    c12        c13  \n",
       "0      NaN NaN NaN  NaN  NaN    NaN  218666.06  \n",
       "1      NaN NaN NaN  NaN  NaN    NaN  168119.58  \n",
       "2  2192.99 NaN NaN  NaN  NaN  300.0        NaN  \n",
       "3   583.75 NaN NaN  NaN  NaN    NaN    1284.15  \n",
       "4    56.58 NaN NaN  NaN  NaN    NaN        NaN  "
      ]
     },
     "execution_count": 344,
     "metadata": {},
     "output_type": "execute_result"
    }
   ],
   "source": [
    "cm1.head()"
   ]
  },
  {
   "cell_type": "code",
   "execution_count": 343,
   "metadata": {
    "collapsed": true
   },
   "outputs": [],
   "source": [
    "cm1.to_csv('cand_cat.csv', index=False)"
   ]
  },
  {
   "cell_type": "code",
   "execution_count": 154,
   "metadata": {
    "collapsed": true
   },
   "outputs": [],
   "source": [
    "pr = exp"
   ]
  },
  {
   "cell_type": "code",
   "execution_count": 155,
   "metadata": {
    "collapsed": false
   },
   "outputs": [
    {
     "data": {
      "text/html": [
       "<div>\n",
       "<table border=\"1\" class=\"dataframe\">\n",
       "  <thead>\n",
       "    <tr style=\"text-align: right;\">\n",
       "      <th></th>\n",
       "      <th>state_abbreviation</th>\n",
       "      <th>district</th>\n",
       "      <th>incumbent</th>\n",
       "      <th>party</th>\n",
       "      <th>primary_votes</th>\n",
       "      <th>runoff_votes</th>\n",
       "      <th>general_votes</th>\n",
       "      <th>ge_runoff_election_votes</th>\n",
       "      <th>ge_winner_indicator</th>\n",
       "      <th>total_votes</th>\n",
       "      <th>cand_id</th>\n",
       "      <th>cmte_id</th>\n",
       "      <th>exp_sum</th>\n",
       "      <th>category</th>\n",
       "      <th>cycle</th>\n",
       "    </tr>\n",
       "  </thead>\n",
       "  <tbody>\n",
       "    <tr>\n",
       "      <th>0</th>\n",
       "      <td>AL</td>\n",
       "      <td>7</td>\n",
       "      <td>(I)</td>\n",
       "      <td>D</td>\n",
       "      <td>0.0</td>\n",
       "      <td>NaN</td>\n",
       "      <td>228518.0</td>\n",
       "      <td>NaN</td>\n",
       "      <td>W</td>\n",
       "      <td>228518</td>\n",
       "      <td>H0AL07060</td>\n",
       "      <td>C00347872</td>\n",
       "      <td>1363.96</td>\n",
       "      <td>NaN</td>\n",
       "      <td>2012</td>\n",
       "    </tr>\n",
       "    <tr>\n",
       "      <th>1</th>\n",
       "      <td>AL</td>\n",
       "      <td>7</td>\n",
       "      <td>(I)</td>\n",
       "      <td>DEM</td>\n",
       "      <td>93586.0</td>\n",
       "      <td>NaN</td>\n",
       "      <td>133870.0</td>\n",
       "      <td>NaN</td>\n",
       "      <td>W</td>\n",
       "      <td>227456</td>\n",
       "      <td>H0AL07060</td>\n",
       "      <td>C00347872</td>\n",
       "      <td>1363.96</td>\n",
       "      <td>NaN</td>\n",
       "      <td>2012</td>\n",
       "    </tr>\n",
       "    <tr>\n",
       "      <th>2</th>\n",
       "      <td>AL</td>\n",
       "      <td>7</td>\n",
       "      <td>(I)</td>\n",
       "      <td>D</td>\n",
       "      <td>58193.0</td>\n",
       "      <td>NaN</td>\n",
       "      <td>183408.0</td>\n",
       "      <td>NaN</td>\n",
       "      <td>W</td>\n",
       "      <td>241601</td>\n",
       "      <td>H0AL07060</td>\n",
       "      <td>C00347872</td>\n",
       "      <td>1363.96</td>\n",
       "      <td>NaN</td>\n",
       "      <td>2012</td>\n",
       "    </tr>\n",
       "    <tr>\n",
       "      <th>3</th>\n",
       "      <td>AL</td>\n",
       "      <td>7</td>\n",
       "      <td>(I)</td>\n",
       "      <td>D</td>\n",
       "      <td>0.0</td>\n",
       "      <td>NaN</td>\n",
       "      <td>228518.0</td>\n",
       "      <td>NaN</td>\n",
       "      <td>W</td>\n",
       "      <td>228518</td>\n",
       "      <td>H0AL07060</td>\n",
       "      <td>C00347872</td>\n",
       "      <td>1204248.81</td>\n",
       "      <td>NaN</td>\n",
       "      <td>2010</td>\n",
       "    </tr>\n",
       "    <tr>\n",
       "      <th>4</th>\n",
       "      <td>AL</td>\n",
       "      <td>7</td>\n",
       "      <td>(I)</td>\n",
       "      <td>DEM</td>\n",
       "      <td>93586.0</td>\n",
       "      <td>NaN</td>\n",
       "      <td>133870.0</td>\n",
       "      <td>NaN</td>\n",
       "      <td>W</td>\n",
       "      <td>227456</td>\n",
       "      <td>H0AL07060</td>\n",
       "      <td>C00347872</td>\n",
       "      <td>1204248.81</td>\n",
       "      <td>NaN</td>\n",
       "      <td>2010</td>\n",
       "    </tr>\n",
       "  </tbody>\n",
       "</table>\n",
       "</div>"
      ],
      "text/plain": [
       "  state_abbreviation district incumbent party  primary_votes  runoff_votes  \\\n",
       "0                 AL        7       (I)     D            0.0           NaN   \n",
       "1                 AL        7       (I)   DEM        93586.0           NaN   \n",
       "2                 AL        7       (I)     D        58193.0           NaN   \n",
       "3                 AL        7       (I)     D            0.0           NaN   \n",
       "4                 AL        7       (I)   DEM        93586.0           NaN   \n",
       "\n",
       "   general_votes  ge_runoff_election_votes ge_winner_indicator  total_votes  \\\n",
       "0       228518.0                       NaN                   W       228518   \n",
       "1       133870.0                       NaN                   W       227456   \n",
       "2       183408.0                       NaN                   W       241601   \n",
       "3       228518.0                       NaN                   W       228518   \n",
       "4       133870.0                       NaN                   W       227456   \n",
       "\n",
       "     cand_id    cmte_id     exp_sum category cycle  \n",
       "0  H0AL07060  C00347872     1363.96      NaN  2012  \n",
       "1  H0AL07060  C00347872     1363.96      NaN  2012  \n",
       "2  H0AL07060  C00347872     1363.96      NaN  2012  \n",
       "3  H0AL07060  C00347872  1204248.81      NaN  2010  \n",
       "4  H0AL07060  C00347872  1204248.81      NaN  2010  "
      ]
     },
     "execution_count": 155,
     "metadata": {},
     "output_type": "execute_result"
    }
   ],
   "source": [
    "pr.head()"
   ]
  },
  {
   "cell_type": "code",
   "execution_count": 156,
   "metadata": {
    "collapsed": true
   },
   "outputs": [],
   "source": [
    "pr = pr.drop(['cmte_id', 'exp_sum', 'category'], axis = 1)"
   ]
  },
  {
   "cell_type": "code",
   "execution_count": 157,
   "metadata": {
    "collapsed": true
   },
   "outputs": [],
   "source": [
    "#exp= exp[pd.notnull(cs12['c12'])]"
   ]
  },
  {
   "cell_type": "code",
   "execution_count": 158,
   "metadata": {
    "collapsed": false
   },
   "outputs": [
    {
     "data": {
      "text/html": [
       "<div>\n",
       "<table border=\"1\" class=\"dataframe\">\n",
       "  <thead>\n",
       "    <tr style=\"text-align: right;\">\n",
       "      <th></th>\n",
       "      <th>state_abbreviation</th>\n",
       "      <th>district</th>\n",
       "      <th>incumbent</th>\n",
       "      <th>party</th>\n",
       "      <th>primary_votes</th>\n",
       "      <th>runoff_votes</th>\n",
       "      <th>general_votes</th>\n",
       "      <th>ge_runoff_election_votes</th>\n",
       "      <th>ge_winner_indicator</th>\n",
       "      <th>total_votes</th>\n",
       "      <th>cand_id</th>\n",
       "      <th>cycle</th>\n",
       "    </tr>\n",
       "  </thead>\n",
       "  <tbody>\n",
       "    <tr>\n",
       "      <th>0</th>\n",
       "      <td>AL</td>\n",
       "      <td>7</td>\n",
       "      <td>(I)</td>\n",
       "      <td>D</td>\n",
       "      <td>0.0</td>\n",
       "      <td>NaN</td>\n",
       "      <td>228518.0</td>\n",
       "      <td>NaN</td>\n",
       "      <td>W</td>\n",
       "      <td>228518</td>\n",
       "      <td>H0AL07060</td>\n",
       "      <td>2012</td>\n",
       "    </tr>\n",
       "    <tr>\n",
       "      <th>1</th>\n",
       "      <td>AL</td>\n",
       "      <td>7</td>\n",
       "      <td>(I)</td>\n",
       "      <td>DEM</td>\n",
       "      <td>93586.0</td>\n",
       "      <td>NaN</td>\n",
       "      <td>133870.0</td>\n",
       "      <td>NaN</td>\n",
       "      <td>W</td>\n",
       "      <td>227456</td>\n",
       "      <td>H0AL07060</td>\n",
       "      <td>2012</td>\n",
       "    </tr>\n",
       "    <tr>\n",
       "      <th>2</th>\n",
       "      <td>AL</td>\n",
       "      <td>7</td>\n",
       "      <td>(I)</td>\n",
       "      <td>D</td>\n",
       "      <td>58193.0</td>\n",
       "      <td>NaN</td>\n",
       "      <td>183408.0</td>\n",
       "      <td>NaN</td>\n",
       "      <td>W</td>\n",
       "      <td>241601</td>\n",
       "      <td>H0AL07060</td>\n",
       "      <td>2012</td>\n",
       "    </tr>\n",
       "    <tr>\n",
       "      <th>3</th>\n",
       "      <td>AL</td>\n",
       "      <td>7</td>\n",
       "      <td>(I)</td>\n",
       "      <td>D</td>\n",
       "      <td>0.0</td>\n",
       "      <td>NaN</td>\n",
       "      <td>228518.0</td>\n",
       "      <td>NaN</td>\n",
       "      <td>W</td>\n",
       "      <td>228518</td>\n",
       "      <td>H0AL07060</td>\n",
       "      <td>2010</td>\n",
       "    </tr>\n",
       "    <tr>\n",
       "      <th>4</th>\n",
       "      <td>AL</td>\n",
       "      <td>7</td>\n",
       "      <td>(I)</td>\n",
       "      <td>DEM</td>\n",
       "      <td>93586.0</td>\n",
       "      <td>NaN</td>\n",
       "      <td>133870.0</td>\n",
       "      <td>NaN</td>\n",
       "      <td>W</td>\n",
       "      <td>227456</td>\n",
       "      <td>H0AL07060</td>\n",
       "      <td>2010</td>\n",
       "    </tr>\n",
       "  </tbody>\n",
       "</table>\n",
       "</div>"
      ],
      "text/plain": [
       "  state_abbreviation district incumbent party  primary_votes  runoff_votes  \\\n",
       "0                 AL        7       (I)     D            0.0           NaN   \n",
       "1                 AL        7       (I)   DEM        93586.0           NaN   \n",
       "2                 AL        7       (I)     D        58193.0           NaN   \n",
       "3                 AL        7       (I)     D            0.0           NaN   \n",
       "4                 AL        7       (I)   DEM        93586.0           NaN   \n",
       "\n",
       "   general_votes  ge_runoff_election_votes ge_winner_indicator  total_votes  \\\n",
       "0       228518.0                       NaN                   W       228518   \n",
       "1       133870.0                       NaN                   W       227456   \n",
       "2       183408.0                       NaN                   W       241601   \n",
       "3       228518.0                       NaN                   W       228518   \n",
       "4       133870.0                       NaN                   W       227456   \n",
       "\n",
       "     cand_id cycle  \n",
       "0  H0AL07060  2012  \n",
       "1  H0AL07060  2012  \n",
       "2  H0AL07060  2012  \n",
       "3  H0AL07060  2010  \n",
       "4  H0AL07060  2010  "
      ]
     },
     "execution_count": 158,
     "metadata": {},
     "output_type": "execute_result"
    }
   ],
   "source": [
    "pr.head()"
   ]
  },
  {
   "cell_type": "code",
   "execution_count": 159,
   "metadata": {
    "collapsed": true
   },
   "outputs": [],
   "source": [
    "#cs10 = cs10.drop_duplicates()"
   ]
  },
  {
   "cell_type": "code",
   "execution_count": 160,
   "metadata": {
    "collapsed": true
   },
   "outputs": [],
   "source": [
    "pr.set_index(['cand_id','cycle'], inplace=True)"
   ]
  },
  {
   "cell_type": "code",
   "execution_count": 161,
   "metadata": {
    "collapsed": false
   },
   "outputs": [
    {
     "data": {
      "text/html": [
       "<div>\n",
       "<table border=\"1\" class=\"dataframe\">\n",
       "  <thead>\n",
       "    <tr style=\"text-align: right;\">\n",
       "      <th></th>\n",
       "      <th></th>\n",
       "      <th>state_abbreviation</th>\n",
       "      <th>district</th>\n",
       "      <th>incumbent</th>\n",
       "      <th>party</th>\n",
       "      <th>primary_votes</th>\n",
       "      <th>runoff_votes</th>\n",
       "      <th>general_votes</th>\n",
       "      <th>ge_runoff_election_votes</th>\n",
       "      <th>ge_winner_indicator</th>\n",
       "      <th>total_votes</th>\n",
       "    </tr>\n",
       "    <tr>\n",
       "      <th>cand_id</th>\n",
       "      <th>cycle</th>\n",
       "      <th></th>\n",
       "      <th></th>\n",
       "      <th></th>\n",
       "      <th></th>\n",
       "      <th></th>\n",
       "      <th></th>\n",
       "      <th></th>\n",
       "      <th></th>\n",
       "      <th></th>\n",
       "      <th></th>\n",
       "    </tr>\n",
       "  </thead>\n",
       "  <tbody>\n",
       "    <tr>\n",
       "      <th rowspan=\"5\" valign=\"top\">H0AL07060</th>\n",
       "      <th>2012</th>\n",
       "      <td>AL</td>\n",
       "      <td>7</td>\n",
       "      <td>(I)</td>\n",
       "      <td>D</td>\n",
       "      <td>0.0</td>\n",
       "      <td>NaN</td>\n",
       "      <td>228518.0</td>\n",
       "      <td>NaN</td>\n",
       "      <td>W</td>\n",
       "      <td>228518</td>\n",
       "    </tr>\n",
       "    <tr>\n",
       "      <th>2012</th>\n",
       "      <td>AL</td>\n",
       "      <td>7</td>\n",
       "      <td>(I)</td>\n",
       "      <td>DEM</td>\n",
       "      <td>93586.0</td>\n",
       "      <td>NaN</td>\n",
       "      <td>133870.0</td>\n",
       "      <td>NaN</td>\n",
       "      <td>W</td>\n",
       "      <td>227456</td>\n",
       "    </tr>\n",
       "    <tr>\n",
       "      <th>2012</th>\n",
       "      <td>AL</td>\n",
       "      <td>7</td>\n",
       "      <td>(I)</td>\n",
       "      <td>D</td>\n",
       "      <td>58193.0</td>\n",
       "      <td>NaN</td>\n",
       "      <td>183408.0</td>\n",
       "      <td>NaN</td>\n",
       "      <td>W</td>\n",
       "      <td>241601</td>\n",
       "    </tr>\n",
       "    <tr>\n",
       "      <th>2010</th>\n",
       "      <td>AL</td>\n",
       "      <td>7</td>\n",
       "      <td>(I)</td>\n",
       "      <td>D</td>\n",
       "      <td>0.0</td>\n",
       "      <td>NaN</td>\n",
       "      <td>228518.0</td>\n",
       "      <td>NaN</td>\n",
       "      <td>W</td>\n",
       "      <td>228518</td>\n",
       "    </tr>\n",
       "    <tr>\n",
       "      <th>2010</th>\n",
       "      <td>AL</td>\n",
       "      <td>7</td>\n",
       "      <td>(I)</td>\n",
       "      <td>DEM</td>\n",
       "      <td>93586.0</td>\n",
       "      <td>NaN</td>\n",
       "      <td>133870.0</td>\n",
       "      <td>NaN</td>\n",
       "      <td>W</td>\n",
       "      <td>227456</td>\n",
       "    </tr>\n",
       "  </tbody>\n",
       "</table>\n",
       "</div>"
      ],
      "text/plain": [
       "                state_abbreviation district incumbent party  primary_votes  \\\n",
       "cand_id   cycle                                                              \n",
       "H0AL07060 2012                  AL        7       (I)     D            0.0   \n",
       "          2012                  AL        7       (I)   DEM        93586.0   \n",
       "          2012                  AL        7       (I)     D        58193.0   \n",
       "          2010                  AL        7       (I)     D            0.0   \n",
       "          2010                  AL        7       (I)   DEM        93586.0   \n",
       "\n",
       "                 runoff_votes  general_votes  ge_runoff_election_votes  \\\n",
       "cand_id   cycle                                                          \n",
       "H0AL07060 2012            NaN       228518.0                       NaN   \n",
       "          2012            NaN       133870.0                       NaN   \n",
       "          2012            NaN       183408.0                       NaN   \n",
       "          2010            NaN       228518.0                       NaN   \n",
       "          2010            NaN       133870.0                       NaN   \n",
       "\n",
       "                ge_winner_indicator  total_votes  \n",
       "cand_id   cycle                                   \n",
       "H0AL07060 2012                    W       228518  \n",
       "          2012                    W       227456  \n",
       "          2012                    W       241601  \n",
       "          2010                    W       228518  \n",
       "          2010                    W       227456  "
      ]
     },
     "execution_count": 161,
     "metadata": {},
     "output_type": "execute_result"
    }
   ],
   "source": [
    "pr.head()"
   ]
  },
  {
   "cell_type": "code",
   "execution_count": 162,
   "metadata": {
    "collapsed": true
   },
   "outputs": [],
   "source": [
    "pr['primary_votes'].fillna(0, inplace = True)"
   ]
  },
  {
   "cell_type": "code",
   "execution_count": 163,
   "metadata": {
    "collapsed": true
   },
   "outputs": [],
   "source": [
    "pr['runoff_votes'].fillna(0, inplace = True)"
   ]
  },
  {
   "cell_type": "code",
   "execution_count": 164,
   "metadata": {
    "collapsed": true
   },
   "outputs": [],
   "source": [
    "pr['ge_runoff_election_votes'].fillna(0, inplace = True)"
   ]
  },
  {
   "cell_type": "code",
   "execution_count": 165,
   "metadata": {
    "collapsed": true
   },
   "outputs": [],
   "source": [
    "pr['general_votes'].fillna(0, inplace = True)"
   ]
  },
  {
   "cell_type": "code",
   "execution_count": 166,
   "metadata": {
    "collapsed": false
   },
   "outputs": [
    {
     "data": {
      "text/html": [
       "<div>\n",
       "<table border=\"1\" class=\"dataframe\">\n",
       "  <thead>\n",
       "    <tr style=\"text-align: right;\">\n",
       "      <th></th>\n",
       "      <th></th>\n",
       "      <th>state_abbreviation</th>\n",
       "      <th>district</th>\n",
       "      <th>incumbent</th>\n",
       "      <th>party</th>\n",
       "      <th>primary_votes</th>\n",
       "      <th>runoff_votes</th>\n",
       "      <th>general_votes</th>\n",
       "      <th>ge_runoff_election_votes</th>\n",
       "      <th>ge_winner_indicator</th>\n",
       "      <th>total_votes</th>\n",
       "    </tr>\n",
       "    <tr>\n",
       "      <th>cand_id</th>\n",
       "      <th>cycle</th>\n",
       "      <th></th>\n",
       "      <th></th>\n",
       "      <th></th>\n",
       "      <th></th>\n",
       "      <th></th>\n",
       "      <th></th>\n",
       "      <th></th>\n",
       "      <th></th>\n",
       "      <th></th>\n",
       "      <th></th>\n",
       "    </tr>\n",
       "  </thead>\n",
       "  <tbody>\n",
       "    <tr>\n",
       "      <th rowspan=\"5\" valign=\"top\">H0AL07060</th>\n",
       "      <th>2012</th>\n",
       "      <td>AL</td>\n",
       "      <td>7</td>\n",
       "      <td>(I)</td>\n",
       "      <td>D</td>\n",
       "      <td>0.0</td>\n",
       "      <td>0.0</td>\n",
       "      <td>228518.0</td>\n",
       "      <td>0.0</td>\n",
       "      <td>W</td>\n",
       "      <td>228518</td>\n",
       "    </tr>\n",
       "    <tr>\n",
       "      <th>2012</th>\n",
       "      <td>AL</td>\n",
       "      <td>7</td>\n",
       "      <td>(I)</td>\n",
       "      <td>DEM</td>\n",
       "      <td>93586.0</td>\n",
       "      <td>0.0</td>\n",
       "      <td>133870.0</td>\n",
       "      <td>0.0</td>\n",
       "      <td>W</td>\n",
       "      <td>227456</td>\n",
       "    </tr>\n",
       "    <tr>\n",
       "      <th>2012</th>\n",
       "      <td>AL</td>\n",
       "      <td>7</td>\n",
       "      <td>(I)</td>\n",
       "      <td>D</td>\n",
       "      <td>58193.0</td>\n",
       "      <td>0.0</td>\n",
       "      <td>183408.0</td>\n",
       "      <td>0.0</td>\n",
       "      <td>W</td>\n",
       "      <td>241601</td>\n",
       "    </tr>\n",
       "    <tr>\n",
       "      <th>2010</th>\n",
       "      <td>AL</td>\n",
       "      <td>7</td>\n",
       "      <td>(I)</td>\n",
       "      <td>D</td>\n",
       "      <td>0.0</td>\n",
       "      <td>0.0</td>\n",
       "      <td>228518.0</td>\n",
       "      <td>0.0</td>\n",
       "      <td>W</td>\n",
       "      <td>228518</td>\n",
       "    </tr>\n",
       "    <tr>\n",
       "      <th>2010</th>\n",
       "      <td>AL</td>\n",
       "      <td>7</td>\n",
       "      <td>(I)</td>\n",
       "      <td>DEM</td>\n",
       "      <td>93586.0</td>\n",
       "      <td>0.0</td>\n",
       "      <td>133870.0</td>\n",
       "      <td>0.0</td>\n",
       "      <td>W</td>\n",
       "      <td>227456</td>\n",
       "    </tr>\n",
       "  </tbody>\n",
       "</table>\n",
       "</div>"
      ],
      "text/plain": [
       "                state_abbreviation district incumbent party  primary_votes  \\\n",
       "cand_id   cycle                                                              \n",
       "H0AL07060 2012                  AL        7       (I)     D            0.0   \n",
       "          2012                  AL        7       (I)   DEM        93586.0   \n",
       "          2012                  AL        7       (I)     D        58193.0   \n",
       "          2010                  AL        7       (I)     D            0.0   \n",
       "          2010                  AL        7       (I)   DEM        93586.0   \n",
       "\n",
       "                 runoff_votes  general_votes  ge_runoff_election_votes  \\\n",
       "cand_id   cycle                                                          \n",
       "H0AL07060 2012            0.0       228518.0                       0.0   \n",
       "          2012            0.0       133870.0                       0.0   \n",
       "          2012            0.0       183408.0                       0.0   \n",
       "          2010            0.0       228518.0                       0.0   \n",
       "          2010            0.0       133870.0                       0.0   \n",
       "\n",
       "                ge_winner_indicator  total_votes  \n",
       "cand_id   cycle                                   \n",
       "H0AL07060 2012                    W       228518  \n",
       "          2012                    W       227456  \n",
       "          2012                    W       241601  \n",
       "          2010                    W       228518  \n",
       "          2010                    W       227456  "
      ]
     },
     "execution_count": 166,
     "metadata": {},
     "output_type": "execute_result"
    }
   ],
   "source": [
    "pr.head()"
   ]
  },
  {
   "cell_type": "code",
   "execution_count": 167,
   "metadata": {
    "collapsed": true
   },
   "outputs": [],
   "source": [
    "pr['primary_total'] = pr.primary_votes + pr.runoff_votes"
   ]
  },
  {
   "cell_type": "code",
   "execution_count": 168,
   "metadata": {
    "collapsed": false
   },
   "outputs": [
    {
     "data": {
      "text/html": [
       "<div>\n",
       "<table border=\"1\" class=\"dataframe\">\n",
       "  <thead>\n",
       "    <tr style=\"text-align: right;\">\n",
       "      <th></th>\n",
       "      <th></th>\n",
       "      <th>state_abbreviation</th>\n",
       "      <th>district</th>\n",
       "      <th>incumbent</th>\n",
       "      <th>party</th>\n",
       "      <th>primary_votes</th>\n",
       "      <th>runoff_votes</th>\n",
       "      <th>general_votes</th>\n",
       "      <th>ge_runoff_election_votes</th>\n",
       "      <th>ge_winner_indicator</th>\n",
       "      <th>total_votes</th>\n",
       "      <th>primary_total</th>\n",
       "    </tr>\n",
       "    <tr>\n",
       "      <th>cand_id</th>\n",
       "      <th>cycle</th>\n",
       "      <th></th>\n",
       "      <th></th>\n",
       "      <th></th>\n",
       "      <th></th>\n",
       "      <th></th>\n",
       "      <th></th>\n",
       "      <th></th>\n",
       "      <th></th>\n",
       "      <th></th>\n",
       "      <th></th>\n",
       "      <th></th>\n",
       "    </tr>\n",
       "  </thead>\n",
       "  <tbody>\n",
       "    <tr>\n",
       "      <th rowspan=\"5\" valign=\"top\">H0AL07060</th>\n",
       "      <th>2012</th>\n",
       "      <td>AL</td>\n",
       "      <td>7</td>\n",
       "      <td>(I)</td>\n",
       "      <td>D</td>\n",
       "      <td>0.0</td>\n",
       "      <td>0.0</td>\n",
       "      <td>228518.0</td>\n",
       "      <td>0.0</td>\n",
       "      <td>W</td>\n",
       "      <td>228518</td>\n",
       "      <td>0.0</td>\n",
       "    </tr>\n",
       "    <tr>\n",
       "      <th>2012</th>\n",
       "      <td>AL</td>\n",
       "      <td>7</td>\n",
       "      <td>(I)</td>\n",
       "      <td>DEM</td>\n",
       "      <td>93586.0</td>\n",
       "      <td>0.0</td>\n",
       "      <td>133870.0</td>\n",
       "      <td>0.0</td>\n",
       "      <td>W</td>\n",
       "      <td>227456</td>\n",
       "      <td>93586.0</td>\n",
       "    </tr>\n",
       "    <tr>\n",
       "      <th>2012</th>\n",
       "      <td>AL</td>\n",
       "      <td>7</td>\n",
       "      <td>(I)</td>\n",
       "      <td>D</td>\n",
       "      <td>58193.0</td>\n",
       "      <td>0.0</td>\n",
       "      <td>183408.0</td>\n",
       "      <td>0.0</td>\n",
       "      <td>W</td>\n",
       "      <td>241601</td>\n",
       "      <td>58193.0</td>\n",
       "    </tr>\n",
       "    <tr>\n",
       "      <th>2010</th>\n",
       "      <td>AL</td>\n",
       "      <td>7</td>\n",
       "      <td>(I)</td>\n",
       "      <td>D</td>\n",
       "      <td>0.0</td>\n",
       "      <td>0.0</td>\n",
       "      <td>228518.0</td>\n",
       "      <td>0.0</td>\n",
       "      <td>W</td>\n",
       "      <td>228518</td>\n",
       "      <td>0.0</td>\n",
       "    </tr>\n",
       "    <tr>\n",
       "      <th>2010</th>\n",
       "      <td>AL</td>\n",
       "      <td>7</td>\n",
       "      <td>(I)</td>\n",
       "      <td>DEM</td>\n",
       "      <td>93586.0</td>\n",
       "      <td>0.0</td>\n",
       "      <td>133870.0</td>\n",
       "      <td>0.0</td>\n",
       "      <td>W</td>\n",
       "      <td>227456</td>\n",
       "      <td>93586.0</td>\n",
       "    </tr>\n",
       "  </tbody>\n",
       "</table>\n",
       "</div>"
      ],
      "text/plain": [
       "                state_abbreviation district incumbent party  primary_votes  \\\n",
       "cand_id   cycle                                                              \n",
       "H0AL07060 2012                  AL        7       (I)     D            0.0   \n",
       "          2012                  AL        7       (I)   DEM        93586.0   \n",
       "          2012                  AL        7       (I)     D        58193.0   \n",
       "          2010                  AL        7       (I)     D            0.0   \n",
       "          2010                  AL        7       (I)   DEM        93586.0   \n",
       "\n",
       "                 runoff_votes  general_votes  ge_runoff_election_votes  \\\n",
       "cand_id   cycle                                                          \n",
       "H0AL07060 2012            0.0       228518.0                       0.0   \n",
       "          2012            0.0       133870.0                       0.0   \n",
       "          2012            0.0       183408.0                       0.0   \n",
       "          2010            0.0       228518.0                       0.0   \n",
       "          2010            0.0       133870.0                       0.0   \n",
       "\n",
       "                ge_winner_indicator  total_votes  primary_total  \n",
       "cand_id   cycle                                                  \n",
       "H0AL07060 2012                    W       228518            0.0  \n",
       "          2012                    W       227456        93586.0  \n",
       "          2012                    W       241601        58193.0  \n",
       "          2010                    W       228518            0.0  \n",
       "          2010                    W       227456        93586.0  "
      ]
     },
     "execution_count": 168,
     "metadata": {},
     "output_type": "execute_result"
    }
   ],
   "source": [
    "pr.head()"
   ]
  },
  {
   "cell_type": "code",
   "execution_count": 169,
   "metadata": {
    "collapsed": true
   },
   "outputs": [],
   "source": [
    "pr['general_total'] = pr.general_votes + pr.ge_runoff_election_votes"
   ]
  },
  {
   "cell_type": "code",
   "execution_count": 170,
   "metadata": {
    "collapsed": false
   },
   "outputs": [
    {
     "data": {
      "text/html": [
       "<div>\n",
       "<table border=\"1\" class=\"dataframe\">\n",
       "  <thead>\n",
       "    <tr style=\"text-align: right;\">\n",
       "      <th></th>\n",
       "      <th></th>\n",
       "      <th>state_abbreviation</th>\n",
       "      <th>district</th>\n",
       "      <th>incumbent</th>\n",
       "      <th>party</th>\n",
       "      <th>primary_votes</th>\n",
       "      <th>runoff_votes</th>\n",
       "      <th>general_votes</th>\n",
       "      <th>ge_runoff_election_votes</th>\n",
       "      <th>ge_winner_indicator</th>\n",
       "      <th>total_votes</th>\n",
       "      <th>primary_total</th>\n",
       "      <th>general_total</th>\n",
       "    </tr>\n",
       "    <tr>\n",
       "      <th>cand_id</th>\n",
       "      <th>cycle</th>\n",
       "      <th></th>\n",
       "      <th></th>\n",
       "      <th></th>\n",
       "      <th></th>\n",
       "      <th></th>\n",
       "      <th></th>\n",
       "      <th></th>\n",
       "      <th></th>\n",
       "      <th></th>\n",
       "      <th></th>\n",
       "      <th></th>\n",
       "      <th></th>\n",
       "    </tr>\n",
       "  </thead>\n",
       "  <tbody>\n",
       "    <tr>\n",
       "      <th rowspan=\"5\" valign=\"top\">H0AL07060</th>\n",
       "      <th>2012</th>\n",
       "      <td>AL</td>\n",
       "      <td>7</td>\n",
       "      <td>(I)</td>\n",
       "      <td>D</td>\n",
       "      <td>0.0</td>\n",
       "      <td>0.0</td>\n",
       "      <td>228518.0</td>\n",
       "      <td>0.0</td>\n",
       "      <td>W</td>\n",
       "      <td>228518</td>\n",
       "      <td>0.0</td>\n",
       "      <td>228518.0</td>\n",
       "    </tr>\n",
       "    <tr>\n",
       "      <th>2012</th>\n",
       "      <td>AL</td>\n",
       "      <td>7</td>\n",
       "      <td>(I)</td>\n",
       "      <td>DEM</td>\n",
       "      <td>93586.0</td>\n",
       "      <td>0.0</td>\n",
       "      <td>133870.0</td>\n",
       "      <td>0.0</td>\n",
       "      <td>W</td>\n",
       "      <td>227456</td>\n",
       "      <td>93586.0</td>\n",
       "      <td>133870.0</td>\n",
       "    </tr>\n",
       "    <tr>\n",
       "      <th>2012</th>\n",
       "      <td>AL</td>\n",
       "      <td>7</td>\n",
       "      <td>(I)</td>\n",
       "      <td>D</td>\n",
       "      <td>58193.0</td>\n",
       "      <td>0.0</td>\n",
       "      <td>183408.0</td>\n",
       "      <td>0.0</td>\n",
       "      <td>W</td>\n",
       "      <td>241601</td>\n",
       "      <td>58193.0</td>\n",
       "      <td>183408.0</td>\n",
       "    </tr>\n",
       "    <tr>\n",
       "      <th>2010</th>\n",
       "      <td>AL</td>\n",
       "      <td>7</td>\n",
       "      <td>(I)</td>\n",
       "      <td>D</td>\n",
       "      <td>0.0</td>\n",
       "      <td>0.0</td>\n",
       "      <td>228518.0</td>\n",
       "      <td>0.0</td>\n",
       "      <td>W</td>\n",
       "      <td>228518</td>\n",
       "      <td>0.0</td>\n",
       "      <td>228518.0</td>\n",
       "    </tr>\n",
       "    <tr>\n",
       "      <th>2010</th>\n",
       "      <td>AL</td>\n",
       "      <td>7</td>\n",
       "      <td>(I)</td>\n",
       "      <td>DEM</td>\n",
       "      <td>93586.0</td>\n",
       "      <td>0.0</td>\n",
       "      <td>133870.0</td>\n",
       "      <td>0.0</td>\n",
       "      <td>W</td>\n",
       "      <td>227456</td>\n",
       "      <td>93586.0</td>\n",
       "      <td>133870.0</td>\n",
       "    </tr>\n",
       "  </tbody>\n",
       "</table>\n",
       "</div>"
      ],
      "text/plain": [
       "                state_abbreviation district incumbent party  primary_votes  \\\n",
       "cand_id   cycle                                                              \n",
       "H0AL07060 2012                  AL        7       (I)     D            0.0   \n",
       "          2012                  AL        7       (I)   DEM        93586.0   \n",
       "          2012                  AL        7       (I)     D        58193.0   \n",
       "          2010                  AL        7       (I)     D            0.0   \n",
       "          2010                  AL        7       (I)   DEM        93586.0   \n",
       "\n",
       "                 runoff_votes  general_votes  ge_runoff_election_votes  \\\n",
       "cand_id   cycle                                                          \n",
       "H0AL07060 2012            0.0       228518.0                       0.0   \n",
       "          2012            0.0       133870.0                       0.0   \n",
       "          2012            0.0       183408.0                       0.0   \n",
       "          2010            0.0       228518.0                       0.0   \n",
       "          2010            0.0       133870.0                       0.0   \n",
       "\n",
       "                ge_winner_indicator  total_votes  primary_total  general_total  \n",
       "cand_id   cycle                                                                 \n",
       "H0AL07060 2012                    W       228518            0.0       228518.0  \n",
       "          2012                    W       227456        93586.0       133870.0  \n",
       "          2012                    W       241601        58193.0       183408.0  \n",
       "          2010                    W       228518            0.0       228518.0  \n",
       "          2010                    W       227456        93586.0       133870.0  "
      ]
     },
     "execution_count": 170,
     "metadata": {},
     "output_type": "execute_result"
    }
   ],
   "source": [
    "pr.head()"
   ]
  },
  {
   "cell_type": "code",
   "execution_count": 171,
   "metadata": {
    "collapsed": true
   },
   "outputs": [],
   "source": [
    "#pd.merge(pr,cs1, how = 'left', on = 'cand_id')"
   ]
  },
  {
   "cell_type": "code",
   "execution_count": 172,
   "metadata": {
    "collapsed": true
   },
   "outputs": [],
   "source": [
    "#RS1 = pr.join(cs1)"
   ]
  },
  {
   "cell_type": "code",
   "execution_count": null,
   "metadata": {
    "collapsed": true
   },
   "outputs": [],
   "source": [
    "#RS2 = RS1.join(cs2)"
   ]
  },
  {
   "cell_type": "code",
   "execution_count": null,
   "metadata": {
    "collapsed": true
   },
   "outputs": [],
   "source": [
    "#RS3 = RS2.join(cs3)"
   ]
  },
  {
   "cell_type": "code",
   "execution_count": null,
   "metadata": {
    "collapsed": true
   },
   "outputs": [],
   "source": [
    "#RS4 = RS3.join(cs4)"
   ]
  },
  {
   "cell_type": "code",
   "execution_count": null,
   "metadata": {
    "collapsed": true
   },
   "outputs": [],
   "source": [
    "cm1 = pd.merge(cs1, cs2, on=['cand_id','cycle'], how='left')"
   ]
  },
  {
   "cell_type": "code",
   "execution_count": null,
   "metadata": {
    "collapsed": true
   },
   "outputs": [],
   "source": [
    "#csm1 = pd.merge(csm1, cs3, on=['cand_id','cycle'], how='left')"
   ]
  },
  {
   "cell_type": "code",
   "execution_count": null,
   "metadata": {
    "collapsed": true
   },
   "outputs": [],
   "source": [
    "#csm1 = pd.merge(csm1, cs4, on=['cand_id','cycle'], how='left')"
   ]
  },
  {
   "cell_type": "code",
   "execution_count": null,
   "metadata": {
    "collapsed": true
   },
   "outputs": [],
   "source": [
    "#csm1 = pd.merge(csm1, cs5, on=['cand_id','cycle'], how='left')"
   ]
  },
  {
   "cell_type": "code",
   "execution_count": null,
   "metadata": {
    "collapsed": true
   },
   "outputs": [],
   "source": [
    "#csm1 = pd.merge(csm1, cs6, on=['cand_id','cycle'], how='left')"
   ]
  },
  {
   "cell_type": "code",
   "execution_count": null,
   "metadata": {
    "collapsed": true
   },
   "outputs": [],
   "source": [
    "#csm1 = pd.merge(csm1, cs7, on=['cand_id','cycle'], how='left')"
   ]
  },
  {
   "cell_type": "code",
   "execution_count": null,
   "metadata": {
    "collapsed": true
   },
   "outputs": [],
   "source": [
    "#csm1 = pd.merge(csm1, cs8, on=['cand_id','cycle'], how='left')"
   ]
  },
  {
   "cell_type": "code",
   "execution_count": null,
   "metadata": {
    "collapsed": true
   },
   "outputs": [],
   "source": [
    "#csm1 = pd.merge(csm1, cs9, on=['cand_id','cycle'], how='left')"
   ]
  },
  {
   "cell_type": "code",
   "execution_count": null,
   "metadata": {
    "collapsed": true
   },
   "outputs": [],
   "source": [
    "#csm1 = pd.merge(csm1, cs10, on=['cand_id','cycle'], how='left')"
   ]
  },
  {
   "cell_type": "code",
   "execution_count": null,
   "metadata": {
    "collapsed": true
   },
   "outputs": [],
   "source": [
    "#csm1 = pd.merge(csm1, cs11, on=['cand_id','cycle'], how='left')"
   ]
  },
  {
   "cell_type": "code",
   "execution_count": null,
   "metadata": {
    "collapsed": true
   },
   "outputs": [],
   "source": [
    "#csm1 = pd.merge(csm1, cs12, on=['cand_id','cycle'], how='left')"
   ]
  },
  {
   "cell_type": "code",
   "execution_count": null,
   "metadata": {
    "collapsed": true
   },
   "outputs": [],
   "source": [
    "#csm1 = csm1.drop(['c13'], axis = 1)"
   ]
  },
  {
   "cell_type": "code",
   "execution_count": null,
   "metadata": {
    "collapsed": true
   },
   "outputs": [],
   "source": [
    "#csm1 = csm1.drop_duplicates()"
   ]
  },
  {
   "cell_type": "code",
   "execution_count": null,
   "metadata": {
    "collapsed": true
   },
   "outputs": [],
   "source": [
    "csm1.head(200)"
   ]
  },
  {
   "cell_type": "code",
   "execution_count": null,
   "metadata": {
    "collapsed": true
   },
   "outputs": [],
   "source": [
    "#cs12.groupby(['cand_id','cycle'])['c12'].sum()"
   ]
  },
  {
   "cell_type": "code",
   "execution_count": null,
   "metadata": {
    "collapsed": true
   },
   "outputs": [],
   "source": []
  },
  {
   "cell_type": "code",
   "execution_count": null,
   "metadata": {
    "collapsed": true
   },
   "outputs": [],
   "source": [
    "df.head()"
   ]
  },
  {
   "cell_type": "code",
   "execution_count": null,
   "metadata": {
    "collapsed": true
   },
   "outputs": [],
   "source": [
    "df = election_spend"
   ]
  },
  {
   "cell_type": "code",
   "execution_count": null,
   "metadata": {
    "collapsed": true
   },
   "outputs": [],
   "source": [
    "df.drop('id', axis=1, inplace=True)"
   ]
  },
  {
   "cell_type": "code",
   "execution_count": null,
   "metadata": {
    "collapsed": true
   },
   "outputs": [],
   "source": [
    "df.drop('cand_name', axis=1, inplace=True)"
   ]
  },
  {
   "cell_type": "code",
   "execution_count": null,
   "metadata": {
    "collapsed": true
   },
   "outputs": [],
   "source": [
    "df.head()"
   ]
  },
  {
   "cell_type": "code",
   "execution_count": null,
   "metadata": {
    "collapsed": true
   },
   "outputs": [],
   "source": [
    "df.count()"
   ]
  },
  {
   "cell_type": "code",
   "execution_count": null,
   "metadata": {
    "collapsed": true
   },
   "outputs": [],
   "source": [
    "df = df.drop_duplicates()"
   ]
  },
  {
   "cell_type": "code",
   "execution_count": null,
   "metadata": {
    "collapsed": true
   },
   "outputs": [],
   "source": [
    "df.head(4)"
   ]
  },
  {
   "cell_type": "code",
   "execution_count": null,
   "metadata": {
    "collapsed": true
   },
   "outputs": [],
   "source": [
    "df.count()"
   ]
  },
  {
   "cell_type": "code",
   "execution_count": null,
   "metadata": {
    "collapsed": true
   },
   "outputs": [],
   "source": [
    "df.loc[:'H6FL19038']"
   ]
  },
  {
   "cell_type": "code",
   "execution_count": null,
   "metadata": {
    "collapsed": true
   },
   "outputs": [],
   "source": [
    "df = df[df.total_votes != 0]"
   ]
  },
  {
   "cell_type": "code",
   "execution_count": null,
   "metadata": {
    "collapsed": true
   },
   "outputs": [],
   "source": [
    "df.head()"
   ]
  },
  {
   "cell_type": "code",
   "execution_count": null,
   "metadata": {
    "collapsed": true
   },
   "outputs": [],
   "source": [
    "Expense = df[[\"cand_id\",\"cand_ici\",\"cycle\",\"c1\",\"c2\",\"c3\",\"c4\",\"c5\",\"c6\",\"c7\",\"c8\",\"c9\",\"c10\",\"c11\",\"c12\",\"c13\"]]"
   ]
  },
  {
   "cell_type": "code",
   "execution_count": null,
   "metadata": {
    "collapsed": true
   },
   "outputs": [],
   "source": [
    "Other = df[[\"cand_id\",\"cand_pty_affiliation\",\"cand_office_st\",\"cand_office\",\"cand_office_district\",\"cand_ici\",\"cycle\",\"total_votes\"]]"
   ]
  },
  {
   "cell_type": "code",
   "execution_count": null,
   "metadata": {
    "collapsed": true
   },
   "outputs": [],
   "source": [
    "Expense.head(10)"
   ]
  },
  {
   "cell_type": "code",
   "execution_count": null,
   "metadata": {
    "collapsed": true
   },
   "outputs": [],
   "source": [
    "Expense_Update = Expense.drop_duplicates()"
   ]
  },
  {
   "cell_type": "code",
   "execution_count": null,
   "metadata": {
    "collapsed": true
   },
   "outputs": [],
   "source": [
    "Expense_Update.head()"
   ]
  },
  {
   "cell_type": "code",
   "execution_count": null,
   "metadata": {
    "collapsed": true
   },
   "outputs": [],
   "source": [
    "results.head()"
   ]
  },
  {
   "cell_type": "code",
   "execution_count": null,
   "metadata": {
    "collapsed": true
   },
   "outputs": [],
   "source": [
    "df1 = results"
   ]
  },
  {
   "cell_type": "code",
   "execution_count": null,
   "metadata": {
    "collapsed": true
   },
   "outputs": [],
   "source": [
    "df1.fec_id.apply(str)"
   ]
  },
  {
   "cell_type": "code",
   "execution_count": null,
   "metadata": {
    "collapsed": true
   },
   "outputs": [],
   "source": [
    "df2 = df1[pd.notnull(df1['fec_id'])]"
   ]
  },
  {
   "cell_type": "code",
   "execution_count": null,
   "metadata": {
    "collapsed": true
   },
   "outputs": [],
   "source": [
    "df2.head(20)"
   ]
  },
  {
   "cell_type": "code",
   "execution_count": null,
   "metadata": {
    "collapsed": true
   },
   "outputs": [],
   "source": [
    "df2['incumbent']=df2['incumbent'].fillna(0)"
   ]
  },
  {
   "cell_type": "code",
   "execution_count": null,
   "metadata": {
    "collapsed": true
   },
   "outputs": [],
   "source": [
    "df2['primary_votes']=df2['primary_votes'].fillna(0)"
   ]
  },
  {
   "cell_type": "code",
   "execution_count": null,
   "metadata": {
    "collapsed": true
   },
   "outputs": [],
   "source": [
    "df2['runoff_votes']=df2['runoff_votes'].fillna(0)"
   ]
  },
  {
   "cell_type": "code",
   "execution_count": null,
   "metadata": {
    "collapsed": true
   },
   "outputs": [],
   "source": [
    "df2['general_votes']=df2['general_votes'].fillna(0)"
   ]
  },
  {
   "cell_type": "code",
   "execution_count": null,
   "metadata": {
    "collapsed": true
   },
   "outputs": [],
   "source": [
    "df2['ge_runoff_election_votes']=df2['ge_runoff_election_votes'].fillna(0)"
   ]
  },
  {
   "cell_type": "code",
   "execution_count": null,
   "metadata": {
    "collapsed": true
   },
   "outputs": [],
   "source": [
    "df2.head()"
   ]
  },
  {
   "cell_type": "code",
   "execution_count": null,
   "metadata": {
    "collapsed": true
   },
   "outputs": [],
   "source": [
    "df2['ge_winner_indicator']=df2['ge_winner_indicator'].fillna(0)"
   ]
  },
  {
   "cell_type": "code",
   "execution_count": null,
   "metadata": {
    "collapsed": true
   },
   "outputs": [],
   "source": [
    "df2.head(20)"
   ]
  },
  {
   "cell_type": "code",
   "execution_count": null,
   "metadata": {
    "collapsed": true
   },
   "outputs": [],
   "source": [
    "df3 = df2.replace(\"W\",1)"
   ]
  },
  {
   "cell_type": "code",
   "execution_count": null,
   "metadata": {
    "collapsed": true
   },
   "outputs": [],
   "source": [
    "df3.head(20)"
   ]
  },
  {
   "cell_type": "code",
   "execution_count": null,
   "metadata": {
    "collapsed": true
   },
   "outputs": [],
   "source": [
    "df4 = df3.replace(\"(I)\",1)"
   ]
  },
  {
   "cell_type": "code",
   "execution_count": null,
   "metadata": {
    "collapsed": true
   },
   "outputs": [],
   "source": [
    "df4.head(20)"
   ]
  },
  {
   "cell_type": "code",
   "execution_count": null,
   "metadata": {
    "collapsed": true
   },
   "outputs": [],
   "source": [
    "results_clean = df4.drop_duplicates()"
   ]
  },
  {
   "cell_type": "code",
   "execution_count": null,
   "metadata": {
    "collapsed": true
   },
   "outputs": [],
   "source": [
    "results_clean.count()"
   ]
  },
  {
   "cell_type": "code",
   "execution_count": null,
   "metadata": {
    "collapsed": true
   },
   "outputs": [],
   "source": [
    "results_clean.drop('ge_runoff_election_votes', axis=1, inplace=True)"
   ]
  },
  {
   "cell_type": "code",
   "execution_count": null,
   "metadata": {
    "collapsed": true
   },
   "outputs": [],
   "source": [
    "results_clean.drop('ge_winner_indicator', axis=1, inplace=True)"
   ]
  },
  {
   "cell_type": "code",
   "execution_count": null,
   "metadata": {
    "collapsed": true
   },
   "outputs": [],
   "source": [
    "results_clean.drop('blank', axis=1, inplace=True)"
   ]
  },
  {
   "cell_type": "code",
   "execution_count": null,
   "metadata": {
    "collapsed": true
   },
   "outputs": [],
   "source": [
    "results_clean.head(20)"
   ]
  },
  {
   "cell_type": "code",
   "execution_count": null,
   "metadata": {
    "collapsed": true
   },
   "outputs": [],
   "source": [
    "from pandas.tools.plotting import parallel_coordinates\n",
    "parallel_coordinates(data, class_column='label')"
   ]
  },
  {
   "cell_type": "code",
   "execution_count": null,
   "metadata": {
    "collapsed": true
   },
   "outputs": [],
   "source": [
    "from sklearn.model_selection import train_test_split as tts \n",
    "\n",
    "X = data[[\n",
    "    '??', '??', '??', '??', '??', '??', '??'\n",
    "]]\n",
    "y = data['label']\n",
    "\n",
    "print(X.shape)\n",
    "print(y.shape)"
   ]
  },
  {
   "cell_type": "code",
   "execution_count": null,
   "metadata": {
    "collapsed": true
   },
   "outputs": [],
   "source": [
    "X_train, X_test, y_train, y_test = tts(X, y, test_size=0.2)"
   ]
  },
  {
   "cell_type": "code",
   "execution_count": null,
   "metadata": {
    "collapsed": true
   },
   "outputs": [],
   "source": []
  },
  {
   "cell_type": "code",
   "execution_count": null,
   "metadata": {
    "collapsed": true
   },
   "outputs": [],
   "source": []
  },
  {
   "cell_type": "code",
   "execution_count": null,
   "metadata": {
    "collapsed": true
   },
   "outputs": [],
   "source": []
  }
 ],
 "metadata": {
  "kernelspec": {
   "display_name": "Python 3",
   "language": "python",
   "name": "python3"
  },
  "language_info": {
   "codemirror_mode": {
    "name": "ipython",
    "version": 3
   },
   "file_extension": ".py",
   "mimetype": "text/x-python",
   "name": "python",
   "nbconvert_exporter": "python",
   "pygments_lexer": "ipython3",
   "version": "3.6.0"
  }
 },
 "nbformat": 4,
 "nbformat_minor": 2
}
